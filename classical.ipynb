{
 "cells": [
  {
   "cell_type": "markdown",
   "metadata": {},
   "source": [
    "### Problem Definition"
   ]
  },
  {
   "cell_type": "markdown",
   "metadata": {},
   "source": [
    "### Classical code"
   ]
  },
  {
   "cell_type": "code",
   "execution_count": 1,
   "metadata": {},
   "outputs": [],
   "source": [
    "import json"
   ]
  },
  {
   "cell_type": "code",
   "execution_count": 2,
   "metadata": {},
   "outputs": [],
   "source": [
    "conf = json.load(open(\"conf_24.json\",\"r\"))"
   ]
  },
  {
   "cell_type": "code",
   "execution_count": 4,
   "metadata": {},
   "outputs": [
    {
     "name": "stdout",
     "output_type": "stream",
     "text": [
      "Requried Qubits:  24\n"
     ]
    }
   ],
   "source": [
    "N = conf[\"N\"] # Number of Teachers\n",
    "M = conf[\"M\"] # Number of Classes\n",
    "H = conf[\"H\"] # Number of hours in week\n",
    "\n",
    "random_seed = conf[\"random_seed\"]\n",
    "shots = conf[\"shots\"] * 5\n",
    "layers = conf[\"layers\"]\n",
    "\n",
    "bin_length = (M * N * H) + (M * H) + (N * H)\n",
    "\n",
    "print(\"Requried Qubits: \", bin_length)"
   ]
  },
  {
   "cell_type": "code",
   "execution_count": 5,
   "metadata": {},
   "outputs": [],
   "source": [
    "# T_i is binary string denoting the available hours for each i Teacher\n",
    "# C_j is binary string denoting the available hours for each j Class\n",
    "\n",
    "T = conf[\"T\"]\n",
    "C = conf[\"C\"]\n",
    "\n",
    "R = conf[\"R\"] # R_ij must be either 0 or 1\n",
    "\n",
    "equations = []"
   ]
  },
  {
   "cell_type": "markdown",
   "metadata": {},
   "source": [
    "#### Binary string generator "
   ]
  },
  {
   "cell_type": "code",
   "execution_count": 6,
   "metadata": {
    "id": "TMpPw7MNCBby"
   },
   "outputs": [],
   "source": [
    "def binary_string(x, bin_length):\n",
    "    emp = \"\"\n",
    "    for i in range(bin_length, 0, -1):\n",
    "        emp += str(x % 2)\n",
    "        x //= 2\n",
    "    return emp"
   ]
  },
  {
   "cell_type": "markdown",
   "metadata": {},
   "source": [
    "#### Objective"
   ]
  },
  {
   "cell_type": "code",
   "execution_count": 7,
   "metadata": {
    "id": "JEd1Xd67Cv7M"
   },
   "outputs": [],
   "source": [
    "def f(i, j, h):\n",
    "  return int(T[i-1][h-1] == C[j-1][h-1] == '1')\n",
    "\n",
    "def tau_value(bit_string, j, h):\n",
    "  return int(bit_string[(h-1) * M + (j - 1)])\n",
    "\n",
    "def lambda_value(bit_string, i, h):\n",
    "  return int(bit_string[(H * M) + ((h-1) * N + (i - 1))])\n",
    "\n",
    "def f_value(bit_string, i, j, h):\n",
    "\n",
    "  return int(bit_string[(H * M) + (N * H) + ((i - 1) * H * M) + ((j - 1) * H) + (h - 1)])"
   ]
  },
  {
   "cell_type": "code",
   "execution_count": 8,
   "metadata": {
    "id": "KSbxSf4TB5Jk"
   },
   "outputs": [],
   "source": [
    "def objective(bit_string):\n",
    "  cost = 0\n",
    "  bit_string = bit_string[::-1]\n",
    "\n",
    "  # equation a\n",
    "  for i in range(1, N + 1):\n",
    "    for j in range(1, M + 1):\n",
    "      for h in range(1, H + 1):\n",
    "        if f(i, j, h) != f_value(bit_string, i, j, h):\n",
    "          cost += 1\n",
    "            \n",
    "  # equation b\n",
    "  for i in range(1, N + 1):\n",
    "    for j in range(1, M + 1):\n",
    "      temp = 0\n",
    "      for h in range(1, H + 1):\n",
    "        temp += f_value(bit_string, i, j, h)\n",
    "      cost += (temp - R[i-1][j-1])**2\n",
    "\n",
    "  # equation c\n",
    "  for j in range(1, M + 1):\n",
    "    for h in range(1, H + 1):\n",
    "      temp = 0\n",
    "      for i in range(1, N + 1):\n",
    "        temp += f_value(bit_string, i, j, h)\n",
    "      cost += (temp + tau_value(bit_string, j, h) - 1)**2\n",
    "\n",
    "  # equation d\n",
    "  for i in range(1, N + 1):\n",
    "    for h in range(1, H + 1):\n",
    "      temp = 0\n",
    "      for j in range(1, M + 1):\n",
    "        temp += f_value(bit_string, i, j, h)\n",
    "      cost += (temp + lambda_value(bit_string, i, h) - 1)**2\n",
    "\n",
    "  return cost"
   ]
  },
  {
   "cell_type": "markdown",
   "metadata": {},
   "source": [
    "#### Solution"
   ]
  },
  {
   "cell_type": "code",
   "execution_count": 9,
   "metadata": {
    "id": "AeXF4nf-Cy3F"
   },
   "outputs": [],
   "source": [
    "def solve(N, M, H):\n",
    "    sol = bin_length\n",
    "    sol_str = \"\"\n",
    "    for i in range(2 ** bin_length):\n",
    "        bin_str = binary_string(i, bin_length)\n",
    "        ob = objective(bin_str)\n",
    "        \n",
    "        if(sol > ob):\n",
    "          print(ob , bin_str)\n",
    "          sol = ob\n",
    "          sol_str = bin_str\n",
    "          \n",
    "          if (sol == 0):\n",
    "             break"
   ]
  },
  {
   "cell_type": "code",
   "execution_count": 10,
   "metadata": {
    "colab": {
     "base_uri": "https://localhost:8080/"
    },
    "id": "U0FqOqfdCXxX",
    "outputId": "dc379b78-37db-4187-c9aa-da82b8794af9"
   },
   "outputs": [
    {
     "name": "stdout",
     "output_type": "stream",
     "text": [
      "16 000000000000000000000000\n",
      "12 100000000000000000000000\n",
      "10 100000000100000000000000\n",
      "8 100000000001000000000000\n",
      "7 100000000001010000000000\n",
      "6 100000000001011000000000\n",
      "5 100000000001011100000000\n",
      "4 100000000001011110000000\n",
      "3 100000000001011110010000\n",
      "2 100000000001011110011000\n",
      "1 100000000001011110011100\n",
      "0 100000000001011110011110\n"
     ]
    }
   ],
   "source": [
    "solve(N , M , H)"
   ]
  },
  {
   "cell_type": "code",
   "execution_count": null,
   "metadata": {},
   "outputs": [],
   "source": []
  }
 ],
 "metadata": {
  "colab": {
   "provenance": []
  },
  "kernelspec": {
   "display_name": "Python 3 (ipykernel)",
   "language": "python",
   "name": "python3"
  },
  "language_info": {
   "codemirror_mode": {
    "name": "ipython",
    "version": 3
   },
   "file_extension": ".py",
   "mimetype": "text/x-python",
   "name": "python",
   "nbconvert_exporter": "python",
   "pygments_lexer": "ipython3",
   "version": "3.12.3"
  }
 },
 "nbformat": 4,
 "nbformat_minor": 4
}
