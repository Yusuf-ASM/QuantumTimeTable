{
  "cells": [
    {
      "cell_type": "markdown",
      "metadata": {
        "id": "alCyWOxAWcdV"
      },
      "source": [
        "### Installing Qiskit"
      ]
    },
    {
      "cell_type": "code",
      "execution_count": null,
      "metadata": {
        "colab": {
          "base_uri": "https://localhost:8080/"
        },
        "collapsed": true,
        "id": "HE2WwMMhVL8p",
        "outputId": "8b62dc4b-6834-4563-b54d-ba2d74cf837b"
      },
      "outputs": [
        {
          "name": "stdout",
          "output_type": "stream",
          "text": [
            "Collecting qiskit[visualization]\n",
            "  Downloading qiskit-1.1.0-cp38-abi3-manylinux_2_17_x86_64.manylinux2014_x86_64.whl (4.3 MB)\n",
            "\u001b[2K     \u001b[90m━━━━━━━━━━━━━━━━━━━━━━━━━━━━━━━━━━━━━━━━\u001b[0m \u001b[32m4.3/4.3 MB\u001b[0m \u001b[31m13.5 MB/s\u001b[0m eta \u001b[36m0:00:00\u001b[0m\n",
            "\u001b[?25hCollecting qiskit-ibm-runtime\n",
            "  Downloading qiskit_ibm_runtime-0.24.0-py3-none-any.whl (2.9 MB)\n",
            "\u001b[2K     \u001b[90m━━━━━━━━━━━━━━━━━━━━━━━━━━━━━━━━━━━━━━━━\u001b[0m \u001b[32m2.9/2.9 MB\u001b[0m \u001b[31m24.1 MB/s\u001b[0m eta \u001b[36m0:00:00\u001b[0m\n",
            "\u001b[?25hCollecting qiskit_aer-gpu\n",
            "  Downloading qiskit_aer_gpu-0.14.2-cp310-cp310-manylinux_2_17_x86_64.manylinux2014_x86_64.whl (18.8 MB)\n",
            "\u001b[2K     \u001b[90m━━━━━━━━━━━━━━━━━━━━━━━━━━━━━━━━━━━━━━━━\u001b[0m \u001b[32m18.8/18.8 MB\u001b[0m \u001b[31m43.0 MB/s\u001b[0m eta \u001b[36m0:00:00\u001b[0m\n",
            "\u001b[?25hCollecting rustworkx>=0.14.0 (from qiskit[visualization])\n",
            "  Downloading rustworkx-0.14.2-cp310-cp310-manylinux_2_17_x86_64.manylinux2014_x86_64.whl (2.1 MB)\n",
            "\u001b[2K     \u001b[90m━━━━━━━━━━━━━━━━━━━━━━━━━━━━━━━━━━━━━━━━\u001b[0m \u001b[32m2.1/2.1 MB\u001b[0m \u001b[31m67.1 MB/s\u001b[0m eta \u001b[36m0:00:00\u001b[0m\n",
            "\u001b[?25hRequirement already satisfied: numpy<3,>=1.17 in /usr/local/lib/python3.10/dist-packages (from qiskit[visualization]) (1.25.2)\n",
            "Requirement already satisfied: scipy>=1.5 in /usr/local/lib/python3.10/dist-packages (from qiskit[visualization]) (1.11.4)\n",
            "Requirement already satisfied: sympy>=1.3 in /usr/local/lib/python3.10/dist-packages (from qiskit[visualization]) (1.12.1)\n",
            "Collecting dill>=0.3 (from qiskit[visualization])\n",
            "  Downloading dill-0.3.8-py3-none-any.whl (116 kB)\n",
            "\u001b[2K     \u001b[90m━━━━━━━━━━━━━━━━━━━━━━━━━━━━━━━━━━━━━━━━\u001b[0m \u001b[32m116.3/116.3 kB\u001b[0m \u001b[31m12.5 MB/s\u001b[0m eta \u001b[36m0:00:00\u001b[0m\n",
            "\u001b[?25hRequirement already satisfied: python-dateutil>=2.8.0 in /usr/local/lib/python3.10/dist-packages (from qiskit[visualization]) (2.8.2)\n",
            "Collecting stevedore>=3.0.0 (from qiskit[visualization])\n",
            "  Downloading stevedore-5.2.0-py3-none-any.whl (49 kB)\n",
            "\u001b[2K     \u001b[90m━━━━━━━━━━━━━━━━━━━━━━━━━━━━━━━━━━━━━━━━\u001b[0m \u001b[32m49.7/49.7 kB\u001b[0m \u001b[31m4.5 MB/s\u001b[0m eta \u001b[36m0:00:00\u001b[0m\n",
            "\u001b[?25hRequirement already satisfied: typing-extensions in /usr/local/lib/python3.10/dist-packages (from qiskit[visualization]) (4.12.2)\n",
            "Collecting symengine>=0.11 (from qiskit[visualization])\n",
            "  Downloading symengine-0.11.0-cp310-cp310-manylinux_2_12_x86_64.manylinux2010_x86_64.whl (39.4 MB)\n",
            "\u001b[2K     \u001b[90m━━━━━━━━━━━━━━━━━━━━━━━━━━━━━━━━━━━━━━━━\u001b[0m \u001b[32m39.4/39.4 MB\u001b[0m \u001b[31m10.7 MB/s\u001b[0m eta \u001b[36m0:00:00\u001b[0m\n",
            "\u001b[?25hRequirement already satisfied: matplotlib>=3.3 in /usr/local/lib/python3.10/dist-packages (from qiskit[visualization]) (3.7.1)\n",
            "Requirement already satisfied: pydot in /usr/local/lib/python3.10/dist-packages (from qiskit[visualization]) (1.4.2)\n",
            "Requirement already satisfied: Pillow>=4.2.1 in /usr/local/lib/python3.10/dist-packages (from qiskit[visualization]) (9.4.0)\n",
            "Collecting pylatexenc>=1.4 (from qiskit[visualization])\n",
            "  Downloading pylatexenc-2.10.tar.gz (162 kB)\n",
            "\u001b[2K     \u001b[90m━━━━━━━━━━━━━━━━━━━━━━━━━━━━━━━━━━━━━━━━\u001b[0m \u001b[32m162.6/162.6 kB\u001b[0m \u001b[31m12.4 MB/s\u001b[0m eta \u001b[36m0:00:00\u001b[0m\n",
            "\u001b[?25h  Preparing metadata (setup.py) ... \u001b[?25l\u001b[?25hdone\n",
            "Requirement already satisfied: seaborn>=0.9.0 in /usr/local/lib/python3.10/dist-packages (from qiskit[visualization]) (0.13.1)\n",
            "Requirement already satisfied: requests>=2.19 in /usr/local/lib/python3.10/dist-packages (from qiskit-ibm-runtime) (2.31.0)\n",
            "Collecting requests-ntlm>=1.1.0 (from qiskit-ibm-runtime)\n",
            "  Downloading requests_ntlm-1.3.0-py3-none-any.whl (6.6 kB)\n",
            "Requirement already satisfied: urllib3>=1.21.1 in /usr/local/lib/python3.10/dist-packages (from qiskit-ibm-runtime) (2.0.7)\n",
            "Requirement already satisfied: websocket-client>=1.5.1 in /usr/local/lib/python3.10/dist-packages (from qiskit-ibm-runtime) (1.8.0)\n",
            "Collecting ibm-platform-services>=0.22.6 (from qiskit-ibm-runtime)\n",
            "  Downloading ibm-platform-services-0.53.7.tar.gz (323 kB)\n",
            "\u001b[2K     \u001b[90m━━━━━━━━━━━━━━━━━━━━━━━━━━━━━━━━━━━━━━━━\u001b[0m \u001b[32m323.9/323.9 kB\u001b[0m \u001b[31m20.4 MB/s\u001b[0m eta \u001b[36m0:00:00\u001b[0m\n",
            "\u001b[?25h  Installing build dependencies ... \u001b[?25l\u001b[?25hdone\n",
            "  Getting requirements to build wheel ... \u001b[?25l\u001b[?25hdone\n",
            "  Preparing metadata (pyproject.toml) ... \u001b[?25l\u001b[?25hdone\n",
            "Requirement already satisfied: pydantic in /usr/local/lib/python3.10/dist-packages (from qiskit-ibm-runtime) (2.7.3)\n",
            "Requirement already satisfied: psutil>=5 in /usr/local/lib/python3.10/dist-packages (from qiskit_aer-gpu) (5.9.5)\n",
            "Collecting nvidia-cuda-runtime-cu12>=12.1.105 (from qiskit_aer-gpu)\n",
            "  Downloading nvidia_cuda_runtime_cu12-12.5.39-py3-none-manylinux2014_x86_64.whl (895 kB)\n",
            "\u001b[2K     \u001b[90m━━━━━━━━━━━━━━━━━━━━━━━━━━━━━━━━━━━━━━━━\u001b[0m \u001b[32m895.1/895.1 kB\u001b[0m \u001b[31m63.6 MB/s\u001b[0m eta \u001b[36m0:00:00\u001b[0m\n",
            "\u001b[?25hCollecting nvidia-nvjitlink-cu12 (from qiskit_aer-gpu)\n",
            "  Downloading nvidia_nvjitlink_cu12-12.5.40-py3-none-manylinux2014_x86_64.whl (21.3 MB)\n",
            "\u001b[2K     \u001b[90m━━━━━━━━━━━━━━━━━━━━━━━━━━━━━━━━━━━━━━━━\u001b[0m \u001b[32m21.3/21.3 MB\u001b[0m \u001b[31m69.6 MB/s\u001b[0m eta \u001b[36m0:00:00\u001b[0m\n",
            "\u001b[?25hCollecting nvidia-cublas-cu12>=12.1.3.1 (from qiskit_aer-gpu)\n",
            "  Downloading nvidia_cublas_cu12-12.5.2.13-py3-none-manylinux2014_x86_64.whl (363.3 MB)\n",
            "\u001b[2K     \u001b[90m━━━━━━━━━━━━━━━━━━━━━━━━━━━━━━━━━━━━━━━━\u001b[0m \u001b[32m363.3/363.3 MB\u001b[0m \u001b[31m4.3 MB/s\u001b[0m eta \u001b[36m0:00:00\u001b[0m\n",
            "\u001b[?25hCollecting nvidia-cusolver-cu12>=11.4.5.107 (from qiskit_aer-gpu)\n",
            "  Downloading nvidia_cusolver_cu12-11.6.2.40-py3-none-manylinux2014_x86_64.whl (130.3 MB)\n",
            "\u001b[2K     \u001b[90m━━━━━━━━━━━━━━━━━━━━━━━━━━━━━━━━━━━━━━━━\u001b[0m \u001b[32m130.3/130.3 MB\u001b[0m \u001b[31m8.7 MB/s\u001b[0m eta \u001b[36m0:00:00\u001b[0m\n",
            "\u001b[?25hCollecting nvidia-cusparse-cu12>=12.1.0.106 (from qiskit_aer-gpu)\n",
            "  Downloading nvidia_cusparse_cu12-12.4.1.24-py3-none-manylinux2014_x86_64.whl (209.2 MB)\n",
            "\u001b[2K     \u001b[90m━━━━━━━━━━━━━━━━━━━━━━━━━━━━━━━━━━━━━━━━\u001b[0m \u001b[32m209.2/209.2 MB\u001b[0m \u001b[31m5.9 MB/s\u001b[0m eta \u001b[36m0:00:00\u001b[0m\n",
            "\u001b[?25hCollecting cuquantum-cu12>=23.3.0 (from qiskit_aer-gpu)\n",
            "  Downloading cuquantum_cu12-24.3.0.post1-py3-none-manylinux2014_x86_64.whl (7.5 kB)\n",
            "Collecting custatevec-cu12==1.6.0.post1 (from cuquantum-cu12>=23.3.0->qiskit_aer-gpu)\n",
            "  Downloading custatevec_cu12-1.6.0.post1-py3-none-manylinux2014_x86_64.whl (38.7 MB)\n",
            "\u001b[2K     \u001b[90m━━━━━━━━━━━━━━━━━━━━━━━━━━━━━━━━━━━━━━━━\u001b[0m \u001b[32m38.7/38.7 MB\u001b[0m \u001b[31m10.2 MB/s\u001b[0m eta \u001b[36m0:00:00\u001b[0m\n",
            "\u001b[?25hCollecting cutensornet-cu12==2.4.0.post1 (from cuquantum-cu12>=23.3.0->qiskit_aer-gpu)\n",
            "  Downloading cutensornet_cu12-2.4.0.post1-py3-none-manylinux2014_x86_64.whl (2.2 MB)\n",
            "\u001b[2K     \u001b[90m━━━━━━━━━━━━━━━━━━━━━━━━━━━━━━━━━━━━━━━━\u001b[0m \u001b[32m2.2/2.2 MB\u001b[0m \u001b[31m59.9 MB/s\u001b[0m eta \u001b[36m0:00:00\u001b[0m\n",
            "\u001b[?25hCollecting cutensor-cu12<3,>=2.0.1 (from cutensornet-cu12==2.4.0.post1->cuquantum-cu12>=23.3.0->qiskit_aer-gpu)\n",
            "  Downloading cutensor_cu12-2.0.1-py3-none-manylinux2014_x86_64.whl (152.0 MB)\n",
            "\u001b[2K     \u001b[90m━━━━━━━━━━━━━━━━━━━━━━━━━━━━━━━━━━━━━━━━\u001b[0m \u001b[32m152.0/152.0 MB\u001b[0m \u001b[31m6.8 MB/s\u001b[0m eta \u001b[36m0:00:00\u001b[0m\n",
            "\u001b[?25hCollecting ibm-cloud-sdk-core<4.0.0,>=3.19.2 (from ibm-platform-services>=0.22.6->qiskit-ibm-runtime)\n",
            "  Downloading ibm-cloud-sdk-core-3.20.1.tar.gz (62 kB)\n",
            "\u001b[2K     \u001b[90m━━━━━━━━━━━━━━━━━━━━━━━━━━━━━━━━━━━━━━━━\u001b[0m \u001b[32m62.1/62.1 kB\u001b[0m \u001b[31m8.8 MB/s\u001b[0m eta \u001b[36m0:00:00\u001b[0m\n",
            "\u001b[?25h  Installing build dependencies ... \u001b[?25l\u001b[?25hdone\n",
            "  Getting requirements to build wheel ... \u001b[?25l\u001b[?25hdone\n",
            "  Preparing metadata (pyproject.toml) ... \u001b[?25l\u001b[?25hdone\n",
            "Requirement already satisfied: contourpy>=1.0.1 in /usr/local/lib/python3.10/dist-packages (from matplotlib>=3.3->qiskit[visualization]) (1.2.1)\n",
            "Requirement already satisfied: cycler>=0.10 in /usr/local/lib/python3.10/dist-packages (from matplotlib>=3.3->qiskit[visualization]) (0.12.1)\n",
            "Requirement already satisfied: fonttools>=4.22.0 in /usr/local/lib/python3.10/dist-packages (from matplotlib>=3.3->qiskit[visualization]) (4.53.0)\n",
            "Requirement already satisfied: kiwisolver>=1.0.1 in /usr/local/lib/python3.10/dist-packages (from matplotlib>=3.3->qiskit[visualization]) (1.4.5)\n",
            "Requirement already satisfied: packaging>=20.0 in /usr/local/lib/python3.10/dist-packages (from matplotlib>=3.3->qiskit[visualization]) (24.1)\n",
            "Requirement already satisfied: pyparsing>=2.3.1 in /usr/local/lib/python3.10/dist-packages (from matplotlib>=3.3->qiskit[visualization]) (3.1.2)\n",
            "Requirement already satisfied: six>=1.5 in /usr/local/lib/python3.10/dist-packages (from python-dateutil>=2.8.0->qiskit[visualization]) (1.16.0)\n",
            "Requirement already satisfied: charset-normalizer<4,>=2 in /usr/local/lib/python3.10/dist-packages (from requests>=2.19->qiskit-ibm-runtime) (3.3.2)\n",
            "Requirement already satisfied: idna<4,>=2.5 in /usr/local/lib/python3.10/dist-packages (from requests>=2.19->qiskit-ibm-runtime) (3.7)\n",
            "Requirement already satisfied: certifi>=2017.4.17 in /usr/local/lib/python3.10/dist-packages (from requests>=2.19->qiskit-ibm-runtime) (2024.6.2)\n",
            "Requirement already satisfied: cryptography>=1.3 in /usr/local/lib/python3.10/dist-packages (from requests-ntlm>=1.1.0->qiskit-ibm-runtime) (42.0.8)\n",
            "Collecting pyspnego>=0.4.0 (from requests-ntlm>=1.1.0->qiskit-ibm-runtime)\n",
            "  Downloading pyspnego-0.11.0-py3-none-any.whl (130 kB)\n",
            "\u001b[2K     \u001b[90m━━━━━━━━━━━━━━━━━━━━━━━━━━━━━━━━━━━━━━━━\u001b[0m \u001b[32m130.4/130.4 kB\u001b[0m \u001b[31m18.6 MB/s\u001b[0m eta \u001b[36m0:00:00\u001b[0m\n",
            "\u001b[?25hRequirement already satisfied: pandas>=1.2 in /usr/local/lib/python3.10/dist-packages (from seaborn>=0.9.0->qiskit[visualization]) (2.0.3)\n",
            "Collecting pbr!=2.1.0,>=2.0.0 (from stevedore>=3.0.0->qiskit[visualization])\n",
            "  Downloading pbr-6.0.0-py2.py3-none-any.whl (107 kB)\n",
            "\u001b[2K     \u001b[90m━━━━━━━━━━━━━━━━━━━━━━━━━━━━━━━━━━━━━━━━\u001b[0m \u001b[32m107.5/107.5 kB\u001b[0m \u001b[31m15.5 MB/s\u001b[0m eta \u001b[36m0:00:00\u001b[0m\n",
            "\u001b[?25hRequirement already satisfied: mpmath<1.4.0,>=1.1.0 in /usr/local/lib/python3.10/dist-packages (from sympy>=1.3->qiskit[visualization]) (1.3.0)\n",
            "Requirement already satisfied: annotated-types>=0.4.0 in /usr/local/lib/python3.10/dist-packages (from pydantic->qiskit-ibm-runtime) (0.7.0)\n",
            "Requirement already satisfied: pydantic-core==2.18.4 in /usr/local/lib/python3.10/dist-packages (from pydantic->qiskit-ibm-runtime) (2.18.4)\n",
            "Requirement already satisfied: cffi>=1.12 in /usr/local/lib/python3.10/dist-packages (from cryptography>=1.3->requests-ntlm>=1.1.0->qiskit-ibm-runtime) (1.16.0)\n",
            "Collecting urllib3>=1.21.1 (from qiskit-ibm-runtime)\n",
            "  Downloading urllib3-2.2.1-py3-none-any.whl (121 kB)\n",
            "\u001b[2K     \u001b[90m━━━━━━━━━━━━━━━━━━━━━━━━━━━━━━━━━━━━━━━━\u001b[0m \u001b[32m121.1/121.1 kB\u001b[0m \u001b[31m16.9 MB/s\u001b[0m eta \u001b[36m0:00:00\u001b[0m\n",
            "\u001b[?25hCollecting PyJWT<3.0.0,>=2.8.0 (from ibm-cloud-sdk-core<4.0.0,>=3.19.2->ibm-platform-services>=0.22.6->qiskit-ibm-runtime)\n",
            "  Downloading PyJWT-2.8.0-py3-none-any.whl (22 kB)\n",
            "Requirement already satisfied: pytz>=2020.1 in /usr/local/lib/python3.10/dist-packages (from pandas>=1.2->seaborn>=0.9.0->qiskit[visualization]) (2023.4)\n",
            "Requirement already satisfied: tzdata>=2022.1 in /usr/local/lib/python3.10/dist-packages (from pandas>=1.2->seaborn>=0.9.0->qiskit[visualization]) (2024.1)\n",
            "Requirement already satisfied: pycparser in /usr/local/lib/python3.10/dist-packages (from cffi>=1.12->cryptography>=1.3->requests-ntlm>=1.1.0->qiskit-ibm-runtime) (2.22)\n",
            "Building wheels for collected packages: ibm-platform-services, pylatexenc, ibm-cloud-sdk-core\n",
            "  Building wheel for ibm-platform-services (pyproject.toml) ... \u001b[?25l\u001b[?25hdone\n",
            "  Created wheel for ibm-platform-services: filename=ibm_platform_services-0.53.7-py3-none-any.whl size=340285 sha256=33849fdde1d11c2210ae5df7e7a5cdf1515de52bbb4e14e52d22f618f66845dd\n",
            "  Stored in directory: /root/.cache/pip/wheels/8e/54/ad/63e8fdae0e85463bc04a21acf5364cff6def892b95dc40f3ed\n",
            "  Building wheel for pylatexenc (setup.py) ... \u001b[?25l\u001b[?25hdone\n",
            "  Created wheel for pylatexenc: filename=pylatexenc-2.10-py3-none-any.whl size=136816 sha256=172e2b646ff351e0fdf4827f8cd3c201abac75fbf2780d7ea2c214c5deb4dec8\n",
            "  Stored in directory: /root/.cache/pip/wheels/d3/31/8b/e09b0386afd80cfc556c00408c9aeea5c35c4d484a9c762fd5\n",
            "  Building wheel for ibm-cloud-sdk-core (pyproject.toml) ... \u001b[?25l\u001b[?25hdone\n",
            "  Created wheel for ibm-cloud-sdk-core: filename=ibm_cloud_sdk_core-3.20.1-py3-none-any.whl size=101533 sha256=4d313ca6c0cc04859322f83f9828a90a8fe0edde195de3d3cf9bbe687fb55ba6\n",
            "  Stored in directory: /root/.cache/pip/wheels/b1/80/5b/12af32c69e0bde3322cb9c1809952e8ed9f2a2a39509ee5374\n",
            "Successfully built ibm-platform-services pylatexenc ibm-cloud-sdk-core\n",
            "Installing collected packages: pylatexenc, cutensor-cu12, custatevec-cu12, urllib3, symengine, rustworkx, PyJWT, pbr, nvidia-nvjitlink-cu12, nvidia-cuda-runtime-cu12, nvidia-cublas-cu12, dill, cutensornet-cu12, stevedore, nvidia-cusparse-cu12, cuquantum-cu12, qiskit, pyspnego, nvidia-cusolver-cu12, ibm-cloud-sdk-core, requests-ntlm, qiskit_aer-gpu, ibm-platform-services, qiskit-ibm-runtime\n",
            "  Attempting uninstall: urllib3\n",
            "    Found existing installation: urllib3 2.0.7\n",
            "    Uninstalling urllib3-2.0.7:\n",
            "      Successfully uninstalled urllib3-2.0.7\n",
            "  Attempting uninstall: PyJWT\n",
            "    Found existing installation: PyJWT 2.3.0\n",
            "    Uninstalling PyJWT-2.3.0:\n",
            "      Successfully uninstalled PyJWT-2.3.0\n",
            "\u001b[31mERROR: pip's dependency resolver does not currently take into account all the packages that are installed. This behaviour is the source of the following dependency conflicts.\n",
            "torch 2.3.0+cu121 requires nvidia-cuda-cupti-cu12==12.1.105; platform_system == \"Linux\" and platform_machine == \"x86_64\", which is not installed.\n",
            "torch 2.3.0+cu121 requires nvidia-cuda-nvrtc-cu12==12.1.105; platform_system == \"Linux\" and platform_machine == \"x86_64\", which is not installed.\n",
            "torch 2.3.0+cu121 requires nvidia-cudnn-cu12==8.9.2.26; platform_system == \"Linux\" and platform_machine == \"x86_64\", which is not installed.\n",
            "torch 2.3.0+cu121 requires nvidia-cufft-cu12==11.0.2.54; platform_system == \"Linux\" and platform_machine == \"x86_64\", which is not installed.\n",
            "torch 2.3.0+cu121 requires nvidia-curand-cu12==10.3.2.106; platform_system == \"Linux\" and platform_machine == \"x86_64\", which is not installed.\n",
            "torch 2.3.0+cu121 requires nvidia-nccl-cu12==2.20.5; platform_system == \"Linux\" and platform_machine == \"x86_64\", which is not installed.\n",
            "torch 2.3.0+cu121 requires nvidia-nvtx-cu12==12.1.105; platform_system == \"Linux\" and platform_machine == \"x86_64\", which is not installed.\n",
            "torch 2.3.0+cu121 requires nvidia-cublas-cu12==12.1.3.1; platform_system == \"Linux\" and platform_machine == \"x86_64\", but you have nvidia-cublas-cu12 12.5.2.13 which is incompatible.\n",
            "torch 2.3.0+cu121 requires nvidia-cuda-runtime-cu12==12.1.105; platform_system == \"Linux\" and platform_machine == \"x86_64\", but you have nvidia-cuda-runtime-cu12 12.5.39 which is incompatible.\n",
            "torch 2.3.0+cu121 requires nvidia-cusolver-cu12==11.4.5.107; platform_system == \"Linux\" and platform_machine == \"x86_64\", but you have nvidia-cusolver-cu12 11.6.2.40 which is incompatible.\n",
            "torch 2.3.0+cu121 requires nvidia-cusparse-cu12==12.1.0.106; platform_system == \"Linux\" and platform_machine == \"x86_64\", but you have nvidia-cusparse-cu12 12.4.1.24 which is incompatible.\u001b[0m\u001b[31m\n",
            "\u001b[0mSuccessfully installed PyJWT-2.8.0 cuquantum-cu12-24.3.0.post1 custatevec-cu12-1.6.0.post1 cutensor-cu12-2.0.1 cutensornet-cu12-2.4.0.post1 dill-0.3.8 ibm-cloud-sdk-core-3.20.1 ibm-platform-services-0.53.7 nvidia-cublas-cu12-12.5.2.13 nvidia-cuda-runtime-cu12-12.5.39 nvidia-cusolver-cu12-11.6.2.40 nvidia-cusparse-cu12-12.4.1.24 nvidia-nvjitlink-cu12-12.5.40 pbr-6.0.0 pylatexenc-2.10 pyspnego-0.11.0 qiskit-1.1.0 qiskit-ibm-runtime-0.24.0 qiskit_aer-gpu-0.14.2 requests-ntlm-1.3.0 rustworkx-0.14.2 stevedore-5.2.0 symengine-0.11.0 urllib3-2.2.1\n"
          ]
        }
      ],
      "source": [
        "%pip install qiskit[visualization] qiskit-ibm-runtime qiskit qiskit_aer-gpu"
      ]
    },
    {
      "cell_type": "code",
      "execution_count": null,
      "metadata": {
        "colab": {
          "base_uri": "https://localhost:8080/"
        },
        "id": "FOHQWdFVRDXV",
        "outputId": "bf0df920-90dd-43a2-b196-cd0c2314a98c"
      },
      "outputs": [
        {
          "name": "stdout",
          "output_type": "stream",
          "text": [
            "Thu Jun 13 17:41:08 2024       \n",
            "+---------------------------------------------------------------------------------------+\n",
            "| NVIDIA-SMI 535.104.05             Driver Version: 535.104.05   CUDA Version: 12.2     |\n",
            "|-----------------------------------------+----------------------+----------------------+\n",
            "| GPU  Name                 Persistence-M | Bus-Id        Disp.A | Volatile Uncorr. ECC |\n",
            "| Fan  Temp   Perf          Pwr:Usage/Cap |         Memory-Usage | GPU-Util  Compute M. |\n",
            "|                                         |                      |               MIG M. |\n",
            "|=========================================+======================+======================|\n",
            "|   0  Tesla T4                       Off | 00000000:00:04.0 Off |                    0 |\n",
            "| N/A   50C    P8               9W /  70W |      0MiB / 15360MiB |      0%      Default |\n",
            "|                                         |                      |                  N/A |\n",
            "+-----------------------------------------+----------------------+----------------------+\n",
            "                                                                                         \n",
            "+---------------------------------------------------------------------------------------+\n",
            "| Processes:                                                                            |\n",
            "|  GPU   GI   CI        PID   Type   Process name                            GPU Memory |\n",
            "|        ID   ID                                                             Usage      |\n",
            "|=======================================================================================|\n",
            "|  No running processes found                                                           |\n",
            "+---------------------------------------------------------------------------------------+\n"
          ]
        }
      ],
      "source": [
        "!nvidia-smi"
      ]
    },
    {
      "cell_type": "markdown",
      "metadata": {
        "id": "kLv5sRqcqrxG"
      },
      "source": [
        "### Libraries Importing\n"
      ]
    },
    {
      "cell_type": "code",
      "execution_count": 3,
      "metadata": {
        "id": "gijsKXrsqrxH"
      },
      "outputs": [],
      "source": [
        "from qiskit_ibm_runtime import QiskitRuntimeService\n",
        "from qiskit.visualization import plot_histogram\n",
        "from qiskit import QuantumCircuit, transpile\n",
        "from qiskit_aer import Aer, AerSimulator\n",
        "from qiskit.circuit import Parameter\n",
        "from math import log2\n",
        "from sympy import *\n",
        "import json, time, os\n",
        "\n",
        "simulation_time = time.time() # to calculate simulation time\n",
        "init_printing()"
      ]
    },
    {
      "cell_type": "code",
      "execution_count": 4,
      "metadata": {
        "colab": {
          "base_uri": "https://localhost:8080/"
        },
        "id": "txnRjp-5qrxH",
        "outputId": "685b2f9d-4c62-4c4d-9ab5-a7c3a859cf1b"
      },
      "outputs": [
        {
          "name": "stdout",
          "output_type": "stream",
          "text": [
            "('CPU',)\n"
          ]
        }
      ],
      "source": [
        "backend = AerSimulator(method=\"statevector\")\n",
        "print(backend.available_devices())\n",
        "# backend.set_options(device=\"GPU\")"
      ]
    },
    {
      "cell_type": "code",
      "execution_count": null,
      "metadata": {
        "id": "jGMWJ3I6qrxI"
      },
      "outputs": [],
      "source": [
        "# services = []\n",
        "\n",
        "# for i in range(1,5):\n",
        "#     services.append(QiskitRuntimeService(channel=\"ibm_quantum\", token=os.getenv(f\"TOKEN{i}\")))\n",
        "\n",
        "# backend = service.backend(\"ibm_osaka\") # for real quantum\n",
        "# backend = service.backend(\"ibm_kyoto\") # for real quantum"
      ]
    },
    {
      "cell_type": "markdown",
      "metadata": {
        "id": "sQLeg23zqrxJ"
      },
      "source": [
        "\n",
        "### Problem definition"
      ]
    },
    {
      "cell_type": "code",
      "execution_count": 5,
      "metadata": {
        "id": "PX0P69HDqrxJ"
      },
      "outputs": [],
      "source": [
        "conf = json.load(open(\"conf_v3.json\",\"r\"))"
      ]
    },
    {
      "cell_type": "code",
      "execution_count": 6,
      "metadata": {
        "colab": {
          "base_uri": "https://localhost:8080/"
        },
        "id": "ZkTfGrd5qrxJ",
        "outputId": "993b29f6-f76f-4dc5-a13a-7423518f3d05"
      },
      "outputs": [
        {
          "name": "stdout",
          "output_type": "stream",
          "text": [
            "Requried Qubits:  10\n"
          ]
        }
      ],
      "source": [
        "C = conf[\"C\"] # n\n",
        "S = conf[\"S\"] # m\n",
        "P = conf[\"P\"]\n",
        "K = conf[\"K\"]\n",
        "\n",
        "L = int(log2(C)+1)\n",
        "\n",
        "random_seed = conf[\"random_seed\"]\n",
        "shots = conf[\"shots\"] * 10\n",
        "layers = conf[\"layers\"]\n",
        "\n",
        "iterations = 0\n",
        "\n",
        "required_qubits = S * C + (S + 1) * L # l is log C\n",
        "\n",
        "print(\"Requried Qubits: \", required_qubits)"
      ]
    },
    {
      "cell_type": "code",
      "execution_count": 7,
      "metadata": {
        "id": "RFFtnA7oqrxK"
      },
      "outputs": [],
      "source": [
        "equations = []"
      ]
    },
    {
      "cell_type": "markdown",
      "metadata": {
        "id": "m-mgkFgZqrxK"
      },
      "source": [
        "### Formulation"
      ]
    },
    {
      "cell_type": "markdown",
      "metadata": {
        "id": "gCSH2jpMqrxK"
      },
      "source": [
        "#### Equations"
      ]
    },
    {
      "cell_type": "code",
      "execution_count": 8,
      "metadata": {
        "colab": {
          "base_uri": "https://localhost:8080/"
        },
        "id": "frJfEjCuqrxL",
        "outputId": "f2b1a9c0-0b14-40bc-c1cd-5e8ad4668d12"
      },
      "outputs": [
        {
          "name": "stdout",
          "output_type": "stream",
          "text": [
            "[x_21**2 - 2*x_21*z_0 - 4*x_21*z_1 + 2*x_21*τ_10 + 4*x_21*τ_11 + z_0**2 + 4*z_0*z_1 - 2*z_0*τ_10 - 4*z_0*τ_11 + 4*z_1**2 - 4*z_1*τ_10 - 8*z_1*τ_11 + τ_10**2 + 4*τ_10*τ_11 + 4*τ_11**2, x_12**2 + 2*x_12*x_22 - 2*x_12*z_0 - 4*x_12*z_1 + 2*x_12*τ_20 + 4*x_12*τ_21 + x_22**2 - 2*x_22*z_0 - 4*x_22*z_1 + 2*x_22*τ_20 + 4*x_22*τ_21 + z_0**2 + 4*z_0*z_1 - 2*z_0*τ_20 - 4*z_0*τ_21 + 4*z_1**2 - 4*z_1*τ_20 - 8*z_1*τ_21 + τ_20**2 + 4*τ_20*τ_21 + 4*τ_21**2]\n"
          ]
        }
      ],
      "source": [
        "for j in range(1, S + 1):\n",
        "  equation = 0\n",
        "\n",
        "  for i in range(1, C + 1):\n",
        "    equation += symbols(f\"x_{i}{j}\") * P[i-1][j-1]\n",
        "\n",
        "  for h in range(L):\n",
        "    q1 = symbols(f\"z_{h}\")*2**h\n",
        "    q2 = symbols(f\"τ_{j}{h}\")*2**h\n",
        "\n",
        "    equation += (q2 - q1)\n",
        "\n",
        "  equation = equation**2\n",
        "  equation = equation.expand()\n",
        "  equations.append(equation)\n",
        "\n",
        "print(equations)"
      ]
    },
    {
      "cell_type": "markdown",
      "metadata": {
        "id": "2_Cf5yYLqrxL"
      },
      "source": [
        "#### Decodeing Equations"
      ]
    },
    {
      "cell_type": "code",
      "execution_count": 9,
      "metadata": {
        "id": "9OEcWUs_qrxL"
      },
      "outputs": [],
      "source": [
        "def args(equation):\n",
        "  return Add.make_args(equation)\n",
        "\n",
        "def prepare_equation(term):\n",
        "  theta = 1\n",
        "  terms = []\n",
        "  if type(term) == Mul:\n",
        "    for i in term.args:\n",
        "      if i.is_Integer:\n",
        "        theta = i\n",
        "      else:\n",
        "        terms.append(i)\n",
        "  else:\n",
        "    terms.append(term.args[0])\n",
        "  temp = [theta, decode(terms)]\n",
        "\n",
        "  if(int(theta) == 4 and len(temp[1])==2 and temp[1][0] == temp[1][1]):\n",
        "    print(terms)\n",
        "\n",
        "  return [theta, decode(terms)]\n",
        "\n",
        "def decode(terms):\n",
        "  output = []\n",
        "  for term in terms:\n",
        "\n",
        "    term = str(term)\n",
        "    if term.startswith(\"z\"):\n",
        "      h = int(term[2])\n",
        "      output.append(h)\n",
        "\n",
        "\n",
        "    elif term.startswith(\"τ\"):\n",
        "      j = int(term[2])\n",
        "      h = int(term[3])\n",
        "      output.append(j * L + h)\n",
        "\n",
        "    elif term.startswith(\"x\"):\n",
        "      i = int(term[2])\n",
        "      j = int(term[3])\n",
        "      temp = (S + 1) * (L - 1)\n",
        "      output.append(temp + (((i-1) * S) + j))\n",
        "\n",
        "\n",
        "  return output"
      ]
    },
    {
      "cell_type": "markdown",
      "metadata": {
        "id": "x0mwQK1Wge_7"
      },
      "source": [
        "#### Other Registes"
      ]
    },
    {
      "cell_type": "code",
      "execution_count": 11,
      "metadata": {
        "colab": {
          "base_uri": "https://localhost:8080/",
          "height": 75
        },
        "id": "-_Iv6TTVqrxM",
        "outputId": "571e7066-cc39-4147-a733-71e7201f4700"
      },
      "outputs": [
        {
          "name": "stdout",
          "output_type": "stream",
          "text": [
            "[x_12, τ_21]\n"
          ]
        },
        {
          "data": {
            "image/png": "[encoded data removed]",
            "text/latex": [
              "$\\displaystyle \\left[ \\left[ \\left[ 1, \\  \\left[ 6\\right]\\right], \\  \\left[ 1, \\  \\left[ 0\\right]\\right], \\  \\left[ 1, \\  \\left[ 2\\right]\\right], \\  \\left[ 4, \\  \\left[ 1\\right]\\right], \\  \\left[ 4, \\  \\left[ 3\\right]\\right], \\  \\left[ -8, \\  \\left[ 1, \\  3\\right]\\right], \\  \\left[ -4, \\  \\left[ 6, \\  1\\right]\\right], \\  \\left[ -4, \\  \\left[ 0, \\  3\\right]\\right], \\  \\left[ -4, \\  \\left[ 1, \\  2\\right]\\right], \\  \\left[ -2, \\  \\left[ 6, \\  0\\right]\\right], \\  \\left[ -2, \\  \\left[ 0, \\  2\\right]\\right], \\  \\left[ 2, \\  \\left[ 6, \\  2\\right]\\right], \\  \\left[ 4, \\  \\left[ 6, \\  3\\right]\\right], \\  \\left[ 4, \\  \\left[ 0, \\  1\\right]\\right], \\  \\left[ 4, \\  \\left[ 2, \\  3\\right]\\right]\\right], \\  \\left[ \\left[ 1, \\  \\left[ 5\\right]\\right], \\  \\left[ 1, \\  \\left[ 7\\right]\\right], \\  \\left[ 1, \\  \\left[ 0\\right]\\right], \\  \\left[ 1, \\  \\left[ 4\\right]\\right], \\  \\left[ 4, \\  \\left[ 1\\right]\\right], \\  \\left[ 4, \\  \\left[ 5\\right]\\right], \\  \\left[ -8, \\  \\left[ 1, \\  5\\right]\\right], \\  \\left[ -4, \\  \\left[ 5, \\  1\\right]\\right], \\  \\left[ -4, \\  \\left[ 7, \\  1\\right]\\right], \\  \\left[ -4, \\  \\left[ 0, \\  5\\right]\\right], \\  \\left[ -4, \\  \\left[ 1, \\  4\\right]\\right], \\  \\left[ -2, \\  \\left[ 5, \\  0\\right]\\right], \\  \\left[ -2, \\  \\left[ 7, \\  0\\right]\\right], \\  \\left[ -2, \\  \\left[ 0, \\  4\\right]\\right], \\  \\left[ 2, \\  \\left[ 5, \\  7\\right]\\right], \\  \\left[ 2, \\  \\left[ 5, \\  4\\right]\\right], \\  \\left[ 2, \\  \\left[ 7, \\  4\\right]\\right], \\  \\left[ 4, \\  \\left[ 5, \\  5\\right]\\right], \\  \\left[ 4, \\  \\left[ 7, \\  5\\right]\\right], \\  \\left[ 4, \\  \\left[ 0, \\  1\\right]\\right], \\  \\left[ 4, \\  \\left[ 4, \\  5\\right]\\right]\\right]\\right]$"
            ],
            "text/plain": [
              "[[[1, [6]], [1, [0]], [1, [2]], [4, [1]], [4, [3]], [-8, [1, 3]], [-4, [6, 1]]\n",
              ", [-4, [0, 3]], [-4, [1, 2]], [-2, [6, 0]], [-2, [0, 2]], [2, [6, 2]], [4, [6,\n",
              " 3]], [4, [0, 1]], [4, [2, 3]]], [[1, [5]], [1, [7]], [1, [0]], [1, [4]], [4, \n",
              "[1]], [4, [5]], [-8, [1, 5]], [-4, [5, 1]], [-4, [7, 1]], [-4, [0, 5]], [-4, [\n",
              "1, 4]], [-2, [5, 0]], [-2, [7, 0]], [-2, [0, 4]], [2, [5, 7]], [2, [5, 4]], [2\n",
              ", [7, 4]], [4, [5, 5]], [4, [7, 5]], [4, [0, 1]], [4, [4, 5]]]]"
            ]
          },
          "execution_count": 11,
          "metadata": {},
          "output_type": "execute_result"
        }
      ],
      "source": [
        "prepared_equations = []\n",
        "for equation in equations:\n",
        "  temp = []\n",
        "  for term in args(equation):\n",
        "    if len(term.args) != 0:\n",
        "      temp.append(prepare_equation(term))\n",
        "  prepared_equations.append(temp)\n",
        "prepared_equations\n"
      ]
    },
    {
      "cell_type": "markdown",
      "metadata": {
        "id": "A78K19wwqrxM"
      },
      "source": [
        "### Implementation"
      ]
    },
    {
      "cell_type": "markdown",
      "metadata": {
        "id": "HFr1FxkyqrxM"
      },
      "source": [
        "#### Objective Function"
      ]
    },
    {
      "cell_type": "code",
      "execution_count": null,
      "metadata": {
        "id": "nXinpQYtqrxM"
      },
      "outputs": [],
      "source": [
        "def objective(bit_string):\n",
        "  bit_string = bit_string[::-1] # since qiskit represent solution in least significant bit format\n",
        "  cost = 0\n",
        "  a = b = 0\n",
        "\n",
        "  # equation a\n",
        "  for h in range(L):\n",
        "    cost += 2**h * int(bit_string[h])\n",
        "  if cost > C:\n",
        "    cost += (cost - C) *  K\n",
        "\n",
        "  # equation b\n",
        "  for j in range(1, S + 1):\n",
        "    temp_cost = 0\n",
        "\n",
        "    for i in range(1, C + 1):\n",
        "      temp = (S + 1) * (L - 1)\n",
        "      temp_cost += int(bit_string[temp + (((i-1) * S) + j)])\n",
        "\n",
        "    for h in range(L):\n",
        "      temp = (S + 1) * (L - 1)\n",
        "      q1 = int(bit_string[h]) * 2**h\n",
        "      q2 = int(bit_string[temp + (((i-1) * S) + j)]) * 2**h\n",
        "\n",
        "      temp_cost += (q2 - q1)\n",
        "    cost += temp_cost**2\n",
        "\n",
        "  return [cost, a, b]"
      ]
    },
    {
      "cell_type": "code",
      "execution_count": null,
      "metadata": {
        "colab": {
          "base_uri": "https://localhost:8080/",
          "height": 37
        },
        "id": "LaWOOrDihi1u",
        "outputId": "3597cfd1-86a4-4e8c-8319-094e75483d1b"
      },
      "outputs": [
        {
          "data": {
            "text/latex": [
              "$\\displaystyle \\left[ 0, \\  0, \\  0\\right]$"
            ],
            "text/plain": [
              "[0, 0, 0]"
            ]
          },
          "execution_count": 16,
          "metadata": {},
          "output_type": "execute_result"
        }
      ],
      "source": [
        "objective(\"00000000000001000\")"
      ]
    },
    {
      "cell_type": "markdown",
      "metadata": {
        "id": "YKxRKe1bqrxN"
      },
      "source": [
        "#### Circuit"
      ]
    },
    {
      "cell_type": "code",
      "execution_count": null,
      "metadata": {
        "id": "02Nuw5UIqrxN"
      },
      "outputs": [],
      "source": [
        "def layers_gen(p, initial_value = 1.0):\n",
        "  return [initial_value] * p * 2\n",
        "\n",
        "def create_qaoa_circ(thetas):\n",
        "    n_layers = len(thetas)//2\n",
        "\n",
        "    alpha = thetas[n_layers:]\n",
        "    gamma = thetas[:n_layers]\n",
        "\n",
        "    qc = QuantumCircuit(required_qubits)\n",
        "\n",
        "    for i in range(required_qubits):\n",
        "      qc.h(i)\n",
        "\n",
        "    # S0\n",
        "    for i in range(L):\n",
        "      theta = 2**i * -0.5\n",
        "      qc.rz(theta,i)\n",
        "\n",
        "    for layer_index in range(n_layers):\n",
        "        for equation in prepared_equations:\n",
        "          for term in equation:\n",
        "            theta = int(term[0])\n",
        "            locations = term[1]\n",
        "\n",
        "            if len(locations) == 1: # i.e. trivial term\n",
        "                qc.rz(theta * 0.5 * alpha[layer_index], locations[0])\n",
        "\n",
        "            elif len(locations) == 2:\n",
        "                qc.rz(theta * -0.25 * alpha[layer_index], locations[0]) # -1/4 * z1 = -1/4 * z1\n",
        "                qc.rz(theta * -0.25 * alpha[layer_index], locations[1]) # -1/4 * z2 = -1/4 * z2\n",
        "                # if(term != [8, [8, 8]]):\n",
        "                print(term)\n",
        "                qc.rzz(theta * 0.25 * alpha[layer_index], locations[0], locations[1]) # -1/4 * -z1z2 = 1/4 * z1z2\n",
        "\n",
        "        # for qubit in range(required_qubits - 1):\n",
        "        #     qc.rx(2 * gamma[layer_index] , qubit)\n",
        "\n",
        "        # try with 2* and without\n",
        "\n",
        "        # even\n",
        "        temp = -1\n",
        "        for i in range(1, required_qubits, 2):\n",
        "            if(temp!= -1):\n",
        "              qc.cx(temp,i)\n",
        "              qc.rx(gamma[layer_index],temp)\n",
        "              qc.ry(gamma[layer_index],temp)\n",
        "              qc.cx(temp,i)\n",
        "            temp = i\n",
        "\n",
        "        # odd\n",
        "        temp = -1\n",
        "        for i in range(0, required_qubits, 2):\n",
        "            if(temp!= -1):\n",
        "              qc.cx(temp,i)\n",
        "              qc.rx(gamma[layer_index],temp)\n",
        "              qc.ry(gamma[layer_index],temp)\n",
        "              qc.cx(temp,i)\n",
        "            temp = i\n",
        "\n",
        "        # first last\n",
        "        qc.cx(0,required_qubits-1)\n",
        "        qc.rx(0,required_qubits-1)\n",
        "        qc.ry(0,required_qubits-1)\n",
        "        qc.cx(0,required_qubits-1)\n",
        "\n",
        "    qc.measure_all()\n",
        "    print(thetas)\n",
        "\n",
        "    return qc"
      ]
    },
    {
      "cell_type": "code",
      "execution_count": null,
      "metadata": {
        "id": "WbTfWylhqrxN"
      },
      "outputs": [],
      "source": [
        "total = [0] * 2\n",
        "def compute_expectation(counts):\n",
        "    avg = 0\n",
        "    sum_count = 0\n",
        "    for bit_string, count in counts.items():\n",
        "        obj, a, b = objective(bit_string)\n",
        "        total[0] += a\n",
        "        total[1] += b\n",
        "        avg += obj * count\n",
        "        sum_count += count\n",
        "    return avg/sum_count\n",
        "\n",
        "def get_expectation():\n",
        "\n",
        "    def execute_circ(theta):\n",
        "        global iterations\n",
        "        qc = create_qaoa_circ(theta)\n",
        "        tc = transpile(qc,backend,optimization_level=3,seed_transpiler=random_seed)\n",
        "\n",
        "        counts = backend.run(tc, seed_simulator=random_seed, shots=shots).result().get_counts()\n",
        "        print(compute_expectation(counts))\n",
        "        iterations += 1\n",
        "        return compute_expectation(counts)\n",
        "\n",
        "    return execute_circ"
      ]
    },
    {
      "cell_type": "code",
      "execution_count": null,
      "metadata": {
        "colab": {
          "base_uri": "https://localhost:8080/",
          "height": 669
        },
        "id": "qFRwWKfoqrxO",
        "outputId": "e07e6b02-26fb-4c20-ca66-621d1110d1b7"
      },
      "outputs": [
        {
          "name": "stdout",
          "output_type": "stream",
          "text": [
            "[-8, [1, 3]]\n",
            "[-4, [6, 1]]\n",
            "[-4, [0, 3]]\n",
            "[-4, [1, 2]]\n",
            "[-2, [6, 0]]\n",
            "[-2, [0, 2]]\n",
            "[2, [6, 2]]\n",
            "[4, [6, 3]]\n",
            "[4, [0, 1]]\n",
            "[4, [2, 3]]\n",
            "[-8, [1, 5]]\n",
            "[-4, [5, 1]]\n",
            "[-4, [0, 5]]\n",
            "[-4, [1, 4]]\n",
            "[-2, [5, 0]]\n",
            "[-2, [0, 4]]\n",
            "[2, [5, 4]]\n",
            "[4, [5, 5]]\n"
          ]
        },
        {
          "ename": "CircuitError",
          "evalue": "'duplicate qubit arguments'",
          "output_type": "error",
          "traceback": [
            "\u001b[0;31m---------------------------------------------------------------------------\u001b[0m",
            "\u001b[0;31mCircuitError\u001b[0m                              Traceback (most recent call last)",
            "\u001b[0;32m<ipython-input-19-d9315ee63db2>\u001b[0m in \u001b[0;36m<cell line: 4>\u001b[0;34m()\u001b[0m\n\u001b[1;32m      2\u001b[0m \u001b[0mexpectation\u001b[0m \u001b[0;34m=\u001b[0m \u001b[0mget_expectation\u001b[0m\u001b[0;34m(\u001b[0m\u001b[0;34m)\u001b[0m\u001b[0;34m\u001b[0m\u001b[0;34m\u001b[0m\u001b[0m\n\u001b[1;32m      3\u001b[0m \u001b[0mstart_time\u001b[0m \u001b[0;34m=\u001b[0m \u001b[0mtime\u001b[0m\u001b[0;34m.\u001b[0m\u001b[0mtime\u001b[0m\u001b[0;34m(\u001b[0m\u001b[0;34m)\u001b[0m\u001b[0;34m\u001b[0m\u001b[0;34m\u001b[0m\u001b[0m\n\u001b[0;32m----> 4\u001b[0;31m \u001b[0mres\u001b[0m \u001b[0;34m=\u001b[0m \u001b[0mminimize\u001b[0m\u001b[0;34m(\u001b[0m\u001b[0mexpectation\u001b[0m\u001b[0;34m,\u001b[0m \u001b[0mlayers_gen\u001b[0m\u001b[0;34m(\u001b[0m\u001b[0mlayers\u001b[0m\u001b[0;34m)\u001b[0m\u001b[0;34m,\u001b[0m \u001b[0mmethod\u001b[0m\u001b[0;34m=\u001b[0m\u001b[0;34m'COBYLA'\u001b[0m\u001b[0;34m)\u001b[0m\u001b[0;34m\u001b[0m\u001b[0;34m\u001b[0m\u001b[0m\n\u001b[0m\u001b[1;32m      5\u001b[0m \u001b[0mminimization_time\u001b[0m \u001b[0;34m=\u001b[0m \u001b[0mtime\u001b[0m\u001b[0;34m.\u001b[0m\u001b[0mtime\u001b[0m\u001b[0;34m(\u001b[0m\u001b[0;34m)\u001b[0m \u001b[0;34m-\u001b[0m \u001b[0mstart_time\u001b[0m\u001b[0;34m\u001b[0m\u001b[0;34m\u001b[0m\u001b[0m\n\u001b[1;32m      6\u001b[0m \u001b[0;34m\u001b[0m\u001b[0m\n",
            "\u001b[0;32m/usr/local/lib/python3.10/dist-packages/scipy/optimize/_minimize.py\u001b[0m in \u001b[0;36mminimize\u001b[0;34m(fun, x0, args, method, jac, hess, hessp, bounds, constraints, tol, callback, options)\u001b[0m\n\u001b[1;32m    714\u001b[0m                             **options)\n\u001b[1;32m    715\u001b[0m     \u001b[0;32melif\u001b[0m \u001b[0mmeth\u001b[0m \u001b[0;34m==\u001b[0m \u001b[0;34m'cobyla'\u001b[0m\u001b[0;34m:\u001b[0m\u001b[0;34m\u001b[0m\u001b[0;34m\u001b[0m\u001b[0m\n\u001b[0;32m--> 716\u001b[0;31m         res = _minimize_cobyla(fun, x0, args, constraints, callback=callback,\n\u001b[0m\u001b[1;32m    717\u001b[0m                                bounds=bounds, **options)\n\u001b[1;32m    718\u001b[0m     \u001b[0;32melif\u001b[0m \u001b[0mmeth\u001b[0m \u001b[0;34m==\u001b[0m \u001b[0;34m'slsqp'\u001b[0m\u001b[0;34m:\u001b[0m\u001b[0;34m\u001b[0m\u001b[0;34m\u001b[0m\u001b[0m\n",
            "\u001b[0;32m/usr/local/lib/python3.10/dist-packages/scipy/optimize/_cobyla_py.py\u001b[0m in \u001b[0;36mwrapper\u001b[0;34m(*args, **kwargs)\u001b[0m\n\u001b[1;32m     33\u001b[0m     \u001b[0;32mdef\u001b[0m \u001b[0mwrapper\u001b[0m\u001b[0;34m(\u001b[0m\u001b[0;34m*\u001b[0m\u001b[0margs\u001b[0m\u001b[0;34m,\u001b[0m \u001b[0;34m**\u001b[0m\u001b[0mkwargs\u001b[0m\u001b[0;34m)\u001b[0m\u001b[0;34m:\u001b[0m\u001b[0;34m\u001b[0m\u001b[0;34m\u001b[0m\u001b[0m\n\u001b[1;32m     34\u001b[0m         \u001b[0;32mwith\u001b[0m \u001b[0m_module_lock\u001b[0m\u001b[0;34m:\u001b[0m\u001b[0;34m\u001b[0m\u001b[0;34m\u001b[0m\u001b[0m\n\u001b[0;32m---> 35\u001b[0;31m             \u001b[0;32mreturn\u001b[0m \u001b[0mfunc\u001b[0m\u001b[0;34m(\u001b[0m\u001b[0;34m*\u001b[0m\u001b[0margs\u001b[0m\u001b[0;34m,\u001b[0m \u001b[0;34m**\u001b[0m\u001b[0mkwargs\u001b[0m\u001b[0;34m)\u001b[0m\u001b[0;34m\u001b[0m\u001b[0;34m\u001b[0m\u001b[0m\n\u001b[0m\u001b[1;32m     36\u001b[0m     \u001b[0;32mreturn\u001b[0m \u001b[0mwrapper\u001b[0m\u001b[0;34m\u001b[0m\u001b[0;34m\u001b[0m\u001b[0m\n\u001b[1;32m     37\u001b[0m \u001b[0;34m\u001b[0m\u001b[0m\n",
            "\u001b[0;32m/usr/local/lib/python3.10/dist-packages/scipy/optimize/_cobyla_py.py\u001b[0m in \u001b[0;36m_minimize_cobyla\u001b[0;34m(fun, x0, args, constraints, rhobeg, tol, maxiter, disp, catol, callback, bounds, **unknown_options)\u001b[0m\n\u001b[1;32m    276\u001b[0m         \u001b[0;32mreturn\u001b[0m \u001b[0;32mNone\u001b[0m\u001b[0;34m\u001b[0m\u001b[0;34m\u001b[0m\u001b[0m\n\u001b[1;32m    277\u001b[0m \u001b[0;34m\u001b[0m\u001b[0m\n\u001b[0;32m--> 278\u001b[0;31m     \u001b[0msf\u001b[0m \u001b[0;34m=\u001b[0m \u001b[0m_prepare_scalar_function\u001b[0m\u001b[0;34m(\u001b[0m\u001b[0mfun\u001b[0m\u001b[0;34m,\u001b[0m \u001b[0mx0\u001b[0m\u001b[0;34m,\u001b[0m \u001b[0margs\u001b[0m\u001b[0;34m=\u001b[0m\u001b[0margs\u001b[0m\u001b[0;34m,\u001b[0m \u001b[0mjac\u001b[0m\u001b[0;34m=\u001b[0m\u001b[0m_jac\u001b[0m\u001b[0;34m)\u001b[0m\u001b[0;34m\u001b[0m\u001b[0;34m\u001b[0m\u001b[0m\n\u001b[0m\u001b[1;32m    279\u001b[0m \u001b[0;34m\u001b[0m\u001b[0m\n\u001b[1;32m    280\u001b[0m     \u001b[0;32mdef\u001b[0m \u001b[0mcalcfc\u001b[0m\u001b[0;34m(\u001b[0m\u001b[0mx\u001b[0m\u001b[0;34m,\u001b[0m \u001b[0mcon\u001b[0m\u001b[0;34m)\u001b[0m\u001b[0;34m:\u001b[0m\u001b[0;34m\u001b[0m\u001b[0;34m\u001b[0m\u001b[0m\n",
            "\u001b[0;32m/usr/local/lib/python3.10/dist-packages/scipy/optimize/_optimize.py\u001b[0m in \u001b[0;36m_prepare_scalar_function\u001b[0;34m(fun, x0, jac, args, bounds, epsilon, finite_diff_rel_step, hess)\u001b[0m\n\u001b[1;32m    381\u001b[0m     \u001b[0;31m# ScalarFunction caches. Reuse of fun(x) during grad\u001b[0m\u001b[0;34m\u001b[0m\u001b[0;34m\u001b[0m\u001b[0m\n\u001b[1;32m    382\u001b[0m     \u001b[0;31m# calculation reduces overall function evaluations.\u001b[0m\u001b[0;34m\u001b[0m\u001b[0;34m\u001b[0m\u001b[0m\n\u001b[0;32m--> 383\u001b[0;31m     sf = ScalarFunction(fun, x0, args, grad, hess,\n\u001b[0m\u001b[1;32m    384\u001b[0m                         finite_diff_rel_step, bounds, epsilon=epsilon)\n\u001b[1;32m    385\u001b[0m \u001b[0;34m\u001b[0m\u001b[0m\n",
            "\u001b[0;32m/usr/local/lib/python3.10/dist-packages/scipy/optimize/_differentiable_functions.py\u001b[0m in \u001b[0;36m__init__\u001b[0;34m(self, fun, x0, args, grad, hess, finite_diff_rel_step, finite_diff_bounds, epsilon)\u001b[0m\n\u001b[1;32m    156\u001b[0m \u001b[0;34m\u001b[0m\u001b[0m\n\u001b[1;32m    157\u001b[0m         \u001b[0mself\u001b[0m\u001b[0;34m.\u001b[0m\u001b[0m_update_fun_impl\u001b[0m \u001b[0;34m=\u001b[0m \u001b[0mupdate_fun\u001b[0m\u001b[0;34m\u001b[0m\u001b[0;34m\u001b[0m\u001b[0m\n\u001b[0;32m--> 158\u001b[0;31m         \u001b[0mself\u001b[0m\u001b[0;34m.\u001b[0m\u001b[0m_update_fun\u001b[0m\u001b[0;34m(\u001b[0m\u001b[0;34m)\u001b[0m\u001b[0;34m\u001b[0m\u001b[0;34m\u001b[0m\u001b[0m\n\u001b[0m\u001b[1;32m    159\u001b[0m \u001b[0;34m\u001b[0m\u001b[0m\n\u001b[1;32m    160\u001b[0m         \u001b[0;31m# Gradient evaluation\u001b[0m\u001b[0;34m\u001b[0m\u001b[0;34m\u001b[0m\u001b[0m\n",
            "\u001b[0;32m/usr/local/lib/python3.10/dist-packages/scipy/optimize/_differentiable_functions.py\u001b[0m in \u001b[0;36m_update_fun\u001b[0;34m(self)\u001b[0m\n\u001b[1;32m    249\u001b[0m     \u001b[0;32mdef\u001b[0m \u001b[0m_update_fun\u001b[0m\u001b[0;34m(\u001b[0m\u001b[0mself\u001b[0m\u001b[0;34m)\u001b[0m\u001b[0;34m:\u001b[0m\u001b[0;34m\u001b[0m\u001b[0;34m\u001b[0m\u001b[0m\n\u001b[1;32m    250\u001b[0m         \u001b[0;32mif\u001b[0m \u001b[0;32mnot\u001b[0m \u001b[0mself\u001b[0m\u001b[0;34m.\u001b[0m\u001b[0mf_updated\u001b[0m\u001b[0;34m:\u001b[0m\u001b[0;34m\u001b[0m\u001b[0;34m\u001b[0m\u001b[0m\n\u001b[0;32m--> 251\u001b[0;31m             \u001b[0mself\u001b[0m\u001b[0;34m.\u001b[0m\u001b[0m_update_fun_impl\u001b[0m\u001b[0;34m(\u001b[0m\u001b[0;34m)\u001b[0m\u001b[0;34m\u001b[0m\u001b[0;34m\u001b[0m\u001b[0m\n\u001b[0m\u001b[1;32m    252\u001b[0m             \u001b[0mself\u001b[0m\u001b[0;34m.\u001b[0m\u001b[0mf_updated\u001b[0m \u001b[0;34m=\u001b[0m \u001b[0;32mTrue\u001b[0m\u001b[0;34m\u001b[0m\u001b[0;34m\u001b[0m\u001b[0m\n\u001b[1;32m    253\u001b[0m \u001b[0;34m\u001b[0m\u001b[0m\n",
            "\u001b[0;32m/usr/local/lib/python3.10/dist-packages/scipy/optimize/_differentiable_functions.py\u001b[0m in \u001b[0;36mupdate_fun\u001b[0;34m()\u001b[0m\n\u001b[1;32m    153\u001b[0m \u001b[0;34m\u001b[0m\u001b[0m\n\u001b[1;32m    154\u001b[0m         \u001b[0;32mdef\u001b[0m \u001b[0mupdate_fun\u001b[0m\u001b[0;34m(\u001b[0m\u001b[0;34m)\u001b[0m\u001b[0;34m:\u001b[0m\u001b[0;34m\u001b[0m\u001b[0;34m\u001b[0m\u001b[0m\n\u001b[0;32m--> 155\u001b[0;31m             \u001b[0mself\u001b[0m\u001b[0;34m.\u001b[0m\u001b[0mf\u001b[0m \u001b[0;34m=\u001b[0m \u001b[0mfun_wrapped\u001b[0m\u001b[0;34m(\u001b[0m\u001b[0mself\u001b[0m\u001b[0;34m.\u001b[0m\u001b[0mx\u001b[0m\u001b[0;34m)\u001b[0m\u001b[0;34m\u001b[0m\u001b[0;34m\u001b[0m\u001b[0m\n\u001b[0m\u001b[1;32m    156\u001b[0m \u001b[0;34m\u001b[0m\u001b[0m\n\u001b[1;32m    157\u001b[0m         \u001b[0mself\u001b[0m\u001b[0;34m.\u001b[0m\u001b[0m_update_fun_impl\u001b[0m \u001b[0;34m=\u001b[0m \u001b[0mupdate_fun\u001b[0m\u001b[0;34m\u001b[0m\u001b[0;34m\u001b[0m\u001b[0m\n",
            "\u001b[0;32m/usr/local/lib/python3.10/dist-packages/scipy/optimize/_differentiable_functions.py\u001b[0m in \u001b[0;36mfun_wrapped\u001b[0;34m(x)\u001b[0m\n\u001b[1;32m    135\u001b[0m             \u001b[0;31m# Overwriting results in undefined behaviour because\u001b[0m\u001b[0;34m\u001b[0m\u001b[0;34m\u001b[0m\u001b[0m\n\u001b[1;32m    136\u001b[0m             \u001b[0;31m# fun(self.x) will change self.x, with the two no longer linked.\u001b[0m\u001b[0;34m\u001b[0m\u001b[0;34m\u001b[0m\u001b[0m\n\u001b[0;32m--> 137\u001b[0;31m             \u001b[0mfx\u001b[0m \u001b[0;34m=\u001b[0m \u001b[0mfun\u001b[0m\u001b[0;34m(\u001b[0m\u001b[0mnp\u001b[0m\u001b[0;34m.\u001b[0m\u001b[0mcopy\u001b[0m\u001b[0;34m(\u001b[0m\u001b[0mx\u001b[0m\u001b[0;34m)\u001b[0m\u001b[0;34m,\u001b[0m \u001b[0;34m*\u001b[0m\u001b[0margs\u001b[0m\u001b[0;34m)\u001b[0m\u001b[0;34m\u001b[0m\u001b[0;34m\u001b[0m\u001b[0m\n\u001b[0m\u001b[1;32m    138\u001b[0m             \u001b[0;31m# Make sure the function returns a true scalar\u001b[0m\u001b[0;34m\u001b[0m\u001b[0;34m\u001b[0m\u001b[0m\n\u001b[1;32m    139\u001b[0m             \u001b[0;32mif\u001b[0m \u001b[0;32mnot\u001b[0m \u001b[0mnp\u001b[0m\u001b[0;34m.\u001b[0m\u001b[0misscalar\u001b[0m\u001b[0;34m(\u001b[0m\u001b[0mfx\u001b[0m\u001b[0;34m)\u001b[0m\u001b[0;34m:\u001b[0m\u001b[0;34m\u001b[0m\u001b[0;34m\u001b[0m\u001b[0m\n",
            "\u001b[0;32m<ipython-input-18-f41716c56d3c>\u001b[0m in \u001b[0;36mexecute_circ\u001b[0;34m(theta)\u001b[0m\n\u001b[1;32m     15\u001b[0m     \u001b[0;32mdef\u001b[0m \u001b[0mexecute_circ\u001b[0m\u001b[0;34m(\u001b[0m\u001b[0mtheta\u001b[0m\u001b[0;34m)\u001b[0m\u001b[0;34m:\u001b[0m\u001b[0;34m\u001b[0m\u001b[0;34m\u001b[0m\u001b[0m\n\u001b[1;32m     16\u001b[0m         \u001b[0;32mglobal\u001b[0m \u001b[0miterations\u001b[0m\u001b[0;34m\u001b[0m\u001b[0;34m\u001b[0m\u001b[0m\n\u001b[0;32m---> 17\u001b[0;31m         \u001b[0mqc\u001b[0m \u001b[0;34m=\u001b[0m \u001b[0mcreate_qaoa_circ\u001b[0m\u001b[0;34m(\u001b[0m\u001b[0mtheta\u001b[0m\u001b[0;34m)\u001b[0m\u001b[0;34m\u001b[0m\u001b[0;34m\u001b[0m\u001b[0m\n\u001b[0m\u001b[1;32m     18\u001b[0m         \u001b[0mtc\u001b[0m \u001b[0;34m=\u001b[0m \u001b[0mtranspile\u001b[0m\u001b[0;34m(\u001b[0m\u001b[0mqc\u001b[0m\u001b[0;34m,\u001b[0m\u001b[0mbackend\u001b[0m\u001b[0;34m,\u001b[0m\u001b[0moptimization_level\u001b[0m\u001b[0;34m=\u001b[0m\u001b[0;36m3\u001b[0m\u001b[0;34m,\u001b[0m\u001b[0mseed_transpiler\u001b[0m\u001b[0;34m=\u001b[0m\u001b[0mrandom_seed\u001b[0m\u001b[0;34m)\u001b[0m\u001b[0;34m\u001b[0m\u001b[0;34m\u001b[0m\u001b[0m\n\u001b[1;32m     19\u001b[0m \u001b[0;34m\u001b[0m\u001b[0m\n",
            "\u001b[0;32m<ipython-input-17-6ce00508ae18>\u001b[0m in \u001b[0;36mcreate_qaoa_circ\u001b[0;34m(thetas)\u001b[0m\n\u001b[1;32m     32\u001b[0m                 \u001b[0;31m# if(term != [8, [8, 8]]):\u001b[0m\u001b[0;34m\u001b[0m\u001b[0;34m\u001b[0m\u001b[0m\n\u001b[1;32m     33\u001b[0m                 \u001b[0mprint\u001b[0m\u001b[0;34m(\u001b[0m\u001b[0mterm\u001b[0m\u001b[0;34m)\u001b[0m\u001b[0;34m\u001b[0m\u001b[0;34m\u001b[0m\u001b[0m\n\u001b[0;32m---> 34\u001b[0;31m                 \u001b[0mqc\u001b[0m\u001b[0;34m.\u001b[0m\u001b[0mrzz\u001b[0m\u001b[0;34m(\u001b[0m\u001b[0mtheta\u001b[0m \u001b[0;34m*\u001b[0m \u001b[0;36m0.25\u001b[0m \u001b[0;34m*\u001b[0m \u001b[0malpha\u001b[0m\u001b[0;34m[\u001b[0m\u001b[0mlayer_index\u001b[0m\u001b[0;34m]\u001b[0m\u001b[0;34m,\u001b[0m \u001b[0mlocations\u001b[0m\u001b[0;34m[\u001b[0m\u001b[0;36m0\u001b[0m\u001b[0;34m]\u001b[0m\u001b[0;34m,\u001b[0m \u001b[0mlocations\u001b[0m\u001b[0;34m[\u001b[0m\u001b[0;36m1\u001b[0m\u001b[0;34m]\u001b[0m\u001b[0;34m)\u001b[0m \u001b[0;31m# -1/4 * -z1z2 = 1/4 * z1z2\u001b[0m\u001b[0;34m\u001b[0m\u001b[0;34m\u001b[0m\u001b[0m\n\u001b[0m\u001b[1;32m     35\u001b[0m \u001b[0;34m\u001b[0m\u001b[0m\n\u001b[1;32m     36\u001b[0m         \u001b[0;31m# for qubit in range(required_qubits - 1):\u001b[0m\u001b[0;34m\u001b[0m\u001b[0;34m\u001b[0m\u001b[0m\n",
            "\u001b[0;32m/usr/local/lib/python3.10/dist-packages/qiskit/circuit/quantumcircuit.py\u001b[0m in \u001b[0;36mrzz\u001b[0;34m(self, theta, qubit1, qubit2)\u001b[0m\n\u001b[1;32m   4939\u001b[0m         \u001b[0;32mfrom\u001b[0m \u001b[0;34m.\u001b[0m\u001b[0mlibrary\u001b[0m\u001b[0;34m.\u001b[0m\u001b[0mstandard_gates\u001b[0m\u001b[0;34m.\u001b[0m\u001b[0mrzz\u001b[0m \u001b[0;32mimport\u001b[0m \u001b[0mRZZGate\u001b[0m\u001b[0;34m\u001b[0m\u001b[0;34m\u001b[0m\u001b[0m\n\u001b[1;32m   4940\u001b[0m \u001b[0;34m\u001b[0m\u001b[0m\n\u001b[0;32m-> 4941\u001b[0;31m         \u001b[0;32mreturn\u001b[0m \u001b[0mself\u001b[0m\u001b[0;34m.\u001b[0m\u001b[0mappend\u001b[0m\u001b[0;34m(\u001b[0m\u001b[0mRZZGate\u001b[0m\u001b[0;34m(\u001b[0m\u001b[0mtheta\u001b[0m\u001b[0;34m)\u001b[0m\u001b[0;34m,\u001b[0m \u001b[0;34m[\u001b[0m\u001b[0mqubit1\u001b[0m\u001b[0;34m,\u001b[0m \u001b[0mqubit2\u001b[0m\u001b[0;34m]\u001b[0m\u001b[0;34m,\u001b[0m \u001b[0;34m[\u001b[0m\u001b[0;34m]\u001b[0m\u001b[0;34m,\u001b[0m \u001b[0mcopy\u001b[0m\u001b[0;34m=\u001b[0m\u001b[0;32mFalse\u001b[0m\u001b[0;34m)\u001b[0m\u001b[0;34m\u001b[0m\u001b[0;34m\u001b[0m\u001b[0m\n\u001b[0m\u001b[1;32m   4942\u001b[0m \u001b[0;34m\u001b[0m\u001b[0m\n\u001b[1;32m   4943\u001b[0m     \u001b[0;32mdef\u001b[0m \u001b[0mecr\u001b[0m\u001b[0;34m(\u001b[0m\u001b[0mself\u001b[0m\u001b[0;34m,\u001b[0m \u001b[0mqubit1\u001b[0m\u001b[0;34m:\u001b[0m \u001b[0mQubitSpecifier\u001b[0m\u001b[0;34m,\u001b[0m \u001b[0mqubit2\u001b[0m\u001b[0;34m:\u001b[0m \u001b[0mQubitSpecifier\u001b[0m\u001b[0;34m)\u001b[0m \u001b[0;34m->\u001b[0m \u001b[0mInstructionSet\u001b[0m\u001b[0;34m:\u001b[0m\u001b[0;34m\u001b[0m\u001b[0;34m\u001b[0m\u001b[0m\n",
            "\u001b[0;32m/usr/local/lib/python3.10/dist-packages/qiskit/circuit/quantumcircuit.py\u001b[0m in \u001b[0;36mappend\u001b[0;34m(self, instruction, qargs, cargs, copy)\u001b[0m\n\u001b[1;32m   2395\u001b[0m         )\n\u001b[1;32m   2396\u001b[0m         \u001b[0;32mfor\u001b[0m \u001b[0mqarg\u001b[0m\u001b[0;34m,\u001b[0m \u001b[0mcarg\u001b[0m \u001b[0;32min\u001b[0m \u001b[0mbroadcast_iter\u001b[0m\u001b[0;34m:\u001b[0m\u001b[0;34m\u001b[0m\u001b[0;34m\u001b[0m\u001b[0m\n\u001b[0;32m-> 2397\u001b[0;31m             \u001b[0mself\u001b[0m\u001b[0;34m.\u001b[0m\u001b[0m_check_dups\u001b[0m\u001b[0;34m(\u001b[0m\u001b[0mqarg\u001b[0m\u001b[0;34m)\u001b[0m\u001b[0;34m\u001b[0m\u001b[0;34m\u001b[0m\u001b[0m\n\u001b[0m\u001b[1;32m   2398\u001b[0m             \u001b[0minstruction\u001b[0m \u001b[0;34m=\u001b[0m \u001b[0mCircuitInstruction\u001b[0m\u001b[0;34m(\u001b[0m\u001b[0moperation\u001b[0m\u001b[0;34m,\u001b[0m \u001b[0mqarg\u001b[0m\u001b[0;34m,\u001b[0m \u001b[0mcarg\u001b[0m\u001b[0;34m)\u001b[0m\u001b[0;34m\u001b[0m\u001b[0;34m\u001b[0m\u001b[0m\n\u001b[1;32m   2399\u001b[0m             \u001b[0mcircuit_scope\u001b[0m\u001b[0;34m.\u001b[0m\u001b[0mappend\u001b[0m\u001b[0;34m(\u001b[0m\u001b[0minstruction\u001b[0m\u001b[0;34m)\u001b[0m\u001b[0;34m\u001b[0m\u001b[0;34m\u001b[0m\u001b[0m\n",
            "\u001b[0;32m/usr/local/lib/python3.10/dist-packages/qiskit/circuit/quantumcircuit.py\u001b[0m in \u001b[0;36m_check_dups\u001b[0;34m(self, qubits)\u001b[0m\n\u001b[1;32m   3028\u001b[0m         \u001b[0msqubits\u001b[0m \u001b[0;34m=\u001b[0m \u001b[0mset\u001b[0m\u001b[0;34m(\u001b[0m\u001b[0mqubits\u001b[0m\u001b[0;34m)\u001b[0m\u001b[0;34m\u001b[0m\u001b[0;34m\u001b[0m\u001b[0m\n\u001b[1;32m   3029\u001b[0m         \u001b[0;32mif\u001b[0m \u001b[0mlen\u001b[0m\u001b[0;34m(\u001b[0m\u001b[0msqubits\u001b[0m\u001b[0;34m)\u001b[0m \u001b[0;34m!=\u001b[0m \u001b[0mlen\u001b[0m\u001b[0;34m(\u001b[0m\u001b[0mqubits\u001b[0m\u001b[0;34m)\u001b[0m\u001b[0;34m:\u001b[0m\u001b[0;34m\u001b[0m\u001b[0;34m\u001b[0m\u001b[0m\n\u001b[0;32m-> 3030\u001b[0;31m             \u001b[0;32mraise\u001b[0m \u001b[0mCircuitError\u001b[0m\u001b[0;34m(\u001b[0m\u001b[0;34m\"duplicate qubit arguments\"\u001b[0m\u001b[0;34m)\u001b[0m\u001b[0;34m\u001b[0m\u001b[0;34m\u001b[0m\u001b[0m\n\u001b[0m\u001b[1;32m   3031\u001b[0m \u001b[0;34m\u001b[0m\u001b[0m\n\u001b[1;32m   3032\u001b[0m     def to_instruction(\n",
            "\u001b[0;31mCircuitError\u001b[0m: 'duplicate qubit arguments'"
          ]
        }
      ],
      "source": [
        "from scipy.optimize import minimize,differential_evolution\n",
        "expectation = get_expectation()\n",
        "start_time = time.time()\n",
        "res = minimize(expectation, layers_gen(layers), method='COBYLA')\n",
        "minimization_time = time.time() - start_time\n",
        "\n",
        "res"
      ]
    },
    {
      "cell_type": "code",
      "execution_count": null,
      "metadata": {
        "colab": {
          "base_uri": "https://localhost:8080/"
        },
        "id": "PnP-JW3OqrxO",
        "outputId": "9b59c840-dd1a-40ef-dc93-d1c7d6c11aab"
      },
      "outputs": [
        {
          "name": "stdout",
          "output_type": "stream",
          "text": [
            "a: 0\n",
            "b: 0\n"
          ]
        }
      ],
      "source": [
        "print(\"a:\",total[0])\n",
        "print(\"b:\",total[1])"
      ]
    },
    {
      "cell_type": "markdown",
      "metadata": {
        "id": "PLMVywTYqrxO"
      },
      "source": [
        "### Results"
      ]
    },
    {
      "cell_type": "code",
      "execution_count": null,
      "metadata": {
        "colab": {
          "base_uri": "https://localhost:8080/",
          "height": 1000
        },
        "id": "aXcO1ai3qrxO",
        "outputId": "e3a3e798-4af1-4c79-83b1-b99c24fdb4bb"
      },
      "outputs": [
        {
          "name": "stdout",
          "output_type": "stream",
          "text": [
            "[0.71510001 1.06224233 0.62442471 2.05235296 0.86234611 0.79523559\n",
            " 0.43252652 0.28842841 0.7939431  0.65592898]\n",
            "9484\n",
            "-----------------\n",
            "BINGO\n",
            "01000000000011000\n",
            "1\n",
            "-----------------\n",
            "-----------------\n",
            "BINGO\n",
            "10000000001101000\n",
            "1\n",
            "-----------------\n",
            "-----------------\n",
            "BINGO\n",
            "01000000000101000\n",
            "1\n",
            "-----------------\n",
            "-----------------\n",
            "BINGO\n",
            "01000000000001000\n",
            "1\n",
            "-----------------\n",
            "-----------------\n",
            "BINGO\n",
            "00000000000001000\n",
            "1\n",
            "-----------------\n",
            "Solution 00101001100111111 cost: 3052 count 4\n",
            "Solution 11010000001101011 cost: 37 count 4\n",
            "Solution 10010110111010001 cost: 83 count 4\n",
            "Solution 10000011110010101 cost: 1023 count 4\n",
            "Solution 01101100001111101 cost: 1037 count 4\n",
            "Solution 10101101100111001 cost: 83 count 3\n",
            "Solution 11001100000101011 cost: 11 count 3\n",
            "Solution 10001100010100100 cost: 17 count 3\n",
            "Solution 11110010011011101 cost: 1037 count 3\n",
            "Solution 01001000000111001 cost: 2 count 3\n"
          ]
        },
        {
          "data": {
            "image/png": "[encoded data removed]",
            "text/plain": [
              "<Figure size 640x480 with 1 Axes>"
            ]
          },
          "execution_count": 88,
          "metadata": {},
          "output_type": "execute_result"
        }
      ],
      "source": [
        "from qiskit.visualization import plot_histogram\n",
        "\n",
        "qc_res = create_qaoa_circ(res.x)\n",
        "counts = backend.run(qc_res, seed_simulator=random_seed, shots=shots).result().get_counts()\n",
        "\n",
        "\n",
        "counts = dict(sorted(counts.items(), key=lambda item: item[1],reverse=True))\n",
        "counts_cost = dict(sorted(counts.items(), key=lambda item: item[1],reverse=True))\n",
        "\n",
        "values = list(counts.values())\n",
        "binary = list(counts.keys())\n",
        "\n",
        "output = {}\n",
        "\n",
        "print(len(counts))\n",
        "\n",
        "for key in binary:\n",
        "  if objective(key)[0] == 0:\n",
        "    print(\"-----------------\")\n",
        "    print(\"BINGO\")\n",
        "    print(key)\n",
        "    print(counts[key])\n",
        "    print(\"-----------------\")\n",
        "\n",
        "for key in binary[:10]:\n",
        "    print(\"Solution\",key ,\"cost:\",objective(key)[0],\"count\", counts[key])\n",
        "    output[key] = counts[key]\n",
        "\n",
        "# plot_histogram(output).savefig(f\"./png/{H}_{M}_{N}_{shots}_{layers}_{time.time_ns()}.png\")\n",
        "plot_histogram(output)"
      ]
    },
    {
      "cell_type": "code",
      "execution_count": null,
      "metadata": {
        "id": "kWzaYEXrqrxO"
      },
      "outputs": [],
      "source": [
        "sol = required_qubits\n",
        "sol_bin = \"\"\n",
        "\n",
        "for i in counts:\n",
        "  ob = objective(i)[0]\n",
        "  if ob < sol:\n",
        "    sol = ob\n",
        "    sol_bin = i\n",
        "\n",
        "counts[\"C\"] = C\n",
        "counts[\"P\"] = P\n",
        "counts[\"S\"] = S\n",
        "counts[\"shots\"] = shots\n",
        "counts[\"layers\"] = layers\n",
        "counts[\"solution\"] = sol_bin\n",
        "counts[\"solution_cost\"] = sol\n",
        "counts[\"solution_count\"] = counts[sol_bin]\n",
        "counts[\"minimization_time\"] = minimization_time\n",
        "counts[\"execution_time\"] = time.time() - simulation_time\n",
        "counts[\"iterations\"] = iterations\n",
        "\n",
        "print(\"Solution\",sol_bin ,\"cost:\",sol,\"count\", counts[sol_bin])"
      ]
    },
    {
      "cell_type": "code",
      "execution_count": null,
      "metadata": {
        "id": "fnYoAOKoqrxP"
      },
      "outputs": [],
      "source": [
        "file = open(f\"./{C}_{S}_{shots}_{layers}_{time.time_ns()}.json\", \"w\")\n",
        "file.write(json.dumps(counts))\n",
        "file.flush()"
      ]
    },
    {
      "cell_type": "code",
      "execution_count": null,
      "metadata": {
        "id": "IK0mkb3NqrxP"
      },
      "outputs": [],
      "source": [
        "counts[\"execution_time\"]"
      ]
    },
    {
      "cell_type": "code",
      "execution_count": null,
      "metadata": {
        "id": "4_m-eZiqqrxP"
      },
      "outputs": [],
      "source": [
        "minimization_time"
      ]
    }
  ],
  "metadata": {
    "accelerator": "GPU",
    "colab": {
      "gpuType": "T4",
      "provenance": []
    },
    "kernelspec": {
      "display_name": "Python 3",
      "name": "python3"
    },
    "language_info": {
      "codemirror_mode": {
        "name": "ipython",
        "version": 3
      },
      "file_extension": ".py",
      "mimetype": "text/x-python",
      "name": "python",
      "nbconvert_exporter": "python",
      "pygments_lexer": "ipython3",
      "version": "3.12.3"
    }
  },
  "nbformat": 4,
  "nbformat_minor": 0
}
