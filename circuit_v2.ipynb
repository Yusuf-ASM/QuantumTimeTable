{
  "cells": [
    {
      "cell_type": "markdown",
      "metadata": {
        "id": "alCyWOxAWcdV"
      },
      "source": [
        "### Installing Qiskit"
      ]
    },
    {
      "cell_type": "code",
      "execution_count": null,
      "metadata": {
        "colab": {
          "base_uri": "https://localhost:8080/"
        },
        "id": "HE2WwMMhVL8p",
        "outputId": "db7ddd8a-ef36-4a68-e3c3-3cf656428b3e"
      },
      "outputs": [],
      "source": [
        "%pip install qiskit[visualization] qiskit-ibm-runtime qiskit qiskit_aer-gpu"
      ]
    },
    {
      "cell_type": "code",
      "execution_count": null,
      "metadata": {
        "colab": {
          "base_uri": "https://localhost:8080/"
        },
        "id": "FOHQWdFVRDXV",
        "outputId": "9cff796c-032b-4846-9689-03caf43cc520"
      },
      "outputs": [],
      "source": [
        "!nvidia-smi"
      ]
    },
    {
      "cell_type": "markdown",
      "metadata": {},
      "source": [
        "### Libraries Importing\n"
      ]
    },
    {
      "cell_type": "code",
      "execution_count": 3,
      "metadata": {},
      "outputs": [],
      "source": [
        "from qiskit_ibm_runtime import QiskitRuntimeService\n",
        "from qiskit.visualization import plot_histogram\n",
        "from qiskit import QuantumCircuit, transpile\n",
        "from qiskit_aer import Aer, AerSimulator\n",
        "from qiskit.circuit import Parameter\n",
        "from dotenv import load_dotenv\n",
        "from sympy import *\n",
        "import json, time, os\n",
        "\n",
        "load_dotenv()\n",
        "simulation_time = time.time() # to calculate simulation time\n",
        "init_printing()"
      ]
    },
    {
      "cell_type": "code",
      "execution_count": 4,
      "metadata": {},
      "outputs": [
        {
          "name": "stdout",
          "output_type": "stream",
          "text": [
            "('CPU', 'GPU')\n"
          ]
        }
      ],
      "source": [
        "backend = AerSimulator(method=\"statevector\")\n",
        "print(backend.available_devices())\n",
        "backend.set_options(device=\"GPU\")"
      ]
    },
    {
      "cell_type": "code",
      "execution_count": null,
      "metadata": {},
      "outputs": [],
      "source": [
        "services = []\n",
        "\n",
        "for i in range(1,5):\n",
        "    services.append(QiskitRuntimeService(channel=\"ibm_quantum\", token=os.getenv(f\"TOKEN{i}\")))\n",
        "\n",
        "# backend = service.backend(\"ibm_osaka\") # for real quantum\n",
        "# backend = service.backend(\"ibm_kyoto\") # for real quantum"
      ]
    },
    {
      "cell_type": "markdown",
      "metadata": {},
      "source": [
        "\n",
        "### Problem definition"
      ]
    },
    {
      "cell_type": "code",
      "execution_count": 37,
      "metadata": {},
      "outputs": [],
      "source": [
        "conf = json.load(open(\"conf_v3.json\",\"r\"))"
      ]
    },
    {
      "cell_type": "code",
      "execution_count": 38,
      "metadata": {},
      "outputs": [
        {
          "name": "stdout",
          "output_type": "stream",
          "text": [
            "Requried Qubits:  17\n"
          ]
        }
      ],
      "source": [
        "C = conf[\"C\"]\n",
        "S = conf[\"S\"]\n",
        "P = conf[\"P\"]\n",
        "\n",
        "required_qubits = S * C + (S + 1) * 3 # l is log C\n",
        "\n",
        "print(\"Requried Qubits: \", required_qubits)"
      ]
    },
    {
      "cell_type": "code",
      "execution_count": 39,
      "metadata": {},
      "outputs": [],
      "source": [
        "equations = []"
      ]
    },
    {
      "cell_type": "markdown",
      "metadata": {},
      "source": [
        "### Formulation"
      ]
    },
    {
      "cell_type": "markdown",
      "metadata": {},
      "source": [
        "#### Equations"
      ]
    },
    {
      "cell_type": "code",
      "execution_count": null,
      "metadata": {},
      "outputs": [],
      "source": [
        "for i in range(3):\n",
        "    "
      ]
    },
    {
      "cell_type": "code",
      "execution_count": null,
      "metadata": {},
      "outputs": [],
      "source": [
        "for i in range(1, G + 1):\n",
        "  temp = total = 0\n",
        "  for h in range(1, H + 1):\n",
        "      temp += symbols(f\"x_{i}{h}\")\n",
        "  total += (temp - 1)**2\n",
        "  equations.append(total.expand())\n",
        "equations"
      ]
    },
    {
      "cell_type": "code",
      "execution_count": null,
      "metadata": {},
      "outputs": [],
      "source": [
        "for h in range(1, H + 1):\n",
        "  temp = total = 0\n",
        "  for i in range(1, G + 1):\n",
        "      temp += symbols(f\"x_{i}{h}\")\n",
        "  total += (temp + symbols(f\"τ_{h}\") - 1)**2\n",
        "  equations.append(total.expand())\n",
        "equations"
      ]
    },
    {
      "cell_type": "markdown",
      "metadata": {},
      "source": [
        "#### Decodeing Equations"
      ]
    },
    {
      "cell_type": "code",
      "execution_count": null,
      "metadata": {},
      "outputs": [],
      "source": [
        "def args(equation):\n",
        "  return Add.make_args(equation)\n",
        "\n",
        "def prepare_equation(term):\n",
        "  theta = 1\n",
        "  terms = []\n",
        "  if type(term) == Mul:\n",
        "    for i in term.args:\n",
        "      if i.is_Integer:\n",
        "        theta = i\n",
        "      else:\n",
        "        terms.append(i)\n",
        "  else:\n",
        "    terms.append(term.args[0]) \n",
        "\n",
        "  return [theta, decode(terms)]\n",
        "\n",
        "def decode(terms):\n",
        "  output = []\n",
        "  for term in terms:\n",
        "\n",
        "    term = str(term)\n",
        "\n",
        "    if term.startswith(\"τ\"):\n",
        "      h = int(term[2])\n",
        "      output.append((G * H + (h - 1)))\n",
        "\n",
        "    elif term.startswith(\"x\"):\n",
        "      i = int(term[2])\n",
        "      h = int(term[3])\n",
        "      output.append((i - 1) * H + (h - 1))\n",
        "\n",
        "\n",
        "  return output\n"
      ]
    },
    {
      "cell_type": "code",
      "execution_count": null,
      "metadata": {},
      "outputs": [],
      "source": [
        "prepared_equations = []\n",
        "for equation in equations:\n",
        "  temp = []\n",
        "  for term in args(equation):\n",
        "    if len(term.args) != 0:\n",
        "      temp.append(prepare_equation(term))\n",
        "  prepared_equations.append(temp)\n",
        "\n",
        "prepared_equations"
      ]
    },
    {
      "cell_type": "markdown",
      "metadata": {},
      "source": [
        "### Implementation"
      ]
    },
    {
      "cell_type": "markdown",
      "metadata": {},
      "source": [
        "#### Objective Function"
      ]
    },
    {
      "cell_type": "code",
      "execution_count": null,
      "metadata": {},
      "outputs": [],
      "source": [
        "def objective(bit_string):\n",
        "  bit_string = bit_string[::-1] # since qiskit represent solution in least significant bit format \n",
        "  cost = 0\n",
        "  a = b = 0\n",
        "  \n",
        "  # equation a\n",
        "  for i in range(1, G + 1):\n",
        "    temp = 0\n",
        "    for h in range(1, H + 1):\n",
        "      temp += int(bit_string[(i - 1) * H + (h - 1)] )\n",
        "    cost += (temp - 1)**2\n",
        "    a += (temp - 1)**2\n",
        "    \n",
        "\n",
        "  # equation b\n",
        "  for h in range(1, H + 1):\n",
        "    temp = 0\n",
        "    for i in range(1, G + 1):\n",
        "      temp += int(bit_string[(i - 1) * H + (h - 1)])\n",
        "\n",
        "    cost += (temp + int(bit_string[(G * H + (h - 1))]) - 1)**2\n",
        "    # cost *= K\n",
        "    b += (temp + int(bit_string[(G * H + (h - 1))]) - 1)**2 \n",
        "    # b *= K\n",
        "\n",
        "  return [cost, a, b]"
      ]
    },
    {
      "cell_type": "markdown",
      "metadata": {},
      "source": [
        "#### Circuit"
      ]
    },
    {
      "cell_type": "code",
      "execution_count": null,
      "metadata": {},
      "outputs": [],
      "source": [
        "# qc = QuantumCircuit(required_qubits)\n",
        "\n",
        "# for i in range(required_qubits):\n",
        "#     qc.h(i)\n",
        "\n",
        "# for equation in prepared_equations:\n",
        "#   for term in equation:\n",
        "#     theta = int(term[0])\n",
        "#     locations = term[1]\n",
        "#     if len(locations) == 1: # i.e. trivial term\n",
        "#         qc.rz(theta , locations[0])\n",
        "#     elif len(locations) == 2:\n",
        "#         qc.rz(theta , locations[0]) # -1/4 * z1 = -1/4 * z1\n",
        "#         qc.rz(theta , locations[1]) # -1/4 * z2 = -1/4 * z2\n",
        "#         qc.rzz(theta , locations[0], locations[1]) # -1/4 * -z1z2 = 1/4 * z1z2\n",
        "\n",
        "# for qubit in range(required_qubits - 1):\n",
        "#     qc.rx(2  , qubit)\n",
        "\n",
        "# qc.draw(\"mpl\")"
      ]
    },
    {
      "cell_type": "code",
      "execution_count": null,
      "metadata": {},
      "outputs": [],
      "source": [
        "def layers_gen(p, initial_value = 1.0):\n",
        "  return [initial_value] * p * 2\n",
        "\n",
        "def create_qaoa_circ(thetas):\n",
        "    n_layers = len(thetas)//2\n",
        "\n",
        "    alpha = thetas[n_layers:]\n",
        "    gamma = thetas[:n_layers]\n",
        "\n",
        "    qc = QuantumCircuit(required_qubits)\n",
        "\n",
        "    for i in range(required_qubits): \n",
        "      qc.h(i)\n",
        "\n",
        "    for layer_index in range(n_layers):\n",
        "        for equation in prepared_equations:\n",
        "          for term in equation:\n",
        "            theta = int(term[0])\n",
        "            locations = term[1]\n",
        "            \n",
        "            if len(locations) == 1: # i.e. trivial term\n",
        "                qc.rz(theta * 0.5 * alpha[layer_index], locations[0])\n",
        "\n",
        "            elif len(locations) == 2:\n",
        "                qc.rz(theta * -0.25 * alpha[layer_index], locations[0]) # -1/4 * z1 = -1/4 * z1\n",
        "                qc.rz(theta * -0.25 * alpha[layer_index], locations[1]) # -1/4 * z2 = -1/4 * z2\n",
        "                qc.rzz(theta * 0.25 * alpha[layer_index], locations[0], locations[1]) # -1/4 * -z1z2 = 1/4 * z1z2\n",
        "\n",
        "        # for qubit in range(required_qubits - 1):\n",
        "        #     qc.rx(2 * gamma[layer_index] , qubit)\n",
        "\n",
        "            # try with 2* and without\n",
        "            # even\n",
        "            temp = -1\n",
        "            for i in range(1, required_qubits, 2):\n",
        "                if(temp!= -1):\n",
        "                  qc.cx(temp,i)\n",
        "                  qc.rx(gamma[layer_index],temp)\n",
        "                  qc.ry(gamma[layer_index],temp)\n",
        "                  qc.cx(temp,i)\n",
        "                temp = i\n",
        "\n",
        "            # odd\n",
        "            temp = -1\n",
        "            for i in range(0, required_qubits, 2):\n",
        "                if(temp!= -1):\n",
        "                  qc.cx(temp,i)\n",
        "                  qc.rx(gamma[layer_index],temp)\n",
        "                  qc.ry(gamma[layer_index],temp)\n",
        "                  qc.cx(temp,i)\n",
        "                temp = i\n",
        "            qc.cx(0,required_qubits-1)\n",
        "            qc.rx(0,required_qubits-1)\n",
        "            qc.ry(0,required_qubits-1)\n",
        "            qc.cx(0,required_qubits-1)\n",
        "\n",
        "    qc.measure_all()\n",
        "    print(thetas)\n",
        "\n",
        "    return qc"
      ]
    },
    {
      "cell_type": "code",
      "execution_count": null,
      "metadata": {},
      "outputs": [],
      "source": [
        "total = [0] * 2\n",
        "def compute_expectation(counts):\n",
        "    avg = 0\n",
        "    sum_count = 0\n",
        "    for bit_string, count in counts.items():\n",
        "        obj, a, b = objective(bit_string)\n",
        "        total[0] += a\n",
        "        total[1] += b\n",
        "        avg += obj * count\n",
        "        sum_count += count\n",
        "    return avg/sum_count\n",
        "\n",
        "def get_expectation():\n",
        "\n",
        "    def execute_circ(theta):\n",
        "        global iterations\n",
        "        qc = create_qaoa_circ(theta)\n",
        "        tc = transpile(qc,backend,optimization_level=3,seed_transpiler=random_seed)\n",
        "        \n",
        "        counts = backend.run(tc, seed_simulator=random_seed, shots=shots).result().get_counts()\n",
        "        print(compute_expectation(counts))\n",
        "        iterations += 1\n",
        "        return compute_expectation(counts)\n",
        "\n",
        "    return execute_circ"
      ]
    },
    {
      "cell_type": "code",
      "execution_count": null,
      "metadata": {},
      "outputs": [],
      "source": [
        "from scipy.optimize import minimize,differential_evolution\n",
        "expectation = get_expectation()\n",
        "start_time = time.time()\n",
        "res = minimize(expectation, layers_gen(layers), method='COBYLA') \n",
        "minimization_time = time.time() - start_time\n",
        "\n",
        "res"
      ]
    },
    {
      "cell_type": "code",
      "execution_count": null,
      "metadata": {},
      "outputs": [],
      "source": [
        "print(\"a:\",total[0])\n",
        "print(\"b:\",total[1])"
      ]
    },
    {
      "cell_type": "markdown",
      "metadata": {},
      "source": [
        "### Results"
      ]
    },
    {
      "cell_type": "code",
      "execution_count": null,
      "metadata": {},
      "outputs": [],
      "source": [
        "from qiskit.visualization import plot_histogram\n",
        "\n",
        "qc_res = create_qaoa_circ(res.x)\n",
        "counts = backend.run(qc_res, seed_simulator=random_seed, shots=shots).result().get_counts()\n",
        "\n",
        "\n",
        "counts = dict(sorted(counts.items(), key=lambda item: item[1],reverse=True))\n",
        "counts_cost = dict(sorted(counts.items(), key=lambda item: item[1],reverse=True))\n",
        "\n",
        "values = list(counts.values())\n",
        "binary = list(counts.keys())\n",
        "\n",
        "output = {}\n",
        "\n",
        "print(len(counts))\n",
        "\n",
        "for key in binary:\n",
        "  if objective(key)[0] == 0:\n",
        "    print(\"-----------------\")\n",
        "    print(\"BINGO\")\n",
        "    print(key)\n",
        "    print(counts[key])\n",
        "    print(\"-----------------\")\n",
        "\n",
        "for key in binary[:10]:\n",
        "    print(\"Solution\",key ,\"cost:\",objective(key)[0],\"count\", counts[key])\n",
        "    output[key] = counts[key]\n",
        "\n",
        "# plot_histogram(output).savefig(f\"./png/{H}_{M}_{N}_{shots}_{layers}_{time.time_ns()}.png\")\n",
        "plot_histogram(output)"
      ]
    },
    {
      "cell_type": "code",
      "execution_count": null,
      "metadata": {},
      "outputs": [],
      "source": [
        "sol = required_qubits\n",
        "sol_bin = \"\"\n",
        "\n",
        "for i in counts:\n",
        "  ob = objective(i)[0]\n",
        "  if ob < sol:\n",
        "    sol = ob\n",
        "    sol_bin = i\n",
        "\n",
        "counts[\"C\"] = C\n",
        "counts[\"P\"] =P\n",
        "counts[\"S\"] =S \n",
        "counts[\"shots\"] = shots\n",
        "counts[\"layers\"] = layers\n",
        "counts[\"solution\"] = sol_bin\n",
        "counts[\"solution_cost\"] = sol\n",
        "counts[\"solution_count\"] = counts[sol_bin]\n",
        "counts[\"minimization_time\"] = minimization_time\n",
        "counts[\"execution_time\"] = time.time() - simulation_time\n",
        "counts[\"iterations\"] = iterations \n",
        "\n",
        "print(\"Solution\",sol_bin ,\"cost:\",sol,\"count\", counts[sol_bin])"
      ]
    },
    {
      "cell_type": "code",
      "execution_count": null,
      "metadata": {},
      "outputs": [],
      "source": [
        "file = open(f\"./{C}_{S}_{shots}_{layers}_{time.time_ns()}.json\", \"w\")\n",
        "file.write(json.dumps(counts))\n",
        "file.flush()"
      ]
    },
    {
      "cell_type": "code",
      "execution_count": null,
      "metadata": {},
      "outputs": [],
      "source": [
        "counts[\"execution_time\"]"
      ]
    },
    {
      "cell_type": "code",
      "execution_count": null,
      "metadata": {},
      "outputs": [],
      "source": [
        "minimization_time"
      ]
    }
  ],
  "metadata": {
    "accelerator": "GPU",
    "colab": {
      "collapsed_sections": [
        "alCyWOxAWcdV",
        "TiWcxBn4_H1e"
      ],
      "gpuType": "T4",
      "provenance": []
    },
    "kernelspec": {
      "display_name": "Python 3",
      "name": "python3"
    },
    "language_info": {
      "codemirror_mode": {
        "name": "ipython",
        "version": 3
      },
      "file_extension": ".py",
      "mimetype": "text/x-python",
      "name": "python",
      "nbconvert_exporter": "python",
      "pygments_lexer": "ipython3",
      "version": "3.12.3"
    }
  },
  "nbformat": 4,
  "nbformat_minor": 0
}
