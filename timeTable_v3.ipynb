{
 "cells": [
  {
   "cell_type": "markdown",
   "metadata": {
    "id": "alCyWOxAWcdV",
    "jp-MarkdownHeadingCollapsed": true,
    "tags": []
   },
   "source": [
    "### Installing Qiskit"
   ]
  },
  {
   "cell_type": "code",
   "execution_count": 2,
   "metadata": {
    "colab": {
     "base_uri": "https://localhost:8080/"
    },
    "id": "HE2WwMMhVL8p",
    "outputId": "73f03985-1eca-4c27-c073-1a5cb9948d80",
    "tags": []
   },
   "outputs": [
    {
     "name": "stdout",
     "output_type": "stream",
     "text": [
      "Defaulting to user installation because normal site-packages is not writeable\n",
      "Requirement already satisfied: qiskit-ibm-runtime in /home/yusuf/.local/lib/python3.12/site-packages (0.23.0)\n",
      "Requirement already satisfied: qiskit in /home/yusuf/.local/lib/python3.12/site-packages (1.0.2)\n",
      "Collecting qiskit_aer\n",
      "  Downloading qiskit_aer-0.14.2-cp312-cp312-manylinux_2_17_x86_64.manylinux2014_x86_64.whl.metadata (8.1 kB)\n",
      "Requirement already satisfied: rustworkx>=0.14.0 in /home/yusuf/.local/lib/python3.12/site-packages (from qiskit[visualization]) (0.14.2)\n",
      "Requirement already satisfied: numpy<2,>=1.17 in /home/yusuf/.local/lib/python3.12/site-packages (from qiskit[visualization]) (1.26.4)\n",
      "Requirement already satisfied: scipy>=1.5 in /home/yusuf/.local/lib/python3.12/site-packages (from qiskit[visualization]) (1.13.0)\n",
      "Requirement already satisfied: sympy>=1.3 in /home/yusuf/.local/lib/python3.12/site-packages (from qiskit[visualization]) (1.12)\n",
      "Requirement already satisfied: dill>=0.3 in /home/yusuf/.local/lib/python3.12/site-packages (from qiskit[visualization]) (0.3.8)\n",
      "Requirement already satisfied: python-dateutil>=2.8.0 in /usr/lib/python3.12/site-packages (from qiskit[visualization]) (2.8.2)\n",
      "Requirement already satisfied: stevedore>=3.0.0 in /home/yusuf/.local/lib/python3.12/site-packages (from qiskit[visualization]) (5.2.0)\n",
      "Requirement already satisfied: typing-extensions in /home/yusuf/.local/lib/python3.12/site-packages (from qiskit[visualization]) (4.11.0)\n",
      "Requirement already satisfied: symengine>=0.11 in /home/yusuf/.local/lib/python3.12/site-packages (from qiskit[visualization]) (0.11.0)\n",
      "Requirement already satisfied: matplotlib>=3.3 in /home/yusuf/.local/lib/python3.12/site-packages (from qiskit[visualization]) (3.8.4)\n",
      "Requirement already satisfied: pydot in /home/yusuf/.local/lib/python3.12/site-packages (from qiskit[visualization]) (2.0.0)\n",
      "Requirement already satisfied: Pillow>=4.2.1 in /usr/lib64/python3.12/site-packages (from qiskit[visualization]) (10.3.0)\n",
      "Requirement already satisfied: pylatexenc>=1.4 in /home/yusuf/.local/lib/python3.12/site-packages (from qiskit[visualization]) (2.10)\n",
      "Requirement already satisfied: seaborn>=0.9.0 in /home/yusuf/.local/lib/python3.12/site-packages (from qiskit[visualization]) (0.13.2)\n",
      "Requirement already satisfied: requests>=2.19 in /home/yusuf/.local/lib/python3.12/site-packages (from qiskit-ibm-runtime) (2.31.0)\n",
      "Requirement already satisfied: requests-ntlm>=1.1.0 in /home/yusuf/.local/lib/python3.12/site-packages (from qiskit-ibm-runtime) (1.2.0)\n",
      "Requirement already satisfied: urllib3>=1.21.1 in /home/yusuf/.local/lib/python3.12/site-packages (from qiskit-ibm-runtime) (2.2.1)\n",
      "Requirement already satisfied: websocket-client>=1.5.1 in /home/yusuf/.local/lib/python3.12/site-packages (from qiskit-ibm-runtime) (1.7.0)\n",
      "Requirement already satisfied: ibm-platform-services>=0.22.6 in /home/yusuf/.local/lib/python3.12/site-packages (from qiskit-ibm-runtime) (0.53.4)\n",
      "Requirement already satisfied: pydantic in /home/yusuf/.local/lib/python3.12/site-packages (from qiskit-ibm-runtime) (2.7.0)\n",
      "Requirement already satisfied: psutil>=5 in /home/yusuf/.local/lib/python3.12/site-packages (from qiskit_aer) (5.9.8)\n",
      "Requirement already satisfied: ibm-cloud-sdk-core<4.0.0,>=3.19.2 in /home/yusuf/.local/lib/python3.12/site-packages (from ibm-platform-services>=0.22.6->qiskit-ibm-runtime) (3.20.0)\n",
      "Requirement already satisfied: contourpy>=1.0.1 in /home/yusuf/.local/lib/python3.12/site-packages (from matplotlib>=3.3->qiskit[visualization]) (1.2.1)\n",
      "Requirement already satisfied: cycler>=0.10 in /home/yusuf/.local/lib/python3.12/site-packages (from matplotlib>=3.3->qiskit[visualization]) (0.12.1)\n",
      "Requirement already satisfied: fonttools>=4.22.0 in /home/yusuf/.local/lib/python3.12/site-packages (from matplotlib>=3.3->qiskit[visualization]) (4.51.0)\n",
      "Requirement already satisfied: kiwisolver>=1.3.1 in /home/yusuf/.local/lib/python3.12/site-packages (from matplotlib>=3.3->qiskit[visualization]) (1.4.5)\n",
      "Requirement already satisfied: packaging>=20.0 in /usr/lib/python3.12/site-packages (from matplotlib>=3.3->qiskit[visualization]) (23.2)\n",
      "Requirement already satisfied: pyparsing>=2.3.1 in /usr/lib/python3.12/site-packages (from matplotlib>=3.3->qiskit[visualization]) (3.1.2)\n",
      "Requirement already satisfied: six>=1.5 in /usr/lib/python3.12/site-packages (from python-dateutil>=2.8.0->qiskit[visualization]) (1.16.0)\n",
      "Requirement already satisfied: charset-normalizer<4,>=2 in /usr/lib/python3.12/site-packages (from requests>=2.19->qiskit-ibm-runtime) (3.3.2)\n",
      "Requirement already satisfied: idna<4,>=2.5 in /usr/lib/python3.12/site-packages (from requests>=2.19->qiskit-ibm-runtime) (3.7)\n",
      "Requirement already satisfied: certifi>=2017.4.17 in /usr/lib/python3.12/site-packages (from requests>=2.19->qiskit-ibm-runtime) (2023.5.7)\n",
      "Requirement already satisfied: cryptography>=1.3 in /usr/lib64/python3.12/site-packages (from requests-ntlm>=1.1.0->qiskit-ibm-runtime) (41.0.7)\n",
      "Requirement already satisfied: pyspnego>=0.1.6 in /home/yusuf/.local/lib/python3.12/site-packages (from requests-ntlm>=1.1.0->qiskit-ibm-runtime) (0.10.2)\n",
      "Requirement already satisfied: pandas>=1.2 in /home/yusuf/.local/lib/python3.12/site-packages (from seaborn>=0.9.0->qiskit[visualization]) (2.2.2)\n",
      "Requirement already satisfied: pbr!=2.1.0,>=2.0.0 in /home/yusuf/.local/lib/python3.12/site-packages (from stevedore>=3.0.0->qiskit[visualization]) (6.0.0)\n",
      "Requirement already satisfied: mpmath>=0.19 in /home/yusuf/.local/lib/python3.12/site-packages (from sympy>=1.3->qiskit[visualization]) (1.3.0)\n",
      "Requirement already satisfied: annotated-types>=0.4.0 in /home/yusuf/.local/lib/python3.12/site-packages (from pydantic->qiskit-ibm-runtime) (0.6.0)\n",
      "Requirement already satisfied: pydantic-core==2.18.1 in /home/yusuf/.local/lib/python3.12/site-packages (from pydantic->qiskit-ibm-runtime) (2.18.1)\n",
      "Requirement already satisfied: cffi>=1.12 in /usr/lib64/python3.12/site-packages (from cryptography>=1.3->requests-ntlm>=1.1.0->qiskit-ibm-runtime) (1.16.0)\n",
      "Requirement already satisfied: PyJWT<3.0.0,>=2.8.0 in /home/yusuf/.local/lib/python3.12/site-packages (from ibm-cloud-sdk-core<4.0.0,>=3.19.2->ibm-platform-services>=0.22.6->qiskit-ibm-runtime) (2.8.0)\n",
      "Requirement already satisfied: pytz>=2020.1 in /usr/lib/python3.12/site-packages (from pandas>=1.2->seaborn>=0.9.0->qiskit[visualization]) (2024.1)\n",
      "Requirement already satisfied: tzdata>=2022.7 in /home/yusuf/.local/lib/python3.12/site-packages (from pandas>=1.2->seaborn>=0.9.0->qiskit[visualization]) (2024.1)\n",
      "Requirement already satisfied: pycparser in /usr/lib/python3.12/site-packages (from cffi>=1.12->cryptography>=1.3->requests-ntlm>=1.1.0->qiskit-ibm-runtime) (2.20)\n",
      "Requirement already satisfied: ply==3.11 in /usr/lib/python3.12/site-packages (from pycparser->cffi>=1.12->cryptography>=1.3->requests-ntlm>=1.1.0->qiskit-ibm-runtime) (3.11)\n",
      "Downloading qiskit_aer-0.14.2-cp312-cp312-manylinux_2_17_x86_64.manylinux2014_x86_64.whl (12.4 MB)\n",
      "\u001b[2K   \u001b[90m━━━━━━━━━━━━━━━━━━━━━━━━━━━━━━━━━━━━━━━━\u001b[0m \u001b[32m12.4/12.4 MB\u001b[0m \u001b[31m2.7 MB/s\u001b[0m eta \u001b[36m0:00:00\u001b[0m00:01\u001b[0m00:01\u001b[0mm\n",
      "\u001b[?25hInstalling collected packages: qiskit_aer\n",
      "Successfully installed qiskit_aer-0.14.2\n",
      "Note: you may need to restart the kernel to use updated packages.\n"
     ]
    }
   ],
   "source": [
    "%pip install qiskit[visualization] qiskit-ibm-runtime qiskit qiskit_aer\n",
    "# %pip install qiskit_aer-gpu"
   ]
  },
  {
   "cell_type": "markdown",
   "metadata": {
    "id": "TiWcxBn4_H1e",
    "tags": []
   },
   "source": [
    "### Libraries Importing\n"
   ]
  },
  {
   "cell_type": "code",
   "execution_count": 1,
   "metadata": {
    "id": "0pxiZGX7_YEB",
    "tags": []
   },
   "outputs": [],
   "source": [
    "from qiskit_ibm_runtime import QiskitRuntimeService\n",
    "from qiskit.visualization import plot_histogram\n",
    "from qiskit import QuantumCircuit, transpile\n",
    "from qiskit.circuit import Parameter\n",
    "from qiskit_aer import Aer \n",
    "from sympy import *\n",
    "import json, time\n",
    "\n",
    "simulation_time = time.time() # to cont\n",
    "\n",
    "# service = QiskitRuntimeService() # for real quantum computer\n",
    "\n",
    "backend = Aer.get_backend('qasm_simulator') # for simulator\n",
    "# backend = service.backend(\"ibm_osaka\") # for real quantum\n",
    "# backend = service.backend(\"simulator_mps\") # for ibm simulator\n",
    "\n",
    "init_printing()"
   ]
  },
  {
   "cell_type": "markdown",
   "metadata": {
    "id": "zxv0s00zWqGE"
   },
   "source": [
    "\n",
    "### Problem Definition"
   ]
  },
  {
   "cell_type": "code",
   "execution_count": 45,
   "metadata": {},
   "outputs": [],
   "source": [
    "conf = json.load(open(\"conf_6.json\",\"r\"))"
   ]
  },
  {
   "cell_type": "code",
   "execution_count": 67,
   "metadata": {},
   "outputs": [
    {
     "name": "stdout",
     "output_type": "stream",
     "text": [
      "Requried Qubits:  6\n"
     ]
    }
   ],
   "source": [
    "N = conf[\"N\"] # Number of Teachers\n",
    "M = conf[\"M\"] # Number of Classes\n",
    "H = conf[\"H\"] # Number of hours in week\n",
    "\n",
    "\n",
    "random_seed = conf[\"random_seed\"]\n",
    "shots = conf[\"shots\"] * 5\n",
    "# layers = conf[\"layers\"]\n",
    "layers = 5\n",
    "\n",
    "required_qubits = (M * N * H) + (M * H) + (N * H)\n",
    "iterations = 0\n",
    "\n",
    "print(\"Requried Qubits: \", required_qubits)"
   ]
  },
  {
   "cell_type": "code",
   "execution_count": 68,
   "metadata": {},
   "outputs": [],
   "source": [
    "# T_i is binary string denoting the available hours for each i Teacher\n",
    "# C_j is binary string denoting the available hours for each j Class\n",
    "\n",
    "T = conf[\"T\"]\n",
    "C = conf[\"C\"]\n",
    "\n",
    "R = conf[\"R\"] # R_ij must be either 0 or 1\n",
    "\n",
    "terms_count = 0\n",
    "equations = []"
   ]
  },
  {
   "cell_type": "markdown",
   "metadata": {
    "id": "a5uXmwzRZOnt"
   },
   "source": [
    "### Formulation"
   ]
  },
  {
   "cell_type": "markdown",
   "metadata": {
    "id": "JfexN02BYq1V"
   },
   "source": [
    "#### Equations"
   ]
  },
  {
   "cell_type": "code",
   "execution_count": 69,
   "metadata": {
    "colab": {
     "base_uri": "https://localhost:8080/",
     "height": 58
    },
    "id": "BPvEcLNQqJqw",
    "outputId": "49dfa7ca-3606-4b78-de91-741900c84563",
    "tags": []
   },
   "outputs": [
    {
     "data": {
      "image/png": "[encoded data removed]",
      "text/latex": [
       "$\\displaystyle \\left[ f_{111}^{2} + 2 f_{111} f_{112} - 2 f_{111} + f_{112}^{2} - 2 f_{112} + 1\\right]$"
      ],
      "text/plain": [
       "⎡    2                              2             ⎤\n",
       "⎣f₁₁₁  + 2⋅f₁₁₁⋅f₁₁₂ - 2⋅f₁₁₁ + f₁₁₂  - 2⋅f₁₁₂ + 1⎦"
      ]
     },
     "execution_count": 69,
     "metadata": {},
     "output_type": "execute_result"
    }
   ],
   "source": [
    "for i in range(1, N + 1):\n",
    "  for j in range(1, M + 1):\n",
    "    temp = total = 0\n",
    "    for h in range(1, H + 1):\n",
    "      temp += symbols(f\"f_{i}{j}{h}\")\n",
    "    total += (temp - R[i-1][j-1])**2\n",
    "    terms_count += len(total.expand().args)\n",
    "    equations.append(total.expand())\n",
    "equations"
   ]
  },
  {
   "cell_type": "code",
   "execution_count": 70,
   "metadata": {
    "colab": {
     "base_uri": "https://localhost:8080/",
     "height": 58
    },
    "id": "oPKg_g4v6tVw",
    "outputId": "e2b51ff0-262d-4355-edca-24dec691553f",
    "tags": []
   },
   "outputs": [
    {
     "data": {
      "image/png": "[encoded data removed]",
      "text/latex": [
       "$\\displaystyle \\left[ f_{111}^{2} + 2 f_{111} f_{112} - 2 f_{111} + f_{112}^{2} - 2 f_{112} + 1, \\  f_{111}^{2} + 2 f_{111} τ_{11} - 2 f_{111} + τ_{11}^{2} - 2 τ_{11} + 1, \\  f_{112}^{2} + 2 f_{112} τ_{12} - 2 f_{112} + τ_{12}^{2} - 2 τ_{12} + 1\\right]$"
      ],
      "text/plain": [
       "⎡    2                              2                   2                     \n",
       "⎣f₁₁₁  + 2⋅f₁₁₁⋅f₁₁₂ - 2⋅f₁₁₁ + f₁₁₂  - 2⋅f₁₁₂ + 1, f₁₁₁  + 2⋅f₁₁₁⋅τ₁₁ - 2⋅f₁₁\n",
       "\n",
       "       2                  2                            2            ⎤\n",
       "₁ + τ₁₁  - 2⋅τ₁₁ + 1, f₁₁₂  + 2⋅f₁₁₂⋅τ₁₂ - 2⋅f₁₁₂ + τ₁₂  - 2⋅τ₁₂ + 1⎦"
      ]
     },
     "execution_count": 70,
     "metadata": {},
     "output_type": "execute_result"
    }
   ],
   "source": [
    "for j in range(1, M + 1):\n",
    "  for h in range(1, H + 1):\n",
    "    temp = total = 0\n",
    "    for i in range(1, N + 1):\n",
    "      temp += symbols(f\"f_{i}{j}{h}\")\n",
    "    total += (temp + symbols(f\"τ_{j}{h}\") - 1)**2\n",
    "    terms_count += len(total.expand().args)\n",
    "    equations.append(total.expand())\n",
    "equations"
   ]
  },
  {
   "cell_type": "code",
   "execution_count": 71,
   "metadata": {
    "colab": {
     "base_uri": "https://localhost:8080/",
     "height": 58
    },
    "id": "JUcSh6AG87SG",
    "outputId": "710b580c-1d78-440c-a0f7-9878c752df25",
    "tags": []
   },
   "outputs": [
    {
     "data": {
      "image/png": "[encoded data removed]",
      "text/latex": [
       "$\\displaystyle \\left[ f_{111}^{2} + 2 f_{111} f_{112} - 2 f_{111} + f_{112}^{2} - 2 f_{112} + 1, \\  f_{111}^{2} + 2 f_{111} τ_{11} - 2 f_{111} + τ_{11}^{2} - 2 τ_{11} + 1, \\  f_{112}^{2} + 2 f_{112} τ_{12} - 2 f_{112} + τ_{12}^{2} - 2 τ_{12} + 1, \\  f_{111}^{2} + 2 f_{111} λ_{11} - 2 f_{111} + λ_{11}^{2} - 2 λ_{11} + 1, \\  f_{112}^{2} + 2 f_{112} λ_{12} - 2 f_{112} + λ_{12}^{2} - 2 λ_{12} + 1\\right]$"
      ],
      "text/plain": [
       "⎡    2                              2                   2                     \n",
       "⎣f₁₁₁  + 2⋅f₁₁₁⋅f₁₁₂ - 2⋅f₁₁₁ + f₁₁₂  - 2⋅f₁₁₂ + 1, f₁₁₁  + 2⋅f₁₁₁⋅τ₁₁ - 2⋅f₁₁\n",
       "\n",
       "       2                  2                            2                  2   \n",
       "₁ + τ₁₁  - 2⋅τ₁₁ + 1, f₁₁₂  + 2⋅f₁₁₂⋅τ₁₂ - 2⋅f₁₁₂ + τ₁₂  - 2⋅τ₁₂ + 1, f₁₁₁  + \n",
       "\n",
       "                         2                  2                            2    \n",
       "2⋅f₁₁₁⋅λ₁₁ - 2⋅f₁₁₁ + λ₁₁  - 2⋅λ₁₁ + 1, f₁₁₂  + 2⋅f₁₁₂⋅λ₁₂ - 2⋅f₁₁₂ + λ₁₂  - 2\n",
       "\n",
       "        ⎤\n",
       "⋅λ₁₂ + 1⎦"
      ]
     },
     "execution_count": 71,
     "metadata": {},
     "output_type": "execute_result"
    }
   ],
   "source": [
    "for i in range(1, N + 1):\n",
    "  for h in range(1, H + 1):\n",
    "    temp = total = 0\n",
    "    for j in range(1, M + 1):\n",
    "      temp += symbols(f\"f_{i}{j}{h}\")\n",
    "    total += (temp + symbols(f\"λ_{i}{h}\") - 1)**2\n",
    "    terms_count += len(total.expand().args)\n",
    "    equations.append(total.expand())\n",
    "equations"
   ]
  },
  {
   "cell_type": "code",
   "execution_count": 72,
   "metadata": {},
   "outputs": [
    {
     "data": {
      "image/png": "[encoded data removed]",
      "text/latex": [
       "$\\displaystyle 30$"
      ],
      "text/plain": [
       "30"
      ]
     },
     "execution_count": 72,
     "metadata": {},
     "output_type": "execute_result"
    }
   ],
   "source": [
    "terms_count"
   ]
  },
  {
   "cell_type": "markdown",
   "metadata": {
    "id": "aMB2NgsfY08I"
   },
   "source": [
    "#### Decodeing Equations"
   ]
  },
  {
   "cell_type": "code",
   "execution_count": 73,
   "metadata": {
    "id": "KeQvsRjux1yc",
    "tags": []
   },
   "outputs": [],
   "source": [
    "def args(equation):\n",
    "  return Add.make_args(equation)\n",
    "\n",
    "def prepare_equation(term):\n",
    "  theta = 1\n",
    "  terms = []\n",
    "  if type(term) == Mul:\n",
    "    for i in term.args:\n",
    "      if i.is_Integer:\n",
    "        theta = i\n",
    "      else:\n",
    "        terms.append(i)\n",
    "  else:\n",
    "    terms.append(term.args[0]) \n",
    "\n",
    "  return [theta, decode(terms)]\n",
    "\n",
    "def decode(terms):\n",
    "  output = []\n",
    "\n",
    "  for term in terms:\n",
    "\n",
    "    term = str(term)\n",
    "\n",
    "    if term.startswith(\"τ\"):\n",
    "      j = int(term[2])\n",
    "      h = int(term[3])\n",
    "      output.append((h-1) * M + (j - 1))\n",
    "\n",
    "\n",
    "    elif term.startswith(\"λ\"):\n",
    "      i = int(term[2])\n",
    "      h = int(term[3])\n",
    "      output.append((H * M) + ((h-1) * N + (i - 1)))\n",
    "\n",
    "    elif term.startswith(\"f\"):\n",
    "      i = int(term[2])\n",
    "      j = int(term[3])\n",
    "      h = int(term[4])\n",
    "      output.append((H * M) + (N * H) + ((i - 1) * H * M) + ((j - 1) * H) + (h - 1))\n",
    "\n",
    "  return output\n"
   ]
  },
  {
   "cell_type": "code",
   "execution_count": 74,
   "metadata": {
    "colab": {
     "base_uri": "https://localhost:8080/",
     "height": 57
    },
    "id": "USFt2OzmyFwh",
    "outputId": "1435fa8e-09cd-468c-baef-1e1f5680b678",
    "tags": []
   },
   "outputs": [
    {
     "data": {
      "image/png": "[encoded data removed]",
      "text/latex": [
       "$\\displaystyle \\left[ \\left[ \\left[ 1, \\  \\left[ 4\\right]\\right], \\  \\left[ 1, \\  \\left[ 5\\right]\\right], \\  \\left[ -2, \\  \\left[ 4\\right]\\right], \\  \\left[ -2, \\  \\left[ 5\\right]\\right], \\  \\left[ 2, \\  \\left[ 4, \\  5\\right]\\right]\\right], \\  \\left[ \\left[ 1, \\  \\left[ 4\\right]\\right], \\  \\left[ 1, \\  \\left[ 0\\right]\\right], \\  \\left[ -2, \\  \\left[ 4\\right]\\right], \\  \\left[ -2, \\  \\left[ 0\\right]\\right], \\  \\left[ 2, \\  \\left[ 4, \\  0\\right]\\right]\\right], \\  \\left[ \\left[ 1, \\  \\left[ 5\\right]\\right], \\  \\left[ 1, \\  \\left[ 1\\right]\\right], \\  \\left[ -2, \\  \\left[ 5\\right]\\right], \\  \\left[ -2, \\  \\left[ 1\\right]\\right], \\  \\left[ 2, \\  \\left[ 5, \\  1\\right]\\right]\\right], \\  \\left[ \\left[ 1, \\  \\left[ 4\\right]\\right], \\  \\left[ 1, \\  \\left[ 2\\right]\\right], \\  \\left[ -2, \\  \\left[ 4\\right]\\right], \\  \\left[ -2, \\  \\left[ 2\\right]\\right], \\  \\left[ 2, \\  \\left[ 4, \\  2\\right]\\right]\\right], \\  \\left[ \\left[ 1, \\  \\left[ 5\\right]\\right], \\  \\left[ 1, \\  \\left[ 3\\right]\\right], \\  \\left[ -2, \\  \\left[ 5\\right]\\right], \\  \\left[ -2, \\  \\left[ 3\\right]\\right], \\  \\left[ 2, \\  \\left[ 5, \\  3\\right]\\right]\\right]\\right]$"
      ],
      "text/plain": [
       "[[[1, [4]], [1, [5]], [-2, [4]], [-2, [5]], [2, [4, 5]]], [[1, [4]], [1, [0]],\n",
       " [-2, [4]], [-2, [0]], [2, [4, 0]]], [[1, [5]], [1, [1]], [-2, [5]], [-2, [1]]\n",
       ", [2, [5, 1]]], [[1, [4]], [1, [2]], [-2, [4]], [-2, [2]], [2, [4, 2]]], [[1, \n",
       "[5]], [1, [3]], [-2, [5]], [-2, [3]], [2, [5, 3]]]]"
      ]
     },
     "execution_count": 74,
     "metadata": {},
     "output_type": "execute_result"
    }
   ],
   "source": [
    "prepared_equations = []\n",
    "for equation in equations:\n",
    "  temp = []\n",
    "  for term in args(equation):\n",
    "    if len(term.args) != 0:\n",
    "      temp.append(prepare_equation(term))\n",
    "  prepared_equations.append(temp)\n",
    "\n",
    "prepared_equations"
   ]
  },
  {
   "cell_type": "markdown",
   "metadata": {
    "id": "6lncBvjzZEak"
   },
   "source": [
    "### Implementation"
   ]
  },
  {
   "cell_type": "markdown",
   "metadata": {
    "id": "RtWVrhgDXsXm"
   },
   "source": [
    "#### Objective Function"
   ]
  },
  {
   "cell_type": "code",
   "execution_count": 75,
   "metadata": {
    "id": "l8g6Vl_c2K-c",
    "tags": []
   },
   "outputs": [],
   "source": [
    "def f(i, j, h):\n",
    "  return int(T[i-1][h-1] == C[j-1][h-1] == '1')\n",
    "\n",
    "def tau_value(bit_string, j, h):\n",
    "  return int(bit_string[(h-1) * M + (j - 1)])\n",
    "\n",
    "def lambda_value(bit_string, i, h):\n",
    "  return int(bit_string[(H * M) + ((h-1) * N + (i - 1))])\n",
    "\n",
    "def f_value(bit_string, i, j, h):\n",
    "  return int(bit_string[(H * M) + (N * H) + ((i - 1) * H * M) + ((j - 1) * H) + (h - 1)])\n"
   ]
  },
  {
   "cell_type": "code",
   "execution_count": 76,
   "metadata": {
    "id": "_rqg3jtnQkXU"
   },
   "outputs": [],
   "source": [
    "def objective(bit_string):\n",
    "  bit_string = bit_string[::-1] # since qiskit represent solution in least significant bit format \n",
    "  cost = 0\n",
    "  a = b = c = d = 0\n",
    "  # equation a\n",
    "  for i in range(1, N + 1):\n",
    "    for j in range(1, M + 1):\n",
    "      for h in range(1, H + 1):\n",
    "        if f(i, j, h) != f_value(bit_string, i, j, h):\n",
    "          cost += 1\n",
    "          a += 1\n",
    "\n",
    "  # equation b\n",
    "  for i in range(1, N + 1):\n",
    "    for j in range(1, M + 1):\n",
    "      temp = 0\n",
    "      for h in range(1, H + 1):\n",
    "        temp += f_value(bit_string, i, j, h)\n",
    "      cost += (temp - R[i-1][j-1])**2\n",
    "      b += (temp - R[i-1][j-1])**2\n",
    "\n",
    "  # equation c\n",
    "  for j in range(1, M + 1):\n",
    "    for h in range(1, H + 1):\n",
    "      temp = 0\n",
    "      for i in range(1, N + 1):\n",
    "        temp += f_value(bit_string, i, j, h)\n",
    "      cost += (temp + tau_value(bit_string, j, h) - 1)**2\n",
    "      c += (temp + tau_value(bit_string, j, h) - 1)**2\n",
    "\n",
    "  # equation d\n",
    "  for i in range(1, N + 1):\n",
    "    for h in range(1, H + 1):\n",
    "      temp = 0\n",
    "      for j in range(1, M + 1):\n",
    "        temp += f_value(bit_string, i, j, h)\n",
    "      cost += (temp + lambda_value(bit_string, i, h) - 1)**2\n",
    "      d += (temp + lambda_value(bit_string, i, h) - 1)**2\n",
    "\n",
    "  return [cost, a, b, c, d]"
   ]
  },
  {
   "cell_type": "code",
   "execution_count": 77,
   "metadata": {},
   "outputs": [
    {
     "data": {
      "image/png": "[encoded data removed]",
      "text/latex": [
       "$\\displaystyle \\left[ 0, \\  0, \\  0, \\  0, \\  0\\right]$"
      ],
      "text/plain": [
       "[0, 0, 0, 0, 0]"
      ]
     },
     "execution_count": 77,
     "metadata": {},
     "output_type": "execute_result"
    }
   ],
   "source": [
    "temp = [\"0\"] * required_qubits\n",
    "\n",
    "for i in range(1, N + 1):\n",
    "    for j in range(1, M + 1):\n",
    "        for h in range(1, H + 1):\n",
    "            temp[(H * M) + (N * H) + ((i - 1) * H * M) + ((j - 1) * H) + (h - 1)] = str(f(i, j, h))  \n",
    "\n",
    "# equation c\n",
    "for j in range(1, M + 1):\n",
    "    for h in range(1, H + 1):\n",
    "        for i in range(1, N + 1):\n",
    "            if f(i, j, h) == 0:\n",
    "                temp[(h-1) * M + (j - 1)] = \"1\"\n",
    "\n",
    "# equation d\n",
    "for i in range(1, N + 1):\n",
    "    for h in range(1, H + 1):\n",
    "        for j in range(1, M + 1):\n",
    "            if f(i, j, h) == 0:\n",
    "                temp[(H * M) + ((h-1) * N + (i - 1))] = \"1\"\n",
    "\n",
    "initial_solution = \"\".join(temp)\n",
    "objective(initial_solution[::-1])"
   ]
  },
  {
   "cell_type": "markdown",
   "metadata": {
    "id": "WnyoHLcIX4q3"
   },
   "source": [
    "#### Circuit"
   ]
  },
  {
   "cell_type": "code",
   "execution_count": 78,
   "metadata": {},
   "outputs": [
    {
     "data": {
      "image/png": "[encoded data removed]",
      "text/plain": [
       "<Figure size 1876.11x535.111 with 1 Axes>"
      ]
     },
     "execution_count": 78,
     "metadata": {},
     "output_type": "execute_result"
    }
   ],
   "source": [
    "# qc = QuantumCircuit(required_qubits)\n",
    "\n",
    "# for i in range((M*H) + (N * H),required_qubits):\n",
    "#     qc.h(i)\n",
    "\n",
    "# for equation in prepared_equations:\n",
    "#   for term in equation:\n",
    "#     theta = int(term[0])\n",
    "#     locations = term[1]\n",
    "#     if len(locations) == 1: # i.e. trivial term\n",
    "#         qc.rz(theta, locations[0])\n",
    "#     elif len(locations) == 2:\n",
    "#         qc.rz(theta, locations[0])\n",
    "#         qc.rz(theta, locations[1]) \n",
    "#         qc.rzz(theta, locations[0], locations[1])\n",
    "\n",
    "# for qubit in range(required_qubits - 1):\n",
    "#     qc.rx(2  , qubit)\n",
    "\n",
    "# qc.draw(\"mpl\")\n"
   ]
  },
  {
   "cell_type": "code",
   "execution_count": 79,
   "metadata": {
    "id": "HKUaUyw4X3oN"
   },
   "outputs": [],
   "source": [
    "def layers_gen(p, initial_value = 1.0):\n",
    "  return [initial_value] * p * 2\n",
    "\n",
    "def create_qaoa_circ(theta):\n",
    "    n_layers = len(theta)//2\n",
    "\n",
    "    alpha = theta[n_layers:]\n",
    "    gamma = theta[:n_layers]\n",
    "\n",
    "    qc = QuantumCircuit(required_qubits)\n",
    "\n",
    "    for i in range(required_qubits): # \n",
    "      qc.h(i)\n",
    "      # if initial_solution[i]==\"1\":\n",
    "      #   qc.x(i)\n",
    "\n",
    "    for layer_index in range(n_layers):\n",
    "        # print(f\"alpha{layer_index}\", alpha[layer_index])\n",
    "        # print(f\"gamma{layer_index}\", gamma[layer_index])\n",
    "        for equation in prepared_equations:\n",
    "          for term in equation:\n",
    "            theta = int(term[0])\n",
    "            locations = term[1]\n",
    "            if len(locations) == 1: # i.e. trivial term\n",
    "                qc.rz(theta * 0.5 * alpha[layer_index], locations[0])\n",
    "\n",
    "            elif len(locations) == 2:\n",
    "                qc.rz(theta * -0.25 * alpha[layer_index], locations[0]) # -1/4 * z1 = -1/4 * z1\n",
    "                qc.rz(theta * -0.25 * alpha[layer_index], locations[1]) # -1/4 * z2 = -1/4 * z2\n",
    "                qc.rzz(theta * 0.25 * alpha[layer_index], locations[0], locations[1]) # -1/4 * -z1z2 = 1/4 * z1z2\n",
    "\n",
    "        for qubit in range(required_qubits - 1):\n",
    "            qc.rx(2 * gamma[layer_index] , qubit)\n",
    "\n",
    "    qc.measure_all()\n",
    "    \n",
    "    return qc"
   ]
  },
  {
   "cell_type": "code",
   "execution_count": 80,
   "metadata": {},
   "outputs": [],
   "source": [
    "total = [0] * 5\n",
    "def compute_expectation(counts):\n",
    "    avg = 0\n",
    "    sum_count = 0\n",
    "    for bit_string, count in counts.items():\n",
    "        obj,a,b,c,d = objective(bit_string)\n",
    "        total[0] += a\n",
    "        total[1] += b\n",
    "        total[2] += c\n",
    "        total[3] += d\n",
    "        avg += obj * count\n",
    "        sum_count += count\n",
    "\n",
    "\n",
    "    return avg/sum_count\n",
    "\n",
    "def get_expectation():\n",
    "\n",
    "    def execute_circ(theta):\n",
    "        global iterations\n",
    "        qc = create_qaoa_circ(theta)\n",
    "        tc = transpile(qc,backend,optimization_level=3,seed_transpiler=random_seed)\n",
    "        counts = backend.run(tc, seed_simulator=random_seed, shots=shots).result().get_counts()\n",
    "        print(compute_expectation(counts))\n",
    "        iterations += 1\n",
    "        return compute_expectation(counts)\n",
    "\n",
    "    return execute_circ"
   ]
  },
  {
   "cell_type": "code",
   "execution_count": 81,
   "metadata": {
    "colab": {
     "base_uri": "https://localhost:8080/"
    },
    "id": "MCSSZrIQLN5j",
    "outputId": "f389b5bf-5cf6-43c6-e77d-c22956d225bd",
    "scrolled": true,
    "tags": []
   },
   "outputs": [
    {
     "name": "stdout",
     "output_type": "stream",
     "text": [
      "2.767578125\n",
      "3.6529296875\n",
      "3.4349609375\n",
      "3.6236328125\n",
      "3.3990234375\n",
      "4.1169921875\n",
      "3.0837890625\n",
      "2.8509765625\n",
      "3.68046875\n",
      "2.894921875\n",
      "4.0697265625\n",
      "4.375390625\n",
      "3.2455078125\n",
      "3.03203125\n",
      "2.644140625\n",
      "2.8828125\n",
      "2.451171875\n",
      "2.321875\n",
      "2.3181640625\n",
      "2.301953125\n",
      "2.1234375\n",
      "2.1068359375\n",
      "2.267578125\n",
      "2.3326171875\n",
      "2.236328125\n",
      "2.3431640625\n",
      "2.2908203125\n",
      "2.0720703125\n",
      "2.239453125\n",
      "2.2099609375\n",
      "2.188671875\n",
      "2.217578125\n",
      "2.044140625\n",
      "2.040625\n",
      "2.0134765625\n",
      "2.0646484375\n",
      "2.0638671875\n",
      "2.05078125\n",
      "1.9806640625\n",
      "1.9921875\n",
      "2.1291015625\n",
      "1.9298828125\n",
      "1.9142578125\n",
      "1.9185546875\n",
      "1.958203125\n",
      "1.965625\n",
      "1.93046875\n",
      "1.9115234375\n",
      "1.9578125\n",
      "1.9203125\n",
      "1.931640625\n",
      "1.9072265625\n",
      "1.953515625\n",
      "1.9158203125\n",
      "1.89609375\n",
      "1.9265625\n",
      "1.8802734375\n",
      "1.8982421875\n",
      "1.8876953125\n",
      "1.88203125\n",
      "1.8888671875\n",
      "1.878125\n",
      "1.8943359375\n",
      "1.8806640625\n",
      "1.891015625\n",
      "1.88359375\n",
      "1.8953125\n",
      "1.881640625\n",
      "1.8806640625\n",
      "1.8822265625\n",
      "1.887109375\n",
      "1.8849609375\n",
      "1.88125\n",
      "1.884765625\n",
      "1.8802734375\n",
      "1.887109375\n",
      "1.8828125\n",
      "1.879296875\n",
      "1.877734375\n",
      "1.877734375\n",
      "1.8802734375\n",
      "1.8802734375\n",
      "1.8818359375\n",
      "1.8806640625\n",
      "1.8806640625\n",
      "1.8794921875\n",
      "1.878125\n",
      "1.879296875\n",
      "1.87890625\n",
      "1.8810546875\n",
      "1.8779296875\n",
      "1.8779296875\n",
      "1.87734375\n",
      "1.8791015625\n",
      "1.8791015625\n",
      "1.8771484375\n",
      "1.8775390625\n",
      "1.8771484375\n",
      "1.8806640625\n",
      "1.876953125\n",
      "1.878125\n",
      "1.8775390625\n",
      "1.8783203125\n",
      "1.8767578125\n",
      "1.87890625\n",
      "1.8767578125\n",
      "1.88046875\n",
      "1.876953125\n",
      "1.8783203125\n",
      "1.876953125\n",
      "1.877734375\n",
      "1.876953125\n",
      "1.876953125\n",
      "1.8767578125\n",
      "1.87734375\n",
      "1.8767578125\n",
      "1.876953125\n",
      "1.8767578125\n",
      "1.87734375\n",
      "1.8767578125\n",
      "1.876953125\n",
      "1.8767578125\n",
      "1.876953125\n",
      "1.87734375\n"
     ]
    },
    {
     "data": {
      "text/plain": [
       " message: Optimization terminated successfully.\n",
       " success: True\n",
       "  status: 1\n",
       "     fun: 1.87734375\n",
       "       x: [ 6.780e-01  1.193e+00  5.754e-01  1.549e+00  1.047e+00\n",
       "            1.027e+00  1.045e+00  1.021e+00  1.059e+00  1.037e+00]\n",
       "    nfev: 124\n",
       "   maxcv: 0.0"
      ]
     },
     "execution_count": 81,
     "metadata": {},
     "output_type": "execute_result"
    }
   ],
   "source": [
    "from scipy.optimize import minimize,differential_evolution\n",
    "expectation = get_expectation()\n",
    "start_time = time.time()\n",
    "res = minimize(expectation, layers_gen(layers), method='COBYLA') \n",
    "minimization_time = time.time() - start_time\n",
    "\n",
    "res"
   ]
  },
  {
   "cell_type": "code",
   "execution_count": 82,
   "metadata": {},
   "outputs": [
    {
     "name": "stdout",
     "output_type": "stream",
     "text": [
      "a: 13638\n",
      "b: 6902\n",
      "c: 13480\n",
      "d: 13622\n"
     ]
    }
   ],
   "source": [
    "print(\"a:\",total[0])\n",
    "print(\"b:\",total[1])\n",
    "print(\"c:\",total[2])\n",
    "print(\"d:\",total[3])"
   ]
  },
  {
   "cell_type": "markdown",
   "metadata": {
    "id": "l7b5F8DsLbbj"
   },
   "source": [
    "### Results"
   ]
  },
  {
   "cell_type": "code",
   "execution_count": 88,
   "metadata": {
    "id": "FKDf4o0LLN5j",
    "tags": []
   },
   "outputs": [
    {
     "name": "stdout",
     "output_type": "stream",
     "text": [
      "54\n",
      "-----------------\n",
      "BINGO\n",
      "011010\n",
      "485\n",
      "-----------------\n",
      "Solution 110000 cost: 2 count 1151\n",
      "Solution 100101 cost: 2 count 651\n",
      "Solution 010000 cost: 2 count 506\n",
      "Solution 010010 cost: 1 count 495\n",
      "Solution 011000 cost: 1 count 489\n",
      "Solution 011010 cost: 0 count 485\n",
      "Solution 111000 cost: 3 count 176\n",
      "Solution 110010 cost: 3 count 174\n",
      "Solution 101101 cost: 3 count 110\n",
      "Solution 001101 cost: 3 count 97\n"
     ]
    },
    {
     "data": {
      "image/png": "[encoded data removed]",
      "text/plain": [
       "<Figure size 700x500 with 1 Axes>"
      ]
     },
     "execution_count": 88,
     "metadata": {},
     "output_type": "execute_result"
    }
   ],
   "source": [
    "from qiskit.visualization import plot_histogram\n",
    "\n",
    "qc_res = create_qaoa_circ(res.x)\n",
    "counts = backend.run(qc_res, seed_simulator=random_seed, shots=shots).result().get_counts()\n",
    "\n",
    "\n",
    "counts = dict(sorted(counts.items(), key=lambda item: item[1],reverse=True))\n",
    "counts_cost = dict(sorted(counts.items(), key=lambda item: item[1],reverse=True))\n",
    "\n",
    "values = list(counts.values())\n",
    "binary = list(counts.keys())\n",
    "\n",
    "output = {}\n",
    "\n",
    "print(len(counts))\n",
    "\n",
    "for key in binary:\n",
    "  if objective(key)[0] == 0:\n",
    "    print(\"-----------------\")\n",
    "    print(\"BINGO\")\n",
    "    print(key)\n",
    "    print(counts[key])\n",
    "    print(\"-----------------\")\n",
    "\n",
    "for key in binary[:10]:\n",
    "    print(\"Solution\",key ,\"cost:\",objective(key)[0],\"count\", counts[key])\n",
    "    output[key] = counts[key]\n",
    "\n",
    "plot_histogram(output)"
   ]
  },
  {
   "cell_type": "code",
   "execution_count": 84,
   "metadata": {},
   "outputs": [
    {
     "name": "stdout",
     "output_type": "stream",
     "text": [
      "Solution 011010 cost: 0 count 485\n"
     ]
    }
   ],
   "source": [
    "sol = required_qubits\n",
    "sol_bin = \"\"\n",
    "\n",
    "for i in counts:\n",
    "  ob = objective(i)[0]\n",
    "  if ob < sol:\n",
    "    sol = ob\n",
    "    sol_bin = i\n",
    "\n",
    "counts[\"H\"] = H\n",
    "counts[\"M\"] = M\n",
    "counts[\"N\"] = N\n",
    "counts[\"shots\"] = shots\n",
    "counts[\"layers\"] = layers\n",
    "counts[\"solution\"] = sol_bin\n",
    "counts[\"solution_cost\"] = sol\n",
    "counts[\"solution_count\"] = counts[sol_bin]\n",
    "counts[\"minimization_time\"] = minimization_time\n",
    "counts[\"execution_time\"] = time.time() - simulation_time\n",
    "counts[\"iterations\"] = iterations \n",
    "\n",
    "print(\"Solution\",sol_bin ,\"cost:\",sol,\"count\", counts[sol_bin])"
   ]
  },
  {
   "cell_type": "code",
   "execution_count": 85,
   "metadata": {},
   "outputs": [],
   "source": [
    "file = open(f\"./json/{H}_{M}_{N}_{shots}_{layers}_{time.time_ns()}.json\", \"w\")\n",
    "file.write(json.dumps(counts))\n",
    "file.flush()"
   ]
  },
  {
   "cell_type": "code",
   "execution_count": 86,
   "metadata": {},
   "outputs": [
    {
     "data": {
      "image/png": "[encoded data removed]",
      "text/latex": [
       "$\\displaystyle 567.949161291122$"
      ],
      "text/plain": [
       "567.9491612911224"
      ]
     },
     "execution_count": 86,
     "metadata": {},
     "output_type": "execute_result"
    }
   ],
   "source": [
    "counts[\"execution_time\"]"
   ]
  },
  {
   "cell_type": "code",
   "execution_count": 87,
   "metadata": {},
   "outputs": [
    {
     "data": {
      "image/png": "[encoded data removed]",
      "text/latex": [
       "$\\displaystyle 18.3325719833374$"
      ],
      "text/plain": [
       "18.332571983337402"
      ]
     },
     "execution_count": 87,
     "metadata": {},
     "output_type": "execute_result"
    }
   ],
   "source": [
    "minimization_time"
   ]
  }
 ],
 "metadata": {
  "colab": {
   "collapsed_sections": [
    "alCyWOxAWcdV",
    "TiWcxBn4_H1e"
   ],
   "provenance": []
  },
  "kernelspec": {
   "display_name": "Python 3 (ipykernel)",
   "language": "python",
   "name": "python3"
  },
  "language_info": {
   "codemirror_mode": {
    "name": "ipython",
    "version": 3
   },
   "file_extension": ".py",
   "mimetype": "text/x-python",
   "name": "python",
   "nbconvert_exporter": "python",
   "pygments_lexer": "ipython3",
   "version": "3.12.3"
  }
 },
 "nbformat": 4,
 "nbformat_minor": 4
}
