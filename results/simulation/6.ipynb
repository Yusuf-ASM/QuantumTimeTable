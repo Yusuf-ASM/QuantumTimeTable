{
 "cells": [
  {
   "cell_type": "markdown",
   "metadata": {
    "id": "alCyWOxAWcdV",
    "jp-MarkdownHeadingCollapsed": true,
    "tags": []
   },
   "source": [
    "### Installing Qiskit"
   ]
  },
  {
   "cell_type": "markdown",
   "metadata": {},
   "source": [
    "#### Normal installation"
   ]
  },
  {
   "cell_type": "code",
   "execution_count": 57,
   "metadata": {
    "colab": {
     "base_uri": "https://localhost:8080/"
    },
    "id": "HE2WwMMhVL8p",
    "outputId": "73f03985-1eca-4c27-c073-1a5cb9948d80",
    "tags": []
   },
   "outputs": [
    {
     "name": "stdout",
     "output_type": "stream",
     "text": [
      "Defaulting to user installation because normal site-packages is not writeable\n",
      "Requirement already satisfied: qiskit-ibm-runtime in /home/yusuf/.local/lib/python3.12/site-packages (0.23.0)\n",
      "Requirement already satisfied: qiskit in /home/yusuf/.local/lib/python3.12/site-packages (1.0.2)\n",
      "Requirement already satisfied: qiskit_aer in /home/yusuf/.local/lib/python3.12/site-packages (0.14.2)\n",
      "Requirement already satisfied: python-dotenv in /home/yusuf/.local/lib/python3.12/site-packages (1.0.1)\n",
      "Requirement already satisfied: rustworkx>=0.14.0 in /home/yusuf/.local/lib/python3.12/site-packages (from qiskit[visualization]) (0.14.2)\n",
      "Requirement already satisfied: numpy<2,>=1.17 in /home/yusuf/.local/lib/python3.12/site-packages (from qiskit[visualization]) (1.26.4)\n",
      "Requirement already satisfied: scipy>=1.5 in /home/yusuf/.local/lib/python3.12/site-packages (from qiskit[visualization]) (1.14.0)\n",
      "Requirement already satisfied: sympy>=1.3 in /home/yusuf/.local/lib/python3.12/site-packages (from qiskit[visualization]) (1.12)\n",
      "Requirement already satisfied: dill>=0.3 in /home/yusuf/.local/lib/python3.12/site-packages (from qiskit[visualization]) (0.3.8)\n",
      "Requirement already satisfied: python-dateutil>=2.8.0 in /usr/lib/python3.12/site-packages (from qiskit[visualization]) (2.8.2)\n",
      "Requirement already satisfied: stevedore>=3.0.0 in /home/yusuf/.local/lib/python3.12/site-packages (from qiskit[visualization]) (5.2.0)\n",
      "Requirement already satisfied: typing-extensions in /home/yusuf/.local/lib/python3.12/site-packages (from qiskit[visualization]) (4.11.0)\n",
      "Requirement already satisfied: symengine>=0.11 in /home/yusuf/.local/lib/python3.12/site-packages (from qiskit[visualization]) (0.11.0)\n",
      "Requirement already satisfied: matplotlib>=3.3 in /home/yusuf/.local/lib/python3.12/site-packages (from qiskit[visualization]) (3.8.4)\n",
      "Requirement already satisfied: pydot in /home/yusuf/.local/lib/python3.12/site-packages (from qiskit[visualization]) (2.0.0)\n",
      "Requirement already satisfied: Pillow>=4.2.1 in /usr/lib64/python3.12/site-packages (from qiskit[visualization]) (10.3.0)\n",
      "Requirement already satisfied: pylatexenc>=1.4 in /home/yusuf/.local/lib/python3.12/site-packages (from qiskit[visualization]) (2.10)\n",
      "Requirement already satisfied: seaborn>=0.9.0 in /home/yusuf/.local/lib/python3.12/site-packages (from qiskit[visualization]) (0.13.2)\n",
      "Requirement already satisfied: requests>=2.19 in /home/yusuf/.local/lib/python3.12/site-packages (from qiskit-ibm-runtime) (2.31.0)\n",
      "Requirement already satisfied: requests-ntlm>=1.1.0 in /home/yusuf/.local/lib/python3.12/site-packages (from qiskit-ibm-runtime) (1.2.0)\n",
      "Requirement already satisfied: urllib3>=1.21.1 in /home/yusuf/.local/lib/python3.12/site-packages (from qiskit-ibm-runtime) (2.2.1)\n",
      "Requirement already satisfied: websocket-client>=1.5.1 in /home/yusuf/.local/lib/python3.12/site-packages (from qiskit-ibm-runtime) (1.7.0)\n",
      "Requirement already satisfied: ibm-platform-services>=0.22.6 in /home/yusuf/.local/lib/python3.12/site-packages (from qiskit-ibm-runtime) (0.53.4)\n",
      "Requirement already satisfied: pydantic in /home/yusuf/.local/lib/python3.12/site-packages (from qiskit-ibm-runtime) (2.7.0)\n",
      "Requirement already satisfied: psutil>=5 in /home/yusuf/.local/lib/python3.12/site-packages (from qiskit_aer) (5.9.8)\n",
      "Requirement already satisfied: ibm-cloud-sdk-core<4.0.0,>=3.19.2 in /home/yusuf/.local/lib/python3.12/site-packages (from ibm-platform-services>=0.22.6->qiskit-ibm-runtime) (3.20.0)\n",
      "Requirement already satisfied: contourpy>=1.0.1 in /home/yusuf/.local/lib/python3.12/site-packages (from matplotlib>=3.3->qiskit[visualization]) (1.2.1)\n",
      "Requirement already satisfied: cycler>=0.10 in /home/yusuf/.local/lib/python3.12/site-packages (from matplotlib>=3.3->qiskit[visualization]) (0.12.1)\n",
      "Requirement already satisfied: fonttools>=4.22.0 in /home/yusuf/.local/lib/python3.12/site-packages (from matplotlib>=3.3->qiskit[visualization]) (4.51.0)\n",
      "Requirement already satisfied: kiwisolver>=1.3.1 in /home/yusuf/.local/lib/python3.12/site-packages (from matplotlib>=3.3->qiskit[visualization]) (1.4.5)\n",
      "Requirement already satisfied: packaging>=20.0 in /usr/lib/python3.12/site-packages (from matplotlib>=3.3->qiskit[visualization]) (23.2)\n",
      "Requirement already satisfied: pyparsing>=2.3.1 in /usr/lib/python3.12/site-packages (from matplotlib>=3.3->qiskit[visualization]) (3.1.2)\n",
      "Requirement already satisfied: six>=1.5 in /usr/lib/python3.12/site-packages (from python-dateutil>=2.8.0->qiskit[visualization]) (1.16.0)\n",
      "Requirement already satisfied: charset-normalizer<4,>=2 in /usr/lib/python3.12/site-packages (from requests>=2.19->qiskit-ibm-runtime) (3.3.2)\n",
      "Requirement already satisfied: idna<4,>=2.5 in /usr/lib/python3.12/site-packages (from requests>=2.19->qiskit-ibm-runtime) (3.7)\n",
      "Requirement already satisfied: certifi>=2017.4.17 in /usr/lib/python3.12/site-packages (from requests>=2.19->qiskit-ibm-runtime) (2023.5.7)\n",
      "Requirement already satisfied: cryptography>=1.3 in /usr/lib64/python3.12/site-packages (from requests-ntlm>=1.1.0->qiskit-ibm-runtime) (41.0.7)\n",
      "Requirement already satisfied: pyspnego>=0.1.6 in /home/yusuf/.local/lib/python3.12/site-packages (from requests-ntlm>=1.1.0->qiskit-ibm-runtime) (0.10.2)\n",
      "Requirement already satisfied: pandas>=1.2 in /home/yusuf/.local/lib/python3.12/site-packages (from seaborn>=0.9.0->qiskit[visualization]) (2.2.2)\n",
      "Requirement already satisfied: pbr!=2.1.0,>=2.0.0 in /home/yusuf/.local/lib/python3.12/site-packages (from stevedore>=3.0.0->qiskit[visualization]) (6.0.0)\n",
      "Requirement already satisfied: mpmath>=0.19 in /home/yusuf/.local/lib/python3.12/site-packages (from sympy>=1.3->qiskit[visualization]) (1.3.0)\n",
      "Requirement already satisfied: annotated-types>=0.4.0 in /home/yusuf/.local/lib/python3.12/site-packages (from pydantic->qiskit-ibm-runtime) (0.6.0)\n",
      "Requirement already satisfied: pydantic-core==2.18.1 in /home/yusuf/.local/lib/python3.12/site-packages (from pydantic->qiskit-ibm-runtime) (2.18.1)\n",
      "Requirement already satisfied: cffi>=1.12 in /usr/lib64/python3.12/site-packages (from cryptography>=1.3->requests-ntlm>=1.1.0->qiskit-ibm-runtime) (1.16.0)\n",
      "Requirement already satisfied: PyJWT<3.0.0,>=2.8.0 in /home/yusuf/.local/lib/python3.12/site-packages (from ibm-cloud-sdk-core<4.0.0,>=3.19.2->ibm-platform-services>=0.22.6->qiskit-ibm-runtime) (2.8.0)\n",
      "Requirement already satisfied: pytz>=2020.1 in /usr/lib/python3.12/site-packages (from pandas>=1.2->seaborn>=0.9.0->qiskit[visualization]) (2024.1)\n",
      "Requirement already satisfied: tzdata>=2022.7 in /home/yusuf/.local/lib/python3.12/site-packages (from pandas>=1.2->seaborn>=0.9.0->qiskit[visualization]) (2024.1)\n",
      "Requirement already satisfied: pycparser in /usr/lib/python3.12/site-packages (from cffi>=1.12->cryptography>=1.3->requests-ntlm>=1.1.0->qiskit-ibm-runtime) (2.20)\n",
      "Requirement already satisfied: ply==3.11 in /usr/lib/python3.12/site-packages (from pycparser->cffi>=1.12->cryptography>=1.3->requests-ntlm>=1.1.0->qiskit-ibm-runtime) (3.11)\n",
      "Note: you may need to restart the kernel to use updated packages.\n"
     ]
    }
   ],
   "source": [
    "%pip install qiskit[visualization] qiskit-ibm-runtime qiskit qiskit_aer python-dotenv"
   ]
  },
  {
   "cell_type": "markdown",
   "metadata": {},
   "source": [
    "#### GPU installation"
   ]
  },
  {
   "cell_type": "code",
   "execution_count": 58,
   "metadata": {},
   "outputs": [],
   "source": [
    "# %pip install qiskit[visualization] qiskit-ibm-runtime qiskit qiskit_aer-gpu python-dotenv"
   ]
  },
  {
   "cell_type": "markdown",
   "metadata": {
    "id": "TiWcxBn4_H1e",
    "tags": []
   },
   "source": [
    "### Libraries Importing\n"
   ]
  },
  {
   "cell_type": "code",
   "execution_count": 268,
   "metadata": {
    "id": "0pxiZGX7_YEB",
    "tags": []
   },
   "outputs": [],
   "source": [
    "from qiskit_ibm_runtime import QiskitRuntimeService\n",
    "from qiskit.visualization import plot_histogram\n",
    "from qiskit import QuantumCircuit, transpile\n",
    "from qiskit_aer import AerSimulator\n",
    "from dotenv import load_dotenv\n",
    "from sympy import *\n",
    "import json\n",
    "import time\n",
    "import os\n",
    "import itertools\n",
    "\n",
    "load_dotenv()\n",
    "init_printing()\n",
    "simulation_time = time.time()  # to calculate simulation time"
   ]
  },
  {
   "cell_type": "code",
   "execution_count": 269,
   "metadata": {},
   "outputs": [
    {
     "name": "stdout",
     "output_type": "stream",
     "text": [
      "('CPU',)\n"
     ]
    }
   ],
   "source": [
    "backend = AerSimulator(method=\"statevector\")\n",
    "print(backend.available_devices())"
   ]
  },
  {
   "cell_type": "markdown",
   "metadata": {},
   "source": [
    "#### Use GPU"
   ]
  },
  {
   "cell_type": "code",
   "execution_count": 270,
   "metadata": {},
   "outputs": [],
   "source": [
    "# backend.set_options(device=\"GPU\")"
   ]
  },
  {
   "cell_type": "markdown",
   "metadata": {},
   "source": [
    "#### Use real quantum"
   ]
  },
  {
   "cell_type": "code",
   "execution_count": 271,
   "metadata": {},
   "outputs": [],
   "source": [
    "# services = []\n",
    "\n",
    "# for i in range(1, 6):\n",
    "#     services.append(QiskitRuntimeService(\n",
    "#         channel=\"ibm_quantum\", token=os.getenv(f\"TOKEN{i}\")))\n",
    "\n",
    "# # backend = service.backend(\"ibm_osaka\") # for real quantum\n",
    "# # backend = service.backend(\"ibm_kyoto\") # for real quantum"
   ]
  },
  {
   "cell_type": "markdown",
   "metadata": {
    "id": "zxv0s00zWqGE"
   },
   "source": [
    "\n",
    "### Problem Definition"
   ]
  },
  {
   "cell_type": "code",
   "execution_count": 272,
   "metadata": {},
   "outputs": [],
   "source": [
    "conf = json.load(open(\"../conf_16.json\", \"r\"))"
   ]
  },
  {
   "cell_type": "code",
   "execution_count": 443,
   "metadata": {},
   "outputs": [
    {
     "name": "stdout",
     "output_type": "stream",
     "text": [
      "Requried Qubits:  8\n"
     ]
    }
   ],
   "source": [
    "N = conf[\"N\"]  # Number of Teachers\n",
    "M = conf[\"M\"]  # Number of Classes\n",
    "H = conf[\"H\"]  # Number of hours in week\n",
    "\n",
    "# required_qubits = (M * N * H) + (M * H) + (N * H)\n",
    "required_qubits = (N * H * M)\n",
    "iterations = 0\n",
    "\n",
    "random_seed = conf[\"random_seed\"]\n",
    "shots = 10_000\n",
    "layers = 11\n",
    "\n",
    "print(\"Requried Qubits: \", required_qubits)"
   ]
  },
  {
   "cell_type": "code",
   "execution_count": 444,
   "metadata": {},
   "outputs": [],
   "source": [
    "# T_i is binary string denoting the available hours for each i Teacher\n",
    "# C_j is binary string denoting the available hours for each j Class\n",
    "\n",
    "T = conf[\"T\"]\n",
    "C = conf[\"C\"]\n",
    "\n",
    "R = conf[\"R\"]  # R_ij must be either 0 or 1\n",
    "\n",
    "terms_count = 0\n",
    "equations = []"
   ]
  },
  {
   "cell_type": "markdown",
   "metadata": {
    "id": "a5uXmwzRZOnt"
   },
   "source": [
    "### Formulation"
   ]
  },
  {
   "cell_type": "markdown",
   "metadata": {
    "id": "JfexN02BYq1V"
   },
   "source": [
    "#### Equations"
   ]
  },
  {
   "cell_type": "code",
   "execution_count": 445,
   "metadata": {
    "colab": {
     "base_uri": "https://localhost:8080/",
     "height": 58
    },
    "id": "BPvEcLNQqJqw",
    "outputId": "49dfa7ca-3606-4b78-de91-741900c84563",
    "tags": []
   },
   "outputs": [
    {
     "data": {
      "image/png": "[encoded data removed]",
      "text/latex": [
       "$\\displaystyle \\left[ f_{111}^{2} + 2 f_{111} f_{112} - 2 f_{111} + f_{112}^{2} - 2 f_{112} + 1, \\  f_{121}^{2} + 2 f_{121} f_{122} + f_{122}^{2}, \\  f_{211}^{2} + 2 f_{211} f_{212} + f_{212}^{2}, \\  f_{221}^{2} + 2 f_{221} f_{222} - 2 f_{221} + f_{222}^{2} - 2 f_{222} + 1\\right]$"
      ],
      "text/plain": [
       "⎡    2                              2                   2                     \n",
       "⎣f₁₁₁  + 2⋅f₁₁₁⋅f₁₁₂ - 2⋅f₁₁₁ + f₁₁₂  - 2⋅f₁₁₂ + 1, f₁₂₁  + 2⋅f₁₂₁⋅f₁₂₂ + f₁₂₂\n",
       "\n",
       "2      2                     2      2                              2          \n",
       " , f₂₁₁  + 2⋅f₂₁₁⋅f₂₁₂ + f₂₁₂ , f₂₂₁  + 2⋅f₂₂₁⋅f₂₂₂ - 2⋅f₂₂₁ + f₂₂₂  - 2⋅f₂₂₂ \n",
       "\n",
       "   ⎤\n",
       "+ 1⎦"
      ]
     },
     "execution_count": 445,
     "metadata": {},
     "output_type": "execute_result"
    }
   ],
   "source": [
    "for i in range(1, N + 1):\n",
    "  for j in range(1, M + 1):\n",
    "    temp = total = 0\n",
    "    for h in range(1, H + 1):\n",
    "      temp += symbols(f\"f_{i}{j}{h}\")\n",
    "    total += (temp - R[i-1][j-1])**2\n",
    "    terms_count += len(total.expand().args)\n",
    "    equations.append(total.expand())\n",
    "equations"
   ]
  },
  {
   "cell_type": "code",
   "execution_count": 446,
   "metadata": {
    "colab": {
     "base_uri": "https://localhost:8080/",
     "height": 58
    },
    "id": "oPKg_g4v6tVw",
    "outputId": "e2b51ff0-262d-4355-edca-24dec691553f",
    "tags": []
   },
   "outputs": [],
   "source": [
    "# for j in range(1, M + 1):\n",
    "#   for h in range(1, H + 1):\n",
    "#     temp = total = 0\n",
    "#     for i in range(1, N + 1):\n",
    "#       temp += symbols(f\"f_{i}{j}{h}\")\n",
    "#     total += (temp + symbols(f\"τ_{j}{h}\") - 1)**2\n",
    "#     terms_count += len(total.expand().args)\n",
    "#     equations.append(total.expand())\n",
    "# equations"
   ]
  },
  {
   "cell_type": "code",
   "execution_count": 447,
   "metadata": {},
   "outputs": [
    {
     "data": {
      "image/png": "[encoded data removed]",
      "text/latex": [
       "$\\displaystyle \\left[ f_{111}^{2} + 2 f_{111} f_{112} - 2 f_{111} + f_{112}^{2} - 2 f_{112} + 1, \\  f_{121}^{2} + 2 f_{121} f_{122} + f_{122}^{2}, \\  f_{211}^{2} + 2 f_{211} f_{212} + f_{212}^{2}, \\  f_{221}^{2} + 2 f_{221} f_{222} - 2 f_{221} + f_{222}^{2} - 2 f_{222} + 1, \\  f_{111} f_{112} + f_{111} f_{121} + f_{111} f_{122} + f_{111} f_{211} + f_{111} f_{212} + f_{111} f_{221} + f_{111} f_{222} + f_{112} f_{121} + f_{112} f_{122} + f_{112} f_{211} + f_{112} f_{212} + f_{112} f_{221} + f_{112} f_{222} + f_{121} f_{122} + f_{121} f_{211} + f_{121} f_{212} + f_{121} f_{221} + f_{121} f_{222} + f_{122} f_{211} + f_{122} f_{212} + f_{122} f_{221} + f_{122} f_{222} + f_{211} f_{212} + f_{211} f_{221} + f_{211} f_{222} + f_{212} f_{221} + f_{212} f_{222} + f_{221} f_{222}\\right]$"
      ],
      "text/plain": [
       "⎡    2                              2                   2                     \n",
       "⎣f₁₁₁  + 2⋅f₁₁₁⋅f₁₁₂ - 2⋅f₁₁₁ + f₁₁₂  - 2⋅f₁₁₂ + 1, f₁₂₁  + 2⋅f₁₂₁⋅f₁₂₂ + f₁₂₂\n",
       "\n",
       "2      2                     2      2                              2          \n",
       " , f₂₁₁  + 2⋅f₂₁₁⋅f₂₁₂ + f₂₁₂ , f₂₂₁  + 2⋅f₂₂₁⋅f₂₂₂ - 2⋅f₂₂₁ + f₂₂₂  - 2⋅f₂₂₂ \n",
       "\n",
       "                                                                              \n",
       "+ 1, f₁₁₁⋅f₁₁₂ + f₁₁₁⋅f₁₂₁ + f₁₁₁⋅f₁₂₂ + f₁₁₁⋅f₂₁₁ + f₁₁₁⋅f₂₁₂ + f₁₁₁⋅f₂₂₁ + f\n",
       "\n",
       "                                                                              \n",
       "₁₁₁⋅f₂₂₂ + f₁₁₂⋅f₁₂₁ + f₁₁₂⋅f₁₂₂ + f₁₁₂⋅f₂₁₁ + f₁₁₂⋅f₂₁₂ + f₁₁₂⋅f₂₂₁ + f₁₁₂⋅f₂\n",
       "\n",
       "                                                                              \n",
       "₂₂ + f₁₂₁⋅f₁₂₂ + f₁₂₁⋅f₂₁₁ + f₁₂₁⋅f₂₁₂ + f₁₂₁⋅f₂₂₁ + f₁₂₁⋅f₂₂₂ + f₁₂₂⋅f₂₁₁ + f\n",
       "\n",
       "                                                                              \n",
       "₁₂₂⋅f₂₁₂ + f₁₂₂⋅f₂₂₁ + f₁₂₂⋅f₂₂₂ + f₂₁₁⋅f₂₁₂ + f₂₁₁⋅f₂₂₁ + f₂₁₁⋅f₂₂₂ + f₂₁₂⋅f₂\n",
       "\n",
       "                          ⎤\n",
       "₂₁ + f₂₁₂⋅f₂₂₂ + f₂₂₁⋅f₂₂₂⎦"
      ]
     },
     "execution_count": 447,
     "metadata": {},
     "output_type": "execute_result"
    }
   ],
   "source": [
    "temp = []\n",
    "for j in range(1, M + 1):\n",
    "  for h in range(1, H + 1):\n",
    "    for i in range(1, N + 1):\n",
    "      temp.append(symbols(f\"f_{i}{j}{h}\"))\n",
    "temp = list(itertools.combinations(temp,2))\n",
    "equation = 0\n",
    "\n",
    "for i in range(len(temp)):\n",
    "  equation+= temp[i][0] * temp[i][1]\n",
    "equations.append(equation)\n",
    "equations"
   ]
  },
  {
   "cell_type": "code",
   "execution_count": 448,
   "metadata": {},
   "outputs": [],
   "source": [
    "# for i in range(1, N + 1):\n",
    "#   for h in range(1, H + 1):\n",
    "#     temp = total = 0\n",
    "#     for j in range(1, M + 1):\n",
    "#       temp += symbols(f\"f_{i}{j}{h}\")\n",
    "#     total += (temp + symbols(f\"λ_{i}{h}\") - 1)**2\n",
    "#     terms_count += len(total.expand().args)\n",
    "#     equations.append(total.expand())\n",
    "# equations"
   ]
  },
  {
   "cell_type": "code",
   "execution_count": 449,
   "metadata": {},
   "outputs": [],
   "source": [
    "# temp = []\n",
    "# for j in range(1, M + 1):\n",
    "#   for h in range(1, H + 1):\n",
    "#     for i in range(1, N + 1):\n",
    "#       temp.append(symbols(f\"f_{i}{j}{h}\"))\n",
    "# temp = list(itertools.combinations(temp,2))\n",
    "# equation = 0\n",
    "# for i in range(len(temp)):\n",
    "#   equation+= temp[i][0] * temp[i][1]\n",
    "# equations.append(equation)\n",
    "# equations"
   ]
  },
  {
   "cell_type": "markdown",
   "metadata": {
    "id": "aMB2NgsfY08I"
   },
   "source": [
    "#### Decodeing Equations"
   ]
  },
  {
   "cell_type": "code",
   "execution_count": 450,
   "metadata": {
    "id": "KeQvsRjux1yc",
    "tags": []
   },
   "outputs": [],
   "source": [
    "def args(equation):\n",
    "  return Add.make_args(equation)\n",
    "\n",
    "def prepare_equation(term):\n",
    "  theta = 1\n",
    "  terms = []\n",
    "  if type(term) == Mul:\n",
    "    for i in term.args:\n",
    "      if i.is_Integer:\n",
    "        theta = i\n",
    "      else:\n",
    "        terms.append(i)\n",
    "  else:\n",
    "    terms.append(term.args[0]) \n",
    "\n",
    "  return [theta, decode(terms)]\n",
    "\n",
    "def decode(terms):\n",
    "  output = []\n",
    "\n",
    "  for term in terms:\n",
    "\n",
    "    term = str(term)\n",
    "\n",
    "    # if term.startswith(\"τ\"):\n",
    "    #   j = int(term[2])\n",
    "    #   h = int(term[3])\n",
    "    #   output.append((h-1) * M + (j - 1))\n",
    "\n",
    "\n",
    "    # elif term.startswith(\"λ\"):\n",
    "    #   i = int(term[2])\n",
    "    #   h = int(term[3])\n",
    "    #   output.append((H * M) + ((h-1) * N + (i - 1)))\n",
    "\n",
    "    if term.startswith(\"f\"):\n",
    "      i = int(term[2])\n",
    "      j = int(term[3])\n",
    "      h = int(term[4])\n",
    "      # output.append((H * M) + (N * H) + ((i - 1) * H * M) + ((j - 1) * H) + (h - 1))\n",
    "      output.append(((i - 1) * H * M) + ((j - 1) * H) + (h - 1))\n",
    "\n",
    "  return output\n"
   ]
  },
  {
   "cell_type": "code",
   "execution_count": 451,
   "metadata": {
    "colab": {
     "base_uri": "https://localhost:8080/",
     "height": 57
    },
    "id": "USFt2OzmyFwh",
    "outputId": "1435fa8e-09cd-468c-baef-1e1f5680b678",
    "tags": []
   },
   "outputs": [
    {
     "data": {
      "image/png": "[encoded data removed]",
      "text/latex": [
       "$\\displaystyle \\left[ \\left[ \\left[ 1, \\  \\left[ 0\\right]\\right], \\  \\left[ 1, \\  \\left[ 1\\right]\\right], \\  \\left[ -2, \\  \\left[ 0\\right]\\right], \\  \\left[ -2, \\  \\left[ 1\\right]\\right], \\  \\left[ 2, \\  \\left[ 0, \\  1\\right]\\right]\\right], \\  \\left[ \\left[ 1, \\  \\left[ 2\\right]\\right], \\  \\left[ 1, \\  \\left[ 3\\right]\\right], \\  \\left[ 2, \\  \\left[ 2, \\  3\\right]\\right]\\right], \\  \\left[ \\left[ 1, \\  \\left[ 4\\right]\\right], \\  \\left[ 1, \\  \\left[ 5\\right]\\right], \\  \\left[ 2, \\  \\left[ 4, \\  5\\right]\\right]\\right], \\  \\left[ \\left[ 1, \\  \\left[ 6\\right]\\right], \\  \\left[ 1, \\  \\left[ 7\\right]\\right], \\  \\left[ -2, \\  \\left[ 6\\right]\\right], \\  \\left[ -2, \\  \\left[ 7\\right]\\right], \\  \\left[ 2, \\  \\left[ 6, \\  7\\right]\\right]\\right], \\  \\left[ \\left[ 1, \\  \\left[ 0, \\  1\\right]\\right], \\  \\left[ 1, \\  \\left[ 0, \\  2\\right]\\right], \\  \\left[ 1, \\  \\left[ 0, \\  3\\right]\\right], \\  \\left[ 1, \\  \\left[ 0, \\  4\\right]\\right], \\  \\left[ 1, \\  \\left[ 0, \\  5\\right]\\right], \\  \\left[ 1, \\  \\left[ 0, \\  6\\right]\\right], \\  \\left[ 1, \\  \\left[ 0, \\  7\\right]\\right], \\  \\left[ 1, \\  \\left[ 1, \\  2\\right]\\right], \\  \\left[ 1, \\  \\left[ 1, \\  3\\right]\\right], \\  \\left[ 1, \\  \\left[ 1, \\  4\\right]\\right], \\  \\left[ 1, \\  \\left[ 1, \\  5\\right]\\right], \\  \\left[ 1, \\  \\left[ 1, \\  6\\right]\\right], \\  \\left[ 1, \\  \\left[ 1, \\  7\\right]\\right], \\  \\left[ 1, \\  \\left[ 2, \\  3\\right]\\right], \\  \\left[ 1, \\  \\left[ 2, \\  4\\right]\\right], \\  \\left[ 1, \\  \\left[ 2, \\  5\\right]\\right], \\  \\left[ 1, \\  \\left[ 2, \\  6\\right]\\right], \\  \\left[ 1, \\  \\left[ 2, \\  7\\right]\\right], \\  \\left[ 1, \\  \\left[ 3, \\  4\\right]\\right], \\  \\left[ 1, \\  \\left[ 3, \\  5\\right]\\right], \\  \\left[ 1, \\  \\left[ 3, \\  6\\right]\\right], \\  \\left[ 1, \\  \\left[ 3, \\  7\\right]\\right], \\  \\left[ 1, \\  \\left[ 4, \\  5\\right]\\right], \\  \\left[ 1, \\  \\left[ 4, \\  6\\right]\\right], \\  \\left[ 1, \\  \\left[ 4, \\  7\\right]\\right], \\  \\left[ 1, \\  \\left[ 5, \\  6\\right]\\right], \\  \\left[ 1, \\  \\left[ 5, \\  7\\right]\\right], \\  \\left[ 1, \\  \\left[ 6, \\  7\\right]\\right]\\right]\\right]$"
      ],
      "text/plain": [
       "[[[1, [0]], [1, [1]], [-2, [0]], [-2, [1]], [2, [0, 1]]], [[1, [2]], [1, [3]],\n",
       " [2, [2, 3]]], [[1, [4]], [1, [5]], [2, [4, 5]]], [[1, [6]], [1, [7]], [-2, [6\n",
       "]], [-2, [7]], [2, [6, 7]]], [[1, [0, 1]], [1, [0, 2]], [1, [0, 3]], [1, [0, 4\n",
       "]], [1, [0, 5]], [1, [0, 6]], [1, [0, 7]], [1, [1, 2]], [1, [1, 3]], [1, [1, 4\n",
       "]], [1, [1, 5]], [1, [1, 6]], [1, [1, 7]], [1, [2, 3]], [1, [2, 4]], [1, [2, 5\n",
       "]], [1, [2, 6]], [1, [2, 7]], [1, [3, 4]], [1, [3, 5]], [1, [3, 6]], [1, [3, 7\n",
       "]], [1, [4, 5]], [1, [4, 6]], [1, [4, 7]], [1, [5, 6]], [1, [5, 7]], [1, [6, 7\n",
       "]]]]"
      ]
     },
     "execution_count": 451,
     "metadata": {},
     "output_type": "execute_result"
    }
   ],
   "source": [
    "prepared_equations = []\n",
    "for equation in equations:\n",
    "    temp = []\n",
    "    for term in args(equation):\n",
    "        if len(term.args) != 0:            \n",
    "            temp.append(prepare_equation(term))\n",
    "    prepared_equations.append(temp)\n",
    "\n",
    "prepared_equations"
   ]
  },
  {
   "cell_type": "markdown",
   "metadata": {
    "id": "6lncBvjzZEak"
   },
   "source": [
    "### Implementation"
   ]
  },
  {
   "cell_type": "markdown",
   "metadata": {
    "id": "RtWVrhgDXsXm"
   },
   "source": [
    "#### Objective Function"
   ]
  },
  {
   "cell_type": "code",
   "execution_count": 452,
   "metadata": {},
   "outputs": [],
   "source": [
    "def f(i, j, h):\n",
    "    return int(T[i-1][h-1] == C[j-1][h-1] == '1')\n",
    "\n",
    "\n",
    "def tau_value(bit_string, j, h):\n",
    "    return int(bit_string[(h-1) * M + (j - 1)])\n",
    "\n",
    "\n",
    "def lambda_value(bit_string, i, h):\n",
    "    return int(bit_string[(H * M) + ((h-1) * N + (i - 1))])\n",
    "\n",
    "\n",
    "def f_value(bit_string, i, j, h):\n",
    "    # return int(bit_string[(H * M) + (N * H) + ((i - 1) * H * M) + ((j - 1) * H) + (h - 1)])\n",
    "    return int(bit_string[((i - 1) * H * M) + ((j - 1) * H) + (h - 1)])"
   ]
  },
  {
   "cell_type": "code",
   "execution_count": 453,
   "metadata": {
    "id": "_rqg3jtnQkXU"
   },
   "outputs": [],
   "source": [
    "def objective(bit_string):\n",
    "  # since qiskit represent solution in least significant bit format\n",
    "  bit_string = bit_string[::-1]\n",
    "  cost = 0\n",
    "  a = b = c = d = 0\n",
    "  # equation a\n",
    "  for i in range(1, N + 1):\n",
    "      for j in range(1, M + 1):\n",
    "          for h in range(1, H + 1):\n",
    "              if f(i, j, h) != f_value(bit_string, i, j, h):\n",
    "                  cost += 1\n",
    "                  a += 1\n",
    "\n",
    "  # equation b\n",
    "  for i in range(1, N + 1):\n",
    "      for j in range(1, M + 1):\n",
    "          temp = 0\n",
    "          for h in range(1, H + 1):\n",
    "              temp += f_value(bit_string, i, j, h)\n",
    "          cost += (temp - R[i-1][j-1])**2\n",
    "          b += (temp - R[i-1][j-1])**2\n",
    "\n",
    "  return [cost, a, b, c, d]"
   ]
  },
  {
   "cell_type": "markdown",
   "metadata": {
    "id": "WnyoHLcIX4q3"
   },
   "source": [
    "#### Circuit"
   ]
  },
  {
   "cell_type": "markdown",
   "metadata": {},
   "source": [
    "#### Draw circuit "
   ]
  },
  {
   "cell_type": "code",
   "execution_count": 454,
   "metadata": {},
   "outputs": [],
   "source": [
    "# qc = QuantumCircuit(required_qubits)\n",
    "# sol = \"10\" \n",
    "# # for i in range(required_qubits):\n",
    "# #     if sol[i]==\"1\":\n",
    "#         # qc.x(i)\n",
    "# for i in range(required_qubits):\n",
    "#     qc.h(i)\n",
    "\n",
    "# for equation in prepared_equations:\n",
    "#     for term in equation:\n",
    "#         theta = int(term[0])\n",
    "#         locations = term[1]\n",
    "#         if len(locations) == 1:  # Rz Gate\n",
    "#             qc.rz(theta * -1 , locations[0])\n",
    "        \n",
    "#         elif len(locations) == 2:  # Rzz gate\n",
    "#             qc.rz(theta * -0.5 , locations[0])\n",
    "#             qc.rz(theta * -0.5 , locations[1])\n",
    "#             qc.rzz(theta * 0.5 , locations[0], locations[1])\n",
    "\n",
    "# # for qubit in range(required_qubits - 1):\n",
    "# #     qc.rx(1, qubit)\n",
    "\n",
    "# qc.draw(\"mpl\")"
   ]
  },
  {
   "cell_type": "code",
   "execution_count": 455,
   "metadata": {
    "id": "HKUaUyw4X3oN"
   },
   "outputs": [],
   "source": [
    "def layers_gen(p, initial_value=1.0):\n",
    "    return [initial_value] * p * 2\n",
    "\n",
    "\n",
    "def create_qaoa_circ(thetas):\n",
    "    n_layers = len(thetas)//2\n",
    "\n",
    "    alpha = thetas[n_layers:]\n",
    "    gamma = thetas[:n_layers]\n",
    "\n",
    "    qc = QuantumCircuit(required_qubits)\n",
    "    for i in range(required_qubits):\n",
    "        qc.h(i)\n",
    "    for layer_index in range(n_layers):\n",
    "        for equation in prepared_equations:\n",
    "            for term in equation:\n",
    "                theta = int(term[0])\n",
    "                locations = term[1]\n",
    "\n",
    "                if len(locations) == 1:  # Rz Gate\n",
    "                    qc.rz(theta * -1 * alpha[layer_index], locations[0])\n",
    "\n",
    "                elif len(locations) == 2:  # Rzz gate\n",
    "                    if locations[0] == locations[1]:\n",
    "                        continue\n",
    "                    qc.rz(theta * -0.5 * alpha[layer_index], locations[0])\n",
    "                    qc.rz(theta * -0.5 * alpha[layer_index], locations[1])\n",
    "                    qc.rzz(theta * 0.5 * alpha[layer_index], locations[0], locations[1])\n",
    "\n",
    "        for qubit in range(required_qubits - 1):\n",
    "            qc.rx(2 * gamma[layer_index], qubit)\n",
    "\n",
    "    qc.measure_all()\n",
    "    return qc"
   ]
  },
  {
   "cell_type": "code",
   "execution_count": 456,
   "metadata": {},
   "outputs": [],
   "source": [
    "total = [0] * 4\n",
    "\n",
    "\n",
    "def compute_expectation(counts):\n",
    "    avg = 0\n",
    "    sum_count = 0\n",
    "    for bit_string, count in counts.items():\n",
    "        obj, a, b, c, d = objective(bit_string)\n",
    "        total[0] += a\n",
    "        total[1] += b\n",
    "        total[2] += c\n",
    "        total[3] += d\n",
    "        avg += obj * count\n",
    "        sum_count += count\n",
    "    return avg/sum_count\n",
    "\n",
    "\n",
    "def get_expectation():\n",
    "\n",
    "    def execute_circ(theta):\n",
    "        global iterations\n",
    "        qc = create_qaoa_circ(theta)\n",
    "        tc = transpile(qc, backend, optimization_level=3,\n",
    "                       seed_transpiler=random_seed)\n",
    "\n",
    "        counts = backend.run(tc, seed_simulator=random_seed,\n",
    "                             shots=shots).result().get_counts()\n",
    "        print(compute_expectation(counts))\n",
    "        iterations += 1\n",
    "        return compute_expectation(counts)\n",
    "\n",
    "    return execute_circ"
   ]
  },
  {
   "cell_type": "code",
   "execution_count": 457,
   "metadata": {
    "colab": {
     "base_uri": "https://localhost:8080/"
    },
    "id": "MCSSZrIQLN5j",
    "outputId": "f389b5bf-5cf6-43c6-e77d-c22956d225bd",
    "scrolled": true,
    "tags": []
   },
   "outputs": [
    {
     "name": "stdout",
     "output_type": "stream",
     "text": [
      "8.6864\n",
      "8.5182\n",
      "9.0388\n",
      "8.7518\n",
      "7.9834\n",
      "8.1486\n",
      "8.9878\n",
      "7.9424\n",
      "8.81\n",
      "8.6382\n",
      "8.0376\n",
      "8.3336\n",
      "8.3\n",
      "8.468\n",
      "8.4404\n",
      "8.7798\n",
      "8.8276\n",
      "8.4284\n",
      "8.128\n",
      "8.2576\n",
      "8.3462\n",
      "9.1206\n",
      "7.7914\n",
      "8.8174\n",
      "8.4526\n",
      "8.4666\n",
      "8.4716\n",
      "7.4132\n",
      "8.9422\n",
      "7.9638\n",
      "8.6594\n",
      "7.2154\n",
      "8.354\n",
      "7.1216\n",
      "7.0814\n",
      "8.0386\n",
      "8.1378\n",
      "8.5852\n",
      "8.1222\n",
      "9.1896\n",
      "8.4128\n",
      "8.5178\n",
      "9.3206\n",
      "7.6266\n",
      "8.1204\n",
      "7.1822\n",
      "8.8978\n",
      "7.6368\n",
      "8.6174\n",
      "8.5414\n",
      "7.4476\n",
      "8.189\n",
      "7.3936\n",
      "8.6354\n",
      "7.4318\n",
      "7.413\n",
      "7.1068\n",
      "7.0526\n",
      "7.894\n",
      "7.4018\n",
      "7.9422\n",
      "7.8308\n",
      "7.9968\n",
      "7.0662\n",
      "7.8996\n",
      "7.7246\n",
      "7.9752\n",
      "7.0814\n",
      "7.048\n",
      "7.0442\n",
      "8.19\n",
      "7.1302\n",
      "7.7998\n",
      "6.6428\n",
      "8.4374\n",
      "6.6452\n",
      "6.797\n",
      "6.7696\n",
      "6.6706\n",
      "6.645\n",
      "7.9458\n",
      "6.7482\n",
      "7.6994\n",
      "6.7038\n",
      "6.9624\n",
      "6.7192\n",
      "6.7058\n",
      "7.0678\n",
      "6.5564\n",
      "6.7876\n",
      "6.551\n",
      "7.1074\n",
      "6.5774\n",
      "6.7138\n",
      "6.681\n",
      "6.9466\n",
      "6.6434\n",
      "6.7802\n",
      "6.6078\n",
      "6.7692\n",
      "6.6098\n",
      "6.7154\n",
      "6.6346\n",
      "6.5324\n",
      "6.5774\n",
      "6.672\n",
      "6.5654\n",
      "6.6176\n",
      "6.503\n",
      "6.4892\n",
      "6.4434\n",
      "6.4346\n",
      "6.535\n",
      "6.4312\n",
      "6.501\n",
      "6.4478\n",
      "6.3624\n",
      "6.351\n",
      "6.5848\n",
      "6.3738\n",
      "6.463\n",
      "6.3662\n",
      "6.5344\n",
      "6.3756\n",
      "6.3628\n",
      "6.41\n",
      "6.447\n",
      "6.334\n",
      "6.321\n",
      "6.3456\n",
      "6.3932\n",
      "6.3386\n",
      "6.3252\n",
      "6.2926\n",
      "6.392\n",
      "6.2888\n",
      "6.4128\n",
      "6.3216\n",
      "6.2866\n",
      "6.3114\n",
      "6.3034\n",
      "6.3216\n",
      "6.3308\n",
      "6.2912\n",
      "6.29\n",
      "6.2944\n",
      "6.2914\n",
      "6.3064\n",
      "6.3092\n",
      "6.3162\n",
      "6.3078\n",
      "6.2902\n",
      "6.3044\n",
      "6.3076\n",
      "6.3204\n",
      "6.206\n",
      "6.2258\n",
      "6.2082\n",
      "6.2148\n",
      "6.2182\n",
      "6.2076\n",
      "6.2234\n",
      "6.2296\n",
      "6.22\n",
      "6.2226\n",
      "6.2302\n",
      "6.2236\n",
      "6.2334\n",
      "6.2044\n",
      "6.2104\n",
      "6.2186\n",
      "6.2086\n",
      "6.2352\n",
      "6.1898\n",
      "6.2096\n",
      "6.1946\n",
      "6.2016\n",
      "6.1922\n",
      "6.1992\n",
      "6.1704\n",
      "6.1818\n",
      "6.194\n",
      "6.177\n",
      "6.1864\n",
      "6.1946\n",
      "6.1836\n",
      "6.1822\n",
      "6.1852\n",
      "6.2028\n",
      "6.1926\n",
      "6.1798\n",
      "6.1782\n",
      "6.191\n",
      "6.1852\n",
      "6.2012\n",
      "6.1812\n",
      "6.211\n",
      "6.1768\n",
      "6.1766\n",
      "6.1922\n",
      "6.1938\n",
      "6.1744\n",
      "6.172\n",
      "6.1852\n",
      "6.1732\n",
      "6.167\n",
      "6.1736\n",
      "6.1764\n",
      "6.1812\n",
      "6.1818\n",
      "6.1768\n",
      "6.175\n",
      "6.1642\n",
      "6.168\n",
      "6.169\n",
      "6.1666\n",
      "6.1668\n",
      "6.1722\n",
      "6.1676\n",
      "6.1664\n",
      "6.1732\n",
      "6.1814\n",
      "6.1648\n",
      "6.162\n",
      "6.1636\n",
      "6.1638\n",
      "6.169\n",
      "6.1624\n",
      "6.1716\n",
      "6.1618\n",
      "6.1616\n",
      "6.165\n",
      "6.161\n",
      "6.1662\n",
      "6.1642\n",
      "6.1646\n",
      "6.1586\n",
      "6.1612\n",
      "6.1626\n",
      "6.1612\n",
      "6.1608\n",
      "6.1644\n",
      "6.1588\n",
      "6.162\n",
      "6.1604\n",
      "6.1604\n",
      "6.164\n",
      "6.1642\n",
      "6.1664\n",
      "6.161\n",
      "6.1702\n",
      "6.1642\n",
      "6.1616\n",
      "6.1612\n",
      "6.1604\n",
      "6.1586\n",
      "6.16\n",
      "6.1566\n",
      "6.1584\n",
      "6.1596\n",
      "6.1602\n",
      "6.1584\n",
      "6.1578\n",
      "6.1606\n",
      "6.1602\n",
      "6.156\n",
      "6.159\n",
      "6.1612\n",
      "6.1606\n",
      "6.156\n",
      "6.1586\n",
      "6.156\n",
      "6.1568\n",
      "6.1588\n",
      "6.1592\n",
      "6.1558\n",
      "6.1572\n",
      "6.1572\n",
      "6.1568\n",
      "6.1564\n",
      "6.1612\n",
      "6.156\n",
      "6.1546\n",
      "6.1546\n",
      "6.157\n",
      "6.155\n",
      "6.153\n",
      "6.1556\n",
      "6.155\n",
      "6.156\n",
      "6.1558\n",
      "6.154\n",
      "6.156\n",
      "6.1534\n",
      "6.1564\n",
      "6.1544\n",
      "6.1548\n",
      "6.1544\n",
      "6.1552\n",
      "6.154\n",
      "6.1542\n",
      "6.1568\n",
      "6.1534\n",
      "6.1534\n",
      "6.153\n",
      "6.154\n",
      "6.1528\n",
      "6.1548\n",
      "6.1532\n",
      "6.1576\n",
      "6.154\n",
      "6.1576\n",
      "6.153\n",
      "6.1548\n",
      "6.1526\n",
      "6.1558\n",
      "6.1534\n",
      "6.1538\n"
     ]
    },
    {
     "data": {
      "text/plain": [
       " message: Optimization terminated successfully.\n",
       " success: True\n",
       "  status: 1\n",
       "     fun: 6.1538\n",
       "       x: [ 1.878e+00  1.072e+00 ...  9.519e-01  2.049e+00]\n",
       "    nfev: 318\n",
       "   maxcv: 0.0"
      ]
     },
     "execution_count": 457,
     "metadata": {},
     "output_type": "execute_result"
    }
   ],
   "source": [
    "from scipy.optimize import minimize,linear_sum_assignment\n",
    "expectation = get_expectation()\n",
    "start_time = time.time()\n",
    "res = minimize(expectation, layers_gen(layers), method='COBYLA')\n",
    "# res = minimize(expectation, layers_gen(layers), method='COBYQA')\n",
    "# res = linear_sum_assignment()\n",
    "minimization_time = time.time() - start_time\n",
    "\n",
    "res"
   ]
  },
  {
   "cell_type": "code",
   "execution_count": 458,
   "metadata": {},
   "outputs": [
    {
     "name": "stdout",
     "output_type": "stream",
     "text": [
      "a: 637184\n",
      "b: 638336\n",
      "c: 0\n",
      "d: 0\n"
     ]
    }
   ],
   "source": [
    "print(\"a:\", total[0])\n",
    "print(\"b:\", total[1])\n",
    "print(\"c:\", total[2])\n",
    "print(\"d:\", total[3])"
   ]
  },
  {
   "cell_type": "markdown",
   "metadata": {
    "id": "l7b5F8DsLbbj"
   },
   "source": [
    "### Results"
   ]
  },
  {
   "cell_type": "code",
   "execution_count": 459,
   "metadata": {
    "id": "FKDf4o0LLN5j",
    "tags": []
   },
   "outputs": [
    {
     "name": "stdout",
     "output_type": "stream",
     "text": [
      "251\n",
      "-----------------\n",
      "BINGO\n",
      "10000001\n",
      "356\n",
      "-----------------\n",
      "Solution 00000001 cost: 2 count 685\n",
      "Solution 00000010 cost: 4 count 643\n",
      "Solution 01000011 cost: 4 count 430\n",
      "Solution 10000001 cost: 0 count 356\n",
      "Solution 10000010 cost: 2 count 350\n",
      "Solution 00111111 cost: 16 count 315\n",
      "Solution 01000000 cost: 4 count 295\n",
      "Solution 11000011 cost: 4 count 204\n",
      "Solution 10000011 cost: 2 count 136\n",
      "Solution 10100000 cost: 4 count 122\n"
     ]
    },
    {
     "data": {
      "image/png": "[encoded data removed]",
      "text/plain": [
       "<Figure size 700x500 with 1 Axes>"
      ]
     },
     "execution_count": 459,
     "metadata": {},
     "output_type": "execute_result"
    }
   ],
   "source": [
    "from qiskit.visualization import plot_histogram\n",
    "\n",
    "qc_res = create_qaoa_circ(res.x)\n",
    "counts = backend.run(qc_res, seed_simulator=random_seed,\n",
    "                     shots=shots).result().get_counts()\n",
    "\n",
    "\n",
    "counts = dict(sorted(counts.items(), key=lambda item: item[1], reverse=True))\n",
    "counts_cost = dict(\n",
    "    sorted(counts.items(), key=lambda item: item[1], reverse=True))\n",
    "\n",
    "values = list(counts.values())\n",
    "binary = list(counts.keys())\n",
    "\n",
    "output = {}\n",
    "\n",
    "print(len(counts))\n",
    "\n",
    "for key in binary:\n",
    "    if objective(key)[0] == 0:\n",
    "        print(\"-----------------\")\n",
    "        print(\"BINGO\")\n",
    "        print(key)\n",
    "        print(counts[key])\n",
    "        print(\"-----------------\")\n",
    "\n",
    "for key in binary[:10]:\n",
    "    print(\"Solution\", key, \"cost:\", objective(key)[0], \"count\", counts[key])\n",
    "    output[key] = counts[key]\n",
    "\n",
    "# plot_histogram(output).savefig(f\"./png/{H}_{M}_{N}_{shots}_{layers}_{time.time_ns()}.png\")\n",
    "plot_histogram(output)"
   ]
  },
  {
   "cell_type": "code",
   "execution_count": 460,
   "metadata": {},
   "outputs": [
    {
     "name": "stdout",
     "output_type": "stream",
     "text": [
      "Solution 10000001 cost: 0 count 356\n"
     ]
    }
   ],
   "source": [
    "sol = required_qubits\n",
    "sol_bin = \"\"\n",
    "\n",
    "for i in counts:\n",
    "  ob = objective(i)[0]\n",
    "  if ob < sol:\n",
    "    sol = ob\n",
    "    sol_bin = i\n",
    "\n",
    "counts[\"H\"] = H\n",
    "counts[\"M\"] = M\n",
    "counts[\"N\"] = N\n",
    "counts[\"shots\"] = shots\n",
    "counts[\"layers\"] = layers\n",
    "counts[\"solution\"] = sol_bin\n",
    "counts[\"solution_cost\"] = sol\n",
    "counts[\"solution_count\"] = counts[sol_bin]\n",
    "counts[\"minimization_time\"] = minimization_time\n",
    "counts[\"execution_time\"] = time.time() - simulation_time\n",
    "counts[\"iterations\"] = iterations \n",
    "\n",
    "print(\"Solution\",sol_bin ,\"cost:\",sol,\"count\", counts[sol_bin])"
   ]
  },
  {
   "cell_type": "code",
   "execution_count": 461,
   "metadata": {},
   "outputs": [],
   "source": [
    "file = open(f\"../json/simulation/6/{H}_{M}_{N}_{shots}_{layers}_simulation_cob.json\", \"w\")\n",
    "file.write(json.dumps(counts))\n",
    "file.flush()"
   ]
  },
  {
   "cell_type": "code",
   "execution_count": 462,
   "metadata": {},
   "outputs": [
    {
     "data": {
      "image/png": "[encoded data removed]",
      "text/latex": [
       "$\\displaystyle 6007.17775416374$"
      ],
      "text/plain": [
       "6007.177754163742"
      ]
     },
     "execution_count": 462,
     "metadata": {},
     "output_type": "execute_result"
    }
   ],
   "source": [
    "counts[\"execution_time\"]"
   ]
  },
  {
   "cell_type": "code",
   "execution_count": 463,
   "metadata": {},
   "outputs": [
    {
     "data": {
      "image/png": "[encoded data removed]",
      "text/latex": [
       "$\\displaystyle 548.588965177536$"
      ],
      "text/plain": [
       "548.588965177536"
      ]
     },
     "execution_count": 463,
     "metadata": {},
     "output_type": "execute_result"
    }
   ],
   "source": [
    "minimization_time"
   ]
  }
 ],
 "metadata": {
  "colab": {
   "collapsed_sections": [
    "alCyWOxAWcdV",
    "TiWcxBn4_H1e"
   ],
   "provenance": []
  },
  "kernelspec": {
   "display_name": "Python 3 (ipykernel)",
   "language": "python",
   "name": "python3"
  },
  "language_info": {
   "codemirror_mode": {
    "name": "ipython",
    "version": 3
   },
   "file_extension": ".py",
   "mimetype": "text/x-python",
   "name": "python",
   "nbconvert_exporter": "python",
   "pygments_lexer": "ipython3",
   "version": "3.12.3"
  }
 },
 "nbformat": 4,
 "nbformat_minor": 4
}
