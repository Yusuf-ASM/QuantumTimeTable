{
 "cells": [
  {
   "cell_type": "markdown",
   "metadata": {
    "id": "alCyWOxAWcdV",
    "jp-MarkdownHeadingCollapsed": true,
    "tags": []
   },
   "source": [
    "### Installing Qiskit"
   ]
  },
  {
   "cell_type": "markdown",
   "metadata": {},
   "source": [
    "#### Normal installation"
   ]
  },
  {
   "cell_type": "code",
   "execution_count": 1,
   "metadata": {
    "colab": {
     "base_uri": "https://localhost:8080/"
    },
    "id": "HE2WwMMhVL8p",
    "outputId": "73f03985-1eca-4c27-c073-1a5cb9948d80",
    "tags": []
   },
   "outputs": [
    {
     "name": "stdout",
     "output_type": "stream",
     "text": [
      "Defaulting to user installation because normal site-packages is not writeable\n",
      "Requirement already satisfied: qiskit-ibm-runtime in /home/yusuf/.local/lib/python3.12/site-packages (0.23.0)\n",
      "Requirement already satisfied: qiskit in /home/yusuf/.local/lib/python3.12/site-packages (1.0.2)\n",
      "Requirement already satisfied: qiskit_aer in /home/yusuf/.local/lib/python3.12/site-packages (0.14.2)\n",
      "Requirement already satisfied: python-dotenv in /home/yusuf/.local/lib/python3.12/site-packages (1.0.1)\n",
      "Requirement already satisfied: rustworkx>=0.14.0 in /home/yusuf/.local/lib/python3.12/site-packages (from qiskit[visualization]) (0.14.2)\n",
      "Requirement already satisfied: numpy<2,>=1.17 in /home/yusuf/.local/lib/python3.12/site-packages (from qiskit[visualization]) (1.26.4)\n",
      "Requirement already satisfied: scipy>=1.5 in /home/yusuf/.local/lib/python3.12/site-packages (from qiskit[visualization]) (1.13.0)\n",
      "Requirement already satisfied: sympy>=1.3 in /home/yusuf/.local/lib/python3.12/site-packages (from qiskit[visualization]) (1.12)\n",
      "Requirement already satisfied: dill>=0.3 in /home/yusuf/.local/lib/python3.12/site-packages (from qiskit[visualization]) (0.3.8)\n",
      "Requirement already satisfied: python-dateutil>=2.8.0 in /usr/lib/python3.12/site-packages (from qiskit[visualization]) (2.8.2)\n",
      "Requirement already satisfied: stevedore>=3.0.0 in /home/yusuf/.local/lib/python3.12/site-packages (from qiskit[visualization]) (5.2.0)\n",
      "Requirement already satisfied: typing-extensions in /home/yusuf/.local/lib/python3.12/site-packages (from qiskit[visualization]) (4.11.0)\n",
      "Requirement already satisfied: symengine>=0.11 in /home/yusuf/.local/lib/python3.12/site-packages (from qiskit[visualization]) (0.11.0)\n",
      "Requirement already satisfied: matplotlib>=3.3 in /home/yusuf/.local/lib/python3.12/site-packages (from qiskit[visualization]) (3.8.4)\n",
      "Requirement already satisfied: pydot in /home/yusuf/.local/lib/python3.12/site-packages (from qiskit[visualization]) (2.0.0)\n",
      "Requirement already satisfied: Pillow>=4.2.1 in /usr/lib64/python3.12/site-packages (from qiskit[visualization]) (10.3.0)\n",
      "Requirement already satisfied: pylatexenc>=1.4 in /home/yusuf/.local/lib/python3.12/site-packages (from qiskit[visualization]) (2.10)\n",
      "Requirement already satisfied: seaborn>=0.9.0 in /home/yusuf/.local/lib/python3.12/site-packages (from qiskit[visualization]) (0.13.2)\n",
      "Requirement already satisfied: requests>=2.19 in /home/yusuf/.local/lib/python3.12/site-packages (from qiskit-ibm-runtime) (2.31.0)\n",
      "Requirement already satisfied: requests-ntlm>=1.1.0 in /home/yusuf/.local/lib/python3.12/site-packages (from qiskit-ibm-runtime) (1.2.0)\n",
      "Requirement already satisfied: urllib3>=1.21.1 in /home/yusuf/.local/lib/python3.12/site-packages (from qiskit-ibm-runtime) (2.2.1)\n",
      "Requirement already satisfied: websocket-client>=1.5.1 in /home/yusuf/.local/lib/python3.12/site-packages (from qiskit-ibm-runtime) (1.7.0)\n",
      "Requirement already satisfied: ibm-platform-services>=0.22.6 in /home/yusuf/.local/lib/python3.12/site-packages (from qiskit-ibm-runtime) (0.53.4)\n",
      "Requirement already satisfied: pydantic in /home/yusuf/.local/lib/python3.12/site-packages (from qiskit-ibm-runtime) (2.7.0)\n",
      "Requirement already satisfied: psutil>=5 in /home/yusuf/.local/lib/python3.12/site-packages (from qiskit_aer) (5.9.8)\n",
      "Requirement already satisfied: ibm-cloud-sdk-core<4.0.0,>=3.19.2 in /home/yusuf/.local/lib/python3.12/site-packages (from ibm-platform-services>=0.22.6->qiskit-ibm-runtime) (3.20.0)\n",
      "Requirement already satisfied: contourpy>=1.0.1 in /home/yusuf/.local/lib/python3.12/site-packages (from matplotlib>=3.3->qiskit[visualization]) (1.2.1)\n",
      "Requirement already satisfied: cycler>=0.10 in /home/yusuf/.local/lib/python3.12/site-packages (from matplotlib>=3.3->qiskit[visualization]) (0.12.1)\n",
      "Requirement already satisfied: fonttools>=4.22.0 in /home/yusuf/.local/lib/python3.12/site-packages (from matplotlib>=3.3->qiskit[visualization]) (4.51.0)\n",
      "Requirement already satisfied: kiwisolver>=1.3.1 in /home/yusuf/.local/lib/python3.12/site-packages (from matplotlib>=3.3->qiskit[visualization]) (1.4.5)\n",
      "Requirement already satisfied: packaging>=20.0 in /usr/lib/python3.12/site-packages (from matplotlib>=3.3->qiskit[visualization]) (23.2)\n",
      "Requirement already satisfied: pyparsing>=2.3.1 in /usr/lib/python3.12/site-packages (from matplotlib>=3.3->qiskit[visualization]) (3.1.2)\n",
      "Requirement already satisfied: six>=1.5 in /usr/lib/python3.12/site-packages (from python-dateutil>=2.8.0->qiskit[visualization]) (1.16.0)\n",
      "Requirement already satisfied: charset-normalizer<4,>=2 in /usr/lib/python3.12/site-packages (from requests>=2.19->qiskit-ibm-runtime) (3.3.2)\n",
      "Requirement already satisfied: idna<4,>=2.5 in /usr/lib/python3.12/site-packages (from requests>=2.19->qiskit-ibm-runtime) (3.7)\n",
      "Requirement already satisfied: certifi>=2017.4.17 in /usr/lib/python3.12/site-packages (from requests>=2.19->qiskit-ibm-runtime) (2023.5.7)\n",
      "Requirement already satisfied: cryptography>=1.3 in /usr/lib64/python3.12/site-packages (from requests-ntlm>=1.1.0->qiskit-ibm-runtime) (41.0.7)\n",
      "Requirement already satisfied: pyspnego>=0.1.6 in /home/yusuf/.local/lib/python3.12/site-packages (from requests-ntlm>=1.1.0->qiskit-ibm-runtime) (0.10.2)\n",
      "Requirement already satisfied: pandas>=1.2 in /home/yusuf/.local/lib/python3.12/site-packages (from seaborn>=0.9.0->qiskit[visualization]) (2.2.2)\n",
      "Requirement already satisfied: pbr!=2.1.0,>=2.0.0 in /home/yusuf/.local/lib/python3.12/site-packages (from stevedore>=3.0.0->qiskit[visualization]) (6.0.0)\n",
      "Requirement already satisfied: mpmath>=0.19 in /home/yusuf/.local/lib/python3.12/site-packages (from sympy>=1.3->qiskit[visualization]) (1.3.0)\n",
      "Requirement already satisfied: annotated-types>=0.4.0 in /home/yusuf/.local/lib/python3.12/site-packages (from pydantic->qiskit-ibm-runtime) (0.6.0)\n",
      "Requirement already satisfied: pydantic-core==2.18.1 in /home/yusuf/.local/lib/python3.12/site-packages (from pydantic->qiskit-ibm-runtime) (2.18.1)\n",
      "Requirement already satisfied: cffi>=1.12 in /usr/lib64/python3.12/site-packages (from cryptography>=1.3->requests-ntlm>=1.1.0->qiskit-ibm-runtime) (1.16.0)\n",
      "Requirement already satisfied: PyJWT<3.0.0,>=2.8.0 in /home/yusuf/.local/lib/python3.12/site-packages (from ibm-cloud-sdk-core<4.0.0,>=3.19.2->ibm-platform-services>=0.22.6->qiskit-ibm-runtime) (2.8.0)\n",
      "Requirement already satisfied: pytz>=2020.1 in /usr/lib/python3.12/site-packages (from pandas>=1.2->seaborn>=0.9.0->qiskit[visualization]) (2024.1)\n",
      "Requirement already satisfied: tzdata>=2022.7 in /home/yusuf/.local/lib/python3.12/site-packages (from pandas>=1.2->seaborn>=0.9.0->qiskit[visualization]) (2024.1)\n",
      "Requirement already satisfied: pycparser in /usr/lib/python3.12/site-packages (from cffi>=1.12->cryptography>=1.3->requests-ntlm>=1.1.0->qiskit-ibm-runtime) (2.20)\n",
      "Requirement already satisfied: ply==3.11 in /usr/lib/python3.12/site-packages (from pycparser->cffi>=1.12->cryptography>=1.3->requests-ntlm>=1.1.0->qiskit-ibm-runtime) (3.11)\n",
      "Note: you may need to restart the kernel to use updated packages.\n"
     ]
    }
   ],
   "source": [
    "%pip install qiskit[visualization] qiskit-ibm-runtime qiskit qiskit_aer python-dotenv"
   ]
  },
  {
   "cell_type": "markdown",
   "metadata": {},
   "source": [
    "#### GPU installation"
   ]
  },
  {
   "cell_type": "code",
   "execution_count": 2,
   "metadata": {},
   "outputs": [],
   "source": [
    "# %pip install qiskit[visualization] qiskit-ibm-runtime qiskit qiskit_aer-gpu python-dotenv"
   ]
  },
  {
   "cell_type": "markdown",
   "metadata": {
    "id": "TiWcxBn4_H1e",
    "tags": []
   },
   "source": [
    "### Libraries Importing\n"
   ]
  },
  {
   "cell_type": "code",
   "execution_count": 1,
   "metadata": {
    "id": "0pxiZGX7_YEB",
    "tags": []
   },
   "outputs": [],
   "source": [
    "from qiskit_ibm_runtime import QiskitRuntimeService\n",
    "from qiskit.visualization import plot_histogram\n",
    "from qiskit import QuantumCircuit, transpile\n",
    "from qiskit_aer import AerSimulator\n",
    "from dotenv import load_dotenv\n",
    "from sympy import *\n",
    "import json\n",
    "import time\n",
    "import os\n",
    "\n",
    "load_dotenv()\n",
    "init_printing()\n",
    "simulation_time = time.time()  # to calculate simulation time"
   ]
  },
  {
   "cell_type": "code",
   "execution_count": 6,
   "metadata": {},
   "outputs": [
    {
     "name": "stdout",
     "output_type": "stream",
     "text": [
      "('CPU',)\n"
     ]
    }
   ],
   "source": [
    "backend = AerSimulator(method=\"statevector\")\n",
    "print(backend.available_devices())"
   ]
  },
  {
   "cell_type": "markdown",
   "metadata": {},
   "source": [
    "#### Use GPU"
   ]
  },
  {
   "cell_type": "code",
   "execution_count": 7,
   "metadata": {},
   "outputs": [],
   "source": [
    "# backend.set_options(device=\"GPU\")"
   ]
  },
  {
   "cell_type": "markdown",
   "metadata": {},
   "source": [
    "#### Use real quantum"
   ]
  },
  {
   "cell_type": "code",
   "execution_count": 8,
   "metadata": {},
   "outputs": [],
   "source": [
    "# services = []\n",
    "\n",
    "# for i in range(1, 6):\n",
    "#     services.append(QiskitRuntimeService(\n",
    "#         channel=\"ibm_quantum\", token=os.getenv(f\"TOKEN{i}\")))\n",
    "\n",
    "# # backend = service.backend(\"ibm_osaka\") # for real quantum\n",
    "# # backend = service.backend(\"ibm_kyoto\") # for real quantum"
   ]
  },
  {
   "cell_type": "markdown",
   "metadata": {
    "id": "zxv0s00zWqGE"
   },
   "source": [
    "\n",
    "### Problem Definition"
   ]
  },
  {
   "cell_type": "code",
   "execution_count": 9,
   "metadata": {},
   "outputs": [],
   "source": [
    "conf = json.load(open(\"../conf_6.json\", \"r\"))"
   ]
  },
  {
   "cell_type": "code",
   "execution_count": 67,
   "metadata": {},
   "outputs": [
    {
     "name": "stdout",
     "output_type": "stream",
     "text": [
      "Requried Qubits:  6\n"
     ]
    }
   ],
   "source": [
    "N = conf[\"N\"]  # Number of Teachers\n",
    "M = conf[\"M\"]  # Number of Classes\n",
    "H = conf[\"H\"]  # Number of hours in week\n",
    "\n",
    "required_qubits = (M * N * H) + (M * H) + (N * H)\n",
    "iterations = 0\n",
    "\n",
    "random_seed = conf[\"random_seed\"]\n",
    "shots = conf[\"shots\"] * 30\n",
    "layers = 10\n",
    "\n",
    "print(\"Requried Qubits: \", required_qubits)"
   ]
  },
  {
   "cell_type": "code",
   "execution_count": 68,
   "metadata": {},
   "outputs": [],
   "source": [
    "# T_i is binary string denoting the available hours for each i Teacher\n",
    "# C_j is binary string denoting the available hours for each j Class\n",
    "\n",
    "T = conf[\"T\"]\n",
    "C = conf[\"C\"]\n",
    "\n",
    "R = conf[\"R\"]  # R_ij must be either 0 or 1\n",
    "\n",
    "terms_count = 0\n",
    "equations = []"
   ]
  },
  {
   "cell_type": "markdown",
   "metadata": {
    "id": "a5uXmwzRZOnt"
   },
   "source": [
    "### Formulation"
   ]
  },
  {
   "cell_type": "markdown",
   "metadata": {
    "id": "JfexN02BYq1V"
   },
   "source": [
    "#### Equations"
   ]
  },
  {
   "cell_type": "code",
   "execution_count": 69,
   "metadata": {
    "colab": {
     "base_uri": "https://localhost:8080/",
     "height": 58
    },
    "id": "BPvEcLNQqJqw",
    "outputId": "49dfa7ca-3606-4b78-de91-741900c84563",
    "tags": []
   },
   "outputs": [
    {
     "data": {
      "image/png": "[encoded data removed]",
      "text/latex": [
       "$\\displaystyle \\left[ f_{111}^{2} + 2 f_{111} f_{112} - 2 f_{111} + f_{112}^{2} - 2 f_{112} + 1\\right]$"
      ],
      "text/plain": [
       "⎡    2                              2             ⎤\n",
       "⎣f₁₁₁  + 2⋅f₁₁₁⋅f₁₁₂ - 2⋅f₁₁₁ + f₁₁₂  - 2⋅f₁₁₂ + 1⎦"
      ]
     },
     "execution_count": 69,
     "metadata": {},
     "output_type": "execute_result"
    }
   ],
   "source": [
    "for i in range(1, N + 1):\n",
    "  for j in range(1, M + 1):\n",
    "    temp = total = 0\n",
    "    for h in range(1, H + 1):\n",
    "      temp += symbols(f\"f_{i}{j}{h}\")\n",
    "    total += (temp - R[i-1][j-1])**2\n",
    "    terms_count += len(total.expand().args)\n",
    "    equations.append(total.expand())\n",
    "equations"
   ]
  },
  {
   "cell_type": "code",
   "execution_count": 70,
   "metadata": {
    "colab": {
     "base_uri": "https://localhost:8080/",
     "height": 58
    },
    "id": "oPKg_g4v6tVw",
    "outputId": "e2b51ff0-262d-4355-edca-24dec691553f",
    "tags": []
   },
   "outputs": [
    {
     "data": {
      "image/png": "[encoded data removed]",
      "text/latex": [
       "$\\displaystyle \\left[ f_{111}^{2} + 2 f_{111} f_{112} - 2 f_{111} + f_{112}^{2} - 2 f_{112} + 1, \\  f_{111}^{2} + 2 f_{111} τ_{11} - 2 f_{111} + τ_{11}^{2} - 2 τ_{11} + 1, \\  f_{112}^{2} + 2 f_{112} τ_{12} - 2 f_{112} + τ_{12}^{2} - 2 τ_{12} + 1\\right]$"
      ],
      "text/plain": [
       "⎡    2                              2                   2                     \n",
       "⎣f₁₁₁  + 2⋅f₁₁₁⋅f₁₁₂ - 2⋅f₁₁₁ + f₁₁₂  - 2⋅f₁₁₂ + 1, f₁₁₁  + 2⋅f₁₁₁⋅τ₁₁ - 2⋅f₁₁\n",
       "\n",
       "       2                  2                            2            ⎤\n",
       "₁ + τ₁₁  - 2⋅τ₁₁ + 1, f₁₁₂  + 2⋅f₁₁₂⋅τ₁₂ - 2⋅f₁₁₂ + τ₁₂  - 2⋅τ₁₂ + 1⎦"
      ]
     },
     "execution_count": 70,
     "metadata": {},
     "output_type": "execute_result"
    }
   ],
   "source": [
    "for j in range(1, M + 1):\n",
    "  for h in range(1, H + 1):\n",
    "    temp = total = 0\n",
    "    for i in range(1, N + 1):\n",
    "      temp += symbols(f\"f_{i}{j}{h}\")\n",
    "    total += (temp + symbols(f\"τ_{j}{h}\") - 1)**2\n",
    "    terms_count += len(total.expand().args)\n",
    "    equations.append(total.expand())\n",
    "equations"
   ]
  },
  {
   "cell_type": "code",
   "execution_count": 71,
   "metadata": {},
   "outputs": [
    {
     "data": {
      "image/png": "[encoded data removed]",
      "text/latex": [
       "$\\displaystyle \\left[ f_{111}^{2} + 2 f_{111} f_{112} - 2 f_{111} + f_{112}^{2} - 2 f_{112} + 1, \\  f_{111}^{2} + 2 f_{111} τ_{11} - 2 f_{111} + τ_{11}^{2} - 2 τ_{11} + 1, \\  f_{112}^{2} + 2 f_{112} τ_{12} - 2 f_{112} + τ_{12}^{2} - 2 τ_{12} + 1, \\  f_{111}^{2} + 2 f_{111} λ_{11} - 2 f_{111} + λ_{11}^{2} - 2 λ_{11} + 1, \\  f_{112}^{2} + 2 f_{112} λ_{12} - 2 f_{112} + λ_{12}^{2} - 2 λ_{12} + 1\\right]$"
      ],
      "text/plain": [
       "⎡    2                              2                   2                     \n",
       "⎣f₁₁₁  + 2⋅f₁₁₁⋅f₁₁₂ - 2⋅f₁₁₁ + f₁₁₂  - 2⋅f₁₁₂ + 1, f₁₁₁  + 2⋅f₁₁₁⋅τ₁₁ - 2⋅f₁₁\n",
       "\n",
       "       2                  2                            2                  2   \n",
       "₁ + τ₁₁  - 2⋅τ₁₁ + 1, f₁₁₂  + 2⋅f₁₁₂⋅τ₁₂ - 2⋅f₁₁₂ + τ₁₂  - 2⋅τ₁₂ + 1, f₁₁₁  + \n",
       "\n",
       "                         2                  2                            2    \n",
       "2⋅f₁₁₁⋅λ₁₁ - 2⋅f₁₁₁ + λ₁₁  - 2⋅λ₁₁ + 1, f₁₁₂  + 2⋅f₁₁₂⋅λ₁₂ - 2⋅f₁₁₂ + λ₁₂  - 2\n",
       "\n",
       "        ⎤\n",
       "⋅λ₁₂ + 1⎦"
      ]
     },
     "execution_count": 71,
     "metadata": {},
     "output_type": "execute_result"
    }
   ],
   "source": [
    "for i in range(1, N + 1):\n",
    "  for h in range(1, H + 1):\n",
    "    temp = total = 0\n",
    "    for j in range(1, M + 1):\n",
    "      temp += symbols(f\"f_{i}{j}{h}\")\n",
    "    total += (temp + symbols(f\"λ_{i}{h}\") - 1)**2\n",
    "    terms_count += len(total.expand().args)\n",
    "    equations.append(total.expand())\n",
    "equations"
   ]
  },
  {
   "cell_type": "markdown",
   "metadata": {
    "id": "aMB2NgsfY08I"
   },
   "source": [
    "#### Decodeing Equations"
   ]
  },
  {
   "cell_type": "code",
   "execution_count": 72,
   "metadata": {
    "id": "KeQvsRjux1yc",
    "tags": []
   },
   "outputs": [],
   "source": [
    "def args(equation):\n",
    "  return Add.make_args(equation)\n",
    "\n",
    "def prepare_equation(term):\n",
    "  theta = 1\n",
    "  terms = []\n",
    "  if type(term) == Mul:\n",
    "    for i in term.args:\n",
    "      if i.is_Integer:\n",
    "        theta = i\n",
    "      else:\n",
    "        terms.append(i)\n",
    "  else:\n",
    "    terms.append(term.args[0]) \n",
    "\n",
    "  return [theta, decode(terms)]\n",
    "\n",
    "def decode(terms):\n",
    "  output = []\n",
    "\n",
    "  for term in terms:\n",
    "\n",
    "    term = str(term)\n",
    "\n",
    "    if term.startswith(\"τ\"):\n",
    "      j = int(term[2])\n",
    "      h = int(term[3])\n",
    "      output.append((h-1) * M + (j - 1))\n",
    "\n",
    "\n",
    "    elif term.startswith(\"λ\"):\n",
    "      i = int(term[2])\n",
    "      h = int(term[3])\n",
    "      output.append((H * M) + ((h-1) * N + (i - 1)))\n",
    "\n",
    "    elif term.startswith(\"f\"):\n",
    "      i = int(term[2])\n",
    "      j = int(term[3])\n",
    "      h = int(term[4])\n",
    "      output.append((H * M) + (N * H) + ((i - 1) * H * M) + ((j - 1) * H) + (h - 1))\n",
    "\n",
    "  return output\n"
   ]
  },
  {
   "cell_type": "code",
   "execution_count": 73,
   "metadata": {
    "colab": {
     "base_uri": "https://localhost:8080/",
     "height": 57
    },
    "id": "USFt2OzmyFwh",
    "outputId": "1435fa8e-09cd-468c-baef-1e1f5680b678",
    "tags": []
   },
   "outputs": [
    {
     "data": {
      "image/png": "[encoded data removed]",
      "text/latex": [
       "$\\displaystyle \\left[ \\left[ \\left[ 1, \\  \\left[ 4\\right]\\right], \\  \\left[ 1, \\  \\left[ 5\\right]\\right], \\  \\left[ -2, \\  \\left[ 4\\right]\\right], \\  \\left[ -2, \\  \\left[ 5\\right]\\right], \\  \\left[ 2, \\  \\left[ 4, \\  5\\right]\\right]\\right], \\  \\left[ \\left[ 1, \\  \\left[ 4\\right]\\right], \\  \\left[ 1, \\  \\left[ 0\\right]\\right], \\  \\left[ -2, \\  \\left[ 4\\right]\\right], \\  \\left[ -2, \\  \\left[ 0\\right]\\right], \\  \\left[ 2, \\  \\left[ 4, \\  0\\right]\\right]\\right], \\  \\left[ \\left[ 1, \\  \\left[ 5\\right]\\right], \\  \\left[ 1, \\  \\left[ 1\\right]\\right], \\  \\left[ -2, \\  \\left[ 5\\right]\\right], \\  \\left[ -2, \\  \\left[ 1\\right]\\right], \\  \\left[ 2, \\  \\left[ 5, \\  1\\right]\\right]\\right], \\  \\left[ \\left[ 1, \\  \\left[ 4\\right]\\right], \\  \\left[ 1, \\  \\left[ 2\\right]\\right], \\  \\left[ -2, \\  \\left[ 4\\right]\\right], \\  \\left[ -2, \\  \\left[ 2\\right]\\right], \\  \\left[ 2, \\  \\left[ 4, \\  2\\right]\\right]\\right], \\  \\left[ \\left[ 1, \\  \\left[ 5\\right]\\right], \\  \\left[ 1, \\  \\left[ 3\\right]\\right], \\  \\left[ -2, \\  \\left[ 5\\right]\\right], \\  \\left[ -2, \\  \\left[ 3\\right]\\right], \\  \\left[ 2, \\  \\left[ 5, \\  3\\right]\\right]\\right]\\right]$"
      ],
      "text/plain": [
       "[[[1, [4]], [1, [5]], [-2, [4]], [-2, [5]], [2, [4, 5]]], [[1, [4]], [1, [0]],\n",
       " [-2, [4]], [-2, [0]], [2, [4, 0]]], [[1, [5]], [1, [1]], [-2, [5]], [-2, [1]]\n",
       ", [2, [5, 1]]], [[1, [4]], [1, [2]], [-2, [4]], [-2, [2]], [2, [4, 2]]], [[1, \n",
       "[5]], [1, [3]], [-2, [5]], [-2, [3]], [2, [5, 3]]]]"
      ]
     },
     "execution_count": 73,
     "metadata": {},
     "output_type": "execute_result"
    }
   ],
   "source": [
    "prepared_equations = []\n",
    "for equation in equations:\n",
    "    temp = []\n",
    "    for term in args(equation):\n",
    "        if len(term.args) != 0:\n",
    "            temp.append(prepare_equation(term))\n",
    "    prepared_equations.append(temp)\n",
    "\n",
    "prepared_equations"
   ]
  },
  {
   "cell_type": "markdown",
   "metadata": {
    "id": "6lncBvjzZEak"
   },
   "source": [
    "### Implementation"
   ]
  },
  {
   "cell_type": "markdown",
   "metadata": {
    "id": "RtWVrhgDXsXm"
   },
   "source": [
    "#### Objective Function"
   ]
  },
  {
   "cell_type": "code",
   "execution_count": 74,
   "metadata": {},
   "outputs": [],
   "source": [
    "def f(i, j, h):\n",
    "  return int(T[i-1][h-1] == C[j-1][h-1] == '1')\n",
    "\n",
    "def tau_value(bit_string, j, h):\n",
    "  return int(bit_string[(h-1) * M + (j - 1)])\n",
    "\n",
    "def lambda_value(bit_string, i, h):\n",
    "  return int(bit_string[(H * M) + ((h-1) * N + (i - 1))])\n",
    "\n",
    "def f_value(bit_string, i, j, h):\n",
    "  return int(bit_string[(H * M) + (N * H) + ((i - 1) * H * M) + ((j - 1) * H) + (h - 1)])"
   ]
  },
  {
   "cell_type": "code",
   "execution_count": 75,
   "metadata": {
    "id": "_rqg3jtnQkXU"
   },
   "outputs": [],
   "source": [
    "def objective(bit_string):\n",
    "  # since qiskit represent solution in least significant bit format\n",
    "  bit_string = bit_string[::-1]\n",
    "  cost = 0\n",
    "  a = b = c = d = 0\n",
    "  # equation a\n",
    "  for i in range(1, N + 1):\n",
    "      for j in range(1, M + 1):\n",
    "          for h in range(1, H + 1):\n",
    "              if f(i, j, h) != f_value(bit_string, i, j, h):\n",
    "                  cost += 1\n",
    "                  a += 1\n",
    "\n",
    "  # equation b\n",
    "  for i in range(1, N + 1):\n",
    "      for j in range(1, M + 1):\n",
    "          temp = 0\n",
    "          for h in range(1, H + 1):\n",
    "              temp += f_value(bit_string, i, j, h)\n",
    "          cost += (temp - R[i-1][j-1])**2\n",
    "          b += (temp - R[i-1][j-1])**2\n",
    "\n",
    "  # equation c\n",
    "  for j in range(1, M + 1):\n",
    "      for h in range(1, H + 1):\n",
    "          temp = 0\n",
    "          for i in range(1, N + 1):\n",
    "              temp += f_value(bit_string, i, j, h)\n",
    "          cost += (temp + tau_value(bit_string, j, h) - 1)**2\n",
    "          c += (temp + tau_value(bit_string, j, h) - 1)**2\n",
    "\n",
    "  # equation d\n",
    "  for i in range(1, N + 1):\n",
    "      for h in range(1, H + 1):\n",
    "          temp = 0\n",
    "          for j in range(1, M + 1):\n",
    "              temp += f_value(bit_string, i, j, h)\n",
    "          cost += (temp + lambda_value(bit_string, i, h) - 1)**2\n",
    "          d += (temp + lambda_value(bit_string, i, h) - 1)**2\n",
    "\n",
    "  return [cost, a, b, c, d]"
   ]
  },
  {
   "cell_type": "markdown",
   "metadata": {
    "id": "WnyoHLcIX4q3"
   },
   "source": [
    "#### Circuit"
   ]
  },
  {
   "cell_type": "markdown",
   "metadata": {},
   "source": [
    "#### Draw circuit "
   ]
  },
  {
   "cell_type": "code",
   "execution_count": 76,
   "metadata": {},
   "outputs": [],
   "source": [
    "# qc = QuantumCircuit(required_qubits)\n",
    "\n",
    "# for i in range(required_qubits):\n",
    "#     qc.h(i)\n",
    "\n",
    "# for equation in prepared_equations:\n",
    "#     for term in equation:\n",
    "#         theta = int(term[0])\n",
    "#         locations = term[1]\n",
    "#         if len(locations) == 1:  # Rz Gate\n",
    "#             qc.rz(theta * -1 , locations[0])\n",
    "\n",
    "#         elif len(locations) == 2:  # Rzz gate\n",
    "#             qc.rz(theta * -0.5 , locations[0])\n",
    "#             qc.rz(theta * -0.5 , locations[1])\n",
    "#             qc.rzz(theta * 0.5 , locations[0], locations[1])\n",
    "\n",
    "# for qubit in range(required_qubits - 1):\n",
    "#     qc.rx(1, qubit)\n",
    "\n",
    "# qc.draw(\"mpl\")"
   ]
  },
  {
   "cell_type": "code",
   "execution_count": 77,
   "metadata": {
    "id": "HKUaUyw4X3oN"
   },
   "outputs": [],
   "source": [
    "def layers_gen(p, initial_value=1.0):\n",
    "    return [initial_value] * p * 2\n",
    "\n",
    "\n",
    "def create_qaoa_circ(thetas):\n",
    "    n_layers = len(thetas)//2\n",
    "\n",
    "    alpha = thetas[n_layers:]\n",
    "    gamma = thetas[:n_layers]\n",
    "\n",
    "    qc = QuantumCircuit(required_qubits)\n",
    "\n",
    "    for i in range(required_qubits):\n",
    "        qc.h(i)\n",
    "    \n",
    "    for layer_index in range(n_layers):\n",
    "        for equation in prepared_equations:\n",
    "            for term in equation:\n",
    "                theta = int(term[0])\n",
    "                locations = term[1]\n",
    "\n",
    "                if len(locations) == 1:  # Rz Gate\n",
    "                    qc.rz(theta * -1 * alpha[layer_index], locations[0])\n",
    "\n",
    "                elif len(locations) == 2:  # Rzz gate\n",
    "                    qc.rz(theta * -0.5 * alpha[layer_index], locations[0])\n",
    "                    qc.rz(theta * -0.5 * alpha[layer_index], locations[1])\n",
    "                    qc.rzz(theta * 0.5 * alpha[layer_index], locations[0], locations[1])\n",
    "\n",
    "        for qubit in range(required_qubits - 1):\n",
    "            qc.rx(2 * gamma[layer_index], qubit)\n",
    "\n",
    "    qc.measure_all()\n",
    "\n",
    "    return qc"
   ]
  },
  {
   "cell_type": "code",
   "execution_count": 78,
   "metadata": {},
   "outputs": [],
   "source": [
    "total = [0] * 4\n",
    "\n",
    "\n",
    "def compute_expectation(counts):\n",
    "    avg = 0\n",
    "    sum_count = 0\n",
    "    for bit_string, count in counts.items():\n",
    "        obj, a, b, c, d = objective(bit_string)\n",
    "        total[0] += a\n",
    "        total[1] += b\n",
    "        total[2] += c\n",
    "        total[3] += d\n",
    "        avg += obj * count\n",
    "        sum_count += count\n",
    "    return avg/sum_count\n",
    "\n",
    "\n",
    "def get_expectation():\n",
    "\n",
    "    def execute_circ(theta):\n",
    "        global iterations\n",
    "        qc = create_qaoa_circ(theta)\n",
    "        tc = transpile(qc, backend, optimization_level=3,\n",
    "                       seed_transpiler=random_seed)\n",
    "\n",
    "        counts = backend.run(tc, seed_simulator=random_seed,\n",
    "                             shots=shots).result().get_counts()\n",
    "        print(compute_expectation(counts))\n",
    "        iterations += 1\n",
    "        return compute_expectation(counts)\n",
    "\n",
    "    return execute_circ"
   ]
  },
  {
   "cell_type": "code",
   "execution_count": 79,
   "metadata": {
    "colab": {
     "base_uri": "https://localhost:8080/"
    },
    "id": "MCSSZrIQLN5j",
    "outputId": "f389b5bf-5cf6-43c6-e77d-c22956d225bd",
    "scrolled": true,
    "tags": []
   },
   "outputs": [
    {
     "name": "stdout",
     "output_type": "stream",
     "text": [
      "4.511360677083333\n",
      "2.2305013020833333\n",
      "4.5478515625\n",
      "4.149869791666666\n",
      "3.5631510416666665\n",
      "4.290592447916667\n",
      "4.434830729166666\n",
      "4.05673828125\n",
      "4.140592447916666\n",
      "3.841666666666667\n",
      "3.33115234375\n",
      "2.52880859375\n",
      "3.153450520833333\n",
      "2.3545572916666666\n",
      "3.8056640625\n",
      "2.32978515625\n",
      "1.5312825520833333\n",
      "3.1587239583333333\n",
      "2.1990234375\n",
      "2.6420572916666667\n",
      "2.597916666666667\n",
      "3.7715494791666666\n",
      "2.697493489583333\n",
      "1.4705403645833333\n",
      "2.2310546875\n",
      "1.6801432291666667\n",
      "2.128287760416667\n",
      "1.528515625\n",
      "2.8692057291666666\n",
      "1.5246744791666667\n",
      "3.69580078125\n",
      "1.5926106770833333\n",
      "2.6475260416666666\n",
      "1.422265625\n",
      "1.7388020833333333\n",
      "1.4488932291666667\n",
      "2.04931640625\n",
      "1.5639322916666667\n",
      "3.1259114583333334\n",
      "1.5448567708333334\n",
      "2.139876302083333\n",
      "1.3435872395833333\n",
      "1.7033528645833333\n",
      "2.027734375\n",
      "1.5297526041666667\n",
      "1.7421875\n",
      "2.262076822916667\n",
      "1.721875\n",
      "1.2950520833333334\n",
      "1.8433919270833334\n",
      "1.4822916666666666\n",
      "1.7528971354166667\n",
      "1.2758138020833334\n",
      "1.6397135416666666\n",
      "1.3878255208333334\n",
      "1.4527018229166666\n",
      "1.27275390625\n",
      "1.3219401041666667\n",
      "1.3400716145833333\n",
      "1.79765625\n",
      "1.30634765625\n",
      "1.7412109375\n",
      "1.31953125\n",
      "1.2815755208333333\n",
      "1.3657877604166666\n",
      "1.2671549479166666\n",
      "1.3080078125\n",
      "1.2677083333333334\n",
      "1.2986002604166667\n",
      "1.2509765625\n",
      "1.2820638020833333\n",
      "1.3345377604166666\n",
      "1.2519856770833333\n",
      "1.2720703125\n",
      "1.3087565104166667\n",
      "1.2637369791666666\n",
      "1.35634765625\n",
      "1.3524088541666666\n",
      "1.23388671875\n",
      "1.2497395833333333\n",
      "1.2498372395833333\n",
      "1.2294270833333334\n",
      "1.25595703125\n",
      "1.25888671875\n",
      "1.2176432291666666\n",
      "1.22802734375\n",
      "1.2306966145833333\n",
      "1.2293619791666666\n",
      "1.2347981770833334\n",
      "1.2126953125\n",
      "1.21064453125\n",
      "1.19833984375\n",
      "1.21396484375\n",
      "1.1937174479166666\n",
      "1.2047200520833334\n",
      "1.1966796875\n",
      "1.2263346354166667\n",
      "1.1906575520833333\n",
      "1.2224283854166667\n",
      "1.2010091145833333\n",
      "1.2137369791666666\n",
      "1.196484375\n",
      "1.1980143229166667\n",
      "1.191015625\n",
      "1.2033528645833333\n",
      "1.1997721354166666\n",
      "1.2073893229166666\n",
      "1.1944986979166667\n",
      "1.1916666666666667\n",
      "1.1991861979166667\n",
      "1.1877604166666667\n",
      "1.1847330729166667\n",
      "1.1876627604166667\n",
      "1.1677408854166667\n",
      "1.1400390625\n",
      "1.12880859375\n",
      "1.1231770833333334\n",
      "1.1140299479166667\n",
      "1.1160807291666666\n",
      "1.1035481770833333\n",
      "1.0918294270833333\n",
      "1.0839192708333334\n",
      "1.0831705729166667\n",
      "1.0781901041666666\n",
      "1.07783203125\n",
      "1.0782877604166667\n",
      "1.0810221354166667\n",
      "1.08251953125\n",
      "1.0803059895833333\n",
      "1.07509765625\n",
      "1.0729166666666667\n",
      "1.08466796875\n",
      "1.07548828125\n",
      "1.0997721354166667\n",
      "1.0736328125\n",
      "1.0567057291666666\n",
      "1.0760091145833333\n",
      "1.0557942708333334\n",
      "1.0660481770833334\n",
      "1.0543294270833334\n",
      "1.0539388020833333\n",
      "1.0547526041666666\n",
      "1.0539388020833333\n",
      "1.05556640625\n",
      "1.05009765625\n",
      "1.0540364583333333\n",
      "1.0443033854166666\n",
      "1.04140625\n",
      "1.04560546875\n",
      "1.0427083333333333\n",
      "1.0380533854166667\n",
      "1.03916015625\n",
      "1.04228515625\n",
      "1.0396809895833334\n",
      "1.0385416666666667\n",
      "1.040234375\n",
      "1.0392578125\n",
      "1.0428059895833333\n",
      "1.0384114583333333\n",
      "1.0337890625\n",
      "1.0320963541666666\n",
      "1.0359375\n",
      "1.0321940104166667\n",
      "1.0317057291666667\n",
      "1.03125\n",
      "1.0328450520833334\n",
      "1.03095703125\n",
      "1.0365234375\n",
      "1.0333984375\n",
      "1.0314778645833333\n",
      "1.03125\n",
      "1.0310546875\n",
      "1.0301106770833333\n",
      "1.031640625\n",
      "1.0318033854166666\n",
      "1.0306315104166666\n",
      "1.03134765625\n",
      "1.0298502604166666\n",
      "1.03125\n",
      "1.0303385416666666\n",
      "1.03037109375\n",
      "1.0294270833333334\n",
      "1.0298828125\n",
      "1.0299479166666667\n",
      "1.0279296875\n",
      "1.0282877604166667\n",
      "1.0287109375\n",
      "1.0285807291666667\n",
      "1.0273763020833333\n",
      "1.02802734375\n",
      "1.0281901041666666\n",
      "1.0312174479166667\n",
      "1.02451171875\n",
      "1.0248372395833334\n",
      "1.0238932291666667\n",
      "1.0224283854166667\n",
      "1.02333984375\n",
      "1.02119140625\n",
      "1.021484375\n",
      "1.0208333333333333\n",
      "1.0211588541666667\n",
      "1.0235026041666666\n",
      "1.0212239583333333\n",
      "1.02265625\n",
      "1.0210611979166666\n",
      "1.0225911458333334\n",
      "1.0217122395833333\n",
      "1.0231770833333333\n",
      "1.0227864583333333\n",
      "1.0209635416666667\n",
      "1.0205078125\n",
      "1.0231119791666667\n",
      "1.022265625\n",
      "1.0200846354166666\n",
      "1.0196940104166667\n",
      "1.021484375\n",
      "1.0192057291666667\n",
      "1.0225260416666666\n",
      "1.0187825520833333\n",
      "1.0190104166666667\n",
      "1.01845703125\n",
      "1.01826171875\n",
      "1.0177734375\n",
      "1.0175455729166667\n",
      "1.01708984375\n",
      "1.0176432291666666\n",
      "1.0170572916666667\n",
      "1.0169921875\n",
      "1.0173177083333333\n",
      "1.0173502604166667\n",
      "1.0169921875\n",
      "1.0170247395833334\n",
      "1.0173502604166667\n",
      "1.01708984375\n",
      "1.0170572916666667\n",
      "1.0169270833333333\n",
      "1.0165690104166667\n",
      "1.0156901041666666\n",
      "1.0153971354166667\n",
      "1.0158854166666667\n",
      "1.0152669270833334\n",
      "1.0161783854166666\n",
      "1.0152994791666667\n",
      "1.0162109375\n",
      "1.01474609375\n",
      "1.0146158854166667\n",
      "1.0147786458333334\n",
      "1.013671875\n",
      "1.0138020833333334\n",
      "1.01357421875\n",
      "1.01337890625\n",
      "1.0132161458333333\n",
      "1.0128580729166667\n",
      "1.0126627604166667\n",
      "1.01318359375\n",
      "1.0125325520833333\n",
      "1.0140625\n",
      "1.0129557291666667\n",
      "1.0129557291666667\n",
      "1.0126627604166667\n",
      "1.0122721354166666\n",
      "1.0123046875\n",
      "1.0112630208333333\n",
      "1.0107096354166667\n",
      "1.0107421875\n",
      "1.0106770833333334\n",
      "1.0105143229166667\n",
      "1.0103515625\n",
      "1.0103190104166666\n",
      "1.0103515625\n",
      "1.01044921875\n",
      "1.0104817708333333\n",
      "1.01015625\n",
      "1.0102213541666667\n",
      "1.01064453125\n",
      "1.0099609375\n",
      "1.00986328125\n",
      "1.0096354166666666\n",
      "1.0096028645833333\n",
      "1.0092122395833334\n",
      "1.0086588541666666\n",
      "1.0092447916666667\n",
      "1.0088216145833333\n",
      "1.00869140625\n",
      "1.0087565104166667\n",
      "1.0091796875\n",
      "1.0082682291666667\n",
      "1.0083333333333333\n",
      "1.008203125\n",
      "1.0083333333333333\n",
      "1.00791015625\n",
      "1.0077473958333334\n",
      "1.0080078125\n",
      "1.0078450520833333\n",
      "1.00810546875\n",
      "1.0078125\n",
      "1.0081705729166666\n",
      "1.0076171875\n",
      "1.0087890625\n",
      "1.0073893229166666\n",
      "1.0076497395833333\n",
      "1.0076497395833333\n",
      "1.0078776041666666\n",
      "1.0074544270833334\n",
      "1.0076171875\n",
      "1.0074869791666667\n",
      "1.0078776041666666\n",
      "1.007421875\n",
      "1.0075520833333333\n",
      "1.00751953125\n",
      "1.0073567708333333\n",
      "1.0076497395833333\n",
      "1.007421875\n",
      "1.0074869791666667\n",
      "1.0074869791666667\n",
      "1.007421875\n",
      "1.0073567708333333\n",
      "1.0076171875\n",
      "1.0072916666666667\n",
      "1.0073567708333333\n",
      "1.00732421875\n",
      "1.0072916666666667\n",
      "1.0073567708333333\n",
      "1.0073567708333333\n",
      "1.00732421875\n",
      "1.0073567708333333\n",
      "1.0073567708333333\n",
      "1.0073567708333333\n",
      "1.007421875\n",
      "1.00732421875\n",
      "1.0074544270833334\n",
      "1.0073893229166666\n",
      "1.0073893229166666\n",
      "1.0072916666666667\n",
      "1.0074544270833334\n",
      "1.00732421875\n",
      "1.0073893229166666\n",
      "1.0072916666666667\n",
      "1.0073567708333333\n",
      "1.0072916666666667\n",
      "1.0072916666666667\n",
      "1.0072916666666667\n",
      "1.0072916666666667\n",
      "1.0072916666666667\n",
      "1.0072916666666667\n",
      "1.0072916666666667\n",
      "1.0072916666666667\n",
      "1.0072916666666667\n",
      "1.0072916666666667\n",
      "1.0072916666666667\n",
      "1.0072916666666667\n",
      "1.0072916666666667\n",
      "1.0072916666666667\n",
      "1.0072916666666667\n",
      "1.0072916666666667\n",
      "1.0072916666666667\n",
      "1.0072916666666667\n",
      "1.0072916666666667\n",
      "1.0072916666666667\n",
      "1.0072916666666667\n",
      "1.0072916666666667\n",
      "1.0072916666666667\n",
      "1.0072916666666667\n",
      "1.0072916666666667\n",
      "1.0072916666666667\n",
      "1.0072916666666667\n",
      "1.0072916666666667\n",
      "1.0072916666666667\n",
      "1.0072916666666667\n",
      "1.0072916666666667\n",
      "1.0072916666666667\n",
      "1.0072916666666667\n",
      "1.0072916666666667\n",
      "1.0072916666666667\n",
      "1.0072916666666667\n"
     ]
    },
    {
     "data": {
      "text/plain": [
       " message: Optimization terminated successfully.\n",
       " success: True\n",
       "  status: 1\n",
       "     fun: 1.0072916666666667\n",
       "       x: [ 2.014e+00  1.357e+00 ...  1.194e+00  7.231e-01]\n",
       "    nfev: 375\n",
       "   maxcv: 0.0"
      ]
     },
     "execution_count": 79,
     "metadata": {},
     "output_type": "execute_result"
    }
   ],
   "source": [
    "from scipy.optimize import minimize\n",
    "expectation = get_expectation()\n",
    "start_time = time.time()\n",
    "res = minimize(expectation, layers_gen(layers), method='COBYLA')\n",
    "minimization_time = time.time() - start_time\n",
    "\n",
    "res"
   ]
  },
  {
   "cell_type": "code",
   "execution_count": 80,
   "metadata": {},
   "outputs": [
    {
     "name": "stdout",
     "output_type": "stream",
     "text": [
      "a: 19538\n",
      "b: 8250\n",
      "c: 14126\n",
      "d: 13988\n"
     ]
    }
   ],
   "source": [
    "print(\"a:\", total[0])\n",
    "print(\"b:\", total[1])\n",
    "print(\"c:\", total[2])\n",
    "print(\"d:\", total[3])"
   ]
  },
  {
   "cell_type": "markdown",
   "metadata": {
    "id": "l7b5F8DsLbbj"
   },
   "source": [
    "### Results"
   ]
  },
  {
   "cell_type": "code",
   "execution_count": 81,
   "metadata": {
    "id": "FKDf4o0LLN5j",
    "tags": []
   },
   "outputs": [
    {
     "name": "stdout",
     "output_type": "stream",
     "text": [
      "10\n",
      "-----------------\n",
      "BINGO\n",
      "011010\n",
      "15246\n",
      "-----------------\n",
      "Solution 100101 cost: 2 count 15406\n",
      "Solution 011010 cost: 0 count 15246\n",
      "Solution 001111 cost: 2 count 15\n",
      "Solution 110000 cost: 2 count 14\n",
      "Solution 011011 cost: 1 count 13\n",
      "Solution 011110 cost: 1 count 9\n",
      "Solution 100100 cost: 3 count 7\n",
      "Solution 100001 cost: 3 count 5\n",
      "Solution 001010 cost: 4 count 3\n",
      "Solution 011111 cost: 2 count 2\n"
     ]
    },
    {
     "data": {
      "image/png": "[encoded data removed]",
      "text/plain": [
       "<Figure size 700x500 with 1 Axes>"
      ]
     },
     "execution_count": 81,
     "metadata": {},
     "output_type": "execute_result"
    }
   ],
   "source": [
    "from qiskit.visualization import plot_histogram\n",
    "\n",
    "qc_res = create_qaoa_circ(res.x)\n",
    "counts = backend.run(qc_res, seed_simulator=random_seed,\n",
    "                     shots=shots).result().get_counts()\n",
    "\n",
    "\n",
    "counts = dict(sorted(counts.items(), key=lambda item: item[1], reverse=True))\n",
    "counts_cost = dict(\n",
    "    sorted(counts.items(), key=lambda item: item[1], reverse=True))\n",
    "\n",
    "values = list(counts.values())\n",
    "binary = list(counts.keys())\n",
    "\n",
    "output = {}\n",
    "\n",
    "print(len(counts))\n",
    "\n",
    "for key in binary:\n",
    "    if objective(key)[0] == 0:\n",
    "        print(\"-----------------\")\n",
    "        print(\"BINGO\")\n",
    "        print(key)\n",
    "        print(counts[key])\n",
    "        print(\"-----------------\")\n",
    "\n",
    "for key in binary[:10]:\n",
    "    print(\"Solution\", key, \"cost:\", objective(key)[0], \"count\", counts[key])\n",
    "    output[key] = counts[key]\n",
    "\n",
    "# plot_histogram(output).savefig(f\"./png/{H}_{M}_{N}_{shots}_{layers}_{time.time_ns()}.png\")\n",
    "plot_histogram(output)"
   ]
  },
  {
   "cell_type": "code",
   "execution_count": 82,
   "metadata": {},
   "outputs": [
    {
     "name": "stdout",
     "output_type": "stream",
     "text": [
      "Solution 011010 cost: 0 count 15246\n"
     ]
    }
   ],
   "source": [
    "sol = required_qubits\n",
    "sol_bin = \"\"\n",
    "\n",
    "for i in counts:\n",
    "  ob = objective(i)[0]\n",
    "  if ob < sol:\n",
    "    sol = ob\n",
    "    sol_bin = i\n",
    "\n",
    "counts[\"H\"] = H\n",
    "counts[\"M\"] = M\n",
    "counts[\"N\"] = N\n",
    "counts[\"shots\"] = shots\n",
    "counts[\"layers\"] = layers\n",
    "counts[\"solution\"] = sol_bin\n",
    "counts[\"solution_cost\"] = sol\n",
    "counts[\"solution_count\"] = counts[sol_bin]\n",
    "counts[\"minimization_time\"] = minimization_time\n",
    "counts[\"execution_time\"] = time.time() - simulation_time\n",
    "counts[\"iterations\"] = iterations \n",
    "\n",
    "print(\"Solution\",sol_bin ,\"cost:\",sol,\"count\", counts[sol_bin])"
   ]
  },
  {
   "cell_type": "code",
   "execution_count": 83,
   "metadata": {},
   "outputs": [],
   "source": [
    "file = open(f\"../json/simulation/6/{H}_{M}_{N}_{shots}_{layers}_simulation.json\", \"w\")\n",
    "file.write(json.dumps(counts))\n",
    "file.flush()"
   ]
  },
  {
   "cell_type": "code",
   "execution_count": 84,
   "metadata": {},
   "outputs": [
    {
     "data": {
      "image/png": "[encoded data removed]",
      "text/latex": [
       "$\\displaystyle 187.863509893417$"
      ],
      "text/plain": [
       "187.86350989341736"
      ]
     },
     "execution_count": 84,
     "metadata": {},
     "output_type": "execute_result"
    }
   ],
   "source": [
    "counts[\"execution_time\"]"
   ]
  },
  {
   "cell_type": "code",
   "execution_count": 85,
   "metadata": {},
   "outputs": [
    {
     "data": {
      "image/png": "[encoded data removed]",
      "text/latex": [
       "$\\displaystyle 46.31964802742$"
      ],
      "text/plain": [
       "46.319648027420044"
      ]
     },
     "execution_count": 85,
     "metadata": {},
     "output_type": "execute_result"
    }
   ],
   "source": [
    "minimization_time"
   ]
  }
 ],
 "metadata": {
  "colab": {
   "collapsed_sections": [
    "alCyWOxAWcdV",
    "TiWcxBn4_H1e"
   ],
   "provenance": []
  },
  "kernelspec": {
   "display_name": "Python 3 (ipykernel)",
   "language": "python",
   "name": "python3"
  },
  "language_info": {
   "codemirror_mode": {
    "name": "ipython",
    "version": 3
   },
   "file_extension": ".py",
   "mimetype": "text/x-python",
   "name": "python",
   "nbconvert_exporter": "python",
   "pygments_lexer": "ipython3",
   "version": "3.12.3"
  }
 },
 "nbformat": 4,
 "nbformat_minor": 4
}
