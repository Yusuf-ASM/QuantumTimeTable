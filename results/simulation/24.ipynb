{
 "cells": [
  {
   "cell_type": "markdown",
   "metadata": {
    "id": "alCyWOxAWcdV",
    "jp-MarkdownHeadingCollapsed": true,
    "tags": []
   },
   "source": [
    "### Installing Qiskit"
   ]
  },
  {
   "cell_type": "markdown",
   "metadata": {},
   "source": [
    "#### Normal installation"
   ]
  },
  {
   "cell_type": "code",
   "execution_count": 51,
   "metadata": {
    "colab": {
     "base_uri": "https://localhost:8080/"
    },
    "id": "HE2WwMMhVL8p",
    "outputId": "73f03985-1eca-4c27-c073-1a5cb9948d80",
    "tags": []
   },
   "outputs": [
    {
     "name": "stdout",
     "output_type": "stream",
     "text": [
      "Defaulting to user installation because normal site-packages is not writeable\n",
      "Requirement already satisfied: qiskit-ibm-runtime in /home/yusuf/.local/lib/python3.12/site-packages (0.23.0)\n",
      "Requirement already satisfied: qiskit in /home/yusuf/.local/lib/python3.12/site-packages (1.0.2)\n",
      "Requirement already satisfied: qiskit_aer in /home/yusuf/.local/lib/python3.12/site-packages (0.14.2)\n",
      "Requirement already satisfied: python-dotenv in /home/yusuf/.local/lib/python3.12/site-packages (1.0.1)\n",
      "Requirement already satisfied: rustworkx>=0.14.0 in /home/yusuf/.local/lib/python3.12/site-packages (from qiskit[visualization]) (0.14.2)\n",
      "Requirement already satisfied: numpy<2,>=1.17 in /home/yusuf/.local/lib/python3.12/site-packages (from qiskit[visualization]) (1.26.4)\n",
      "Requirement already satisfied: scipy>=1.5 in /home/yusuf/.local/lib/python3.12/site-packages (from qiskit[visualization]) (1.14.0)\n",
      "Requirement already satisfied: sympy>=1.3 in /home/yusuf/.local/lib/python3.12/site-packages (from qiskit[visualization]) (1.12)\n",
      "Requirement already satisfied: dill>=0.3 in /home/yusuf/.local/lib/python3.12/site-packages (from qiskit[visualization]) (0.3.8)\n",
      "Requirement already satisfied: python-dateutil>=2.8.0 in /usr/lib/python3.12/site-packages (from qiskit[visualization]) (2.8.2)\n",
      "Requirement already satisfied: stevedore>=3.0.0 in /home/yusuf/.local/lib/python3.12/site-packages (from qiskit[visualization]) (5.2.0)\n",
      "Requirement already satisfied: typing-extensions in /home/yusuf/.local/lib/python3.12/site-packages (from qiskit[visualization]) (4.11.0)\n",
      "Requirement already satisfied: symengine>=0.11 in /home/yusuf/.local/lib/python3.12/site-packages (from qiskit[visualization]) (0.11.0)\n",
      "Requirement already satisfied: matplotlib>=3.3 in /home/yusuf/.local/lib/python3.12/site-packages (from qiskit[visualization]) (3.8.4)\n",
      "Requirement already satisfied: pydot in /home/yusuf/.local/lib/python3.12/site-packages (from qiskit[visualization]) (2.0.0)\n",
      "Requirement already satisfied: Pillow>=4.2.1 in /usr/lib64/python3.12/site-packages (from qiskit[visualization]) (10.3.0)\n",
      "Requirement already satisfied: pylatexenc>=1.4 in /home/yusuf/.local/lib/python3.12/site-packages (from qiskit[visualization]) (2.10)\n",
      "Requirement already satisfied: seaborn>=0.9.0 in /home/yusuf/.local/lib/python3.12/site-packages (from qiskit[visualization]) (0.13.2)\n",
      "Requirement already satisfied: requests>=2.19 in /home/yusuf/.local/lib/python3.12/site-packages (from qiskit-ibm-runtime) (2.31.0)\n",
      "Requirement already satisfied: requests-ntlm>=1.1.0 in /home/yusuf/.local/lib/python3.12/site-packages (from qiskit-ibm-runtime) (1.2.0)\n",
      "Requirement already satisfied: urllib3>=1.21.1 in /home/yusuf/.local/lib/python3.12/site-packages (from qiskit-ibm-runtime) (2.2.1)\n",
      "Requirement already satisfied: websocket-client>=1.5.1 in /home/yusuf/.local/lib/python3.12/site-packages (from qiskit-ibm-runtime) (1.7.0)\n",
      "Requirement already satisfied: ibm-platform-services>=0.22.6 in /home/yusuf/.local/lib/python3.12/site-packages (from qiskit-ibm-runtime) (0.53.4)\n",
      "Requirement already satisfied: pydantic in /home/yusuf/.local/lib/python3.12/site-packages (from qiskit-ibm-runtime) (2.7.0)\n",
      "Requirement already satisfied: psutil>=5 in /home/yusuf/.local/lib/python3.12/site-packages (from qiskit_aer) (5.9.8)\n",
      "Requirement already satisfied: ibm-cloud-sdk-core<4.0.0,>=3.19.2 in /home/yusuf/.local/lib/python3.12/site-packages (from ibm-platform-services>=0.22.6->qiskit-ibm-runtime) (3.20.0)\n",
      "Requirement already satisfied: contourpy>=1.0.1 in /home/yusuf/.local/lib/python3.12/site-packages (from matplotlib>=3.3->qiskit[visualization]) (1.2.1)\n",
      "Requirement already satisfied: cycler>=0.10 in /home/yusuf/.local/lib/python3.12/site-packages (from matplotlib>=3.3->qiskit[visualization]) (0.12.1)\n",
      "Requirement already satisfied: fonttools>=4.22.0 in /home/yusuf/.local/lib/python3.12/site-packages (from matplotlib>=3.3->qiskit[visualization]) (4.51.0)\n",
      "Requirement already satisfied: kiwisolver>=1.3.1 in /home/yusuf/.local/lib/python3.12/site-packages (from matplotlib>=3.3->qiskit[visualization]) (1.4.5)\n",
      "Requirement already satisfied: packaging>=20.0 in /usr/lib/python3.12/site-packages (from matplotlib>=3.3->qiskit[visualization]) (23.2)\n",
      "Requirement already satisfied: pyparsing>=2.3.1 in /usr/lib/python3.12/site-packages (from matplotlib>=3.3->qiskit[visualization]) (3.1.2)\n",
      "Requirement already satisfied: six>=1.5 in /usr/lib/python3.12/site-packages (from python-dateutil>=2.8.0->qiskit[visualization]) (1.16.0)\n",
      "Requirement already satisfied: charset-normalizer<4,>=2 in /usr/lib/python3.12/site-packages (from requests>=2.19->qiskit-ibm-runtime) (3.3.2)\n",
      "Requirement already satisfied: idna<4,>=2.5 in /usr/lib/python3.12/site-packages (from requests>=2.19->qiskit-ibm-runtime) (3.7)\n",
      "Requirement already satisfied: certifi>=2017.4.17 in /usr/lib/python3.12/site-packages (from requests>=2.19->qiskit-ibm-runtime) (2023.5.7)\n",
      "Requirement already satisfied: cryptography>=1.3 in /usr/lib64/python3.12/site-packages (from requests-ntlm>=1.1.0->qiskit-ibm-runtime) (41.0.7)\n",
      "Requirement already satisfied: pyspnego>=0.1.6 in /home/yusuf/.local/lib/python3.12/site-packages (from requests-ntlm>=1.1.0->qiskit-ibm-runtime) (0.10.2)\n",
      "Requirement already satisfied: pandas>=1.2 in /home/yusuf/.local/lib/python3.12/site-packages (from seaborn>=0.9.0->qiskit[visualization]) (2.2.2)\n",
      "Requirement already satisfied: pbr!=2.1.0,>=2.0.0 in /home/yusuf/.local/lib/python3.12/site-packages (from stevedore>=3.0.0->qiskit[visualization]) (6.0.0)\n",
      "Requirement already satisfied: mpmath>=0.19 in /home/yusuf/.local/lib/python3.12/site-packages (from sympy>=1.3->qiskit[visualization]) (1.3.0)\n",
      "Requirement already satisfied: annotated-types>=0.4.0 in /home/yusuf/.local/lib/python3.12/site-packages (from pydantic->qiskit-ibm-runtime) (0.6.0)\n",
      "Requirement already satisfied: pydantic-core==2.18.1 in /home/yusuf/.local/lib/python3.12/site-packages (from pydantic->qiskit-ibm-runtime) (2.18.1)\n",
      "Requirement already satisfied: cffi>=1.12 in /usr/lib64/python3.12/site-packages (from cryptography>=1.3->requests-ntlm>=1.1.0->qiskit-ibm-runtime) (1.16.0)\n",
      "Requirement already satisfied: PyJWT<3.0.0,>=2.8.0 in /home/yusuf/.local/lib/python3.12/site-packages (from ibm-cloud-sdk-core<4.0.0,>=3.19.2->ibm-platform-services>=0.22.6->qiskit-ibm-runtime) (2.8.0)\n",
      "Requirement already satisfied: pytz>=2020.1 in /usr/lib/python3.12/site-packages (from pandas>=1.2->seaborn>=0.9.0->qiskit[visualization]) (2024.1)\n",
      "Requirement already satisfied: tzdata>=2022.7 in /home/yusuf/.local/lib/python3.12/site-packages (from pandas>=1.2->seaborn>=0.9.0->qiskit[visualization]) (2024.1)\n",
      "Requirement already satisfied: pycparser in /usr/lib/python3.12/site-packages (from cffi>=1.12->cryptography>=1.3->requests-ntlm>=1.1.0->qiskit-ibm-runtime) (2.20)\n",
      "Requirement already satisfied: ply==3.11 in /usr/lib/python3.12/site-packages (from pycparser->cffi>=1.12->cryptography>=1.3->requests-ntlm>=1.1.0->qiskit-ibm-runtime) (3.11)\n",
      "Note: you may need to restart the kernel to use updated packages.\n"
     ]
    }
   ],
   "source": [
    "%pip install qiskit[visualization] qiskit-ibm-runtime qiskit qiskit_aer python-dotenv"
   ]
  },
  {
   "cell_type": "markdown",
   "metadata": {},
   "source": [
    "#### GPU installation"
   ]
  },
  {
   "cell_type": "code",
   "execution_count": 52,
   "metadata": {},
   "outputs": [],
   "source": [
    "# %pip install qiskit[visualization] qiskit-ibm-runtime qiskit qiskit_aer-gpu python-dotenv"
   ]
  },
  {
   "cell_type": "markdown",
   "metadata": {
    "id": "TiWcxBn4_H1e",
    "tags": []
   },
   "source": [
    "### Libraries Importing\n"
   ]
  },
  {
   "cell_type": "code",
   "execution_count": 53,
   "metadata": {
    "id": "0pxiZGX7_YEB",
    "tags": []
   },
   "outputs": [],
   "source": [
    "from qiskit_ibm_runtime import QiskitRuntimeService\n",
    "from qiskit.visualization import plot_histogram\n",
    "from qiskit import QuantumCircuit, transpile\n",
    "from qiskit_aer import AerSimulator\n",
    "from dotenv import load_dotenv\n",
    "from sympy import *\n",
    "import json\n",
    "import time\n",
    "import os\n",
    "import itertools\n",
    "\n",
    "\n",
    "\n",
    "load_dotenv()\n",
    "init_printing()\n",
    "simulation_time = time.time()  # to calculate simulation time"
   ]
  },
  {
   "cell_type": "code",
   "execution_count": 54,
   "metadata": {},
   "outputs": [
    {
     "name": "stdout",
     "output_type": "stream",
     "text": [
      "('CPU',)\n"
     ]
    }
   ],
   "source": [
    "backend = AerSimulator(method=\"statevector\")\n",
    "print(backend.available_devices())"
   ]
  },
  {
   "cell_type": "markdown",
   "metadata": {},
   "source": [
    "#### Use GPU"
   ]
  },
  {
   "cell_type": "code",
   "execution_count": 55,
   "metadata": {},
   "outputs": [],
   "source": [
    "# backend.set_options(device=\"GPU\")"
   ]
  },
  {
   "cell_type": "markdown",
   "metadata": {},
   "source": [
    "#### Use real quantum"
   ]
  },
  {
   "cell_type": "code",
   "execution_count": 56,
   "metadata": {},
   "outputs": [],
   "source": [
    "# services = []\n",
    "\n",
    "# for i in range(1, 6):\n",
    "#     services.append(QiskitRuntimeService(\n",
    "#         channel=\"ibm_quantum\", token=os.getenv(f\"TOKEN{i}\")))\n",
    "\n",
    "# # backend = service.backend(\"ibm_osaka\") # for real quantum\n",
    "# # backend = service.backend(\"ibm_kyoto\") # for real quantum"
   ]
  },
  {
   "cell_type": "markdown",
   "metadata": {
    "id": "zxv0s00zWqGE"
   },
   "source": [
    "\n",
    "### Problem Definition"
   ]
  },
  {
   "cell_type": "code",
   "execution_count": 57,
   "metadata": {},
   "outputs": [],
   "source": [
    "conf = json.load(open(\"../conf_24.json\", \"r\"))"
   ]
  },
  {
   "cell_type": "code",
   "execution_count": 58,
   "metadata": {},
   "outputs": [
    {
     "name": "stdout",
     "output_type": "stream",
     "text": [
      "Requried Qubits:  12\n"
     ]
    }
   ],
   "source": [
    "N = conf[\"N\"]  # Number of Teachers\n",
    "M = conf[\"M\"]  # Number of Classes\n",
    "H = conf[\"H\"]  # Number of hours in week\n",
    "\n",
    "# required_qubits = (M * N * H) + (M * H) + (N * H)\n",
    "required_qubits = (N * H * M)\n",
    "iterations = 0\n",
    "\n",
    "random_seed = conf[\"random_seed\"]\n",
    "shots = conf[\"shots\"] * 10\n",
    "layers = 5\n",
    "\n",
    "print(\"Requried Qubits: \", required_qubits)"
   ]
  },
  {
   "cell_type": "code",
   "execution_count": 59,
   "metadata": {},
   "outputs": [],
   "source": [
    "# T_i is binary string denoting the available hours for each i Teacher\n",
    "# C_j is binary string denoting the available hours for each j Class\n",
    "\n",
    "T = conf[\"T\"]\n",
    "C = conf[\"C\"]\n",
    "\n",
    "R = conf[\"R\"]  # R_ij must be either 0 or 1\n",
    "\n",
    "terms_count = 0\n",
    "equations = []"
   ]
  },
  {
   "cell_type": "markdown",
   "metadata": {
    "id": "a5uXmwzRZOnt"
   },
   "source": [
    "### Formulation"
   ]
  },
  {
   "cell_type": "markdown",
   "metadata": {
    "id": "JfexN02BYq1V"
   },
   "source": [
    "#### Equations"
   ]
  },
  {
   "cell_type": "code",
   "execution_count": 60,
   "metadata": {
    "colab": {
     "base_uri": "https://localhost:8080/",
     "height": 58
    },
    "id": "BPvEcLNQqJqw",
    "outputId": "49dfa7ca-3606-4b78-de91-741900c84563",
    "tags": []
   },
   "outputs": [
    {
     "data": {
      "image/png": "[encoded data removed]",
      "text/latex": [
       "$\\displaystyle \\left[ f_{111}^{2} + 2 f_{111} f_{112} + 2 f_{111} f_{113} - 2 f_{111} + f_{112}^{2} + 2 f_{112} f_{113} - 2 f_{112} + f_{113}^{2} - 2 f_{113} + 1, \\  f_{121}^{2} + 2 f_{121} f_{122} + 2 f_{121} f_{123} + f_{122}^{2} + 2 f_{122} f_{123} + f_{123}^{2}, \\  f_{211}^{2} + 2 f_{211} f_{212} + 2 f_{211} f_{213} + f_{212}^{2} + 2 f_{212} f_{213} + f_{213}^{2}, \\  f_{221}^{2} + 2 f_{221} f_{222} + 2 f_{221} f_{223} - 2 f_{221} + f_{222}^{2} + 2 f_{222} f_{223} - 2 f_{222} + f_{223}^{2} - 2 f_{223} + 1\\right]$"
      ],
      "text/plain": [
       "⎡    2                                            2                           \n",
       "⎣f₁₁₁  + 2⋅f₁₁₁⋅f₁₁₂ + 2⋅f₁₁₁⋅f₁₁₃ - 2⋅f₁₁₁ + f₁₁₂  + 2⋅f₁₁₂⋅f₁₁₃ - 2⋅f₁₁₂ + f\n",
       "\n",
       "   2                   2                                   2                  \n",
       "₁₁₃  - 2⋅f₁₁₃ + 1, f₁₂₁  + 2⋅f₁₂₁⋅f₁₂₂ + 2⋅f₁₂₁⋅f₁₂₃ + f₁₂₂  + 2⋅f₁₂₂⋅f₁₂₃ + f\n",
       "\n",
       "   2      2                                   2                     2      2  \n",
       "₁₂₃ , f₂₁₁  + 2⋅f₂₁₁⋅f₂₁₂ + 2⋅f₂₁₁⋅f₂₁₃ + f₂₁₂  + 2⋅f₂₁₂⋅f₂₁₃ + f₂₁₃ , f₂₂₁  +\n",
       "\n",
       "                                          2                              2    \n",
       " 2⋅f₂₂₁⋅f₂₂₂ + 2⋅f₂₂₁⋅f₂₂₃ - 2⋅f₂₂₁ + f₂₂₂  + 2⋅f₂₂₂⋅f₂₂₃ - 2⋅f₂₂₂ + f₂₂₃  - 2\n",
       "\n",
       "         ⎤\n",
       "⋅f₂₂₃ + 1⎦"
      ]
     },
     "execution_count": 60,
     "metadata": {},
     "output_type": "execute_result"
    }
   ],
   "source": [
    "for i in range(1, N + 1):\n",
    "  for j in range(1, M + 1):\n",
    "    temp = total = 0\n",
    "    for h in range(1, H + 1):\n",
    "      temp += symbols(f\"f_{i}{j}{h}\")\n",
    "    total += (temp - R[i-1][j-1])**2\n",
    "    terms_count += len(total.expand().args)\n",
    "    equations.append(total.expand())\n",
    "equations"
   ]
  },
  {
   "cell_type": "code",
   "execution_count": 61,
   "metadata": {
    "colab": {
     "base_uri": "https://localhost:8080/",
     "height": 58
    },
    "id": "oPKg_g4v6tVw",
    "outputId": "e2b51ff0-262d-4355-edca-24dec691553f",
    "tags": []
   },
   "outputs": [],
   "source": [
    "# for j in range(1, M + 1):\n",
    "#   for h in range(1, H + 1):\n",
    "#     temp = total = 0\n",
    "#     for i in range(1, N + 1):\n",
    "#       temp += symbols(f\"f_{i}{j}{h}\")\n",
    "#     total += (temp + symbols(f\"τ_{j}{h}\") - 1)**2\n",
    "#     terms_count += len(total.expand().args)\n",
    "#     equations.append(total.expand())\n",
    "# equations"
   ]
  },
  {
   "cell_type": "code",
   "execution_count": 62,
   "metadata": {},
   "outputs": [
    {
     "data": {
      "image/png": "[encoded data removed]",
      "text/latex": [
       "$\\displaystyle \\left[ f_{111}^{2} + 2 f_{111} f_{112} + 2 f_{111} f_{113} - 2 f_{111} + f_{112}^{2} + 2 f_{112} f_{113} - 2 f_{112} + f_{113}^{2} - 2 f_{113} + 1, \\  f_{121}^{2} + 2 f_{121} f_{122} + 2 f_{121} f_{123} + f_{122}^{2} + 2 f_{122} f_{123} + f_{123}^{2}, \\  f_{211}^{2} + 2 f_{211} f_{212} + 2 f_{211} f_{213} + f_{212}^{2} + 2 f_{212} f_{213} + f_{213}^{2}, \\  f_{221}^{2} + 2 f_{221} f_{222} + 2 f_{221} f_{223} - 2 f_{221} + f_{222}^{2} + 2 f_{222} f_{223} - 2 f_{222} + f_{223}^{2} - 2 f_{223} + 1, \\  f_{111} f_{112} + f_{111} f_{113} + f_{111} f_{121} + f_{111} f_{122} + f_{111} f_{123} + f_{111} f_{211} + f_{111} f_{212} + f_{111} f_{213} + f_{111} f_{221} + f_{111} f_{222} + f_{111} f_{223} + f_{112} f_{113} + f_{112} f_{121} + f_{112} f_{122} + f_{112} f_{123} + f_{112} f_{211} + f_{112} f_{212} + f_{112} f_{213} + f_{112} f_{221} + f_{112} f_{222} + f_{112} f_{223} + f_{113} f_{121} + f_{113} f_{122} + f_{113} f_{123} + f_{113} f_{211} + f_{113} f_{212} + f_{113} f_{213} + f_{113} f_{221} + f_{113} f_{222} + f_{113} f_{223} + f_{121} f_{122} + f_{121} f_{123} + f_{121} f_{211} + f_{121} f_{212} + f_{121} f_{213} + f_{121} f_{221} + f_{121} f_{222} + f_{121} f_{223} + f_{122} f_{123} + f_{122} f_{211} + f_{122} f_{212} + f_{122} f_{213} + f_{122} f_{221} + f_{122} f_{222} + f_{122} f_{223} + f_{123} f_{211} + f_{123} f_{212} + f_{123} f_{213} + f_{123} f_{221} + f_{123} f_{222} + f_{123} f_{223} + f_{211} f_{212} + f_{211} f_{213} + f_{211} f_{221} + f_{211} f_{222} + f_{211} f_{223} + f_{212} f_{213} + f_{212} f_{221} + f_{212} f_{222} + f_{212} f_{223} + f_{213} f_{221} + f_{213} f_{222} + f_{213} f_{223} + f_{221} f_{222} + f_{221} f_{223} + f_{222} f_{223}\\right]$"
      ],
      "text/plain": [
       "⎡    2                                            2                           \n",
       "⎣f₁₁₁  + 2⋅f₁₁₁⋅f₁₁₂ + 2⋅f₁₁₁⋅f₁₁₃ - 2⋅f₁₁₁ + f₁₁₂  + 2⋅f₁₁₂⋅f₁₁₃ - 2⋅f₁₁₂ + f\n",
       "\n",
       "   2                   2                                   2                  \n",
       "₁₁₃  - 2⋅f₁₁₃ + 1, f₁₂₁  + 2⋅f₁₂₁⋅f₁₂₂ + 2⋅f₁₂₁⋅f₁₂₃ + f₁₂₂  + 2⋅f₁₂₂⋅f₁₂₃ + f\n",
       "\n",
       "   2      2                                   2                     2      2  \n",
       "₁₂₃ , f₂₁₁  + 2⋅f₂₁₁⋅f₂₁₂ + 2⋅f₂₁₁⋅f₂₁₃ + f₂₁₂  + 2⋅f₂₁₂⋅f₂₁₃ + f₂₁₃ , f₂₂₁  +\n",
       "\n",
       "                                          2                              2    \n",
       " 2⋅f₂₂₁⋅f₂₂₂ + 2⋅f₂₂₁⋅f₂₂₃ - 2⋅f₂₂₁ + f₂₂₂  + 2⋅f₂₂₂⋅f₂₂₃ - 2⋅f₂₂₂ + f₂₂₃  - 2\n",
       "\n",
       "                                                                              \n",
       "⋅f₂₂₃ + 1, f₁₁₁⋅f₁₁₂ + f₁₁₁⋅f₁₁₃ + f₁₁₁⋅f₁₂₁ + f₁₁₁⋅f₁₂₂ + f₁₁₁⋅f₁₂₃ + f₁₁₁⋅f₂\n",
       "\n",
       "                                                                              \n",
       "₁₁ + f₁₁₁⋅f₂₁₂ + f₁₁₁⋅f₂₁₃ + f₁₁₁⋅f₂₂₁ + f₁₁₁⋅f₂₂₂ + f₁₁₁⋅f₂₂₃ + f₁₁₂⋅f₁₁₃ + f\n",
       "\n",
       "                                                                              \n",
       "₁₁₂⋅f₁₂₁ + f₁₁₂⋅f₁₂₂ + f₁₁₂⋅f₁₂₃ + f₁₁₂⋅f₂₁₁ + f₁₁₂⋅f₂₁₂ + f₁₁₂⋅f₂₁₃ + f₁₁₂⋅f₂\n",
       "\n",
       "                                                                              \n",
       "₂₁ + f₁₁₂⋅f₂₂₂ + f₁₁₂⋅f₂₂₃ + f₁₁₃⋅f₁₂₁ + f₁₁₃⋅f₁₂₂ + f₁₁₃⋅f₁₂₃ + f₁₁₃⋅f₂₁₁ + f\n",
       "\n",
       "                                                                              \n",
       "₁₁₃⋅f₂₁₂ + f₁₁₃⋅f₂₁₃ + f₁₁₃⋅f₂₂₁ + f₁₁₃⋅f₂₂₂ + f₁₁₃⋅f₂₂₃ + f₁₂₁⋅f₁₂₂ + f₁₂₁⋅f₁\n",
       "\n",
       "                                                                              \n",
       "₂₃ + f₁₂₁⋅f₂₁₁ + f₁₂₁⋅f₂₁₂ + f₁₂₁⋅f₂₁₃ + f₁₂₁⋅f₂₂₁ + f₁₂₁⋅f₂₂₂ + f₁₂₁⋅f₂₂₃ + f\n",
       "\n",
       "                                                                              \n",
       "₁₂₂⋅f₁₂₃ + f₁₂₂⋅f₂₁₁ + f₁₂₂⋅f₂₁₂ + f₁₂₂⋅f₂₁₃ + f₁₂₂⋅f₂₂₁ + f₁₂₂⋅f₂₂₂ + f₁₂₂⋅f₂\n",
       "\n",
       "                                                                              \n",
       "₂₃ + f₁₂₃⋅f₂₁₁ + f₁₂₃⋅f₂₁₂ + f₁₂₃⋅f₂₁₃ + f₁₂₃⋅f₂₂₁ + f₁₂₃⋅f₂₂₂ + f₁₂₃⋅f₂₂₃ + f\n",
       "\n",
       "                                                                              \n",
       "₂₁₁⋅f₂₁₂ + f₂₁₁⋅f₂₁₃ + f₂₁₁⋅f₂₂₁ + f₂₁₁⋅f₂₂₂ + f₂₁₁⋅f₂₂₃ + f₂₁₂⋅f₂₁₃ + f₂₁₂⋅f₂\n",
       "\n",
       "                                                                              \n",
       "₂₁ + f₂₁₂⋅f₂₂₂ + f₂₁₂⋅f₂₂₃ + f₂₁₃⋅f₂₂₁ + f₂₁₃⋅f₂₂₂ + f₂₁₃⋅f₂₂₃ + f₂₂₁⋅f₂₂₂ + f\n",
       "\n",
       "                    ⎤\n",
       "₂₂₁⋅f₂₂₃ + f₂₂₂⋅f₂₂₃⎦"
      ]
     },
     "execution_count": 62,
     "metadata": {},
     "output_type": "execute_result"
    }
   ],
   "source": [
    "temp = []\n",
    "for j in range(1, M + 1):\n",
    "  for h in range(1, H + 1):\n",
    "    for i in range(1, N + 1):\n",
    "      temp.append(symbols(f\"f_{i}{j}{h}\"))\n",
    "temp = list(itertools.combinations(temp,2))\n",
    "equation = 0\n",
    "\n",
    "for i in range(len(temp)):\n",
    "  equation+= temp[i][0] * temp[i][1]\n",
    "equations.append(equation)\n",
    "equations"
   ]
  },
  {
   "cell_type": "code",
   "execution_count": 63,
   "metadata": {},
   "outputs": [],
   "source": [
    "# for i in range(1, N + 1):\n",
    "#   for h in range(1, H + 1):\n",
    "#     temp = total = 0\n",
    "#     for j in range(1, M + 1):\n",
    "#       temp += symbols(f\"f_{i}{j}{h}\")\n",
    "#     total += (temp + symbols(f\"λ_{i}{h}\") - 1)**2\n",
    "#     terms_count += len(total.expand().args)\n",
    "#     equations.append(total.expand())\n",
    "# equations"
   ]
  },
  {
   "cell_type": "code",
   "execution_count": 64,
   "metadata": {},
   "outputs": [],
   "source": [
    "# temp = []\n",
    "# for j in range(1, M + 1):\n",
    "#   for h in range(1, H + 1):\n",
    "#     for i in range(1, N + 1):\n",
    "#       temp.append(symbols(f\"f_{i}{j}{h}\"))\n",
    "# temp = list(itertools.combinations(temp,2))\n",
    "# equation = 0\n",
    "# for i in range(len(temp)):\n",
    "#   equation+= temp[i][0] * temp[i][1]\n",
    "# equations.append(equation)\n",
    "# equations"
   ]
  },
  {
   "cell_type": "markdown",
   "metadata": {
    "id": "aMB2NgsfY08I"
   },
   "source": [
    "#### Decodeing Equations"
   ]
  },
  {
   "cell_type": "code",
   "execution_count": 65,
   "metadata": {
    "id": "KeQvsRjux1yc",
    "tags": []
   },
   "outputs": [],
   "source": [
    "def args(equation):\n",
    "  return Add.make_args(equation)\n",
    "\n",
    "def prepare_equation(term):\n",
    "  theta = 1\n",
    "  terms = []\n",
    "  if type(term) == Mul:\n",
    "    for i in term.args:\n",
    "      if i.is_Integer:\n",
    "        theta = i\n",
    "      else:\n",
    "        terms.append(i)\n",
    "  else:\n",
    "    terms.append(term.args[0]) \n",
    "\n",
    "  return [theta, decode(terms)]\n",
    "\n",
    "def decode(terms):\n",
    "  output = []\n",
    "\n",
    "  for term in terms:\n",
    "\n",
    "    term = str(term)\n",
    "\n",
    "    # if term.startswith(\"τ\"):\n",
    "    #   j = int(term[2])\n",
    "    #   h = int(term[3])\n",
    "    #   output.append((h-1) * M + (j - 1))\n",
    "\n",
    "\n",
    "    # elif term.startswith(\"λ\"):\n",
    "    #   i = int(term[2])\n",
    "    #   h = int(term[3])\n",
    "    #   output.append((H * M) + ((h-1) * N + (i - 1)))\n",
    "\n",
    "    if term.startswith(\"f\"):\n",
    "      i = int(term[2])\n",
    "      j = int(term[3])\n",
    "      h = int(term[4])\n",
    "      # output.append((H * M) + (N * H) + ((i - 1) * H * M) + ((j - 1) * H) + (h - 1))\n",
    "      output.append(((i - 1) * H * M) + ((j - 1) * H) + (h - 1))\n",
    "\n",
    "  return output\n"
   ]
  },
  {
   "cell_type": "code",
   "execution_count": 66,
   "metadata": {
    "colab": {
     "base_uri": "https://localhost:8080/",
     "height": 57
    },
    "id": "USFt2OzmyFwh",
    "outputId": "1435fa8e-09cd-468c-baef-1e1f5680b678",
    "tags": []
   },
   "outputs": [
    {
     "name": "stdout",
     "output_type": "stream",
     "text": [
      "f_111**2 [1, [0]]\n",
      "f_112**2 [1, [1]]\n",
      "f_113**2 [1, [2]]\n",
      "-2*f_111 [-2, [0]]\n",
      "-2*f_112 [-2, [1]]\n",
      "-2*f_113 [-2, [2]]\n",
      "2*f_111*f_112 [2, [0, 1]]\n",
      "2*f_111*f_113 [2, [0, 2]]\n",
      "2*f_112*f_113 [2, [1, 2]]\n",
      "f_121**2 [1, [3]]\n",
      "f_122**2 [1, [4]]\n",
      "f_123**2 [1, [5]]\n",
      "2*f_121*f_122 [2, [3, 4]]\n",
      "2*f_121*f_123 [2, [3, 5]]\n",
      "2*f_122*f_123 [2, [4, 5]]\n",
      "f_211**2 [1, [6]]\n",
      "f_212**2 [1, [7]]\n",
      "f_213**2 [1, [8]]\n",
      "2*f_211*f_212 [2, [6, 7]]\n",
      "2*f_211*f_213 [2, [6, 8]]\n",
      "2*f_212*f_213 [2, [7, 8]]\n",
      "f_221**2 [1, [9]]\n",
      "f_222**2 [1, [10]]\n",
      "f_223**2 [1, [11]]\n",
      "-2*f_221 [-2, [9]]\n",
      "-2*f_222 [-2, [10]]\n",
      "-2*f_223 [-2, [11]]\n",
      "2*f_221*f_222 [2, [9, 10]]\n",
      "2*f_221*f_223 [2, [9, 11]]\n",
      "2*f_222*f_223 [2, [10, 11]]\n",
      "f_111*f_112 [1, [0, 1]]\n",
      "f_111*f_113 [1, [0, 2]]\n",
      "f_111*f_121 [1, [0, 3]]\n",
      "f_111*f_122 [1, [0, 4]]\n",
      "f_111*f_123 [1, [0, 5]]\n",
      "f_111*f_211 [1, [0, 6]]\n",
      "f_111*f_212 [1, [0, 7]]\n",
      "f_111*f_213 [1, [0, 8]]\n",
      "f_111*f_221 [1, [0, 9]]\n",
      "f_111*f_222 [1, [0, 10]]\n",
      "f_111*f_223 [1, [0, 11]]\n",
      "f_112*f_113 [1, [1, 2]]\n",
      "f_112*f_121 [1, [1, 3]]\n",
      "f_112*f_122 [1, [1, 4]]\n",
      "f_112*f_123 [1, [1, 5]]\n",
      "f_112*f_211 [1, [1, 6]]\n",
      "f_112*f_212 [1, [1, 7]]\n",
      "f_112*f_213 [1, [1, 8]]\n",
      "f_112*f_221 [1, [1, 9]]\n",
      "f_112*f_222 [1, [1, 10]]\n",
      "f_112*f_223 [1, [1, 11]]\n",
      "f_113*f_121 [1, [2, 3]]\n",
      "f_113*f_122 [1, [2, 4]]\n",
      "f_113*f_123 [1, [2, 5]]\n",
      "f_113*f_211 [1, [2, 6]]\n",
      "f_113*f_212 [1, [2, 7]]\n",
      "f_113*f_213 [1, [2, 8]]\n",
      "f_113*f_221 [1, [2, 9]]\n",
      "f_113*f_222 [1, [2, 10]]\n",
      "f_113*f_223 [1, [2, 11]]\n",
      "f_121*f_122 [1, [3, 4]]\n",
      "f_121*f_123 [1, [3, 5]]\n",
      "f_121*f_211 [1, [3, 6]]\n",
      "f_121*f_212 [1, [3, 7]]\n",
      "f_121*f_213 [1, [3, 8]]\n",
      "f_121*f_221 [1, [3, 9]]\n",
      "f_121*f_222 [1, [3, 10]]\n",
      "f_121*f_223 [1, [3, 11]]\n",
      "f_122*f_123 [1, [4, 5]]\n",
      "f_122*f_211 [1, [4, 6]]\n",
      "f_122*f_212 [1, [4, 7]]\n",
      "f_122*f_213 [1, [4, 8]]\n",
      "f_122*f_221 [1, [4, 9]]\n",
      "f_122*f_222 [1, [4, 10]]\n",
      "f_122*f_223 [1, [4, 11]]\n",
      "f_123*f_211 [1, [5, 6]]\n",
      "f_123*f_212 [1, [5, 7]]\n",
      "f_123*f_213 [1, [5, 8]]\n",
      "f_123*f_221 [1, [5, 9]]\n",
      "f_123*f_222 [1, [5, 10]]\n",
      "f_123*f_223 [1, [5, 11]]\n",
      "f_211*f_212 [1, [6, 7]]\n",
      "f_211*f_213 [1, [6, 8]]\n",
      "f_211*f_221 [1, [6, 9]]\n",
      "f_211*f_222 [1, [6, 10]]\n",
      "f_211*f_223 [1, [6, 11]]\n",
      "f_212*f_213 [1, [7, 8]]\n",
      "f_212*f_221 [1, [7, 9]]\n",
      "f_212*f_222 [1, [7, 10]]\n",
      "f_212*f_223 [1, [7, 11]]\n",
      "f_213*f_221 [1, [8, 9]]\n",
      "f_213*f_222 [1, [8, 10]]\n",
      "f_213*f_223 [1, [8, 11]]\n",
      "f_221*f_222 [1, [9, 10]]\n",
      "f_221*f_223 [1, [9, 11]]\n",
      "f_222*f_223 [1, [10, 11]]\n"
     ]
    },
    {
     "data": {
      "image/png": "[encoded data removed]",
      "text/latex": [
       "$\\displaystyle \\left[ \\left[ \\left[ 1, \\  \\left[ 0\\right]\\right], \\  \\left[ 1, \\  \\left[ 1\\right]\\right], \\  \\left[ 1, \\  \\left[ 2\\right]\\right], \\  \\left[ -2, \\  \\left[ 0\\right]\\right], \\  \\left[ -2, \\  \\left[ 1\\right]\\right], \\  \\left[ -2, \\  \\left[ 2\\right]\\right], \\  \\left[ 2, \\  \\left[ 0, \\  1\\right]\\right], \\  \\left[ 2, \\  \\left[ 0, \\  2\\right]\\right], \\  \\left[ 2, \\  \\left[ 1, \\  2\\right]\\right]\\right], \\  \\left[ \\left[ 1, \\  \\left[ 3\\right]\\right], \\  \\left[ 1, \\  \\left[ 4\\right]\\right], \\  \\left[ 1, \\  \\left[ 5\\right]\\right], \\  \\left[ 2, \\  \\left[ 3, \\  4\\right]\\right], \\  \\left[ 2, \\  \\left[ 3, \\  5\\right]\\right], \\  \\left[ 2, \\  \\left[ 4, \\  5\\right]\\right]\\right], \\  \\left[ \\left[ 1, \\  \\left[ 6\\right]\\right], \\  \\left[ 1, \\  \\left[ 7\\right]\\right], \\  \\left[ 1, \\  \\left[ 8\\right]\\right], \\  \\left[ 2, \\  \\left[ 6, \\  7\\right]\\right], \\  \\left[ 2, \\  \\left[ 6, \\  8\\right]\\right], \\  \\left[ 2, \\  \\left[ 7, \\  8\\right]\\right]\\right], \\  \\left[ \\left[ 1, \\  \\left[ 9\\right]\\right], \\  \\left[ 1, \\  \\left[ 10\\right]\\right], \\  \\left[ 1, \\  \\left[ 11\\right]\\right], \\  \\left[ -2, \\  \\left[ 9\\right]\\right], \\  \\left[ -2, \\  \\left[ 10\\right]\\right], \\  \\left[ -2, \\  \\left[ 11\\right]\\right], \\  \\left[ 2, \\  \\left[ 9, \\  10\\right]\\right], \\  \\left[ 2, \\  \\left[ 9, \\  11\\right]\\right], \\  \\left[ 2, \\  \\left[ 10, \\  11\\right]\\right]\\right], \\  \\left[ \\left[ 1, \\  \\left[ 0, \\  1\\right]\\right], \\  \\left[ 1, \\  \\left[ 0, \\  2\\right]\\right], \\  \\left[ 1, \\  \\left[ 0, \\  3\\right]\\right], \\  \\left[ 1, \\  \\left[ 0, \\  4\\right]\\right], \\  \\left[ 1, \\  \\left[ 0, \\  5\\right]\\right], \\  \\left[ 1, \\  \\left[ 0, \\  6\\right]\\right], \\  \\left[ 1, \\  \\left[ 0, \\  7\\right]\\right], \\  \\left[ 1, \\  \\left[ 0, \\  8\\right]\\right], \\  \\left[ 1, \\  \\left[ 0, \\  9\\right]\\right], \\  \\left[ 1, \\  \\left[ 0, \\  10\\right]\\right], \\  \\left[ 1, \\  \\left[ 0, \\  11\\right]\\right], \\  \\left[ 1, \\  \\left[ 1, \\  2\\right]\\right], \\  \\left[ 1, \\  \\left[ 1, \\  3\\right]\\right], \\  \\left[ 1, \\  \\left[ 1, \\  4\\right]\\right], \\  \\left[ 1, \\  \\left[ 1, \\  5\\right]\\right], \\  \\left[ 1, \\  \\left[ 1, \\  6\\right]\\right], \\  \\left[ 1, \\  \\left[ 1, \\  7\\right]\\right], \\  \\left[ 1, \\  \\left[ 1, \\  8\\right]\\right], \\  \\left[ 1, \\  \\left[ 1, \\  9\\right]\\right], \\  \\left[ 1, \\  \\left[ 1, \\  10\\right]\\right], \\  \\left[ 1, \\  \\left[ 1, \\  11\\right]\\right], \\  \\left[ 1, \\  \\left[ 2, \\  3\\right]\\right], \\  \\left[ 1, \\  \\left[ 2, \\  4\\right]\\right], \\  \\left[ 1, \\  \\left[ 2, \\  5\\right]\\right], \\  \\left[ 1, \\  \\left[ 2, \\  6\\right]\\right], \\  \\left[ 1, \\  \\left[ 2, \\  7\\right]\\right], \\  \\left[ 1, \\  \\left[ 2, \\  8\\right]\\right], \\  \\left[ 1, \\  \\left[ 2, \\  9\\right]\\right], \\  \\left[ 1, \\  \\left[ 2, \\  10\\right]\\right], \\  \\left[ 1, \\  \\left[ 2, \\  11\\right]\\right], \\  \\left[ 1, \\  \\left[ 3, \\  4\\right]\\right], \\  \\left[ 1, \\  \\left[ 3, \\  5\\right]\\right], \\  \\left[ 1, \\  \\left[ 3, \\  6\\right]\\right], \\  \\left[ 1, \\  \\left[ 3, \\  7\\right]\\right], \\  \\left[ 1, \\  \\left[ 3, \\  8\\right]\\right], \\  \\left[ 1, \\  \\left[ 3, \\  9\\right]\\right], \\  \\left[ 1, \\  \\left[ 3, \\  10\\right]\\right], \\  \\left[ 1, \\  \\left[ 3, \\  11\\right]\\right], \\  \\left[ 1, \\  \\left[ 4, \\  5\\right]\\right], \\  \\left[ 1, \\  \\left[ 4, \\  6\\right]\\right], \\  \\left[ 1, \\  \\left[ 4, \\  7\\right]\\right], \\  \\left[ 1, \\  \\left[ 4, \\  8\\right]\\right], \\  \\left[ 1, \\  \\left[ 4, \\  9\\right]\\right], \\  \\left[ 1, \\  \\left[ 4, \\  10\\right]\\right], \\  \\left[ 1, \\  \\left[ 4, \\  11\\right]\\right], \\  \\left[ 1, \\  \\left[ 5, \\  6\\right]\\right], \\  \\left[ 1, \\  \\left[ 5, \\  7\\right]\\right], \\  \\left[ 1, \\  \\left[ 5, \\  8\\right]\\right], \\  \\left[ 1, \\  \\left[ 5, \\  9\\right]\\right], \\  \\left[ 1, \\  \\left[ 5, \\  10\\right]\\right], \\  \\left[ 1, \\  \\left[ 5, \\  11\\right]\\right], \\  \\left[ 1, \\  \\left[ 6, \\  7\\right]\\right], \\  \\left[ 1, \\  \\left[ 6, \\  8\\right]\\right], \\  \\left[ 1, \\  \\left[ 6, \\  9\\right]\\right], \\  \\left[ 1, \\  \\left[ 6, \\  10\\right]\\right], \\  \\left[ 1, \\  \\left[ 6, \\  11\\right]\\right], \\  \\left[ 1, \\  \\left[ 7, \\  8\\right]\\right], \\  \\left[ 1, \\  \\left[ 7, \\  9\\right]\\right], \\  \\left[ 1, \\  \\left[ 7, \\  10\\right]\\right], \\  \\left[ 1, \\  \\left[ 7, \\  11\\right]\\right], \\  \\left[ 1, \\  \\left[ 8, \\  9\\right]\\right], \\  \\left[ 1, \\  \\left[ 8, \\  10\\right]\\right], \\  \\left[ 1, \\  \\left[ 8, \\  11\\right]\\right], \\  \\left[ 1, \\  \\left[ 9, \\  10\\right]\\right], \\  \\left[ 1, \\  \\left[ 9, \\  11\\right]\\right], \\  \\left[ 1, \\  \\left[ 10, \\  11\\right]\\right]\\right]\\right]$"
      ],
      "text/plain": [
       "[[[1, [0]], [1, [1]], [1, [2]], [-2, [0]], [-2, [1]], [-2, [2]], [2, [0, 1]], \n",
       "[2, [0, 2]], [2, [1, 2]]], [[1, [3]], [1, [4]], [1, [5]], [2, [3, 4]], [2, [3,\n",
       " 5]], [2, [4, 5]]], [[1, [6]], [1, [7]], [1, [8]], [2, [6, 7]], [2, [6, 8]], [\n",
       "2, [7, 8]]], [[1, [9]], [1, [10]], [1, [11]], [-2, [9]], [-2, [10]], [-2, [11]\n",
       "], [2, [9, 10]], [2, [9, 11]], [2, [10, 11]]], [[1, [0, 1]], [1, [0, 2]], [1, \n",
       "[0, 3]], [1, [0, 4]], [1, [0, 5]], [1, [0, 6]], [1, [0, 7]], [1, [0, 8]], [1, \n",
       "[0, 9]], [1, [0, 10]], [1, [0, 11]], [1, [1, 2]], [1, [1, 3]], [1, [1, 4]], [1\n",
       ", [1, 5]], [1, [1, 6]], [1, [1, 7]], [1, [1, 8]], [1, [1, 9]], [1, [1, 10]], [\n",
       "1, [1, 11]], [1, [2, 3]], [1, [2, 4]], [1, [2, 5]], [1, [2, 6]], [1, [2, 7]], \n",
       "[1, [2, 8]], [1, [2, 9]], [1, [2, 10]], [1, [2, 11]], [1, [3, 4]], [1, [3, 5]]\n",
       ", [1, [3, 6]], [1, [3, 7]], [1, [3, 8]], [1, [3, 9]], [1, [3, 10]], [1, [3, 11\n",
       "]], [1, [4, 5]], [1, [4, 6]], [1, [4, 7]], [1, [4, 8]], [1, [4, 9]], [1, [4, 1\n",
       "0]], [1, [4, 11]], [1, [5, 6]], [1, [5, 7]], [1, [5, 8]], [1, [5, 9]], [1, [5,\n",
       " 10]], [1, [5, 11]], [1, [6, 7]], [1, [6, 8]], [1, [6, 9]], [1, [6, 10]], [1, \n",
       "[6, 11]], [1, [7, 8]], [1, [7, 9]], [1, [7, 10]], [1, [7, 11]], [1, [8, 9]], [\n",
       "1, [8, 10]], [1, [8, 11]], [1, [9, 10]], [1, [9, 11]], [1, [10, 11]]]]"
      ]
     },
     "execution_count": 66,
     "metadata": {},
     "output_type": "execute_result"
    }
   ],
   "source": [
    "prepared_equations = []\n",
    "for equation in equations:\n",
    "    temp = []\n",
    "    for term in args(equation):\n",
    "        if len(term.args) != 0:\n",
    "            print(term,prepare_equation(term))\n",
    "            \n",
    "            temp.append(prepare_equation(term))\n",
    "    prepared_equations.append(temp)\n",
    "\n",
    "prepared_equations"
   ]
  },
  {
   "cell_type": "markdown",
   "metadata": {
    "id": "6lncBvjzZEak"
   },
   "source": [
    "### Implementation"
   ]
  },
  {
   "cell_type": "markdown",
   "metadata": {
    "id": "RtWVrhgDXsXm"
   },
   "source": [
    "#### Objective Function"
   ]
  },
  {
   "cell_type": "code",
   "execution_count": 67,
   "metadata": {},
   "outputs": [],
   "source": [
    "def f(i, j, h):\n",
    "    return int(T[i-1][h-1] == C[j-1][h-1] == '1')\n",
    "\n",
    "\n",
    "def tau_value(bit_string, j, h):\n",
    "    return int(bit_string[(h-1) * M + (j - 1)])\n",
    "\n",
    "\n",
    "def lambda_value(bit_string, i, h):\n",
    "    return int(bit_string[(H * M) + ((h-1) * N + (i - 1))])\n",
    "\n",
    "\n",
    "def f_value(bit_string, i, j, h):\n",
    "    # return int(bit_string[(H * M) + (N * H) + ((i - 1) * H * M) + ((j - 1) * H) + (h - 1)])\n",
    "    return int(bit_string[((i - 1) * H * M) + ((j - 1) * H) + (h - 1)])"
   ]
  },
  {
   "cell_type": "code",
   "execution_count": 68,
   "metadata": {
    "id": "_rqg3jtnQkXU"
   },
   "outputs": [],
   "source": [
    "def objective(bit_string):\n",
    "  # since qiskit represent solution in least significant bit format\n",
    "  bit_string = bit_string[::-1]\n",
    "  cost = 0\n",
    "  a = b = c = d = 0\n",
    "  # equation a\n",
    "  for i in range(1, N + 1):\n",
    "      for j in range(1, M + 1):\n",
    "          for h in range(1, H + 1):\n",
    "              if f(i, j, h) != f_value(bit_string, i, j, h):\n",
    "                  cost += 1\n",
    "                  a += 1\n",
    "\n",
    "  # equation b\n",
    "  for i in range(1, N + 1):\n",
    "      for j in range(1, M + 1):\n",
    "          temp = 0\n",
    "          for h in range(1, H + 1):\n",
    "              temp += f_value(bit_string, i, j, h)\n",
    "          cost += (temp - R[i-1][j-1])**2\n",
    "          b += (temp - R[i-1][j-1])**2\n",
    "\n",
    "#   # equation c\n",
    "#   for j in range(1, M + 1):\n",
    "#       for h in range(1, H + 1):\n",
    "#           temp = 0\n",
    "#           for i in range(1, N + 1):\n",
    "#               temp += f_value(bit_string, i, j, h)\n",
    "#           cost += (temp + tau_value(bit_string, j, h) - 1)**2\n",
    "#           c += (temp + tau_value(bit_string, j, h) - 1)**2\n",
    "\n",
    "#   # equation d\n",
    "#   for i in range(1, N + 1):\n",
    "#       for h in range(1, H + 1):\n",
    "#           temp = 0\n",
    "#           for j in range(1, M + 1):\n",
    "#               temp += f_value(bit_string, i, j, h)\n",
    "#           cost += (temp + lambda_value(bit_string, i, h) - 1)**2\n",
    "#           d += (temp + lambda_value(bit_string, i, h) - 1)**2\n",
    "\n",
    "  return [cost, a, b, c, d]"
   ]
  },
  {
   "cell_type": "markdown",
   "metadata": {
    "id": "WnyoHLcIX4q3"
   },
   "source": [
    "#### Circuit"
   ]
  },
  {
   "cell_type": "markdown",
   "metadata": {},
   "source": [
    "#### Draw circuit "
   ]
  },
  {
   "cell_type": "code",
   "execution_count": 69,
   "metadata": {},
   "outputs": [],
   "source": [
    "# qc = QuantumCircuit(required_qubits)\n",
    "\n",
    "# for i in range(required_qubits):\n",
    "#     qc.h(i)\n",
    "\n",
    "# for equation in prepared_equations:\n",
    "#     for term in equation:\n",
    "#         theta = int(term[0])\n",
    "#         locations = term[1]\n",
    "#         if len(locations) == 1:  # Rz Gate\n",
    "#             qc.rz(theta * -1 , locations[0])\n",
    "        \n",
    "#         elif len(locations) == 2:  # Rzz gate\n",
    "#             # if locations[0] == locations[1]:\n",
    "#             #     continue\n",
    "#             qc.rz(theta * -0.5 , locations[0])\n",
    "#             qc.rz(theta * -0.5 , locations[1])\n",
    "#             qc.rzz(theta * 0.5 , locations[0], locations[1])\n",
    "\n",
    "# for qubit in range(required_qubits - 1):\n",
    "#     qc.rx(1, qubit)\n",
    "\n",
    "# qc.draw(\"mpl\")"
   ]
  },
  {
   "cell_type": "code",
   "execution_count": 70,
   "metadata": {
    "id": "HKUaUyw4X3oN"
   },
   "outputs": [],
   "source": [
    "def layers_gen(p, initial_value=1.0):\n",
    "    return [initial_value] * p * 2\n",
    "\n",
    "\n",
    "def create_qaoa_circ(thetas):\n",
    "    n_layers = len(thetas)//2\n",
    "\n",
    "    alpha = thetas[n_layers:]\n",
    "    gamma = thetas[:n_layers]\n",
    "\n",
    "    qc = QuantumCircuit(required_qubits)\n",
    "\n",
    "    for i in range(required_qubits):\n",
    "        if i%2==0:\n",
    "            qc.x(i)\n",
    "        qc.h(i)\n",
    "    \n",
    "    for layer_index in range(n_layers):\n",
    "        for equation in prepared_equations:\n",
    "            for term in equation:\n",
    "                theta = int(term[0])\n",
    "                locations = term[1]\n",
    "\n",
    "                if len(locations) == 1:  # Rz Gate\n",
    "                    qc.rz(theta * -1 * alpha[layer_index], locations[0])\n",
    "\n",
    "                elif len(locations) == 2:  # Rzz gate\n",
    "                    if locations[0] == locations[1]:\n",
    "                        continue\n",
    "                    qc.rz(theta * -0.5 * alpha[layer_index], locations[0])\n",
    "                    qc.rz(theta * -0.5 * alpha[layer_index], locations[1])\n",
    "                    qc.rzz(theta * 0.5 * alpha[layer_index], locations[0], locations[1])\n",
    "\n",
    "        for qubit in range(required_qubits - 1):\n",
    "            qc.rx(2 * gamma[layer_index], qubit)\n",
    "\n",
    "    qc.measure_all()\n",
    "\n",
    "    return qc"
   ]
  },
  {
   "cell_type": "code",
   "execution_count": 71,
   "metadata": {},
   "outputs": [],
   "source": [
    "total = [0] * 4\n",
    "\n",
    "\n",
    "def compute_expectation(counts):\n",
    "    avg = 0\n",
    "    sum_count = 0\n",
    "    for bit_string, count in counts.items():\n",
    "        obj, a, b, c, d = objective(bit_string)\n",
    "        total[0] += a\n",
    "        total[1] += b\n",
    "        total[2] += c\n",
    "        total[3] += d\n",
    "        avg += obj * count\n",
    "        sum_count += count\n",
    "    return avg/sum_count\n",
    "\n",
    "\n",
    "def get_expectation():\n",
    "\n",
    "    def execute_circ(theta):\n",
    "        global iterations\n",
    "        qc = create_qaoa_circ(theta)\n",
    "        tc = transpile(qc, backend, optimization_level=3,\n",
    "                       seed_transpiler=random_seed)\n",
    "\n",
    "        counts = backend.run(tc, seed_simulator=random_seed,\n",
    "                             shots=shots).result().get_counts()\n",
    "        print(compute_expectation(counts))\n",
    "        iterations += 1\n",
    "        return compute_expectation(counts)\n",
    "\n",
    "    return execute_circ"
   ]
  },
  {
   "cell_type": "code",
   "execution_count": 72,
   "metadata": {
    "colab": {
     "base_uri": "https://localhost:8080/"
    },
    "id": "MCSSZrIQLN5j",
    "outputId": "f389b5bf-5cf6-43c6-e77d-c22956d225bd",
    "scrolled": true,
    "tags": []
   },
   "outputs": [
    {
     "name": "stdout",
     "output_type": "stream",
     "text": [
      "13.319140625\n",
      "13.10390625\n",
      "13.263671875\n",
      "13.402734375\n",
      "13.297265625\n",
      "13.9056640625\n",
      "13.410546875\n",
      "13.5001953125\n",
      "13.5365234375\n",
      "13.381640625\n",
      "13.353125\n",
      "13.2990234375\n",
      "13.2787109375\n",
      "13.3923828125\n",
      "13.43671875\n",
      "13.1326171875\n",
      "13.1326171875\n",
      "13.3611328125\n",
      "13.4775390625\n",
      "13.2142578125\n",
      "13.5263671875\n",
      "13.20859375\n",
      "13.4609375\n",
      "13.2294921875\n",
      "13.6533203125\n",
      "13.09375\n",
      "13.2359375\n",
      "12.9478515625\n",
      "13.0064453125\n",
      "13.113671875\n",
      "13.15625\n",
      "13.021484375\n",
      "12.8740234375\n",
      "13.3125\n",
      "13.130859375\n",
      "13.369140625\n",
      "13.35234375\n",
      "13.0599609375\n",
      "12.9470703125\n",
      "13.2875\n",
      "13.3310546875\n",
      "13.0654296875\n",
      "12.93203125\n",
      "12.8947265625\n",
      "13.0802734375\n",
      "12.8408203125\n",
      "12.8251953125\n",
      "12.8369140625\n",
      "12.8083984375\n",
      "12.904296875\n",
      "12.86171875\n",
      "12.876953125\n",
      "12.8578125\n",
      "12.833203125\n",
      "12.7875\n",
      "12.876171875\n",
      "12.8404296875\n",
      "12.7904296875\n",
      "12.8134765625\n",
      "12.830859375\n",
      "12.8234375\n",
      "12.7890625\n",
      "12.8439453125\n",
      "12.8330078125\n",
      "12.808203125\n",
      "12.8458984375\n",
      "12.7982421875\n",
      "12.807421875\n",
      "12.857421875\n",
      "12.8341796875\n",
      "12.8259765625\n",
      "12.783984375\n",
      "12.8126953125\n",
      "12.7955078125\n",
      "12.783984375\n",
      "12.783203125\n",
      "12.79609375\n",
      "12.8015625\n",
      "12.80234375\n",
      "12.782421875\n",
      "12.8\n",
      "12.7701171875\n",
      "12.777734375\n",
      "12.775\n",
      "12.790234375\n",
      "12.7787109375\n",
      "12.788671875\n",
      "12.78515625\n",
      "12.7755859375\n",
      "12.787890625\n",
      "12.783203125\n",
      "12.7859375\n",
      "12.7986328125\n",
      "12.77421875\n",
      "12.784375\n",
      "12.772265625\n",
      "12.7759765625\n",
      "12.7875\n",
      "12.7783203125\n",
      "12.773046875\n",
      "12.778515625\n",
      "12.7751953125\n",
      "12.7763671875\n",
      "12.7728515625\n",
      "12.77734375\n",
      "12.77578125\n",
      "12.7798828125\n",
      "12.7783203125\n",
      "12.7763671875\n",
      "12.778125\n",
      "12.7775390625\n",
      "12.77421875\n",
      "12.7802734375\n",
      "12.7765625\n",
      "12.777734375\n",
      "12.7748046875\n",
      "12.7763671875\n",
      "12.779296875\n",
      "12.7720703125\n",
      "12.7765625\n",
      "12.774609375\n",
      "12.7720703125\n",
      "12.769921875\n",
      "12.7720703125\n",
      "12.7724609375\n",
      "12.7716796875\n",
      "12.772265625\n",
      "12.771484375\n",
      "12.769921875\n",
      "12.7701171875\n",
      "12.7708984375\n",
      "12.7716796875\n",
      "12.769921875\n",
      "12.771875\n",
      "12.7703125\n",
      "12.7716796875\n",
      "12.7701171875\n",
      "12.7712890625\n",
      "12.769140625\n",
      "12.7681640625\n",
      "12.7697265625\n",
      "12.7751953125\n",
      "12.76875\n",
      "12.7685546875\n",
      "12.7697265625\n",
      "12.771875\n",
      "12.768359375\n",
      "12.7705078125\n",
      "12.7701171875\n",
      "12.7708984375\n",
      "12.7697265625\n",
      "12.769140625\n",
      "12.7693359375\n",
      "12.7681640625\n",
      "12.769140625\n",
      "12.7681640625\n",
      "12.7681640625\n",
      "12.768359375\n",
      "12.768359375\n",
      "12.768359375\n",
      "12.76875\n",
      "12.768359375\n",
      "12.768359375\n",
      "12.7681640625\n",
      "12.768359375\n",
      "12.768359375\n",
      "12.768359375\n",
      "12.7681640625\n",
      "12.768359375\n",
      "12.7689453125\n",
      "12.769140625\n",
      "12.768359375\n",
      "12.769140625\n",
      "12.768359375\n",
      "12.7689453125\n",
      "12.768359375\n",
      "13.319140625\n",
      "13.319140625\n",
      "13.319140625\n",
      "13.319140625\n",
      "13.319140625\n",
      "13.319140625\n",
      "13.319140625\n",
      "13.319140625\n",
      "13.319140625\n",
      "13.319140625\n",
      "13.319140625\n"
     ]
    },
    {
     "data": {
      "text/plain": [
       "  message: CONVERGENCE: NORM_OF_PROJECTED_GRADIENT_<=_PGTOL\n",
       "  success: True\n",
       "   status: 0\n",
       "      fun: 13.319140625\n",
       "        x: [ 1.000e+00  1.000e+00  1.000e+00  1.000e+00  1.000e+00\n",
       "             1.000e+00  1.000e+00  1.000e+00  1.000e+00  1.000e+00]\n",
       "      nit: 0\n",
       "      jac: [ 0.000e+00  0.000e+00  0.000e+00  0.000e+00  0.000e+00\n",
       "             0.000e+00  0.000e+00  0.000e+00  0.000e+00  0.000e+00]\n",
       "     nfev: 11\n",
       "     njev: 1\n",
       " hess_inv: <10x10 LbfgsInvHessProduct with dtype=float64>"
      ]
     },
     "execution_count": 72,
     "metadata": {},
     "output_type": "execute_result"
    }
   ],
   "source": [
    "from scipy.optimize import minimize,linear_sum_assignment\n",
    "expectation = get_expectation()\n",
    "start_time = time.time()\n",
    "# res = minimize(expectation, layers_gen(layers), method='COBYLA')\n",
    "res = minimize(expectation, layers_gen(layers), method='COBYQA')\n",
    "# res = linear_sum_assignment()\n",
    "res = minimize(expectation, layers_gen(layers), method='L-BFGS-B')\n",
    "minimization_time = time.time() - start_time\n",
    "\n",
    "res"
   ]
  },
  {
   "cell_type": "code",
   "execution_count": 73,
   "metadata": {},
   "outputs": [
    {
     "name": "stdout",
     "output_type": "stream",
     "text": [
      "a: 5429420\n",
      "b: 7017420\n",
      "c: 0\n",
      "d: 0\n"
     ]
    }
   ],
   "source": [
    "print(\"a:\", total[0])\n",
    "print(\"b:\", total[1])\n",
    "print(\"c:\", total[2])\n",
    "print(\"d:\", total[3])"
   ]
  },
  {
   "cell_type": "markdown",
   "metadata": {
    "id": "l7b5F8DsLbbj"
   },
   "source": [
    "### Results"
   ]
  },
  {
   "cell_type": "code",
   "execution_count": 74,
   "metadata": {
    "id": "FKDf4o0LLN5j",
    "tags": []
   },
   "outputs": [
    {
     "name": "stdout",
     "output_type": "stream",
     "text": [
      "2476\n",
      "-----------------\n",
      "BINGO\n",
      "100000000001\n",
      "1\n",
      "-----------------\n",
      "Solution 001101010101 cost: 12 count 121\n",
      "Solution 101010101101 cost: 12 count 93\n",
      "Solution 110101010010 cost: 12 count 68\n",
      "Solution 110101010101 cost: 12 count 65\n",
      "Solution 001101101101 cost: 16 count 63\n",
      "Solution 001101010110 cost: 14 count 61\n",
      "Solution 101101010101 cost: 12 count 55\n",
      "Solution 101010010101 cost: 8 count 54\n",
      "Solution 001101010011 cost: 12 count 53\n",
      "Solution 010010101010 cost: 12 count 44\n"
     ]
    },
    {
     "data": {
      "image/png": "[encoded data removed]",
      "text/plain": [
       "<Figure size 700x500 with 1 Axes>"
      ]
     },
     "execution_count": 74,
     "metadata": {},
     "output_type": "execute_result"
    }
   ],
   "source": [
    "from qiskit.visualization import plot_histogram\n",
    "\n",
    "qc_res = create_qaoa_circ(res.x)\n",
    "counts = backend.run(qc_res, seed_simulator=random_seed,\n",
    "                     shots=shots).result().get_counts()\n",
    "\n",
    "\n",
    "counts = dict(sorted(counts.items(), key=lambda item: item[1], reverse=True))\n",
    "counts_cost = dict(\n",
    "    sorted(counts.items(), key=lambda item: item[1], reverse=True))\n",
    "\n",
    "values = list(counts.values())\n",
    "binary = list(counts.keys())\n",
    "\n",
    "output = {}\n",
    "\n",
    "print(len(counts))\n",
    "\n",
    "for key in binary:\n",
    "    if objective(key)[0] == 0:\n",
    "        print(\"-----------------\")\n",
    "        print(\"BINGO\")\n",
    "        print(key)\n",
    "        print(counts[key])\n",
    "        print(\"-----------------\")\n",
    "\n",
    "for key in binary[:10]:\n",
    "    print(\"Solution\", key, \"cost:\", objective(key)[0], \"count\", counts[key])\n",
    "    output[key] = counts[key]\n",
    "\n",
    "# plot_histogram(output).savefig(f\"./png/{H}_{M}_{N}_{shots}_{layers}_{time.time_ns()}.png\")\n",
    "plot_histogram(output)"
   ]
  },
  {
   "cell_type": "code",
   "execution_count": 75,
   "metadata": {},
   "outputs": [
    {
     "name": "stdout",
     "output_type": "stream",
     "text": [
      "Solution 100000000001 cost: 0 count 1\n"
     ]
    }
   ],
   "source": [
    "sol = required_qubits\n",
    "sol_bin = \"\"\n",
    "\n",
    "for i in counts:\n",
    "  ob = objective(i)[0]\n",
    "  if ob < sol:\n",
    "    sol = ob\n",
    "    sol_bin = i\n",
    "\n",
    "counts[\"H\"] = H\n",
    "counts[\"M\"] = M\n",
    "counts[\"N\"] = N\n",
    "counts[\"shots\"] = shots\n",
    "counts[\"layers\"] = layers\n",
    "counts[\"solution\"] = sol_bin\n",
    "counts[\"solution_cost\"] = sol\n",
    "counts[\"solution_count\"] = counts[sol_bin]\n",
    "counts[\"minimization_time\"] = minimization_time\n",
    "counts[\"execution_time\"] = time.time() - simulation_time\n",
    "counts[\"iterations\"] = iterations \n",
    "\n",
    "print(\"Solution\",sol_bin ,\"cost:\",sol,\"count\", counts[sol_bin])"
   ]
  },
  {
   "cell_type": "code",
   "execution_count": 76,
   "metadata": {},
   "outputs": [],
   "source": [
    "file = open(f\"../json/simulation/6/{H}_{M}_{N}_{shots}_{layers}_simulation.json\", \"w\")\n",
    "file.write(json.dumps(counts))\n",
    "file.flush()"
   ]
  },
  {
   "cell_type": "code",
   "execution_count": 77,
   "metadata": {},
   "outputs": [
    {
     "data": {
      "image/png": "[encoded data removed]",
      "text/latex": [
       "$\\displaystyle 367.44865489006$"
      ],
      "text/plain": [
       "367.4486548900604"
      ]
     },
     "execution_count": 77,
     "metadata": {},
     "output_type": "execute_result"
    }
   ],
   "source": [
    "counts[\"execution_time\"]"
   ]
  },
  {
   "cell_type": "code",
   "execution_count": 78,
   "metadata": {},
   "outputs": [
    {
     "data": {
      "image/png": "[encoded data removed]",
      "text/latex": [
       "$\\displaystyle 365.536543130875$"
      ],
      "text/plain": [
       "365.53654313087463"
      ]
     },
     "execution_count": 78,
     "metadata": {},
     "output_type": "execute_result"
    }
   ],
   "source": [
    "minimization_time"
   ]
  }
 ],
 "metadata": {
  "colab": {
   "collapsed_sections": [
    "alCyWOxAWcdV",
    "TiWcxBn4_H1e"
   ],
   "provenance": []
  },
  "kernelspec": {
   "display_name": "Python 3 (ipykernel)",
   "language": "python",
   "name": "python3"
  },
  "language_info": {
   "codemirror_mode": {
    "name": "ipython",
    "version": 3
   },
   "file_extension": ".py",
   "mimetype": "text/x-python",
   "name": "python",
   "nbconvert_exporter": "python",
   "pygments_lexer": "ipython3",
   "version": "3.12.4"
  }
 },
 "nbformat": 4,
 "nbformat_minor": 4
}
