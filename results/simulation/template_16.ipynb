{
 "cells": [
  {
   "cell_type": "markdown",
   "metadata": {
    "id": "alCyWOxAWcdV",
    "jp-MarkdownHeadingCollapsed": true,
    "tags": []
   },
   "source": [
    "### Installing Qiskit"
   ]
  },
  {
   "cell_type": "markdown",
   "metadata": {},
   "source": [
    "#### Normal installation"
   ]
  },
  {
   "cell_type": "code",
   "execution_count": 1,
   "metadata": {
    "colab": {
     "base_uri": "https://localhost:8080/"
    },
    "id": "HE2WwMMhVL8p",
    "outputId": "73f03985-1eca-4c27-c073-1a5cb9948d80",
    "tags": []
   },
   "outputs": [
    {
     "name": "stdout",
     "output_type": "stream",
     "text": [
      "Defaulting to user installation because normal site-packages is not writeable\n",
      "Requirement already satisfied: qiskit-ibm-runtime in /home/yusuf/.local/lib/python3.12/site-packages (0.23.0)\n",
      "Requirement already satisfied: qiskit in /home/yusuf/.local/lib/python3.12/site-packages (1.0.2)\n",
      "Requirement already satisfied: qiskit_aer in /home/yusuf/.local/lib/python3.12/site-packages (0.14.2)\n",
      "Requirement already satisfied: python-dotenv in /home/yusuf/.local/lib/python3.12/site-packages (1.0.1)\n",
      "Requirement already satisfied: rustworkx>=0.14.0 in /home/yusuf/.local/lib/python3.12/site-packages (from qiskit[visualization]) (0.14.2)\n",
      "Requirement already satisfied: numpy<2,>=1.17 in /home/yusuf/.local/lib/python3.12/site-packages (from qiskit[visualization]) (1.26.4)\n",
      "Requirement already satisfied: scipy>=1.5 in /home/yusuf/.local/lib/python3.12/site-packages (from qiskit[visualization]) (1.14.0)\n",
      "Requirement already satisfied: sympy>=1.3 in /home/yusuf/.local/lib/python3.12/site-packages (from qiskit[visualization]) (1.12)\n",
      "Requirement already satisfied: dill>=0.3 in /home/yusuf/.local/lib/python3.12/site-packages (from qiskit[visualization]) (0.3.8)\n",
      "Requirement already satisfied: python-dateutil>=2.8.0 in /usr/lib/python3.12/site-packages (from qiskit[visualization]) (2.8.2)\n",
      "Requirement already satisfied: stevedore>=3.0.0 in /home/yusuf/.local/lib/python3.12/site-packages (from qiskit[visualization]) (5.2.0)\n",
      "Requirement already satisfied: typing-extensions in /home/yusuf/.local/lib/python3.12/site-packages (from qiskit[visualization]) (4.11.0)\n",
      "Requirement already satisfied: symengine>=0.11 in /home/yusuf/.local/lib/python3.12/site-packages (from qiskit[visualization]) (0.11.0)\n",
      "Requirement already satisfied: matplotlib>=3.3 in /home/yusuf/.local/lib/python3.12/site-packages (from qiskit[visualization]) (3.8.4)\n",
      "Requirement already satisfied: pydot in /home/yusuf/.local/lib/python3.12/site-packages (from qiskit[visualization]) (2.0.0)\n",
      "Requirement already satisfied: Pillow>=4.2.1 in /usr/lib64/python3.12/site-packages (from qiskit[visualization]) (10.3.0)\n",
      "Requirement already satisfied: pylatexenc>=1.4 in /home/yusuf/.local/lib/python3.12/site-packages (from qiskit[visualization]) (2.10)\n",
      "Requirement already satisfied: seaborn>=0.9.0 in /home/yusuf/.local/lib/python3.12/site-packages (from qiskit[visualization]) (0.13.2)\n",
      "Requirement already satisfied: requests>=2.19 in /home/yusuf/.local/lib/python3.12/site-packages (from qiskit-ibm-runtime) (2.31.0)\n",
      "Requirement already satisfied: requests-ntlm>=1.1.0 in /home/yusuf/.local/lib/python3.12/site-packages (from qiskit-ibm-runtime) (1.2.0)\n",
      "Requirement already satisfied: urllib3>=1.21.1 in /home/yusuf/.local/lib/python3.12/site-packages (from qiskit-ibm-runtime) (2.2.1)\n",
      "Requirement already satisfied: websocket-client>=1.5.1 in /home/yusuf/.local/lib/python3.12/site-packages (from qiskit-ibm-runtime) (1.7.0)\n",
      "Requirement already satisfied: ibm-platform-services>=0.22.6 in /home/yusuf/.local/lib/python3.12/site-packages (from qiskit-ibm-runtime) (0.53.4)\n",
      "Requirement already satisfied: pydantic in /home/yusuf/.local/lib/python3.12/site-packages (from qiskit-ibm-runtime) (2.7.0)\n",
      "Requirement already satisfied: psutil>=5 in /home/yusuf/.local/lib/python3.12/site-packages (from qiskit_aer) (5.9.8)\n",
      "Requirement already satisfied: ibm-cloud-sdk-core<4.0.0,>=3.19.2 in /home/yusuf/.local/lib/python3.12/site-packages (from ibm-platform-services>=0.22.6->qiskit-ibm-runtime) (3.20.0)\n",
      "Requirement already satisfied: contourpy>=1.0.1 in /home/yusuf/.local/lib/python3.12/site-packages (from matplotlib>=3.3->qiskit[visualization]) (1.2.1)\n",
      "Requirement already satisfied: cycler>=0.10 in /home/yusuf/.local/lib/python3.12/site-packages (from matplotlib>=3.3->qiskit[visualization]) (0.12.1)\n",
      "Requirement already satisfied: fonttools>=4.22.0 in /home/yusuf/.local/lib/python3.12/site-packages (from matplotlib>=3.3->qiskit[visualization]) (4.51.0)\n",
      "Requirement already satisfied: kiwisolver>=1.3.1 in /home/yusuf/.local/lib/python3.12/site-packages (from matplotlib>=3.3->qiskit[visualization]) (1.4.5)\n",
      "Requirement already satisfied: packaging>=20.0 in /usr/lib/python3.12/site-packages (from matplotlib>=3.3->qiskit[visualization]) (23.2)\n",
      "Requirement already satisfied: pyparsing>=2.3.1 in /usr/lib/python3.12/site-packages (from matplotlib>=3.3->qiskit[visualization]) (3.1.2)\n",
      "Requirement already satisfied: six>=1.5 in /usr/lib/python3.12/site-packages (from python-dateutil>=2.8.0->qiskit[visualization]) (1.16.0)\n",
      "Requirement already satisfied: charset-normalizer<4,>=2 in /usr/lib/python3.12/site-packages (from requests>=2.19->qiskit-ibm-runtime) (3.3.2)\n",
      "Requirement already satisfied: idna<4,>=2.5 in /usr/lib/python3.12/site-packages (from requests>=2.19->qiskit-ibm-runtime) (3.7)\n",
      "Requirement already satisfied: certifi>=2017.4.17 in /usr/lib/python3.12/site-packages (from requests>=2.19->qiskit-ibm-runtime) (2023.5.7)\n",
      "Requirement already satisfied: cryptography>=1.3 in /usr/lib64/python3.12/site-packages (from requests-ntlm>=1.1.0->qiskit-ibm-runtime) (41.0.7)\n",
      "Requirement already satisfied: pyspnego>=0.1.6 in /home/yusuf/.local/lib/python3.12/site-packages (from requests-ntlm>=1.1.0->qiskit-ibm-runtime) (0.10.2)\n",
      "Requirement already satisfied: pandas>=1.2 in /home/yusuf/.local/lib/python3.12/site-packages (from seaborn>=0.9.0->qiskit[visualization]) (2.2.2)\n",
      "Requirement already satisfied: pbr!=2.1.0,>=2.0.0 in /home/yusuf/.local/lib/python3.12/site-packages (from stevedore>=3.0.0->qiskit[visualization]) (6.0.0)\n",
      "Requirement already satisfied: mpmath>=0.19 in /home/yusuf/.local/lib/python3.12/site-packages (from sympy>=1.3->qiskit[visualization]) (1.3.0)\n",
      "Requirement already satisfied: annotated-types>=0.4.0 in /home/yusuf/.local/lib/python3.12/site-packages (from pydantic->qiskit-ibm-runtime) (0.6.0)\n",
      "Requirement already satisfied: pydantic-core==2.18.1 in /home/yusuf/.local/lib/python3.12/site-packages (from pydantic->qiskit-ibm-runtime) (2.18.1)\n",
      "Requirement already satisfied: cffi>=1.12 in /usr/lib64/python3.12/site-packages (from cryptography>=1.3->requests-ntlm>=1.1.0->qiskit-ibm-runtime) (1.16.0)\n",
      "Requirement already satisfied: PyJWT<3.0.0,>=2.8.0 in /home/yusuf/.local/lib/python3.12/site-packages (from ibm-cloud-sdk-core<4.0.0,>=3.19.2->ibm-platform-services>=0.22.6->qiskit-ibm-runtime) (2.8.0)\n",
      "Requirement already satisfied: pytz>=2020.1 in /usr/lib/python3.12/site-packages (from pandas>=1.2->seaborn>=0.9.0->qiskit[visualization]) (2024.1)\n",
      "Requirement already satisfied: tzdata>=2022.7 in /home/yusuf/.local/lib/python3.12/site-packages (from pandas>=1.2->seaborn>=0.9.0->qiskit[visualization]) (2024.1)\n",
      "Requirement already satisfied: pycparser in /usr/lib/python3.12/site-packages (from cffi>=1.12->cryptography>=1.3->requests-ntlm>=1.1.0->qiskit-ibm-runtime) (2.20)\n",
      "Requirement already satisfied: ply==3.11 in /usr/lib/python3.12/site-packages (from pycparser->cffi>=1.12->cryptography>=1.3->requests-ntlm>=1.1.0->qiskit-ibm-runtime) (3.11)\n",
      "Note: you may need to restart the kernel to use updated packages.\n"
     ]
    }
   ],
   "source": [
    "%pip install qiskit[visualization] qiskit-ibm-runtime qiskit qiskit_aer python-dotenv"
   ]
  },
  {
   "cell_type": "markdown",
   "metadata": {},
   "source": [
    "#### GPU installation"
   ]
  },
  {
   "cell_type": "code",
   "execution_count": 2,
   "metadata": {},
   "outputs": [],
   "source": [
    "# %pip install qiskit[visualization] qiskit-ibm-runtime qiskit qiskit_aer-gpu python-dotenv"
   ]
  },
  {
   "cell_type": "markdown",
   "metadata": {
    "id": "TiWcxBn4_H1e",
    "tags": []
   },
   "source": [
    "### Libraries Importing\n"
   ]
  },
  {
   "cell_type": "code",
   "execution_count": 1,
   "metadata": {
    "id": "0pxiZGX7_YEB",
    "tags": []
   },
   "outputs": [],
   "source": [
    "from qiskit_ibm_runtime import QiskitRuntimeService\n",
    "from qiskit.visualization import plot_histogram\n",
    "from qiskit import QuantumCircuit, transpile\n",
    "from qiskit_aer import AerSimulator\n",
    "from dotenv import load_dotenv\n",
    "from sympy import *\n",
    "import json\n",
    "import time\n",
    "import os\n",
    "\n",
    "load_dotenv()\n",
    "init_printing()\n",
    "simulation_time = time.time()  # to calculate simulation time"
   ]
  },
  {
   "cell_type": "code",
   "execution_count": 2,
   "metadata": {},
   "outputs": [
    {
     "name": "stdout",
     "output_type": "stream",
     "text": [
      "('CPU',)\n"
     ]
    }
   ],
   "source": [
    "backend = AerSimulator(method=\"statevector\")\n",
    "print(backend.available_devices())"
   ]
  },
  {
   "cell_type": "markdown",
   "metadata": {},
   "source": [
    "#### Use GPU"
   ]
  },
  {
   "cell_type": "code",
   "execution_count": 3,
   "metadata": {},
   "outputs": [],
   "source": [
    "# backend.set_options(device=\"GPU\")"
   ]
  },
  {
   "cell_type": "markdown",
   "metadata": {},
   "source": [
    "#### Use real quantum"
   ]
  },
  {
   "cell_type": "code",
   "execution_count": 4,
   "metadata": {},
   "outputs": [],
   "source": [
    "# services = []\n",
    "\n",
    "# for i in range(1, 6):\n",
    "#     services.append(QiskitRuntimeService(\n",
    "#         channel=\"ibm_quantum\", token=os.getenv(f\"TOKEN{i}\")))\n",
    "\n",
    "# # backend = service.backend(\"ibm_osaka\") # for real quantum\n",
    "# # backend = service.backend(\"ibm_kyoto\") # for real quantum"
   ]
  },
  {
   "cell_type": "markdown",
   "metadata": {
    "id": "zxv0s00zWqGE"
   },
   "source": [
    "\n",
    "### Problem Definition"
   ]
  },
  {
   "cell_type": "code",
   "execution_count": 5,
   "metadata": {},
   "outputs": [],
   "source": [
    "conf = json.load(open(\"../conf_16.json\", \"r\"))"
   ]
  },
  {
   "cell_type": "code",
   "execution_count": 8,
   "metadata": {},
   "outputs": [
    {
     "name": "stdout",
     "output_type": "stream",
     "text": [
      "Requried Qubits:  16\n"
     ]
    }
   ],
   "source": [
    "N = conf[\"N\"]  # Number of Teachers\n",
    "M = conf[\"M\"]  # Number of Classes\n",
    "H = conf[\"H\"]  # Number of hours in week\n",
    "\n",
    "required_qubits = (M * N * H) + (M * H) + (N * H)\n",
    "iterations = 0\n",
    "\n",
    "random_seed = conf[\"random_seed\"]\n",
    "shots = conf[\"shots\"] * 5\n",
    "layers = 10\n",
    "\n",
    "print(\"Requried Qubits: \", required_qubits)"
   ]
  },
  {
   "cell_type": "code",
   "execution_count": 9,
   "metadata": {},
   "outputs": [],
   "source": [
    "# T_i is binary string denoting the available hours for each i Teacher\n",
    "# C_j is binary string denoting the available hours for each j Class\n",
    "\n",
    "T = conf[\"T\"]\n",
    "C = conf[\"C\"]\n",
    "\n",
    "R = conf[\"R\"]  # R_ij must be either 0 or 1\n",
    "\n",
    "terms_count = 0\n",
    "equations = []"
   ]
  },
  {
   "cell_type": "markdown",
   "metadata": {
    "id": "a5uXmwzRZOnt"
   },
   "source": [
    "### Formulation"
   ]
  },
  {
   "cell_type": "markdown",
   "metadata": {
    "id": "JfexN02BYq1V"
   },
   "source": [
    "#### Equations"
   ]
  },
  {
   "cell_type": "code",
   "execution_count": 10,
   "metadata": {
    "colab": {
     "base_uri": "https://localhost:8080/",
     "height": 58
    },
    "id": "BPvEcLNQqJqw",
    "outputId": "49dfa7ca-3606-4b78-de91-741900c84563",
    "tags": []
   },
   "outputs": [
    {
     "data": {
      "image/png": "[encoded data removed]",
      "text/latex": [
       "$\\displaystyle \\left[ f_{111}^{2} + 2 f_{111} f_{112} - 2 f_{111} + f_{112}^{2} - 2 f_{112} + 1, \\  f_{121}^{2} + 2 f_{121} f_{122} + f_{122}^{2}, \\  f_{211}^{2} + 2 f_{211} f_{212} + f_{212}^{2}, \\  f_{221}^{2} + 2 f_{221} f_{222} - 2 f_{221} + f_{222}^{2} - 2 f_{222} + 1\\right]$"
      ],
      "text/plain": [
       "⎡    2                              2                   2                     \n",
       "⎣f₁₁₁  + 2⋅f₁₁₁⋅f₁₁₂ - 2⋅f₁₁₁ + f₁₁₂  - 2⋅f₁₁₂ + 1, f₁₂₁  + 2⋅f₁₂₁⋅f₁₂₂ + f₁₂₂\n",
       "\n",
       "2      2                     2      2                              2          \n",
       " , f₂₁₁  + 2⋅f₂₁₁⋅f₂₁₂ + f₂₁₂ , f₂₂₁  + 2⋅f₂₂₁⋅f₂₂₂ - 2⋅f₂₂₁ + f₂₂₂  - 2⋅f₂₂₂ \n",
       "\n",
       "   ⎤\n",
       "+ 1⎦"
      ]
     },
     "execution_count": 10,
     "metadata": {},
     "output_type": "execute_result"
    }
   ],
   "source": [
    "for i in range(1, N + 1):\n",
    "  for j in range(1, M + 1):\n",
    "    temp = total = 0\n",
    "    for h in range(1, H + 1):\n",
    "      temp += symbols(f\"f_{i}{j}{h}\")\n",
    "    total += (temp - R[i-1][j-1])**2\n",
    "    terms_count += len(total.expand().args)\n",
    "    equations.append(total.expand())\n",
    "equations"
   ]
  },
  {
   "cell_type": "code",
   "execution_count": 11,
   "metadata": {
    "colab": {
     "base_uri": "https://localhost:8080/",
     "height": 58
    },
    "id": "oPKg_g4v6tVw",
    "outputId": "e2b51ff0-262d-4355-edca-24dec691553f",
    "tags": []
   },
   "outputs": [
    {
     "data": {
      "image/png": "[encoded data removed]",
      "text/latex": [
       "$\\displaystyle \\left[ f_{111}^{2} + 2 f_{111} f_{112} - 2 f_{111} + f_{112}^{2} - 2 f_{112} + 1, \\  f_{121}^{2} + 2 f_{121} f_{122} + f_{122}^{2}, \\  f_{211}^{2} + 2 f_{211} f_{212} + f_{212}^{2}, \\  f_{221}^{2} + 2 f_{221} f_{222} - 2 f_{221} + f_{222}^{2} - 2 f_{222} + 1, \\  f_{111}^{2} + 2 f_{111} f_{211} + 2 f_{111} τ_{11} - 2 f_{111} + f_{211}^{2} + 2 f_{211} τ_{11} - 2 f_{211} + τ_{11}^{2} - 2 τ_{11} + 1, \\  f_{112}^{2} + 2 f_{112} f_{212} + 2 f_{112} τ_{12} - 2 f_{112} + f_{212}^{2} + 2 f_{212} τ_{12} - 2 f_{212} + τ_{12}^{2} - 2 τ_{12} + 1, \\  f_{121}^{2} + 2 f_{121} f_{221} + 2 f_{121} τ_{21} - 2 f_{121} + f_{221}^{2} + 2 f_{221} τ_{21} - 2 f_{221} + τ_{21}^{2} - 2 τ_{21} + 1, \\  f_{122}^{2} + 2 f_{122} f_{222} + 2 f_{122} τ_{22} - 2 f_{122} + f_{222}^{2} + 2 f_{222} τ_{22} - 2 f_{222} + τ_{22}^{2} - 2 τ_{22} + 1\\right]$"
      ],
      "text/plain": [
       "⎡    2                              2                   2                     \n",
       "⎣f₁₁₁  + 2⋅f₁₁₁⋅f₁₁₂ - 2⋅f₁₁₁ + f₁₁₂  - 2⋅f₁₁₂ + 1, f₁₂₁  + 2⋅f₁₂₁⋅f₁₂₂ + f₁₂₂\n",
       "\n",
       "2      2                     2      2                              2          \n",
       " , f₂₁₁  + 2⋅f₂₁₁⋅f₂₁₂ + f₂₁₂ , f₂₂₁  + 2⋅f₂₂₁⋅f₂₂₂ - 2⋅f₂₂₁ + f₂₂₂  - 2⋅f₂₂₂ \n",
       "\n",
       "         2                                           2                        \n",
       "+ 1, f₁₁₁  + 2⋅f₁₁₁⋅f₂₁₁ + 2⋅f₁₁₁⋅τ₁₁ - 2⋅f₁₁₁ + f₂₁₁  + 2⋅f₂₁₁⋅τ₁₁ - 2⋅f₂₁₁ +\n",
       "\n",
       "    2                  2                                           2          \n",
       " τ₁₁  - 2⋅τ₁₁ + 1, f₁₁₂  + 2⋅f₁₁₂⋅f₂₁₂ + 2⋅f₁₁₂⋅τ₁₂ - 2⋅f₁₁₂ + f₂₁₂  + 2⋅f₂₁₂⋅\n",
       "\n",
       "                  2                  2                                        \n",
       "τ₁₂ - 2⋅f₂₁₂ + τ₁₂  - 2⋅τ₁₂ + 1, f₁₂₁  + 2⋅f₁₂₁⋅f₂₂₁ + 2⋅f₁₂₁⋅τ₂₁ - 2⋅f₁₂₁ + f\n",
       "\n",
       "   2                            2                  2                          \n",
       "₂₂₁  + 2⋅f₂₂₁⋅τ₂₁ - 2⋅f₂₂₁ + τ₂₁  - 2⋅τ₂₁ + 1, f₁₂₂  + 2⋅f₁₂₂⋅f₂₂₂ + 2⋅f₁₂₂⋅τ₂\n",
       "\n",
       "                 2                            2            ⎤\n",
       "₂ - 2⋅f₁₂₂ + f₂₂₂  + 2⋅f₂₂₂⋅τ₂₂ - 2⋅f₂₂₂ + τ₂₂  - 2⋅τ₂₂ + 1⎦"
      ]
     },
     "execution_count": 11,
     "metadata": {},
     "output_type": "execute_result"
    }
   ],
   "source": [
    "for j in range(1, M + 1):\n",
    "  for h in range(1, H + 1):\n",
    "    temp = total = 0\n",
    "    for i in range(1, N + 1):\n",
    "      temp += symbols(f\"f_{i}{j}{h}\")\n",
    "    total += (temp + symbols(f\"τ_{j}{h}\") - 1)**2\n",
    "    terms_count += len(total.expand().args)\n",
    "    equations.append(total.expand())\n",
    "equations"
   ]
  },
  {
   "cell_type": "code",
   "execution_count": 12,
   "metadata": {},
   "outputs": [
    {
     "data": {
      "image/png": "[encoded data removed]",
      "text/latex": [
       "$\\displaystyle \\left[ f_{111}^{2} + 2 f_{111} f_{112} - 2 f_{111} + f_{112}^{2} - 2 f_{112} + 1, \\  f_{121}^{2} + 2 f_{121} f_{122} + f_{122}^{2}, \\  f_{211}^{2} + 2 f_{211} f_{212} + f_{212}^{2}, \\  f_{221}^{2} + 2 f_{221} f_{222} - 2 f_{221} + f_{222}^{2} - 2 f_{222} + 1, \\  f_{111}^{2} + 2 f_{111} f_{211} + 2 f_{111} τ_{11} - 2 f_{111} + f_{211}^{2} + 2 f_{211} τ_{11} - 2 f_{211} + τ_{11}^{2} - 2 τ_{11} + 1, \\  f_{112}^{2} + 2 f_{112} f_{212} + 2 f_{112} τ_{12} - 2 f_{112} + f_{212}^{2} + 2 f_{212} τ_{12} - 2 f_{212} + τ_{12}^{2} - 2 τ_{12} + 1, \\  f_{121}^{2} + 2 f_{121} f_{221} + 2 f_{121} τ_{21} - 2 f_{121} + f_{221}^{2} + 2 f_{221} τ_{21} - 2 f_{221} + τ_{21}^{2} - 2 τ_{21} + 1, \\  f_{122}^{2} + 2 f_{122} f_{222} + 2 f_{122} τ_{22} - 2 f_{122} + f_{222}^{2} + 2 f_{222} τ_{22} - 2 f_{222} + τ_{22}^{2} - 2 τ_{22} + 1, \\  f_{111}^{2} + 2 f_{111} f_{121} + 2 f_{111} λ_{11} - 2 f_{111} + f_{121}^{2} + 2 f_{121} λ_{11} - 2 f_{121} + λ_{11}^{2} - 2 λ_{11} + 1, \\  f_{112}^{2} + 2 f_{112} f_{122} + 2 f_{112} λ_{12} - 2 f_{112} + f_{122}^{2} + 2 f_{122} λ_{12} - 2 f_{122} + λ_{12}^{2} - 2 λ_{12} + 1, \\  f_{211}^{2} + 2 f_{211} f_{221} + 2 f_{211} λ_{21} - 2 f_{211} + f_{221}^{2} + 2 f_{221} λ_{21} - 2 f_{221} + λ_{21}^{2} - 2 λ_{21} + 1, \\  f_{212}^{2} + 2 f_{212} f_{222} + 2 f_{212} λ_{22} - 2 f_{212} + f_{222}^{2} + 2 f_{222} λ_{22} - 2 f_{222} + λ_{22}^{2} - 2 λ_{22} + 1\\right]$"
      ],
      "text/plain": [
       "⎡    2                              2                   2                     \n",
       "⎣f₁₁₁  + 2⋅f₁₁₁⋅f₁₁₂ - 2⋅f₁₁₁ + f₁₁₂  - 2⋅f₁₁₂ + 1, f₁₂₁  + 2⋅f₁₂₁⋅f₁₂₂ + f₁₂₂\n",
       "\n",
       "2      2                     2      2                              2          \n",
       " , f₂₁₁  + 2⋅f₂₁₁⋅f₂₁₂ + f₂₁₂ , f₂₂₁  + 2⋅f₂₂₁⋅f₂₂₂ - 2⋅f₂₂₁ + f₂₂₂  - 2⋅f₂₂₂ \n",
       "\n",
       "         2                                           2                        \n",
       "+ 1, f₁₁₁  + 2⋅f₁₁₁⋅f₂₁₁ + 2⋅f₁₁₁⋅τ₁₁ - 2⋅f₁₁₁ + f₂₁₁  + 2⋅f₂₁₁⋅τ₁₁ - 2⋅f₂₁₁ +\n",
       "\n",
       "    2                  2                                           2          \n",
       " τ₁₁  - 2⋅τ₁₁ + 1, f₁₁₂  + 2⋅f₁₁₂⋅f₂₁₂ + 2⋅f₁₁₂⋅τ₁₂ - 2⋅f₁₁₂ + f₂₁₂  + 2⋅f₂₁₂⋅\n",
       "\n",
       "                  2                  2                                        \n",
       "τ₁₂ - 2⋅f₂₁₂ + τ₁₂  - 2⋅τ₁₂ + 1, f₁₂₁  + 2⋅f₁₂₁⋅f₂₂₁ + 2⋅f₁₂₁⋅τ₂₁ - 2⋅f₁₂₁ + f\n",
       "\n",
       "   2                            2                  2                          \n",
       "₂₂₁  + 2⋅f₂₂₁⋅τ₂₁ - 2⋅f₂₂₁ + τ₂₁  - 2⋅τ₂₁ + 1, f₁₂₂  + 2⋅f₁₂₂⋅f₂₂₂ + 2⋅f₁₂₂⋅τ₂\n",
       "\n",
       "                 2                            2                  2            \n",
       "₂ - 2⋅f₁₂₂ + f₂₂₂  + 2⋅f₂₂₂⋅τ₂₂ - 2⋅f₂₂₂ + τ₂₂  - 2⋅τ₂₂ + 1, f₁₁₁  + 2⋅f₁₁₁⋅f₁\n",
       "\n",
       "                               2                            2                 \n",
       "₂₁ + 2⋅f₁₁₁⋅λ₁₁ - 2⋅f₁₁₁ + f₁₂₁  + 2⋅f₁₂₁⋅λ₁₁ - 2⋅f₁₂₁ + λ₁₁  - 2⋅λ₁₁ + 1, f₁₁\n",
       "\n",
       " 2                                           2                            2   \n",
       "₂  + 2⋅f₁₁₂⋅f₁₂₂ + 2⋅f₁₁₂⋅λ₁₂ - 2⋅f₁₁₂ + f₁₂₂  + 2⋅f₁₂₂⋅λ₁₂ - 2⋅f₁₂₂ + λ₁₂  - \n",
       "\n",
       "               2                                           2                  \n",
       "2⋅λ₁₂ + 1, f₂₁₁  + 2⋅f₂₁₁⋅f₂₂₁ + 2⋅f₂₁₁⋅λ₂₁ - 2⋅f₂₁₁ + f₂₂₁  + 2⋅f₂₂₁⋅λ₂₁ - 2⋅\n",
       "\n",
       "          2                  2                                           2    \n",
       "f₂₂₁ + λ₂₁  - 2⋅λ₂₁ + 1, f₂₁₂  + 2⋅f₂₁₂⋅f₂₂₂ + 2⋅f₂₁₂⋅λ₂₂ - 2⋅f₂₁₂ + f₂₂₂  + 2\n",
       "\n",
       "                        2            ⎤\n",
       "⋅f₂₂₂⋅λ₂₂ - 2⋅f₂₂₂ + λ₂₂  - 2⋅λ₂₂ + 1⎦"
      ]
     },
     "execution_count": 12,
     "metadata": {},
     "output_type": "execute_result"
    }
   ],
   "source": [
    "for i in range(1, N + 1):\n",
    "  for h in range(1, H + 1):\n",
    "    temp = total = 0\n",
    "    for j in range(1, M + 1):\n",
    "      temp += symbols(f\"f_{i}{j}{h}\")\n",
    "    total += (temp + symbols(f\"λ_{i}{h}\") - 1)**2\n",
    "    terms_count += len(total.expand().args)\n",
    "    equations.append(total.expand())\n",
    "equations"
   ]
  },
  {
   "cell_type": "markdown",
   "metadata": {
    "id": "aMB2NgsfY08I"
   },
   "source": [
    "#### Decodeing Equations"
   ]
  },
  {
   "cell_type": "code",
   "execution_count": 13,
   "metadata": {
    "id": "KeQvsRjux1yc",
    "tags": []
   },
   "outputs": [],
   "source": [
    "def args(equation):\n",
    "  return Add.make_args(equation)\n",
    "\n",
    "def prepare_equation(term):\n",
    "  theta = 1\n",
    "  terms = []\n",
    "  if type(term) == Mul:\n",
    "    for i in term.args:\n",
    "      if i.is_Integer:\n",
    "        theta = i\n",
    "      else:\n",
    "        terms.append(i)\n",
    "  else:\n",
    "    terms.append(term.args[0]) \n",
    "\n",
    "  return [theta, decode(terms)]\n",
    "\n",
    "def decode(terms):\n",
    "  output = []\n",
    "\n",
    "  for term in terms:\n",
    "\n",
    "    term = str(term)\n",
    "\n",
    "    if term.startswith(\"τ\"):\n",
    "      j = int(term[2])\n",
    "      h = int(term[3])\n",
    "      output.append((h-1) * M + (j - 1))\n",
    "\n",
    "\n",
    "    elif term.startswith(\"λ\"):\n",
    "      i = int(term[2])\n",
    "      h = int(term[3])\n",
    "      output.append((H * M) + ((h-1) * N + (i - 1)))\n",
    "\n",
    "    elif term.startswith(\"f\"):\n",
    "      i = int(term[2])\n",
    "      j = int(term[3])\n",
    "      h = int(term[4])\n",
    "      output.append((H * M) + (N * H) + ((i - 1) * H * M) + ((j - 1) * H) + (h - 1))\n",
    "\n",
    "  return output\n"
   ]
  },
  {
   "cell_type": "code",
   "execution_count": 14,
   "metadata": {
    "colab": {
     "base_uri": "https://localhost:8080/",
     "height": 57
    },
    "id": "USFt2OzmyFwh",
    "outputId": "1435fa8e-09cd-468c-baef-1e1f5680b678",
    "tags": []
   },
   "outputs": [
    {
     "data": {
      "image/png": "[encoded data removed]",
      "text/latex": [
       "$\\displaystyle \\left[ \\left[ \\left[ 1, \\  \\left[ 8\\right]\\right], \\  \\left[ 1, \\  \\left[ 9\\right]\\right], \\  \\left[ -2, \\  \\left[ 8\\right]\\right], \\  \\left[ -2, \\  \\left[ 9\\right]\\right], \\  \\left[ 2, \\  \\left[ 8, \\  9\\right]\\right]\\right], \\  \\left[ \\left[ 1, \\  \\left[ 10\\right]\\right], \\  \\left[ 1, \\  \\left[ 11\\right]\\right], \\  \\left[ 2, \\  \\left[ 10, \\  11\\right]\\right]\\right], \\  \\left[ \\left[ 1, \\  \\left[ 12\\right]\\right], \\  \\left[ 1, \\  \\left[ 13\\right]\\right], \\  \\left[ 2, \\  \\left[ 12, \\  13\\right]\\right]\\right], \\  \\left[ \\left[ 1, \\  \\left[ 14\\right]\\right], \\  \\left[ 1, \\  \\left[ 15\\right]\\right], \\  \\left[ -2, \\  \\left[ 14\\right]\\right], \\  \\left[ -2, \\  \\left[ 15\\right]\\right], \\  \\left[ 2, \\  \\left[ 14, \\  15\\right]\\right]\\right], \\  \\left[ \\left[ 1, \\  \\left[ 8\\right]\\right], \\  \\left[ 1, \\  \\left[ 12\\right]\\right], \\  \\left[ 1, \\  \\left[ 0\\right]\\right], \\  \\left[ -2, \\  \\left[ 8\\right]\\right], \\  \\left[ -2, \\  \\left[ 12\\right]\\right], \\  \\left[ -2, \\  \\left[ 0\\right]\\right], \\  \\left[ 2, \\  \\left[ 8, \\  12\\right]\\right], \\  \\left[ 2, \\  \\left[ 8, \\  0\\right]\\right], \\  \\left[ 2, \\  \\left[ 12, \\  0\\right]\\right]\\right], \\  \\left[ \\left[ 1, \\  \\left[ 9\\right]\\right], \\  \\left[ 1, \\  \\left[ 13\\right]\\right], \\  \\left[ 1, \\  \\left[ 2\\right]\\right], \\  \\left[ -2, \\  \\left[ 9\\right]\\right], \\  \\left[ -2, \\  \\left[ 13\\right]\\right], \\  \\left[ -2, \\  \\left[ 2\\right]\\right], \\  \\left[ 2, \\  \\left[ 9, \\  13\\right]\\right], \\  \\left[ 2, \\  \\left[ 9, \\  2\\right]\\right], \\  \\left[ 2, \\  \\left[ 13, \\  2\\right]\\right]\\right], \\  \\left[ \\left[ 1, \\  \\left[ 10\\right]\\right], \\  \\left[ 1, \\  \\left[ 14\\right]\\right], \\  \\left[ 1, \\  \\left[ 1\\right]\\right], \\  \\left[ -2, \\  \\left[ 10\\right]\\right], \\  \\left[ -2, \\  \\left[ 14\\right]\\right], \\  \\left[ -2, \\  \\left[ 1\\right]\\right], \\  \\left[ 2, \\  \\left[ 10, \\  14\\right]\\right], \\  \\left[ 2, \\  \\left[ 10, \\  1\\right]\\right], \\  \\left[ 2, \\  \\left[ 14, \\  1\\right]\\right]\\right], \\  \\left[ \\left[ 1, \\  \\left[ 11\\right]\\right], \\  \\left[ 1, \\  \\left[ 15\\right]\\right], \\  \\left[ 1, \\  \\left[ 3\\right]\\right], \\  \\left[ -2, \\  \\left[ 11\\right]\\right], \\  \\left[ -2, \\  \\left[ 15\\right]\\right], \\  \\left[ -2, \\  \\left[ 3\\right]\\right], \\  \\left[ 2, \\  \\left[ 11, \\  15\\right]\\right], \\  \\left[ 2, \\  \\left[ 11, \\  3\\right]\\right], \\  \\left[ 2, \\  \\left[ 15, \\  3\\right]\\right]\\right], \\  \\left[ \\left[ 1, \\  \\left[ 8\\right]\\right], \\  \\left[ 1, \\  \\left[ 10\\right]\\right], \\  \\left[ 1, \\  \\left[ 4\\right]\\right], \\  \\left[ -2, \\  \\left[ 8\\right]\\right], \\  \\left[ -2, \\  \\left[ 10\\right]\\right], \\  \\left[ -2, \\  \\left[ 4\\right]\\right], \\  \\left[ 2, \\  \\left[ 8, \\  10\\right]\\right], \\  \\left[ 2, \\  \\left[ 8, \\  4\\right]\\right], \\  \\left[ 2, \\  \\left[ 10, \\  4\\right]\\right]\\right], \\  \\left[ \\left[ 1, \\  \\left[ 9\\right]\\right], \\  \\left[ 1, \\  \\left[ 11\\right]\\right], \\  \\left[ 1, \\  \\left[ 6\\right]\\right], \\  \\left[ -2, \\  \\left[ 9\\right]\\right], \\  \\left[ -2, \\  \\left[ 11\\right]\\right], \\  \\left[ -2, \\  \\left[ 6\\right]\\right], \\  \\left[ 2, \\  \\left[ 9, \\  11\\right]\\right], \\  \\left[ 2, \\  \\left[ 9, \\  6\\right]\\right], \\  \\left[ 2, \\  \\left[ 11, \\  6\\right]\\right]\\right], \\  \\left[ \\left[ 1, \\  \\left[ 12\\right]\\right], \\  \\left[ 1, \\  \\left[ 14\\right]\\right], \\  \\left[ 1, \\  \\left[ 5\\right]\\right], \\  \\left[ -2, \\  \\left[ 12\\right]\\right], \\  \\left[ -2, \\  \\left[ 14\\right]\\right], \\  \\left[ -2, \\  \\left[ 5\\right]\\right], \\  \\left[ 2, \\  \\left[ 12, \\  14\\right]\\right], \\  \\left[ 2, \\  \\left[ 12, \\  5\\right]\\right], \\  \\left[ 2, \\  \\left[ 14, \\  5\\right]\\right]\\right], \\  \\left[ \\left[ 1, \\  \\left[ 13\\right]\\right], \\  \\left[ 1, \\  \\left[ 15\\right]\\right], \\  \\left[ 1, \\  \\left[ 7\\right]\\right], \\  \\left[ -2, \\  \\left[ 13\\right]\\right], \\  \\left[ -2, \\  \\left[ 15\\right]\\right], \\  \\left[ -2, \\  \\left[ 7\\right]\\right], \\  \\left[ 2, \\  \\left[ 13, \\  15\\right]\\right], \\  \\left[ 2, \\  \\left[ 13, \\  7\\right]\\right], \\  \\left[ 2, \\  \\left[ 15, \\  7\\right]\\right]\\right]\\right]$"
      ],
      "text/plain": [
       "[[[1, [8]], [1, [9]], [-2, [8]], [-2, [9]], [2, [8, 9]]], [[1, [10]], [1, [11]\n",
       "], [2, [10, 11]]], [[1, [12]], [1, [13]], [2, [12, 13]]], [[1, [14]], [1, [15]\n",
       "], [-2, [14]], [-2, [15]], [2, [14, 15]]], [[1, [8]], [1, [12]], [1, [0]], [-2\n",
       ", [8]], [-2, [12]], [-2, [0]], [2, [8, 12]], [2, [8, 0]], [2, [12, 0]]], [[1, \n",
       "[9]], [1, [13]], [1, [2]], [-2, [9]], [-2, [13]], [-2, [2]], [2, [9, 13]], [2,\n",
       " [9, 2]], [2, [13, 2]]], [[1, [10]], [1, [14]], [1, [1]], [-2, [10]], [-2, [14\n",
       "]], [-2, [1]], [2, [10, 14]], [2, [10, 1]], [2, [14, 1]]], [[1, [11]], [1, [15\n",
       "]], [1, [3]], [-2, [11]], [-2, [15]], [-2, [3]], [2, [11, 15]], [2, [11, 3]], \n",
       "[2, [15, 3]]], [[1, [8]], [1, [10]], [1, [4]], [-2, [8]], [-2, [10]], [-2, [4]\n",
       "], [2, [8, 10]], [2, [8, 4]], [2, [10, 4]]], [[1, [9]], [1, [11]], [1, [6]], [\n",
       "-2, [9]], [-2, [11]], [-2, [6]], [2, [9, 11]], [2, [9, 6]], [2, [11, 6]]], [[1\n",
       ", [12]], [1, [14]], [1, [5]], [-2, [12]], [-2, [14]], [-2, [5]], [2, [12, 14]]\n",
       ", [2, [12, 5]], [2, [14, 5]]], [[1, [13]], [1, [15]], [1, [7]], [-2, [13]], [-\n",
       "2, [15]], [-2, [7]], [2, [13, 15]], [2, [13, 7]], [2, [15, 7]]]]"
      ]
     },
     "execution_count": 14,
     "metadata": {},
     "output_type": "execute_result"
    }
   ],
   "source": [
    "prepared_equations = []\n",
    "for equation in equations:\n",
    "    temp = []\n",
    "    for term in args(equation):\n",
    "        if len(term.args) != 0:\n",
    "            temp.append(prepare_equation(term))\n",
    "    prepared_equations.append(temp)\n",
    "\n",
    "prepared_equations"
   ]
  },
  {
   "cell_type": "markdown",
   "metadata": {
    "id": "6lncBvjzZEak"
   },
   "source": [
    "### Implementation"
   ]
  },
  {
   "cell_type": "markdown",
   "metadata": {
    "id": "RtWVrhgDXsXm"
   },
   "source": [
    "#### Objective Function"
   ]
  },
  {
   "cell_type": "code",
   "execution_count": 15,
   "metadata": {},
   "outputs": [],
   "source": [
    "def f(i, j, h):\n",
    "  return int(T[i-1][h-1] == C[j-1][h-1] == '1')\n",
    "\n",
    "def tau_value(bit_string, j, h):\n",
    "  return int(bit_string[(h-1) * M + (j - 1)])\n",
    "\n",
    "def lambda_value(bit_string, i, h):\n",
    "  return int(bit_string[(H * M) + ((h-1) * N + (i - 1))])\n",
    "\n",
    "def f_value(bit_string, i, j, h):\n",
    "  return int(bit_string[(H * M) + (N * H) + ((i - 1) * H * M) + ((j - 1) * H) + (h - 1)])"
   ]
  },
  {
   "cell_type": "code",
   "execution_count": 16,
   "metadata": {
    "id": "_rqg3jtnQkXU"
   },
   "outputs": [],
   "source": [
    "def objective(bit_string):\n",
    "  # since qiskit represent solution in least significant bit format\n",
    "  bit_string = bit_string[::-1]\n",
    "  cost = 0\n",
    "  a = b = c = d = 0\n",
    "  # equation a\n",
    "  for i in range(1, N + 1):\n",
    "      for j in range(1, M + 1):\n",
    "          for h in range(1, H + 1):\n",
    "              if f(i, j, h) != f_value(bit_string, i, j, h):\n",
    "                  cost += 1\n",
    "                  a += 1\n",
    "\n",
    "  # equation b\n",
    "  for i in range(1, N + 1):\n",
    "      for j in range(1, M + 1):\n",
    "          temp = 0\n",
    "          for h in range(1, H + 1):\n",
    "              temp += f_value(bit_string, i, j, h)\n",
    "          cost += (temp - R[i-1][j-1])**2\n",
    "          b += (temp - R[i-1][j-1])**2\n",
    "\n",
    "  # equation c\n",
    "  for j in range(1, M + 1):\n",
    "      for h in range(1, H + 1):\n",
    "          temp = 0\n",
    "          for i in range(1, N + 1):\n",
    "              temp += f_value(bit_string, i, j, h)\n",
    "          cost += (temp + tau_value(bit_string, j, h) - 1)**2\n",
    "          c += (temp + tau_value(bit_string, j, h) - 1)**2\n",
    "\n",
    "  # equation d\n",
    "  for i in range(1, N + 1):\n",
    "      for h in range(1, H + 1):\n",
    "          temp = 0\n",
    "          for j in range(1, M + 1):\n",
    "              temp += f_value(bit_string, i, j, h)\n",
    "          cost += (temp + lambda_value(bit_string, i, h) - 1)**2\n",
    "          d += (temp + lambda_value(bit_string, i, h) - 1)**2\n",
    "\n",
    "  return [cost, a, b, c, d]"
   ]
  },
  {
   "cell_type": "markdown",
   "metadata": {
    "id": "WnyoHLcIX4q3"
   },
   "source": [
    "#### Circuit"
   ]
  },
  {
   "cell_type": "markdown",
   "metadata": {},
   "source": [
    "#### Draw circuit "
   ]
  },
  {
   "cell_type": "code",
   "execution_count": 17,
   "metadata": {},
   "outputs": [],
   "source": [
    "# qc = QuantumCircuit(required_qubits)\n",
    "\n",
    "# for i in range(required_qubits):\n",
    "#     qc.h(i)\n",
    "\n",
    "# for equation in prepared_equations:\n",
    "#     for term in equation:\n",
    "#         theta = int(term[0])\n",
    "#         locations = term[1]\n",
    "#         if len(locations) == 1:  # Rz Gate\n",
    "#             qc.rz(theta * -1 , locations[0])\n",
    "\n",
    "#         elif len(locations) == 2:  # Rzz gate\n",
    "#             qc.rz(theta * -0.5 , locations[0])\n",
    "#             qc.rz(theta * -0.5 , locations[1])\n",
    "#             qc.rzz(theta * 0.5 , locations[0], locations[1])\n",
    "\n",
    "# for qubit in range(required_qubits - 1):\n",
    "#     qc.rx(1, qubit)\n",
    "\n",
    "# qc.draw(\"mpl\")"
   ]
  },
  {
   "cell_type": "code",
   "execution_count": 18,
   "metadata": {
    "id": "HKUaUyw4X3oN"
   },
   "outputs": [],
   "source": [
    "def layers_gen(p, initial_value=1.0):\n",
    "    return [initial_value] * p * 2\n",
    "\n",
    "\n",
    "def create_qaoa_circ(thetas):\n",
    "    n_layers = len(thetas)//2\n",
    "\n",
    "    alpha = thetas[n_layers:]\n",
    "    gamma = thetas[:n_layers]\n",
    "\n",
    "    qc = QuantumCircuit(required_qubits)\n",
    "\n",
    "    for i in range(required_qubits):\n",
    "        qc.h(i)\n",
    "    \n",
    "    for layer_index in range(n_layers):\n",
    "        for equation in prepared_equations:\n",
    "            for term in equation:\n",
    "                theta = int(term[0])\n",
    "                locations = term[1]\n",
    "\n",
    "                if len(locations) == 1:  # Rz Gate\n",
    "                    qc.rz(theta * -1 * alpha[layer_index], locations[0])\n",
    "\n",
    "                elif len(locations) == 2:  # Rzz gate\n",
    "                    qc.rz(theta * -0.5 * alpha[layer_index], locations[0])\n",
    "                    qc.rz(theta * -0.5 * alpha[layer_index], locations[1])\n",
    "                    qc.rzz(theta * 0.5 * alpha[layer_index], locations[0], locations[1])\n",
    "\n",
    "        for qubit in range(required_qubits - 1):\n",
    "            qc.rx(2 * gamma[layer_index], qubit)\n",
    "\n",
    "    qc.measure_all()\n",
    "\n",
    "    return qc"
   ]
  },
  {
   "cell_type": "code",
   "execution_count": 19,
   "metadata": {},
   "outputs": [],
   "source": [
    "total = [0] * 4\n",
    "\n",
    "\n",
    "def compute_expectation(counts):\n",
    "    avg = 0\n",
    "    sum_count = 0\n",
    "    for bit_string, count in counts.items():\n",
    "        obj, a, b, c, d = objective(bit_string)\n",
    "        total[0] += a\n",
    "        total[1] += b\n",
    "        total[2] += c\n",
    "        total[3] += d\n",
    "        avg += obj * count\n",
    "        sum_count += count\n",
    "    return avg/sum_count\n",
    "\n",
    "\n",
    "def get_expectation():\n",
    "\n",
    "    def execute_circ(theta):\n",
    "        global iterations\n",
    "        qc = create_qaoa_circ(theta)\n",
    "        tc = transpile(qc, backend, optimization_level=3,\n",
    "                       seed_transpiler=random_seed)\n",
    "\n",
    "        counts = backend.run(tc, seed_simulator=random_seed,\n",
    "                             shots=shots).result().get_counts()\n",
    "        print(compute_expectation(counts))\n",
    "        iterations += 1\n",
    "        return compute_expectation(counts)\n",
    "\n",
    "    return execute_circ"
   ]
  },
  {
   "cell_type": "code",
   "execution_count": 28,
   "metadata": {
    "colab": {
     "base_uri": "https://localhost:8080/"
    },
    "id": "MCSSZrIQLN5j",
    "outputId": "f389b5bf-5cf6-43c6-e77d-c22956d225bd",
    "scrolled": true,
    "tags": []
   },
   "outputs": [
    {
     "name": "stdout",
     "output_type": "stream",
     "text": [
      "16.2076171875\n",
      "16.2076171875\n",
      "16.2076171875\n",
      "16.2076171875\n",
      "16.2076171875\n",
      "16.2076171875\n",
      "16.2076171875\n",
      "16.2076171875\n",
      "16.2076171875\n",
      "16.2076171875\n",
      "16.2076171875\n",
      "16.2076171875\n",
      "16.2076171875\n",
      "16.2076171875\n",
      "16.2076171875\n",
      "16.2076171875\n",
      "16.2076171875\n",
      "16.2076171875\n",
      "16.2076171875\n",
      "16.2076171875\n",
      "16.2076171875\n"
     ]
    },
    {
     "data": {
      "text/plain": [
       "  message: CONVERGENCE: NORM_OF_PROJECTED_GRADIENT_<=_PGTOL\n",
       "  success: True\n",
       "   status: 0\n",
       "      fun: 16.2076171875\n",
       "        x: [ 1.000e+00  1.000e+00 ...  1.000e+00  1.000e+00]\n",
       "      nit: 0\n",
       "      jac: [ 0.000e+00  0.000e+00 ...  0.000e+00  0.000e+00]\n",
       "     nfev: 21\n",
       "     njev: 1\n",
       " hess_inv: <20x20 LbfgsInvHessProduct with dtype=float64>"
      ]
     },
     "execution_count": 28,
     "metadata": {},
     "output_type": "execute_result"
    }
   ],
   "source": [
    "from scipy.optimize import minimize\n",
    "expectation = get_expectation()\n",
    "start_time = time.time()\n",
    "res = minimize(expectation, layers_gen(layers), method='L-BFGS-B')\n",
    "minimization_time = time.time() - start_time\n",
    "\n",
    "res"
   ]
  },
  {
   "cell_type": "code",
   "execution_count": 29,
   "metadata": {},
   "outputs": [
    {
     "name": "stdout",
     "output_type": "stream",
     "text": [
      "a: 12778028\n",
      "b: 13006692\n",
      "c: 12642980\n",
      "d: 12779894\n"
     ]
    }
   ],
   "source": [
    "print(\"a:\", total[0])\n",
    "print(\"b:\", total[1])\n",
    "print(\"c:\", total[2])\n",
    "print(\"d:\", total[3])"
   ]
  },
  {
   "cell_type": "markdown",
   "metadata": {
    "id": "l7b5F8DsLbbj"
   },
   "source": [
    "### Results"
   ]
  },
  {
   "cell_type": "code",
   "execution_count": 30,
   "metadata": {
    "id": "FKDf4o0LLN5j",
    "tags": []
   },
   "outputs": [
    {
     "name": "stdout",
     "output_type": "stream",
     "text": [
      "4724\n",
      "-----------------\n",
      "BINGO\n",
      "1000000101100110\n",
      "1\n",
      "-----------------\n",
      "Solution 1010100111011000 cost: 16 count 4\n",
      "Solution 1001001100000000 cost: 6 count 3\n",
      "Solution 1011011010111001 cost: 19 count 3\n",
      "Solution 1000100100010001 cost: 8 count 3\n",
      "Solution 0001010000000100 cost: 11 count 3\n",
      "Solution 1111000111000010 cost: 15 count 3\n",
      "Solution 1000101111010011 cost: 13 count 3\n",
      "Solution 1011011100011101 cost: 24 count 3\n",
      "Solution 0011100000010001 cost: 14 count 3\n",
      "Solution 0111011011100010 cost: 24 count 3\n"
     ]
    },
    {
     "data": {
      "image/png": "[encoded data removed]",
      "text/plain": [
       "<Figure size 700x500 with 1 Axes>"
      ]
     },
     "execution_count": 30,
     "metadata": {},
     "output_type": "execute_result"
    }
   ],
   "source": [
    "from qiskit.visualization import plot_histogram\n",
    "\n",
    "qc_res = create_qaoa_circ(res.x)\n",
    "counts = backend.run(qc_res, seed_simulator=random_seed,\n",
    "                     shots=shots).result().get_counts()\n",
    "\n",
    "\n",
    "counts = dict(sorted(counts.items(), key=lambda item: item[1], reverse=True))\n",
    "counts_cost = dict(\n",
    "    sorted(counts.items(), key=lambda item: item[1], reverse=True))\n",
    "\n",
    "values = list(counts.values())\n",
    "binary = list(counts.keys())\n",
    "\n",
    "output = {}\n",
    "\n",
    "print(len(counts))\n",
    "\n",
    "for key in binary:\n",
    "    if objective(key)[0] == 0:\n",
    "        print(\"-----------------\")\n",
    "        print(\"BINGO\")\n",
    "        print(key)\n",
    "        print(counts[key])\n",
    "        print(\"-----------------\")\n",
    "\n",
    "for key in binary[:10]:\n",
    "    print(\"Solution\", key, \"cost:\", objective(key)[0], \"count\", counts[key])\n",
    "    output[key] = counts[key]\n",
    "\n",
    "# plot_histogram(output).savefig(f\"./png/{H}_{M}_{N}_{shots}_{layers}_{time.time_ns()}.png\")\n",
    "plot_histogram(output)"
   ]
  },
  {
   "cell_type": "code",
   "execution_count": 31,
   "metadata": {},
   "outputs": [
    {
     "name": "stdout",
     "output_type": "stream",
     "text": [
      "Solution 1000000101100110 cost: 0 count 1\n"
     ]
    }
   ],
   "source": [
    "sol = required_qubits\n",
    "sol_bin = \"\"\n",
    "\n",
    "for i in counts:\n",
    "  ob = objective(i)[0]\n",
    "  if ob < sol:\n",
    "    sol = ob\n",
    "    sol_bin = i\n",
    "\n",
    "counts[\"H\"] = H\n",
    "counts[\"M\"] = M\n",
    "counts[\"N\"] = N\n",
    "counts[\"shots\"] = shots\n",
    "counts[\"layers\"] = layers\n",
    "counts[\"solution\"] = sol_bin\n",
    "counts[\"solution_cost\"] = sol\n",
    "counts[\"solution_count\"] = counts[sol_bin]\n",
    "counts[\"minimization_time\"] = minimization_time\n",
    "counts[\"execution_time\"] = time.time() - simulation_time\n",
    "counts[\"iterations\"] = iterations \n",
    "\n",
    "print(\"Solution\",sol_bin ,\"cost:\",sol,\"count\", counts[sol_bin])"
   ]
  },
  {
   "cell_type": "code",
   "execution_count": 24,
   "metadata": {},
   "outputs": [],
   "source": [
    "# file = open(f\"../json/simulation/16/{H}_{M}_{N}_{shots}_{layers}_simulation.json\", \"w\")\n",
    "# file.write(json.dumps(counts))\n",
    "# file.flush()"
   ]
  },
  {
   "cell_type": "code",
   "execution_count": 25,
   "metadata": {},
   "outputs": [
    {
     "data": {
      "image/png": "[encoded data removed]",
      "text/latex": [
       "$\\displaystyle 964.115907430649$"
      ],
      "text/plain": [
       "964.1159074306488"
      ]
     },
     "execution_count": 25,
     "metadata": {},
     "output_type": "execute_result"
    }
   ],
   "source": [
    "counts[\"execution_time\"]"
   ]
  },
  {
   "cell_type": "code",
   "execution_count": 26,
   "metadata": {},
   "outputs": [
    {
     "data": {
      "image/png": "[encoded data removed]",
      "text/latex": [
       "$\\displaystyle 958.815872907639$"
      ],
      "text/plain": [
       "958.8158729076385"
      ]
     },
     "execution_count": 26,
     "metadata": {},
     "output_type": "execute_result"
    }
   ],
   "source": [
    "minimization_time"
   ]
  }
 ],
 "metadata": {
  "colab": {
   "collapsed_sections": [
    "alCyWOxAWcdV",
    "TiWcxBn4_H1e"
   ],
   "provenance": []
  },
  "kernelspec": {
   "display_name": "Python 3 (ipykernel)",
   "language": "python",
   "name": "python3"
  },
  "language_info": {
   "codemirror_mode": {
    "name": "ipython",
    "version": 3
   },
   "file_extension": ".py",
   "mimetype": "text/x-python",
   "name": "python",
   "nbconvert_exporter": "python",
   "pygments_lexer": "ipython3",
   "version": "3.12.3"
  }
 },
 "nbformat": 4,
 "nbformat_minor": 4
}
