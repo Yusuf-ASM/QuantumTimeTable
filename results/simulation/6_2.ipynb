{
 "cells": [
  {
   "cell_type": "markdown",
   "metadata": {
    "id": "alCyWOxAWcdV",
    "jp-MarkdownHeadingCollapsed": true,
    "tags": []
   },
   "source": [
    "### Installing Qiskit"
   ]
  },
  {
   "cell_type": "markdown",
   "metadata": {},
   "source": [
    "#### Normal installation"
   ]
  },
  {
   "cell_type": "code",
   "execution_count": 57,
   "metadata": {
    "colab": {
     "base_uri": "https://localhost:8080/"
    },
    "id": "HE2WwMMhVL8p",
    "outputId": "73f03985-1eca-4c27-c073-1a5cb9948d80",
    "tags": []
   },
   "outputs": [
    {
     "name": "stdout",
     "output_type": "stream",
     "text": [
      "Defaulting to user installation because normal site-packages is not writeable\n",
      "Requirement already satisfied: qiskit-ibm-runtime in /home/yusuf/.local/lib/python3.12/site-packages (0.23.0)\n",
      "Requirement already satisfied: qiskit in /home/yusuf/.local/lib/python3.12/site-packages (1.0.2)\n",
      "Requirement already satisfied: qiskit_aer in /home/yusuf/.local/lib/python3.12/site-packages (0.14.2)\n",
      "Requirement already satisfied: python-dotenv in /home/yusuf/.local/lib/python3.12/site-packages (1.0.1)\n",
      "Requirement already satisfied: rustworkx>=0.14.0 in /home/yusuf/.local/lib/python3.12/site-packages (from qiskit[visualization]) (0.14.2)\n",
      "Requirement already satisfied: numpy<2,>=1.17 in /home/yusuf/.local/lib/python3.12/site-packages (from qiskit[visualization]) (1.26.4)\n",
      "Requirement already satisfied: scipy>=1.5 in /home/yusuf/.local/lib/python3.12/site-packages (from qiskit[visualization]) (1.14.0)\n",
      "Requirement already satisfied: sympy>=1.3 in /home/yusuf/.local/lib/python3.12/site-packages (from qiskit[visualization]) (1.12)\n",
      "Requirement already satisfied: dill>=0.3 in /home/yusuf/.local/lib/python3.12/site-packages (from qiskit[visualization]) (0.3.8)\n",
      "Requirement already satisfied: python-dateutil>=2.8.0 in /usr/lib/python3.12/site-packages (from qiskit[visualization]) (2.8.2)\n",
      "Requirement already satisfied: stevedore>=3.0.0 in /home/yusuf/.local/lib/python3.12/site-packages (from qiskit[visualization]) (5.2.0)\n",
      "Requirement already satisfied: typing-extensions in /home/yusuf/.local/lib/python3.12/site-packages (from qiskit[visualization]) (4.11.0)\n",
      "Requirement already satisfied: symengine>=0.11 in /home/yusuf/.local/lib/python3.12/site-packages (from qiskit[visualization]) (0.11.0)\n",
      "Requirement already satisfied: matplotlib>=3.3 in /home/yusuf/.local/lib/python3.12/site-packages (from qiskit[visualization]) (3.8.4)\n",
      "Requirement already satisfied: pydot in /home/yusuf/.local/lib/python3.12/site-packages (from qiskit[visualization]) (2.0.0)\n",
      "Requirement already satisfied: Pillow>=4.2.1 in /usr/lib64/python3.12/site-packages (from qiskit[visualization]) (10.3.0)\n",
      "Requirement already satisfied: pylatexenc>=1.4 in /home/yusuf/.local/lib/python3.12/site-packages (from qiskit[visualization]) (2.10)\n",
      "Requirement already satisfied: seaborn>=0.9.0 in /home/yusuf/.local/lib/python3.12/site-packages (from qiskit[visualization]) (0.13.2)\n",
      "Requirement already satisfied: requests>=2.19 in /home/yusuf/.local/lib/python3.12/site-packages (from qiskit-ibm-runtime) (2.31.0)\n",
      "Requirement already satisfied: requests-ntlm>=1.1.0 in /home/yusuf/.local/lib/python3.12/site-packages (from qiskit-ibm-runtime) (1.2.0)\n",
      "Requirement already satisfied: urllib3>=1.21.1 in /home/yusuf/.local/lib/python3.12/site-packages (from qiskit-ibm-runtime) (2.2.1)\n",
      "Requirement already satisfied: websocket-client>=1.5.1 in /home/yusuf/.local/lib/python3.12/site-packages (from qiskit-ibm-runtime) (1.7.0)\n",
      "Requirement already satisfied: ibm-platform-services>=0.22.6 in /home/yusuf/.local/lib/python3.12/site-packages (from qiskit-ibm-runtime) (0.53.4)\n",
      "Requirement already satisfied: pydantic in /home/yusuf/.local/lib/python3.12/site-packages (from qiskit-ibm-runtime) (2.7.0)\n",
      "Requirement already satisfied: psutil>=5 in /home/yusuf/.local/lib/python3.12/site-packages (from qiskit_aer) (5.9.8)\n",
      "Requirement already satisfied: ibm-cloud-sdk-core<4.0.0,>=3.19.2 in /home/yusuf/.local/lib/python3.12/site-packages (from ibm-platform-services>=0.22.6->qiskit-ibm-runtime) (3.20.0)\n",
      "Requirement already satisfied: contourpy>=1.0.1 in /home/yusuf/.local/lib/python3.12/site-packages (from matplotlib>=3.3->qiskit[visualization]) (1.2.1)\n",
      "Requirement already satisfied: cycler>=0.10 in /home/yusuf/.local/lib/python3.12/site-packages (from matplotlib>=3.3->qiskit[visualization]) (0.12.1)\n",
      "Requirement already satisfied: fonttools>=4.22.0 in /home/yusuf/.local/lib/python3.12/site-packages (from matplotlib>=3.3->qiskit[visualization]) (4.51.0)\n",
      "Requirement already satisfied: kiwisolver>=1.3.1 in /home/yusuf/.local/lib/python3.12/site-packages (from matplotlib>=3.3->qiskit[visualization]) (1.4.5)\n",
      "Requirement already satisfied: packaging>=20.0 in /usr/lib/python3.12/site-packages (from matplotlib>=3.3->qiskit[visualization]) (23.2)\n",
      "Requirement already satisfied: pyparsing>=2.3.1 in /usr/lib/python3.12/site-packages (from matplotlib>=3.3->qiskit[visualization]) (3.1.2)\n",
      "Requirement already satisfied: six>=1.5 in /usr/lib/python3.12/site-packages (from python-dateutil>=2.8.0->qiskit[visualization]) (1.16.0)\n",
      "Requirement already satisfied: charset-normalizer<4,>=2 in /usr/lib/python3.12/site-packages (from requests>=2.19->qiskit-ibm-runtime) (3.3.2)\n",
      "Requirement already satisfied: idna<4,>=2.5 in /usr/lib/python3.12/site-packages (from requests>=2.19->qiskit-ibm-runtime) (3.7)\n",
      "Requirement already satisfied: certifi>=2017.4.17 in /usr/lib/python3.12/site-packages (from requests>=2.19->qiskit-ibm-runtime) (2023.5.7)\n",
      "Requirement already satisfied: cryptography>=1.3 in /usr/lib64/python3.12/site-packages (from requests-ntlm>=1.1.0->qiskit-ibm-runtime) (41.0.7)\n",
      "Requirement already satisfied: pyspnego>=0.1.6 in /home/yusuf/.local/lib/python3.12/site-packages (from requests-ntlm>=1.1.0->qiskit-ibm-runtime) (0.10.2)\n",
      "Requirement already satisfied: pandas>=1.2 in /home/yusuf/.local/lib/python3.12/site-packages (from seaborn>=0.9.0->qiskit[visualization]) (2.2.2)\n",
      "Requirement already satisfied: pbr!=2.1.0,>=2.0.0 in /home/yusuf/.local/lib/python3.12/site-packages (from stevedore>=3.0.0->qiskit[visualization]) (6.0.0)\n",
      "Requirement already satisfied: mpmath>=0.19 in /home/yusuf/.local/lib/python3.12/site-packages (from sympy>=1.3->qiskit[visualization]) (1.3.0)\n",
      "Requirement already satisfied: annotated-types>=0.4.0 in /home/yusuf/.local/lib/python3.12/site-packages (from pydantic->qiskit-ibm-runtime) (0.6.0)\n",
      "Requirement already satisfied: pydantic-core==2.18.1 in /home/yusuf/.local/lib/python3.12/site-packages (from pydantic->qiskit-ibm-runtime) (2.18.1)\n",
      "Requirement already satisfied: cffi>=1.12 in /usr/lib64/python3.12/site-packages (from cryptography>=1.3->requests-ntlm>=1.1.0->qiskit-ibm-runtime) (1.16.0)\n",
      "Requirement already satisfied: PyJWT<3.0.0,>=2.8.0 in /home/yusuf/.local/lib/python3.12/site-packages (from ibm-cloud-sdk-core<4.0.0,>=3.19.2->ibm-platform-services>=0.22.6->qiskit-ibm-runtime) (2.8.0)\n",
      "Requirement already satisfied: pytz>=2020.1 in /usr/lib/python3.12/site-packages (from pandas>=1.2->seaborn>=0.9.0->qiskit[visualization]) (2024.1)\n",
      "Requirement already satisfied: tzdata>=2022.7 in /home/yusuf/.local/lib/python3.12/site-packages (from pandas>=1.2->seaborn>=0.9.0->qiskit[visualization]) (2024.1)\n",
      "Requirement already satisfied: pycparser in /usr/lib/python3.12/site-packages (from cffi>=1.12->cryptography>=1.3->requests-ntlm>=1.1.0->qiskit-ibm-runtime) (2.20)\n",
      "Requirement already satisfied: ply==3.11 in /usr/lib/python3.12/site-packages (from pycparser->cffi>=1.12->cryptography>=1.3->requests-ntlm>=1.1.0->qiskit-ibm-runtime) (3.11)\n",
      "Note: you may need to restart the kernel to use updated packages.\n"
     ]
    }
   ],
   "source": [
    "%pip install qiskit[visualization] qiskit-ibm-runtime qiskit qiskit_aer python-dotenv"
   ]
  },
  {
   "cell_type": "markdown",
   "metadata": {},
   "source": [
    "#### GPU installation"
   ]
  },
  {
   "cell_type": "code",
   "execution_count": 58,
   "metadata": {},
   "outputs": [],
   "source": [
    "# %pip install qiskit[visualization] qiskit-ibm-runtime qiskit qiskit_aer-gpu python-dotenv"
   ]
  },
  {
   "cell_type": "markdown",
   "metadata": {
    "id": "TiWcxBn4_H1e",
    "tags": []
   },
   "source": [
    "### Libraries Importing\n"
   ]
  },
  {
   "cell_type": "code",
   "execution_count": 32,
   "metadata": {
    "id": "0pxiZGX7_YEB",
    "tags": []
   },
   "outputs": [],
   "source": [
    "from qiskit_ibm_runtime import QiskitRuntimeService\n",
    "from qiskit.visualization import plot_histogram\n",
    "from qiskit import QuantumCircuit, transpile\n",
    "from qiskit_aer import AerSimulator\n",
    "from dotenv import load_dotenv\n",
    "from sympy import *\n",
    "import json\n",
    "import time\n",
    "import os\n",
    "import itertools\n",
    "\n",
    "load_dotenv()\n",
    "init_printing()\n",
    "simulation_time = time.time()  # to calculate simulation time"
   ]
  },
  {
   "cell_type": "code",
   "execution_count": 33,
   "metadata": {},
   "outputs": [
    {
     "name": "stdout",
     "output_type": "stream",
     "text": [
      "('CPU',)\n"
     ]
    }
   ],
   "source": [
    "backend = AerSimulator(method=\"statevector\")\n",
    "print(backend.available_devices())"
   ]
  },
  {
   "cell_type": "markdown",
   "metadata": {},
   "source": [
    "#### Use GPU"
   ]
  },
  {
   "cell_type": "code",
   "execution_count": 34,
   "metadata": {},
   "outputs": [],
   "source": [
    "# backend.set_options(device=\"GPU\")"
   ]
  },
  {
   "cell_type": "markdown",
   "metadata": {},
   "source": [
    "#### Use real quantum"
   ]
  },
  {
   "cell_type": "code",
   "execution_count": 35,
   "metadata": {},
   "outputs": [],
   "source": [
    "# services = []\n",
    "\n",
    "# for i in range(1, 6):\n",
    "#     services.append(QiskitRuntimeService(\n",
    "#         channel=\"ibm_quantum\", token=os.getenv(f\"TOKEN{i}\")))\n",
    "\n",
    "# # backend = service.backend(\"ibm_osaka\") # for real quantum\n",
    "# # backend = service.backend(\"ibm_kyoto\") # for real quantum"
   ]
  },
  {
   "cell_type": "markdown",
   "metadata": {
    "id": "zxv0s00zWqGE"
   },
   "source": [
    "\n",
    "### Problem Definition"
   ]
  },
  {
   "cell_type": "code",
   "execution_count": 36,
   "metadata": {},
   "outputs": [],
   "source": [
    "conf = json.load(open(\"../conf_16.json\", \"r\"))"
   ]
  },
  {
   "cell_type": "code",
   "execution_count": 247,
   "metadata": {},
   "outputs": [
    {
     "name": "stdout",
     "output_type": "stream",
     "text": [
      "Requried Qubits:  8\n"
     ]
    }
   ],
   "source": [
    "N = conf[\"N\"]  # Number of Teachers\n",
    "M = conf[\"M\"]  # Number of Classes\n",
    "H = conf[\"H\"]  # Number of hours in week\n",
    "\n",
    "# required_qubits = (M * N * H) + (M * H) + (N * H)\n",
    "required_qubits = (N * H * M)\n",
    "iterations = 0\n",
    "\n",
    "random_seed = conf[\"random_seed\"]\n",
    "shots = 10_000\n",
    "layers = 13\n",
    "\n",
    "print(\"Requried Qubits: \", required_qubits)"
   ]
  },
  {
   "cell_type": "code",
   "execution_count": 248,
   "metadata": {},
   "outputs": [],
   "source": [
    "# T_i is binary string denoting the available hours for each i Teacher\n",
    "# C_j is binary string denoting the available hours for each j Class\n",
    "\n",
    "T = conf[\"T\"]\n",
    "C = conf[\"C\"]\n",
    "\n",
    "R = conf[\"R\"]  # R_ij must be either 0 or 1\n",
    "\n",
    "terms_count = 0\n",
    "equations = []"
   ]
  },
  {
   "cell_type": "markdown",
   "metadata": {
    "id": "a5uXmwzRZOnt"
   },
   "source": [
    "### Formulation"
   ]
  },
  {
   "cell_type": "markdown",
   "metadata": {
    "id": "JfexN02BYq1V"
   },
   "source": [
    "#### Equations"
   ]
  },
  {
   "cell_type": "code",
   "execution_count": 249,
   "metadata": {
    "colab": {
     "base_uri": "https://localhost:8080/",
     "height": 58
    },
    "id": "BPvEcLNQqJqw",
    "outputId": "49dfa7ca-3606-4b78-de91-741900c84563",
    "tags": []
   },
   "outputs": [
    {
     "data": {
      "image/png": "[encoded data removed]",
      "text/latex": [
       "$\\displaystyle \\left[ f_{111}^{2} + 2 f_{111} f_{112} - 2 f_{111} + f_{112}^{2} - 2 f_{112} + 1, \\  f_{121}^{2} + 2 f_{121} f_{122} + f_{122}^{2}, \\  f_{211}^{2} + 2 f_{211} f_{212} + f_{212}^{2}, \\  f_{221}^{2} + 2 f_{221} f_{222} - 2 f_{221} + f_{222}^{2} - 2 f_{222} + 1\\right]$"
      ],
      "text/plain": [
       "⎡    2                              2                   2                     \n",
       "⎣f₁₁₁  + 2⋅f₁₁₁⋅f₁₁₂ - 2⋅f₁₁₁ + f₁₁₂  - 2⋅f₁₁₂ + 1, f₁₂₁  + 2⋅f₁₂₁⋅f₁₂₂ + f₁₂₂\n",
       "\n",
       "2      2                     2      2                              2          \n",
       " , f₂₁₁  + 2⋅f₂₁₁⋅f₂₁₂ + f₂₁₂ , f₂₂₁  + 2⋅f₂₂₁⋅f₂₂₂ - 2⋅f₂₂₁ + f₂₂₂  - 2⋅f₂₂₂ \n",
       "\n",
       "   ⎤\n",
       "+ 1⎦"
      ]
     },
     "execution_count": 249,
     "metadata": {},
     "output_type": "execute_result"
    }
   ],
   "source": [
    "for i in range(1, N + 1):\n",
    "  for j in range(1, M + 1):\n",
    "    temp = total = 0\n",
    "    for h in range(1, H + 1):\n",
    "      temp += symbols(f\"f_{i}{j}{h}\")\n",
    "    total += (temp - R[i-1][j-1])**2\n",
    "    terms_count += len(total.expand().args)\n",
    "    equations.append(total.expand())\n",
    "equations"
   ]
  },
  {
   "cell_type": "code",
   "execution_count": 250,
   "metadata": {
    "colab": {
     "base_uri": "https://localhost:8080/",
     "height": 58
    },
    "id": "oPKg_g4v6tVw",
    "outputId": "e2b51ff0-262d-4355-edca-24dec691553f",
    "tags": []
   },
   "outputs": [],
   "source": [
    "# for j in range(1, M + 1):\n",
    "#   for h in range(1, H + 1):\n",
    "#     temp = total = 0\n",
    "#     for i in range(1, N + 1):\n",
    "#       temp += symbols(f\"f_{i}{j}{h}\")\n",
    "#     total += (temp + symbols(f\"τ_{j}{h}\") - 1)**2\n",
    "#     terms_count += len(total.expand().args)\n",
    "#     equations.append(total.expand())\n",
    "# equations"
   ]
  },
  {
   "cell_type": "code",
   "execution_count": 251,
   "metadata": {},
   "outputs": [
    {
     "data": {
      "image/png": "[encoded data removed]",
      "text/latex": [
       "$\\displaystyle \\left[ f_{111}^{2} + 2 f_{111} f_{112} - 2 f_{111} + f_{112}^{2} - 2 f_{112} + 1, \\  f_{121}^{2} + 2 f_{121} f_{122} + f_{122}^{2}, \\  f_{211}^{2} + 2 f_{211} f_{212} + f_{212}^{2}, \\  f_{221}^{2} + 2 f_{221} f_{222} - 2 f_{221} + f_{222}^{2} - 2 f_{222} + 1, \\  f_{111} f_{112} + f_{111} f_{121} + f_{111} f_{122} + f_{111} f_{211} + f_{111} f_{212} + f_{111} f_{221} + f_{111} f_{222} + f_{112} f_{121} + f_{112} f_{122} + f_{112} f_{211} + f_{112} f_{212} + f_{112} f_{221} + f_{112} f_{222} + f_{121} f_{122} + f_{121} f_{211} + f_{121} f_{212} + f_{121} f_{221} + f_{121} f_{222} + f_{122} f_{211} + f_{122} f_{212} + f_{122} f_{221} + f_{122} f_{222} + f_{211} f_{212} + f_{211} f_{221} + f_{211} f_{222} + f_{212} f_{221} + f_{212} f_{222} + f_{221} f_{222}\\right]$"
      ],
      "text/plain": [
       "⎡    2                              2                   2                     \n",
       "⎣f₁₁₁  + 2⋅f₁₁₁⋅f₁₁₂ - 2⋅f₁₁₁ + f₁₁₂  - 2⋅f₁₁₂ + 1, f₁₂₁  + 2⋅f₁₂₁⋅f₁₂₂ + f₁₂₂\n",
       "\n",
       "2      2                     2      2                              2          \n",
       " , f₂₁₁  + 2⋅f₂₁₁⋅f₂₁₂ + f₂₁₂ , f₂₂₁  + 2⋅f₂₂₁⋅f₂₂₂ - 2⋅f₂₂₁ + f₂₂₂  - 2⋅f₂₂₂ \n",
       "\n",
       "                                                                              \n",
       "+ 1, f₁₁₁⋅f₁₁₂ + f₁₁₁⋅f₁₂₁ + f₁₁₁⋅f₁₂₂ + f₁₁₁⋅f₂₁₁ + f₁₁₁⋅f₂₁₂ + f₁₁₁⋅f₂₂₁ + f\n",
       "\n",
       "                                                                              \n",
       "₁₁₁⋅f₂₂₂ + f₁₁₂⋅f₁₂₁ + f₁₁₂⋅f₁₂₂ + f₁₁₂⋅f₂₁₁ + f₁₁₂⋅f₂₁₂ + f₁₁₂⋅f₂₂₁ + f₁₁₂⋅f₂\n",
       "\n",
       "                                                                              \n",
       "₂₂ + f₁₂₁⋅f₁₂₂ + f₁₂₁⋅f₂₁₁ + f₁₂₁⋅f₂₁₂ + f₁₂₁⋅f₂₂₁ + f₁₂₁⋅f₂₂₂ + f₁₂₂⋅f₂₁₁ + f\n",
       "\n",
       "                                                                              \n",
       "₁₂₂⋅f₂₁₂ + f₁₂₂⋅f₂₂₁ + f₁₂₂⋅f₂₂₂ + f₂₁₁⋅f₂₁₂ + f₂₁₁⋅f₂₂₁ + f₂₁₁⋅f₂₂₂ + f₂₁₂⋅f₂\n",
       "\n",
       "                          ⎤\n",
       "₂₁ + f₂₁₂⋅f₂₂₂ + f₂₂₁⋅f₂₂₂⎦"
      ]
     },
     "execution_count": 251,
     "metadata": {},
     "output_type": "execute_result"
    }
   ],
   "source": [
    "temp = []\n",
    "for j in range(1, M + 1):\n",
    "  for h in range(1, H + 1):\n",
    "    for i in range(1, N + 1):\n",
    "      temp.append(symbols(f\"f_{i}{j}{h}\"))\n",
    "temp = list(itertools.combinations(temp,2))\n",
    "equation = 0\n",
    "\n",
    "for i in range(len(temp)):\n",
    "  equation+= temp[i][0] * temp[i][1]\n",
    "equations.append(equation)\n",
    "equations"
   ]
  },
  {
   "cell_type": "code",
   "execution_count": 252,
   "metadata": {},
   "outputs": [],
   "source": [
    "# for i in range(1, N + 1):\n",
    "#   for h in range(1, H + 1):\n",
    "#     temp = total = 0\n",
    "#     for j in range(1, M + 1):\n",
    "#       temp += symbols(f\"f_{i}{j}{h}\")\n",
    "#     total += (temp + symbols(f\"λ_{i}{h}\") - 1)**2\n",
    "#     terms_count += len(total.expand().args)\n",
    "#     equations.append(total.expand())\n",
    "# equations"
   ]
  },
  {
   "cell_type": "code",
   "execution_count": 253,
   "metadata": {},
   "outputs": [],
   "source": [
    "# temp = []\n",
    "# for j in range(1, M + 1):\n",
    "#   for h in range(1, H + 1):\n",
    "#     for i in range(1, N + 1):\n",
    "#       temp.append(symbols(f\"f_{i}{j}{h}\"))\n",
    "# temp = list(itertools.combinations(temp,2))\n",
    "# equation = 0\n",
    "# for i in range(len(temp)):\n",
    "#   equation+= temp[i][0] * temp[i][1]\n",
    "# equations.append(equation)\n",
    "# equations"
   ]
  },
  {
   "cell_type": "markdown",
   "metadata": {
    "id": "aMB2NgsfY08I"
   },
   "source": [
    "#### Decodeing Equations"
   ]
  },
  {
   "cell_type": "code",
   "execution_count": 254,
   "metadata": {
    "id": "KeQvsRjux1yc",
    "tags": []
   },
   "outputs": [],
   "source": [
    "def args(equation):\n",
    "  return Add.make_args(equation)\n",
    "\n",
    "def prepare_equation(term):\n",
    "  theta = 1\n",
    "  terms = []\n",
    "  if type(term) == Mul:\n",
    "    for i in term.args:\n",
    "      if i.is_Integer:\n",
    "        theta = i\n",
    "      else:\n",
    "        terms.append(i)\n",
    "  else:\n",
    "    terms.append(term.args[0]) \n",
    "\n",
    "  return [theta, decode(terms)]\n",
    "\n",
    "def decode(terms):\n",
    "  output = []\n",
    "\n",
    "  for term in terms:\n",
    "\n",
    "    term = str(term)\n",
    "\n",
    "    # if term.startswith(\"τ\"):\n",
    "    #   j = int(term[2])\n",
    "    #   h = int(term[3])\n",
    "    #   output.append((h-1) * M + (j - 1))\n",
    "\n",
    "\n",
    "    # elif term.startswith(\"λ\"):\n",
    "    #   i = int(term[2])\n",
    "    #   h = int(term[3])\n",
    "    #   output.append((H * M) + ((h-1) * N + (i - 1)))\n",
    "\n",
    "    if term.startswith(\"f\"):\n",
    "      i = int(term[2])\n",
    "      j = int(term[3])\n",
    "      h = int(term[4])\n",
    "      # output.append((H * M) + (N * H) + ((i - 1) * H * M) + ((j - 1) * H) + (h - 1))\n",
    "      output.append(((i - 1) * H * M) + ((j - 1) * H) + (h - 1))\n",
    "\n",
    "  return output\n"
   ]
  },
  {
   "cell_type": "code",
   "execution_count": 255,
   "metadata": {
    "colab": {
     "base_uri": "https://localhost:8080/",
     "height": 57
    },
    "id": "USFt2OzmyFwh",
    "outputId": "1435fa8e-09cd-468c-baef-1e1f5680b678",
    "tags": []
   },
   "outputs": [
    {
     "data": {
      "image/png": "[encoded data removed]",
      "text/latex": [
       "$\\displaystyle \\left[ \\left[ \\left[ 1, \\  \\left[ 0\\right]\\right], \\  \\left[ 1, \\  \\left[ 1\\right]\\right], \\  \\left[ -2, \\  \\left[ 0\\right]\\right], \\  \\left[ -2, \\  \\left[ 1\\right]\\right], \\  \\left[ 2, \\  \\left[ 0, \\  1\\right]\\right]\\right], \\  \\left[ \\left[ 1, \\  \\left[ 2\\right]\\right], \\  \\left[ 1, \\  \\left[ 3\\right]\\right], \\  \\left[ 2, \\  \\left[ 2, \\  3\\right]\\right]\\right], \\  \\left[ \\left[ 1, \\  \\left[ 4\\right]\\right], \\  \\left[ 1, \\  \\left[ 5\\right]\\right], \\  \\left[ 2, \\  \\left[ 4, \\  5\\right]\\right]\\right], \\  \\left[ \\left[ 1, \\  \\left[ 6\\right]\\right], \\  \\left[ 1, \\  \\left[ 7\\right]\\right], \\  \\left[ -2, \\  \\left[ 6\\right]\\right], \\  \\left[ -2, \\  \\left[ 7\\right]\\right], \\  \\left[ 2, \\  \\left[ 6, \\  7\\right]\\right]\\right], \\  \\left[ \\left[ 1, \\  \\left[ 0, \\  1\\right]\\right], \\  \\left[ 1, \\  \\left[ 0, \\  2\\right]\\right], \\  \\left[ 1, \\  \\left[ 0, \\  3\\right]\\right], \\  \\left[ 1, \\  \\left[ 0, \\  4\\right]\\right], \\  \\left[ 1, \\  \\left[ 0, \\  5\\right]\\right], \\  \\left[ 1, \\  \\left[ 0, \\  6\\right]\\right], \\  \\left[ 1, \\  \\left[ 0, \\  7\\right]\\right], \\  \\left[ 1, \\  \\left[ 1, \\  2\\right]\\right], \\  \\left[ 1, \\  \\left[ 1, \\  3\\right]\\right], \\  \\left[ 1, \\  \\left[ 1, \\  4\\right]\\right], \\  \\left[ 1, \\  \\left[ 1, \\  5\\right]\\right], \\  \\left[ 1, \\  \\left[ 1, \\  6\\right]\\right], \\  \\left[ 1, \\  \\left[ 1, \\  7\\right]\\right], \\  \\left[ 1, \\  \\left[ 2, \\  3\\right]\\right], \\  \\left[ 1, \\  \\left[ 2, \\  4\\right]\\right], \\  \\left[ 1, \\  \\left[ 2, \\  5\\right]\\right], \\  \\left[ 1, \\  \\left[ 2, \\  6\\right]\\right], \\  \\left[ 1, \\  \\left[ 2, \\  7\\right]\\right], \\  \\left[ 1, \\  \\left[ 3, \\  4\\right]\\right], \\  \\left[ 1, \\  \\left[ 3, \\  5\\right]\\right], \\  \\left[ 1, \\  \\left[ 3, \\  6\\right]\\right], \\  \\left[ 1, \\  \\left[ 3, \\  7\\right]\\right], \\  \\left[ 1, \\  \\left[ 4, \\  5\\right]\\right], \\  \\left[ 1, \\  \\left[ 4, \\  6\\right]\\right], \\  \\left[ 1, \\  \\left[ 4, \\  7\\right]\\right], \\  \\left[ 1, \\  \\left[ 5, \\  6\\right]\\right], \\  \\left[ 1, \\  \\left[ 5, \\  7\\right]\\right], \\  \\left[ 1, \\  \\left[ 6, \\  7\\right]\\right]\\right]\\right]$"
      ],
      "text/plain": [
       "[[[1, [0]], [1, [1]], [-2, [0]], [-2, [1]], [2, [0, 1]]], [[1, [2]], [1, [3]],\n",
       " [2, [2, 3]]], [[1, [4]], [1, [5]], [2, [4, 5]]], [[1, [6]], [1, [7]], [-2, [6\n",
       "]], [-2, [7]], [2, [6, 7]]], [[1, [0, 1]], [1, [0, 2]], [1, [0, 3]], [1, [0, 4\n",
       "]], [1, [0, 5]], [1, [0, 6]], [1, [0, 7]], [1, [1, 2]], [1, [1, 3]], [1, [1, 4\n",
       "]], [1, [1, 5]], [1, [1, 6]], [1, [1, 7]], [1, [2, 3]], [1, [2, 4]], [1, [2, 5\n",
       "]], [1, [2, 6]], [1, [2, 7]], [1, [3, 4]], [1, [3, 5]], [1, [3, 6]], [1, [3, 7\n",
       "]], [1, [4, 5]], [1, [4, 6]], [1, [4, 7]], [1, [5, 6]], [1, [5, 7]], [1, [6, 7\n",
       "]]]]"
      ]
     },
     "execution_count": 255,
     "metadata": {},
     "output_type": "execute_result"
    }
   ],
   "source": [
    "prepared_equations = []\n",
    "for equation in equations:\n",
    "    temp = []\n",
    "    for term in args(equation):\n",
    "        if len(term.args) != 0:            \n",
    "            temp.append(prepare_equation(term))\n",
    "    prepared_equations.append(temp)\n",
    "\n",
    "prepared_equations"
   ]
  },
  {
   "cell_type": "markdown",
   "metadata": {
    "id": "6lncBvjzZEak"
   },
   "source": [
    "### Implementation"
   ]
  },
  {
   "cell_type": "markdown",
   "metadata": {
    "id": "RtWVrhgDXsXm"
   },
   "source": [
    "#### Objective Function"
   ]
  },
  {
   "cell_type": "code",
   "execution_count": 256,
   "metadata": {},
   "outputs": [],
   "source": [
    "def f(i, j, h):\n",
    "    return int(T[i-1][h-1] == C[j-1][h-1] == '1')\n",
    "\n",
    "\n",
    "def tau_value(bit_string, j, h):\n",
    "    return int(bit_string[(h-1) * M + (j - 1)])\n",
    "\n",
    "\n",
    "def lambda_value(bit_string, i, h):\n",
    "    return int(bit_string[(H * M) + ((h-1) * N + (i - 1))])\n",
    "\n",
    "\n",
    "def f_value(bit_string, i, j, h):\n",
    "    # return int(bit_string[(H * M) + (N * H) + ((i - 1) * H * M) + ((j - 1) * H) + (h - 1)])\n",
    "    return int(bit_string[((i - 1) * H * M) + ((j - 1) * H) + (h - 1)])"
   ]
  },
  {
   "cell_type": "code",
   "execution_count": 257,
   "metadata": {
    "id": "_rqg3jtnQkXU"
   },
   "outputs": [],
   "source": [
    "def objective(bit_string):\n",
    "  # since qiskit represent solution in least significant bit format\n",
    "  bit_string = bit_string[::-1]\n",
    "  cost = 0\n",
    "  a = b = c = d = 0\n",
    "  # equation a\n",
    "  for i in range(1, N + 1):\n",
    "      for j in range(1, M + 1):\n",
    "          for h in range(1, H + 1):\n",
    "              if f(i, j, h) != f_value(bit_string, i, j, h):\n",
    "                  cost += 1\n",
    "                  a += 1\n",
    "\n",
    "  # equation b\n",
    "  for i in range(1, N + 1):\n",
    "      for j in range(1, M + 1):\n",
    "          temp = 0\n",
    "          for h in range(1, H + 1):\n",
    "              temp += f_value(bit_string, i, j, h)\n",
    "          cost += (temp - R[i-1][j-1])**2\n",
    "          b += (temp - R[i-1][j-1])**2\n",
    "\n",
    "  return [cost, a, b, c, d]"
   ]
  },
  {
   "cell_type": "markdown",
   "metadata": {
    "id": "WnyoHLcIX4q3"
   },
   "source": [
    "#### Circuit"
   ]
  },
  {
   "cell_type": "markdown",
   "metadata": {},
   "source": [
    "#### Draw circuit "
   ]
  },
  {
   "cell_type": "code",
   "execution_count": 258,
   "metadata": {},
   "outputs": [],
   "source": [
    "# qc = QuantumCircuit(required_qubits)\n",
    "# sol = \"10\" \n",
    "# # for i in range(required_qubits):\n",
    "# #     if sol[i]==\"1\":\n",
    "#         # qc.x(i)\n",
    "# for i in range(required_qubits):\n",
    "#     qc.h(i)\n",
    "\n",
    "# for equation in prepared_equations:\n",
    "#     for term in equation:\n",
    "#         theta = int(term[0])\n",
    "#         locations = term[1]\n",
    "#         if len(locations) == 1:  # Rz Gate\n",
    "#             qc.rz(theta * -1 , locations[0])\n",
    "        \n",
    "#         elif len(locations) == 2:  # Rzz gate\n",
    "#             qc.rz(theta * -0.5 , locations[0])\n",
    "#             qc.rz(theta * -0.5 , locations[1])\n",
    "#             qc.rzz(theta * 0.5 , locations[0], locations[1])\n",
    "\n",
    "# # for qubit in range(required_qubits - 1):\n",
    "# #     qc.rx(1, qubit)\n",
    "\n",
    "# qc.draw(\"mpl\")"
   ]
  },
  {
   "cell_type": "code",
   "execution_count": 259,
   "metadata": {
    "id": "HKUaUyw4X3oN"
   },
   "outputs": [],
   "source": [
    "def layers_gen(p, initial_value=1.0):\n",
    "    return [initial_value] * p * 2\n",
    "\n",
    "\n",
    "def create_qaoa_circ(thetas):\n",
    "    n_layers = len(thetas)//2\n",
    "\n",
    "    alpha = thetas[n_layers:]\n",
    "    gamma = thetas[:n_layers]\n",
    "\n",
    "    qc = QuantumCircuit(required_qubits)\n",
    "    for i in range(required_qubits):\n",
    "        qc.h(i)\n",
    "    for layer_index in range(n_layers):\n",
    "        for equation in prepared_equations:\n",
    "            for term in equation:\n",
    "                theta = int(term[0])\n",
    "                locations = term[1]\n",
    "\n",
    "                if len(locations) == 1:  # Rz Gate\n",
    "                    qc.rz(theta * -1 * alpha[layer_index], locations[0])\n",
    "\n",
    "                elif len(locations) == 2:  # Rzz gate\n",
    "                    if locations[0] == locations[1]:\n",
    "                        continue\n",
    "                    qc.rz(theta * -0.5 * alpha[layer_index], locations[0])\n",
    "                    qc.rz(theta * -0.5 * alpha[layer_index], locations[1])\n",
    "                    qc.rzz(theta * 0.5 * alpha[layer_index], locations[0], locations[1])\n",
    "\n",
    "        for qubit in range(required_qubits - 1):\n",
    "            qc.rx(2 * gamma[layer_index], qubit)\n",
    "\n",
    "    qc.measure_all()\n",
    "    return qc"
   ]
  },
  {
   "cell_type": "code",
   "execution_count": 260,
   "metadata": {},
   "outputs": [],
   "source": [
    "total = [0] * 4\n",
    "\n",
    "\n",
    "def compute_expectation(counts):\n",
    "    avg = 0\n",
    "    sum_count = 0\n",
    "    for bit_string, count in counts.items():\n",
    "        obj, a, b, c, d = objective(bit_string)\n",
    "        total[0] += a\n",
    "        total[1] += b\n",
    "        total[2] += c\n",
    "        total[3] += d\n",
    "        avg += obj * count\n",
    "        sum_count += count\n",
    "    return avg/sum_count\n",
    "\n",
    "\n",
    "def get_expectation():\n",
    "\n",
    "    def execute_circ(theta):\n",
    "        global iterations\n",
    "        qc = create_qaoa_circ(theta)\n",
    "        tc = transpile(qc, backend, optimization_level=3,\n",
    "                       seed_transpiler=random_seed)\n",
    "\n",
    "        counts = backend.run(tc, seed_simulator=random_seed,\n",
    "                             shots=shots).result().get_counts()\n",
    "        print(compute_expectation(counts))\n",
    "        iterations += 1\n",
    "        return compute_expectation(counts)\n",
    "\n",
    "    return execute_circ"
   ]
  },
  {
   "cell_type": "code",
   "execution_count": 261,
   "metadata": {
    "colab": {
     "base_uri": "https://localhost:8080/"
    },
    "id": "MCSSZrIQLN5j",
    "outputId": "f389b5bf-5cf6-43c6-e77d-c22956d225bd",
    "scrolled": true,
    "tags": []
   },
   "outputs": [
    {
     "name": "stdout",
     "output_type": "stream",
     "text": [
      "7.944\n",
      "7.6652\n",
      "7.9748\n",
      "8.517\n",
      "8.0904\n",
      "8.7192\n",
      "8.8344\n",
      "7.8674\n",
      "7.1738\n",
      "9.2772\n",
      "8.9662\n",
      "8.768\n",
      "8.6876\n",
      "8.8192\n",
      "8.5892\n",
      "7.5328\n",
      "9.1696\n",
      "9.0514\n",
      "8.3136\n",
      "8.134\n",
      "8.5244\n",
      "8.8732\n",
      "8.6274\n",
      "8.4404\n",
      "8.0986\n",
      "8.9484\n",
      "8.3054\n",
      "8.518\n",
      "8.8784\n",
      "7.9502\n",
      "8.8718\n",
      "8.1194\n",
      "8.7126\n",
      "7.5026\n",
      "7.549\n",
      "7.8664\n",
      "8.5044\n",
      "7.2296\n",
      "8.8262\n",
      "7.8662\n",
      "7.5288\n",
      "8.0334\n",
      "7.5874\n",
      "7.8768\n",
      "7.4442\n",
      "8.2326\n",
      "8.3786\n",
      "7.634\n",
      "8.8686\n",
      "9.3144\n",
      "8.0062\n",
      "9.21\n",
      "8.1236\n",
      "8.1626\n",
      "7.5562\n",
      "8.2788\n",
      "7.0934\n",
      "7.7862\n",
      "7.4048\n",
      "8.458\n",
      "8.1388\n",
      "7.1936\n",
      "8.8672\n",
      "6.8934\n",
      "7.6848\n",
      "7.026\n",
      "7.2852\n",
      "7.074\n",
      "7.3314\n",
      "7.1406\n",
      "7.3548\n",
      "7.2456\n",
      "7.5282\n",
      "6.9548\n",
      "7.1312\n",
      "7.1472\n",
      "7.9002\n",
      "7.0168\n",
      "6.956\n",
      "7.668\n",
      "6.793\n",
      "7.2972\n",
      "6.8192\n",
      "6.7894\n",
      "6.7338\n",
      "7.179\n",
      "6.7068\n",
      "6.6966\n",
      "6.5976\n",
      "6.7046\n",
      "6.714\n",
      "6.5814\n",
      "6.5922\n",
      "6.5926\n",
      "6.5816\n",
      "6.6676\n",
      "6.4958\n",
      "7.0192\n",
      "6.244\n",
      "6.6292\n",
      "6.3842\n",
      "6.4544\n",
      "6.3474\n",
      "6.4602\n",
      "6.1588\n",
      "6.1404\n",
      "6.0546\n",
      "6.7314\n",
      "6.2538\n",
      "6.2896\n",
      "6.2888\n",
      "6.5888\n",
      "6.427\n",
      "6.7152\n",
      "6.16\n",
      "6.4682\n",
      "6.1788\n",
      "6.4702\n",
      "6.1868\n",
      "6.1312\n",
      "6.0792\n",
      "6.0768\n",
      "6.2036\n",
      "6.0134\n",
      "6.0814\n",
      "6.1158\n",
      "6.021\n",
      "6.063\n",
      "6.0586\n",
      "6.0172\n",
      "6.261\n",
      "6.0754\n",
      "6.1086\n",
      "6.0276\n",
      "6.0642\n",
      "6.0144\n",
      "6.0348\n",
      "6.0926\n",
      "5.9824\n",
      "5.9266\n",
      "5.9282\n",
      "5.9158\n",
      "5.9414\n",
      "5.8762\n",
      "5.8928\n",
      "5.8866\n",
      "5.8566\n",
      "5.9138\n",
      "5.8676\n",
      "5.8836\n",
      "5.9366\n",
      "5.7906\n",
      "5.7888\n",
      "5.724\n",
      "5.7442\n",
      "5.7566\n",
      "5.7254\n",
      "5.7042\n",
      "5.7204\n",
      "5.6762\n",
      "5.693\n",
      "5.6698\n",
      "5.6674\n",
      "5.6184\n",
      "5.6616\n",
      "5.6578\n",
      "5.693\n",
      "5.6354\n",
      "5.6086\n",
      "5.66\n",
      "5.6328\n",
      "5.5674\n",
      "5.5972\n",
      "5.621\n",
      "5.5922\n",
      "5.5844\n",
      "5.6042\n",
      "5.6308\n",
      "5.5776\n",
      "5.5616\n",
      "5.5546\n",
      "5.557\n",
      "5.5304\n",
      "5.5566\n",
      "5.5458\n",
      "5.5182\n",
      "5.5646\n",
      "5.5646\n",
      "5.5438\n",
      "5.5252\n",
      "5.5554\n",
      "5.5054\n",
      "5.512\n",
      "5.4974\n",
      "5.4984\n",
      "5.4904\n",
      "5.5248\n",
      "5.5714\n",
      "5.5586\n",
      "5.4524\n",
      "5.4906\n",
      "5.4834\n",
      "5.4626\n",
      "5.4378\n",
      "5.4548\n",
      "5.4808\n",
      "5.4788\n",
      "5.4828\n",
      "5.467\n",
      "5.482\n",
      "5.4668\n",
      "5.5106\n",
      "5.4536\n",
      "5.447\n",
      "5.4444\n",
      "5.4326\n",
      "5.4714\n",
      "5.4516\n",
      "5.4548\n",
      "5.4718\n",
      "5.4418\n",
      "5.4494\n",
      "5.4282\n",
      "5.536\n",
      "5.4704\n",
      "5.4362\n",
      "5.4372\n",
      "5.4894\n",
      "5.4024\n",
      "5.3946\n",
      "5.4046\n",
      "5.4786\n",
      "5.4306\n",
      "5.3942\n",
      "5.4292\n",
      "5.3928\n",
      "5.4204\n",
      "5.4086\n",
      "5.4138\n",
      "5.3852\n",
      "5.4072\n",
      "5.3774\n",
      "5.416\n",
      "5.4022\n",
      "5.4048\n",
      "5.3768\n",
      "5.3878\n",
      "5.3968\n",
      "5.3678\n",
      "5.3876\n",
      "5.4196\n",
      "5.3778\n",
      "5.417\n",
      "5.3808\n",
      "5.4108\n",
      "5.3942\n",
      "5.3852\n",
      "5.3706\n",
      "5.414\n",
      "5.3824\n",
      "5.3776\n",
      "5.3954\n",
      "5.413\n",
      "5.3852\n",
      "5.3794\n",
      "5.3818\n",
      "5.38\n",
      "5.3724\n",
      "5.3752\n",
      "5.3788\n",
      "5.3766\n",
      "5.3836\n",
      "5.3766\n",
      "5.3826\n",
      "5.3784\n",
      "5.3706\n",
      "5.3656\n",
      "5.376\n",
      "5.384\n",
      "5.3756\n",
      "5.3792\n",
      "5.3658\n",
      "5.3842\n",
      "5.3702\n",
      "5.3654\n",
      "5.3668\n",
      "5.3882\n",
      "5.3818\n",
      "5.3718\n",
      "5.377\n",
      "5.3728\n",
      "5.3752\n",
      "5.3862\n",
      "5.37\n",
      "5.3838\n",
      "5.3682\n",
      "5.3804\n",
      "5.3662\n",
      "5.376\n",
      "5.3664\n",
      "5.3686\n",
      "5.3656\n",
      "5.3698\n",
      "5.3714\n",
      "5.3664\n",
      "5.37\n",
      "5.3676\n",
      "5.3732\n",
      "5.3688\n",
      "5.3654\n",
      "5.3696\n",
      "5.3688\n",
      "5.365\n",
      "5.3726\n",
      "5.368\n",
      "5.3716\n",
      "5.3672\n",
      "5.3688\n",
      "5.368\n",
      "5.3688\n",
      "5.3668\n",
      "5.3686\n",
      "5.3708\n",
      "5.375\n",
      "5.3676\n",
      "5.3682\n",
      "5.3652\n",
      "5.3684\n",
      "5.3692\n",
      "5.3716\n",
      "5.3678\n",
      "5.3658\n",
      "5.3654\n",
      "5.3684\n",
      "5.3706\n",
      "5.3764\n",
      "5.3652\n",
      "5.3668\n",
      "5.3654\n",
      "5.3688\n",
      "5.3696\n",
      "5.3688\n",
      "5.3638\n",
      "5.3662\n",
      "5.3648\n",
      "5.364\n",
      "5.3652\n",
      "5.3644\n",
      "5.3648\n",
      "5.3652\n",
      "5.3644\n",
      "5.3664\n",
      "5.366\n",
      "5.3678\n",
      "5.3646\n",
      "5.3654\n",
      "5.3652\n",
      "5.3648\n",
      "5.365\n",
      "5.3666\n",
      "5.3636\n",
      "5.369\n",
      "5.3646\n",
      "5.3654\n",
      "5.3646\n",
      "5.3676\n",
      "5.3652\n",
      "5.3642\n",
      "5.365\n",
      "5.3668\n",
      "5.3654\n",
      "5.3656\n",
      "5.3642\n",
      "5.3638\n",
      "5.3636\n",
      "5.364\n"
     ]
    },
    {
     "data": {
      "text/plain": [
       " message: Optimization terminated successfully.\n",
       " success: True\n",
       "  status: 1\n",
       "     fun: 5.364\n",
       "       x: [ 1.987e+00  9.565e-01 ...  1.088e+00  8.687e-01]\n",
       "    nfev: 376\n",
       "   maxcv: 0.0"
      ]
     },
     "execution_count": 261,
     "metadata": {},
     "output_type": "execute_result"
    }
   ],
   "source": [
    "from scipy.optimize import minimize,linear_sum_assignment\n",
    "expectation = get_expectation()\n",
    "start_time = time.time()\n",
    "res = minimize(expectation, layers_gen(layers), method='COBYLA')\n",
    "# res = minimize(expectation, layers_gen(layers), method='COBYQA')\n",
    "# res = linear_sum_assignment()\n",
    "minimization_time = time.time() - start_time\n",
    "\n",
    "res"
   ]
  },
  {
   "cell_type": "code",
   "execution_count": 262,
   "metadata": {},
   "outputs": [
    {
     "name": "stdout",
     "output_type": "stream",
     "text": [
      "a: 740916\n",
      "b: 741144\n",
      "c: 0\n",
      "d: 0\n"
     ]
    }
   ],
   "source": [
    "print(\"a:\", total[0])\n",
    "print(\"b:\", total[1])\n",
    "print(\"c:\", total[2])\n",
    "print(\"d:\", total[3])"
   ]
  },
  {
   "cell_type": "markdown",
   "metadata": {
    "id": "l7b5F8DsLbbj"
   },
   "source": [
    "### Results"
   ]
  },
  {
   "cell_type": "code",
   "execution_count": 263,
   "metadata": {
    "id": "FKDf4o0LLN5j",
    "tags": []
   },
   "outputs": [
    {
     "name": "stdout",
     "output_type": "stream",
     "text": [
      "244\n",
      "-----------------\n",
      "BINGO\n",
      "10000001\n",
      "318\n",
      "-----------------\n",
      "Solution 10000011 cost: 2 count 1463\n",
      "Solution 00000000 cost: 4 count 847\n",
      "Solution 10000001 cost: 0 count 318\n",
      "Solution 10000010 cost: 2 count 298\n",
      "Solution 01000000 cost: 4 count 278\n",
      "Solution 10000000 cost: 2 count 263\n",
      "Solution 11000010 cost: 4 count 227\n",
      "Solution 11000001 cost: 2 count 215\n",
      "Solution 01000010 cost: 4 count 160\n",
      "Solution 00000011 cost: 4 count 157\n"
     ]
    },
    {
     "data": {
      "image/png": "[encoded data removed]",
      "text/plain": [
       "<Figure size 700x500 with 1 Axes>"
      ]
     },
     "execution_count": 263,
     "metadata": {},
     "output_type": "execute_result"
    }
   ],
   "source": [
    "from qiskit.visualization import plot_histogram\n",
    "\n",
    "qc_res = create_qaoa_circ(res.x)\n",
    "counts = backend.run(qc_res, seed_simulator=random_seed,\n",
    "                     shots=shots).result().get_counts()\n",
    "\n",
    "\n",
    "counts = dict(sorted(counts.items(), key=lambda item: item[1], reverse=True))\n",
    "counts_cost = dict(\n",
    "    sorted(counts.items(), key=lambda item: item[1], reverse=True))\n",
    "\n",
    "values = list(counts.values())\n",
    "binary = list(counts.keys())\n",
    "\n",
    "output = {}\n",
    "\n",
    "print(len(counts))\n",
    "\n",
    "for key in binary:\n",
    "    if objective(key)[0] == 0:\n",
    "        print(\"-----------------\")\n",
    "        print(\"BINGO\")\n",
    "        print(key)\n",
    "        print(counts[key])\n",
    "        print(\"-----------------\")\n",
    "\n",
    "for key in binary[:10]:\n",
    "    print(\"Solution\", key, \"cost:\", objective(key)[0], \"count\", counts[key])\n",
    "    output[key] = counts[key]\n",
    "\n",
    "# plot_histogram(output).savefig(f\"./png/{H}_{M}_{N}_{shots}_{layers}_{time.time_ns()}.png\")\n",
    "plot_histogram(output)"
   ]
  },
  {
   "cell_type": "code",
   "execution_count": 264,
   "metadata": {},
   "outputs": [
    {
     "name": "stdout",
     "output_type": "stream",
     "text": [
      "Solution 10000001 cost: 0 count 318\n"
     ]
    }
   ],
   "source": [
    "sol = required_qubits\n",
    "sol_bin = \"\"\n",
    "\n",
    "for i in counts:\n",
    "  ob = objective(i)[0]\n",
    "  if ob < sol:\n",
    "    sol = ob\n",
    "    sol_bin = i\n",
    "\n",
    "counts[\"H\"] = H\n",
    "counts[\"M\"] = M\n",
    "counts[\"N\"] = N\n",
    "counts[\"shots\"] = shots\n",
    "counts[\"layers\"] = layers\n",
    "counts[\"solution\"] = sol_bin\n",
    "counts[\"solution_cost\"] = sol\n",
    "counts[\"solution_count\"] = counts[sol_bin]\n",
    "counts[\"minimization_time\"] = minimization_time\n",
    "counts[\"execution_time\"] = time.time() - simulation_time\n",
    "counts[\"iterations\"] = iterations \n",
    "\n",
    "print(\"Solution\",sol_bin ,\"cost:\",sol,\"count\", counts[sol_bin])"
   ]
  },
  {
   "cell_type": "code",
   "execution_count": 265,
   "metadata": {},
   "outputs": [],
   "source": [
    "file = open(f\"../json/simulation/6/{H}_{M}_{N}_{shots}_{layers}_simulation_coq.json\", \"w\")\n",
    "file.write(json.dumps(counts))\n",
    "file.flush()"
   ]
  },
  {
   "cell_type": "code",
   "execution_count": 266,
   "metadata": {},
   "outputs": [
    {
     "data": {
      "image/png": "[encoded data removed]",
      "text/latex": [
       "$\\displaystyle 6663.51314902306$"
      ],
      "text/plain": [
       "6663.513149023056"
      ]
     },
     "execution_count": 266,
     "metadata": {},
     "output_type": "execute_result"
    }
   ],
   "source": [
    "counts[\"execution_time\"]"
   ]
  },
  {
   "cell_type": "code",
   "execution_count": 267,
   "metadata": {},
   "outputs": [
    {
     "data": {
      "image/png": "[encoded data removed]",
      "text/latex": [
       "$\\displaystyle 876.896185874939$"
      ],
      "text/plain": [
       "876.896185874939"
      ]
     },
     "execution_count": 267,
     "metadata": {},
     "output_type": "execute_result"
    }
   ],
   "source": [
    "minimization_time"
   ]
  }
 ],
 "metadata": {
  "colab": {
   "collapsed_sections": [
    "alCyWOxAWcdV",
    "TiWcxBn4_H1e"
   ],
   "provenance": []
  },
  "kernelspec": {
   "display_name": "Python 3 (ipykernel)",
   "language": "python",
   "name": "python3"
  },
  "language_info": {
   "codemirror_mode": {
    "name": "ipython",
    "version": 3
   },
   "file_extension": ".py",
   "mimetype": "text/x-python",
   "name": "python",
   "nbconvert_exporter": "python",
   "pygments_lexer": "ipython3",
   "version": "3.12.3"
  }
 },
 "nbformat": 4,
 "nbformat_minor": 4
}
