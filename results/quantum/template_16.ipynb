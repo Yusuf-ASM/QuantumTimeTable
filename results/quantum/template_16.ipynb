{
 "cells": [
  {
   "cell_type": "markdown",
   "metadata": {
    "id": "alCyWOxAWcdV",
    "jp-MarkdownHeadingCollapsed": true,
    "tags": []
   },
   "source": [
    "### Installing Qiskit"
   ]
  },
  {
   "cell_type": "markdown",
   "metadata": {},
   "source": [
    "#### Normal installation"
   ]
  },
  {
   "cell_type": "code",
   "execution_count": 1,
   "metadata": {
    "colab": {
     "base_uri": "https://localhost:8080/"
    },
    "id": "HE2WwMMhVL8p",
    "outputId": "73f03985-1eca-4c27-c073-1a5cb9948d80",
    "tags": []
   },
   "outputs": [
    {
     "name": "stdout",
     "output_type": "stream",
     "text": [
      "Defaulting to user installation because normal site-packages is not writeable\n",
      "Requirement already satisfied: qiskit-ibm-runtime in /home/yusuf/.local/lib/python3.12/site-packages (0.23.0)\n",
      "Requirement already satisfied: qiskit in /home/yusuf/.local/lib/python3.12/site-packages (1.0.2)\n",
      "Requirement already satisfied: qiskit_aer in /home/yusuf/.local/lib/python3.12/site-packages (0.14.2)\n",
      "Requirement already satisfied: python-dotenv in /home/yusuf/.local/lib/python3.12/site-packages (1.0.1)\n",
      "Requirement already satisfied: rustworkx>=0.14.0 in /home/yusuf/.local/lib/python3.12/site-packages (from qiskit[visualization]) (0.14.2)\n",
      "Requirement already satisfied: numpy<2,>=1.17 in /home/yusuf/.local/lib/python3.12/site-packages (from qiskit[visualization]) (1.26.4)\n",
      "Requirement already satisfied: scipy>=1.5 in /home/yusuf/.local/lib/python3.12/site-packages (from qiskit[visualization]) (1.13.0)\n",
      "Requirement already satisfied: sympy>=1.3 in /home/yusuf/.local/lib/python3.12/site-packages (from qiskit[visualization]) (1.12)\n",
      "Requirement already satisfied: dill>=0.3 in /home/yusuf/.local/lib/python3.12/site-packages (from qiskit[visualization]) (0.3.8)\n",
      "Requirement already satisfied: python-dateutil>=2.8.0 in /usr/lib/python3.12/site-packages (from qiskit[visualization]) (2.8.2)\n",
      "Requirement already satisfied: stevedore>=3.0.0 in /home/yusuf/.local/lib/python3.12/site-packages (from qiskit[visualization]) (5.2.0)\n",
      "Requirement already satisfied: typing-extensions in /home/yusuf/.local/lib/python3.12/site-packages (from qiskit[visualization]) (4.11.0)\n",
      "Requirement already satisfied: symengine>=0.11 in /home/yusuf/.local/lib/python3.12/site-packages (from qiskit[visualization]) (0.11.0)\n",
      "Requirement already satisfied: matplotlib>=3.3 in /home/yusuf/.local/lib/python3.12/site-packages (from qiskit[visualization]) (3.8.4)\n",
      "Requirement already satisfied: pydot in /home/yusuf/.local/lib/python3.12/site-packages (from qiskit[visualization]) (2.0.0)\n",
      "Requirement already satisfied: Pillow>=4.2.1 in /usr/lib64/python3.12/site-packages (from qiskit[visualization]) (10.3.0)\n",
      "Requirement already satisfied: pylatexenc>=1.4 in /home/yusuf/.local/lib/python3.12/site-packages (from qiskit[visualization]) (2.10)\n",
      "Requirement already satisfied: seaborn>=0.9.0 in /home/yusuf/.local/lib/python3.12/site-packages (from qiskit[visualization]) (0.13.2)\n",
      "Requirement already satisfied: requests>=2.19 in /home/yusuf/.local/lib/python3.12/site-packages (from qiskit-ibm-runtime) (2.31.0)\n",
      "Requirement already satisfied: requests-ntlm>=1.1.0 in /home/yusuf/.local/lib/python3.12/site-packages (from qiskit-ibm-runtime) (1.2.0)\n",
      "Requirement already satisfied: urllib3>=1.21.1 in /home/yusuf/.local/lib/python3.12/site-packages (from qiskit-ibm-runtime) (2.2.1)\n",
      "Requirement already satisfied: websocket-client>=1.5.1 in /home/yusuf/.local/lib/python3.12/site-packages (from qiskit-ibm-runtime) (1.7.0)\n",
      "Requirement already satisfied: ibm-platform-services>=0.22.6 in /home/yusuf/.local/lib/python3.12/site-packages (from qiskit-ibm-runtime) (0.53.4)\n",
      "Requirement already satisfied: pydantic in /home/yusuf/.local/lib/python3.12/site-packages (from qiskit-ibm-runtime) (2.7.0)\n",
      "Requirement already satisfied: psutil>=5 in /home/yusuf/.local/lib/python3.12/site-packages (from qiskit_aer) (5.9.8)\n",
      "Requirement already satisfied: ibm-cloud-sdk-core<4.0.0,>=3.19.2 in /home/yusuf/.local/lib/python3.12/site-packages (from ibm-platform-services>=0.22.6->qiskit-ibm-runtime) (3.20.0)\n",
      "Requirement already satisfied: contourpy>=1.0.1 in /home/yusuf/.local/lib/python3.12/site-packages (from matplotlib>=3.3->qiskit[visualization]) (1.2.1)\n",
      "Requirement already satisfied: cycler>=0.10 in /home/yusuf/.local/lib/python3.12/site-packages (from matplotlib>=3.3->qiskit[visualization]) (0.12.1)\n",
      "Requirement already satisfied: fonttools>=4.22.0 in /home/yusuf/.local/lib/python3.12/site-packages (from matplotlib>=3.3->qiskit[visualization]) (4.51.0)\n",
      "Requirement already satisfied: kiwisolver>=1.3.1 in /home/yusuf/.local/lib/python3.12/site-packages (from matplotlib>=3.3->qiskit[visualization]) (1.4.5)\n",
      "Requirement already satisfied: packaging>=20.0 in /usr/lib/python3.12/site-packages (from matplotlib>=3.3->qiskit[visualization]) (23.2)\n",
      "Requirement already satisfied: pyparsing>=2.3.1 in /usr/lib/python3.12/site-packages (from matplotlib>=3.3->qiskit[visualization]) (3.1.2)\n",
      "Requirement already satisfied: six>=1.5 in /usr/lib/python3.12/site-packages (from python-dateutil>=2.8.0->qiskit[visualization]) (1.16.0)\n",
      "Requirement already satisfied: charset-normalizer<4,>=2 in /usr/lib/python3.12/site-packages (from requests>=2.19->qiskit-ibm-runtime) (3.3.2)\n",
      "Requirement already satisfied: idna<4,>=2.5 in /usr/lib/python3.12/site-packages (from requests>=2.19->qiskit-ibm-runtime) (3.7)\n",
      "Requirement already satisfied: certifi>=2017.4.17 in /usr/lib/python3.12/site-packages (from requests>=2.19->qiskit-ibm-runtime) (2023.5.7)\n",
      "Requirement already satisfied: cryptography>=1.3 in /usr/lib64/python3.12/site-packages (from requests-ntlm>=1.1.0->qiskit-ibm-runtime) (41.0.7)\n",
      "Requirement already satisfied: pyspnego>=0.1.6 in /home/yusuf/.local/lib/python3.12/site-packages (from requests-ntlm>=1.1.0->qiskit-ibm-runtime) (0.10.2)\n",
      "Requirement already satisfied: pandas>=1.2 in /home/yusuf/.local/lib/python3.12/site-packages (from seaborn>=0.9.0->qiskit[visualization]) (2.2.2)\n",
      "Requirement already satisfied: pbr!=2.1.0,>=2.0.0 in /home/yusuf/.local/lib/python3.12/site-packages (from stevedore>=3.0.0->qiskit[visualization]) (6.0.0)\n",
      "Requirement already satisfied: mpmath>=0.19 in /home/yusuf/.local/lib/python3.12/site-packages (from sympy>=1.3->qiskit[visualization]) (1.3.0)\n",
      "Requirement already satisfied: annotated-types>=0.4.0 in /home/yusuf/.local/lib/python3.12/site-packages (from pydantic->qiskit-ibm-runtime) (0.6.0)\n",
      "Requirement already satisfied: pydantic-core==2.18.1 in /home/yusuf/.local/lib/python3.12/site-packages (from pydantic->qiskit-ibm-runtime) (2.18.1)\n",
      "Requirement already satisfied: cffi>=1.12 in /usr/lib64/python3.12/site-packages (from cryptography>=1.3->requests-ntlm>=1.1.0->qiskit-ibm-runtime) (1.16.0)\n",
      "Requirement already satisfied: PyJWT<3.0.0,>=2.8.0 in /home/yusuf/.local/lib/python3.12/site-packages (from ibm-cloud-sdk-core<4.0.0,>=3.19.2->ibm-platform-services>=0.22.6->qiskit-ibm-runtime) (2.8.0)\n",
      "Requirement already satisfied: pytz>=2020.1 in /usr/lib/python3.12/site-packages (from pandas>=1.2->seaborn>=0.9.0->qiskit[visualization]) (2024.1)\n",
      "Requirement already satisfied: tzdata>=2022.7 in /home/yusuf/.local/lib/python3.12/site-packages (from pandas>=1.2->seaborn>=0.9.0->qiskit[visualization]) (2024.1)\n",
      "Requirement already satisfied: pycparser in /usr/lib/python3.12/site-packages (from cffi>=1.12->cryptography>=1.3->requests-ntlm>=1.1.0->qiskit-ibm-runtime) (2.20)\n",
      "Requirement already satisfied: ply==3.11 in /usr/lib/python3.12/site-packages (from pycparser->cffi>=1.12->cryptography>=1.3->requests-ntlm>=1.1.0->qiskit-ibm-runtime) (3.11)\n",
      "Note: you may need to restart the kernel to use updated packages.\n"
     ]
    }
   ],
   "source": [
    "%pip install qiskit[visualization] qiskit-ibm-runtime qiskit qiskit_aer python-dotenv"
   ]
  },
  {
   "cell_type": "markdown",
   "metadata": {},
   "source": [
    "#### GPU installation"
   ]
  },
  {
   "cell_type": "code",
   "execution_count": 2,
   "metadata": {},
   "outputs": [],
   "source": [
    "# %pip install qiskit[visualization] qiskit-ibm-runtime qiskit qiskit_aer-gpu python-dotenv"
   ]
  },
  {
   "cell_type": "markdown",
   "metadata": {
    "id": "TiWcxBn4_H1e",
    "tags": []
   },
   "source": [
    "### Libraries Importing\n"
   ]
  },
  {
   "cell_type": "code",
   "execution_count": 26,
   "metadata": {
    "id": "0pxiZGX7_YEB",
    "tags": []
   },
   "outputs": [],
   "source": [
    "from qiskit_ibm_runtime import QiskitRuntimeService\n",
    "from qiskit.visualization import plot_histogram\n",
    "from qiskit import QuantumCircuit, transpile\n",
    "from qiskit_aer import AerSimulator\n",
    "from dotenv import load_dotenv\n",
    "from sympy import *\n",
    "import json\n",
    "import time\n",
    "import os\n",
    "\n",
    "load_dotenv()\n",
    "init_printing()\n",
    "simulation_time = time.time()  # to calculate simulation time"
   ]
  },
  {
   "cell_type": "code",
   "execution_count": 27,
   "metadata": {},
   "outputs": [
    {
     "name": "stdout",
     "output_type": "stream",
     "text": [
      "('CPU',)\n"
     ]
    }
   ],
   "source": [
    "backend = AerSimulator(method=\"statevector\")\n",
    "print(backend.available_devices())"
   ]
  },
  {
   "cell_type": "markdown",
   "metadata": {},
   "source": [
    "#### Use GPU"
   ]
  },
  {
   "cell_type": "code",
   "execution_count": 28,
   "metadata": {},
   "outputs": [],
   "source": [
    "# backend.set_options(device=\"GPU\")"
   ]
  },
  {
   "cell_type": "markdown",
   "metadata": {},
   "source": [
    "#### Use real quantum"
   ]
  },
  {
   "cell_type": "code",
   "execution_count": 29,
   "metadata": {},
   "outputs": [
    {
     "name": "stdout",
     "output_type": "stream",
     "text": [
      "1\n",
      "2\n",
      "3\n",
      "4\n",
      "5\n",
      "6\n",
      "7\n",
      "8\n",
      "9\n"
     ]
    }
   ],
   "source": [
    "services = []\n",
    "current_token = 0\n",
    "for i in range(1, 10):\n",
    "    print(i)\n",
    "    services.append(QiskitRuntimeService(\n",
    "        channel=\"ibm_quantum\", token=os.getenv(f\"TOKEN{i}\")))\n",
    "    \n",
    "\n",
    "# backend = services[current_token].backend(\"ibm_osaka\") # for real quantum\n",
    "backend = services[current_token].backend(\"ibm_kyoto\") # for real quantum"
   ]
  },
  {
   "cell_type": "markdown",
   "metadata": {
    "id": "zxv0s00zWqGE"
   },
   "source": [
    "\n",
    "### Problem Definition"
   ]
  },
  {
   "cell_type": "code",
   "execution_count": 30,
   "metadata": {},
   "outputs": [],
   "source": [
    "conf = json.load(open(\"../conf_16.json\", \"r\"))"
   ]
  },
  {
   "cell_type": "code",
   "execution_count": 31,
   "metadata": {},
   "outputs": [
    {
     "name": "stdout",
     "output_type": "stream",
     "text": [
      "Requried Qubits:  16\n"
     ]
    }
   ],
   "source": [
    "N = conf[\"N\"]  # Number of Teachers\n",
    "M = conf[\"M\"]  # Number of Classes\n",
    "H = conf[\"H\"]  # Number of hours in week\n",
    "\n",
    "required_qubits = (M * N * H) + (M * H) + (N * H)\n",
    "iterations = 0\n",
    "\n",
    "random_seed = conf[\"random_seed\"]\n",
    "shots = conf[\"shots\"] * 5\n",
    "layers = 5\n",
    "\n",
    "print(\"Requried Qubits: \", required_qubits)"
   ]
  },
  {
   "cell_type": "code",
   "execution_count": 32,
   "metadata": {},
   "outputs": [],
   "source": [
    "# T_i is binary string denoting the available hours for each i Teacher\n",
    "# C_j is binary string denoting the available hours for each j Class\n",
    "\n",
    "T = conf[\"T\"]\n",
    "C = conf[\"C\"]\n",
    "\n",
    "R = conf[\"R\"]  # R_ij must be either 0 or 1\n",
    "\n",
    "terms_count = 0\n",
    "equations = []"
   ]
  },
  {
   "cell_type": "markdown",
   "metadata": {
    "id": "a5uXmwzRZOnt"
   },
   "source": [
    "### Formulation"
   ]
  },
  {
   "cell_type": "markdown",
   "metadata": {
    "id": "JfexN02BYq1V"
   },
   "source": [
    "#### Equations"
   ]
  },
  {
   "cell_type": "code",
   "execution_count": 33,
   "metadata": {
    "colab": {
     "base_uri": "https://localhost:8080/",
     "height": 58
    },
    "id": "BPvEcLNQqJqw",
    "outputId": "49dfa7ca-3606-4b78-de91-741900c84563",
    "tags": []
   },
   "outputs": [
    {
     "data": {
      "image/png": "[encoded data removed]",
      "text/latex": [
       "$\\displaystyle \\left[ f_{111}^{2} + 2 f_{111} f_{112} - 2 f_{111} + f_{112}^{2} - 2 f_{112} + 1, \\  f_{121}^{2} + 2 f_{121} f_{122} + f_{122}^{2}, \\  f_{211}^{2} + 2 f_{211} f_{212} + f_{212}^{2}, \\  f_{221}^{2} + 2 f_{221} f_{222} - 2 f_{221} + f_{222}^{2} - 2 f_{222} + 1\\right]$"
      ],
      "text/plain": [
       "⎡    2                              2                   2                     \n",
       "⎣f₁₁₁  + 2⋅f₁₁₁⋅f₁₁₂ - 2⋅f₁₁₁ + f₁₁₂  - 2⋅f₁₁₂ + 1, f₁₂₁  + 2⋅f₁₂₁⋅f₁₂₂ + f₁₂₂\n",
       "\n",
       "2      2                     2      2                              2          \n",
       " , f₂₁₁  + 2⋅f₂₁₁⋅f₂₁₂ + f₂₁₂ , f₂₂₁  + 2⋅f₂₂₁⋅f₂₂₂ - 2⋅f₂₂₁ + f₂₂₂  - 2⋅f₂₂₂ \n",
       "\n",
       "   ⎤\n",
       "+ 1⎦"
      ]
     },
     "execution_count": 33,
     "metadata": {},
     "output_type": "execute_result"
    }
   ],
   "source": [
    "for i in range(1, N + 1):\n",
    "  for j in range(1, M + 1):\n",
    "    temp = total = 0\n",
    "    for h in range(1, H + 1):\n",
    "      temp += symbols(f\"f_{i}{j}{h}\")\n",
    "    total += (temp - R[i-1][j-1])**2\n",
    "    terms_count += len(total.expand().args)\n",
    "    equations.append(total.expand())\n",
    "equations"
   ]
  },
  {
   "cell_type": "code",
   "execution_count": 34,
   "metadata": {
    "colab": {
     "base_uri": "https://localhost:8080/",
     "height": 58
    },
    "id": "oPKg_g4v6tVw",
    "outputId": "e2b51ff0-262d-4355-edca-24dec691553f",
    "tags": []
   },
   "outputs": [
    {
     "data": {
      "image/png": "[encoded data removed]",
      "text/latex": [
       "$\\displaystyle \\left[ f_{111}^{2} + 2 f_{111} f_{112} - 2 f_{111} + f_{112}^{2} - 2 f_{112} + 1, \\  f_{121}^{2} + 2 f_{121} f_{122} + f_{122}^{2}, \\  f_{211}^{2} + 2 f_{211} f_{212} + f_{212}^{2}, \\  f_{221}^{2} + 2 f_{221} f_{222} - 2 f_{221} + f_{222}^{2} - 2 f_{222} + 1, \\  f_{111}^{2} + 2 f_{111} f_{211} + 2 f_{111} τ_{11} - 2 f_{111} + f_{211}^{2} + 2 f_{211} τ_{11} - 2 f_{211} + τ_{11}^{2} - 2 τ_{11} + 1, \\  f_{112}^{2} + 2 f_{112} f_{212} + 2 f_{112} τ_{12} - 2 f_{112} + f_{212}^{2} + 2 f_{212} τ_{12} - 2 f_{212} + τ_{12}^{2} - 2 τ_{12} + 1, \\  f_{121}^{2} + 2 f_{121} f_{221} + 2 f_{121} τ_{21} - 2 f_{121} + f_{221}^{2} + 2 f_{221} τ_{21} - 2 f_{221} + τ_{21}^{2} - 2 τ_{21} + 1, \\  f_{122}^{2} + 2 f_{122} f_{222} + 2 f_{122} τ_{22} - 2 f_{122} + f_{222}^{2} + 2 f_{222} τ_{22} - 2 f_{222} + τ_{22}^{2} - 2 τ_{22} + 1\\right]$"
      ],
      "text/plain": [
       "⎡    2                              2                   2                     \n",
       "⎣f₁₁₁  + 2⋅f₁₁₁⋅f₁₁₂ - 2⋅f₁₁₁ + f₁₁₂  - 2⋅f₁₁₂ + 1, f₁₂₁  + 2⋅f₁₂₁⋅f₁₂₂ + f₁₂₂\n",
       "\n",
       "2      2                     2      2                              2          \n",
       " , f₂₁₁  + 2⋅f₂₁₁⋅f₂₁₂ + f₂₁₂ , f₂₂₁  + 2⋅f₂₂₁⋅f₂₂₂ - 2⋅f₂₂₁ + f₂₂₂  - 2⋅f₂₂₂ \n",
       "\n",
       "         2                                           2                        \n",
       "+ 1, f₁₁₁  + 2⋅f₁₁₁⋅f₂₁₁ + 2⋅f₁₁₁⋅τ₁₁ - 2⋅f₁₁₁ + f₂₁₁  + 2⋅f₂₁₁⋅τ₁₁ - 2⋅f₂₁₁ +\n",
       "\n",
       "    2                  2                                           2          \n",
       " τ₁₁  - 2⋅τ₁₁ + 1, f₁₁₂  + 2⋅f₁₁₂⋅f₂₁₂ + 2⋅f₁₁₂⋅τ₁₂ - 2⋅f₁₁₂ + f₂₁₂  + 2⋅f₂₁₂⋅\n",
       "\n",
       "                  2                  2                                        \n",
       "τ₁₂ - 2⋅f₂₁₂ + τ₁₂  - 2⋅τ₁₂ + 1, f₁₂₁  + 2⋅f₁₂₁⋅f₂₂₁ + 2⋅f₁₂₁⋅τ₂₁ - 2⋅f₁₂₁ + f\n",
       "\n",
       "   2                            2                  2                          \n",
       "₂₂₁  + 2⋅f₂₂₁⋅τ₂₁ - 2⋅f₂₂₁ + τ₂₁  - 2⋅τ₂₁ + 1, f₁₂₂  + 2⋅f₁₂₂⋅f₂₂₂ + 2⋅f₁₂₂⋅τ₂\n",
       "\n",
       "                 2                            2            ⎤\n",
       "₂ - 2⋅f₁₂₂ + f₂₂₂  + 2⋅f₂₂₂⋅τ₂₂ - 2⋅f₂₂₂ + τ₂₂  - 2⋅τ₂₂ + 1⎦"
      ]
     },
     "execution_count": 34,
     "metadata": {},
     "output_type": "execute_result"
    }
   ],
   "source": [
    "for j in range(1, M + 1):\n",
    "  for h in range(1, H + 1):\n",
    "    temp = total = 0\n",
    "    for i in range(1, N + 1):\n",
    "      temp += symbols(f\"f_{i}{j}{h}\")\n",
    "    total += (temp + symbols(f\"τ_{j}{h}\") - 1)**2\n",
    "    terms_count += len(total.expand().args)\n",
    "    equations.append(total.expand())\n",
    "equations"
   ]
  },
  {
   "cell_type": "code",
   "execution_count": 35,
   "metadata": {},
   "outputs": [
    {
     "data": {
      "image/png": "[encoded data removed]",
      "text/latex": [
       "$\\displaystyle \\left[ f_{111}^{2} + 2 f_{111} f_{112} - 2 f_{111} + f_{112}^{2} - 2 f_{112} + 1, \\  f_{121}^{2} + 2 f_{121} f_{122} + f_{122}^{2}, \\  f_{211}^{2} + 2 f_{211} f_{212} + f_{212}^{2}, \\  f_{221}^{2} + 2 f_{221} f_{222} - 2 f_{221} + f_{222}^{2} - 2 f_{222} + 1, \\  f_{111}^{2} + 2 f_{111} f_{211} + 2 f_{111} τ_{11} - 2 f_{111} + f_{211}^{2} + 2 f_{211} τ_{11} - 2 f_{211} + τ_{11}^{2} - 2 τ_{11} + 1, \\  f_{112}^{2} + 2 f_{112} f_{212} + 2 f_{112} τ_{12} - 2 f_{112} + f_{212}^{2} + 2 f_{212} τ_{12} - 2 f_{212} + τ_{12}^{2} - 2 τ_{12} + 1, \\  f_{121}^{2} + 2 f_{121} f_{221} + 2 f_{121} τ_{21} - 2 f_{121} + f_{221}^{2} + 2 f_{221} τ_{21} - 2 f_{221} + τ_{21}^{2} - 2 τ_{21} + 1, \\  f_{122}^{2} + 2 f_{122} f_{222} + 2 f_{122} τ_{22} - 2 f_{122} + f_{222}^{2} + 2 f_{222} τ_{22} - 2 f_{222} + τ_{22}^{2} - 2 τ_{22} + 1, \\  f_{111}^{2} + 2 f_{111} f_{121} + 2 f_{111} λ_{11} - 2 f_{111} + f_{121}^{2} + 2 f_{121} λ_{11} - 2 f_{121} + λ_{11}^{2} - 2 λ_{11} + 1, \\  f_{112}^{2} + 2 f_{112} f_{122} + 2 f_{112} λ_{12} - 2 f_{112} + f_{122}^{2} + 2 f_{122} λ_{12} - 2 f_{122} + λ_{12}^{2} - 2 λ_{12} + 1, \\  f_{211}^{2} + 2 f_{211} f_{221} + 2 f_{211} λ_{21} - 2 f_{211} + f_{221}^{2} + 2 f_{221} λ_{21} - 2 f_{221} + λ_{21}^{2} - 2 λ_{21} + 1, \\  f_{212}^{2} + 2 f_{212} f_{222} + 2 f_{212} λ_{22} - 2 f_{212} + f_{222}^{2} + 2 f_{222} λ_{22} - 2 f_{222} + λ_{22}^{2} - 2 λ_{22} + 1\\right]$"
      ],
      "text/plain": [
       "⎡    2                              2                   2                     \n",
       "⎣f₁₁₁  + 2⋅f₁₁₁⋅f₁₁₂ - 2⋅f₁₁₁ + f₁₁₂  - 2⋅f₁₁₂ + 1, f₁₂₁  + 2⋅f₁₂₁⋅f₁₂₂ + f₁₂₂\n",
       "\n",
       "2      2                     2      2                              2          \n",
       " , f₂₁₁  + 2⋅f₂₁₁⋅f₂₁₂ + f₂₁₂ , f₂₂₁  + 2⋅f₂₂₁⋅f₂₂₂ - 2⋅f₂₂₁ + f₂₂₂  - 2⋅f₂₂₂ \n",
       "\n",
       "         2                                           2                        \n",
       "+ 1, f₁₁₁  + 2⋅f₁₁₁⋅f₂₁₁ + 2⋅f₁₁₁⋅τ₁₁ - 2⋅f₁₁₁ + f₂₁₁  + 2⋅f₂₁₁⋅τ₁₁ - 2⋅f₂₁₁ +\n",
       "\n",
       "    2                  2                                           2          \n",
       " τ₁₁  - 2⋅τ₁₁ + 1, f₁₁₂  + 2⋅f₁₁₂⋅f₂₁₂ + 2⋅f₁₁₂⋅τ₁₂ - 2⋅f₁₁₂ + f₂₁₂  + 2⋅f₂₁₂⋅\n",
       "\n",
       "                  2                  2                                        \n",
       "τ₁₂ - 2⋅f₂₁₂ + τ₁₂  - 2⋅τ₁₂ + 1, f₁₂₁  + 2⋅f₁₂₁⋅f₂₂₁ + 2⋅f₁₂₁⋅τ₂₁ - 2⋅f₁₂₁ + f\n",
       "\n",
       "   2                            2                  2                          \n",
       "₂₂₁  + 2⋅f₂₂₁⋅τ₂₁ - 2⋅f₂₂₁ + τ₂₁  - 2⋅τ₂₁ + 1, f₁₂₂  + 2⋅f₁₂₂⋅f₂₂₂ + 2⋅f₁₂₂⋅τ₂\n",
       "\n",
       "                 2                            2                  2            \n",
       "₂ - 2⋅f₁₂₂ + f₂₂₂  + 2⋅f₂₂₂⋅τ₂₂ - 2⋅f₂₂₂ + τ₂₂  - 2⋅τ₂₂ + 1, f₁₁₁  + 2⋅f₁₁₁⋅f₁\n",
       "\n",
       "                               2                            2                 \n",
       "₂₁ + 2⋅f₁₁₁⋅λ₁₁ - 2⋅f₁₁₁ + f₁₂₁  + 2⋅f₁₂₁⋅λ₁₁ - 2⋅f₁₂₁ + λ₁₁  - 2⋅λ₁₁ + 1, f₁₁\n",
       "\n",
       " 2                                           2                            2   \n",
       "₂  + 2⋅f₁₁₂⋅f₁₂₂ + 2⋅f₁₁₂⋅λ₁₂ - 2⋅f₁₁₂ + f₁₂₂  + 2⋅f₁₂₂⋅λ₁₂ - 2⋅f₁₂₂ + λ₁₂  - \n",
       "\n",
       "               2                                           2                  \n",
       "2⋅λ₁₂ + 1, f₂₁₁  + 2⋅f₂₁₁⋅f₂₂₁ + 2⋅f₂₁₁⋅λ₂₁ - 2⋅f₂₁₁ + f₂₂₁  + 2⋅f₂₂₁⋅λ₂₁ - 2⋅\n",
       "\n",
       "          2                  2                                           2    \n",
       "f₂₂₁ + λ₂₁  - 2⋅λ₂₁ + 1, f₂₁₂  + 2⋅f₂₁₂⋅f₂₂₂ + 2⋅f₂₁₂⋅λ₂₂ - 2⋅f₂₁₂ + f₂₂₂  + 2\n",
       "\n",
       "                        2            ⎤\n",
       "⋅f₂₂₂⋅λ₂₂ - 2⋅f₂₂₂ + λ₂₂  - 2⋅λ₂₂ + 1⎦"
      ]
     },
     "execution_count": 35,
     "metadata": {},
     "output_type": "execute_result"
    }
   ],
   "source": [
    "for i in range(1, N + 1):\n",
    "  for h in range(1, H + 1):\n",
    "    temp = total = 0\n",
    "    for j in range(1, M + 1):\n",
    "      temp += symbols(f\"f_{i}{j}{h}\")\n",
    "    total += (temp + symbols(f\"λ_{i}{h}\") - 1)**2\n",
    "    terms_count += len(total.expand().args)\n",
    "    equations.append(total.expand())\n",
    "equations"
   ]
  },
  {
   "cell_type": "markdown",
   "metadata": {
    "id": "aMB2NgsfY08I"
   },
   "source": [
    "#### Decodeing Equations"
   ]
  },
  {
   "cell_type": "code",
   "execution_count": 36,
   "metadata": {
    "id": "KeQvsRjux1yc",
    "tags": []
   },
   "outputs": [],
   "source": [
    "def args(equation):\n",
    "  return Add.make_args(equation)\n",
    "\n",
    "def prepare_equation(term):\n",
    "  theta = 1\n",
    "  terms = []\n",
    "  if type(term) == Mul:\n",
    "    for i in term.args:\n",
    "      if i.is_Integer:\n",
    "        theta = i\n",
    "      else:\n",
    "        terms.append(i)\n",
    "  else:\n",
    "    terms.append(term.args[0]) \n",
    "\n",
    "  return [theta, decode(terms)]\n",
    "\n",
    "def decode(terms):\n",
    "  output = []\n",
    "\n",
    "  for term in terms:\n",
    "\n",
    "    term = str(term)\n",
    "\n",
    "    if term.startswith(\"τ\"):\n",
    "      j = int(term[2])\n",
    "      h = int(term[3])\n",
    "      output.append((h-1) * M + (j - 1))\n",
    "\n",
    "\n",
    "    elif term.startswith(\"λ\"):\n",
    "      i = int(term[2])\n",
    "      h = int(term[3])\n",
    "      output.append((H * M) + ((h-1) * N + (i - 1)))\n",
    "\n",
    "    elif term.startswith(\"f\"):\n",
    "      i = int(term[2])\n",
    "      j = int(term[3])\n",
    "      h = int(term[4])\n",
    "      output.append((H * M) + (N * H) + ((i - 1) * H * M) + ((j - 1) * H) + (h - 1))\n",
    "\n",
    "  return output\n"
   ]
  },
  {
   "cell_type": "code",
   "execution_count": 37,
   "metadata": {
    "colab": {
     "base_uri": "https://localhost:8080/",
     "height": 57
    },
    "id": "USFt2OzmyFwh",
    "outputId": "1435fa8e-09cd-468c-baef-1e1f5680b678",
    "tags": []
   },
   "outputs": [
    {
     "data": {
      "image/png": "[encoded data removed]",
      "text/latex": [
       "$\\displaystyle \\left[ \\left[ \\left[ 1, \\  \\left[ 8\\right]\\right], \\  \\left[ 1, \\  \\left[ 9\\right]\\right], \\  \\left[ -2, \\  \\left[ 8\\right]\\right], \\  \\left[ -2, \\  \\left[ 9\\right]\\right], \\  \\left[ 2, \\  \\left[ 8, \\  9\\right]\\right]\\right], \\  \\left[ \\left[ 1, \\  \\left[ 10\\right]\\right], \\  \\left[ 1, \\  \\left[ 11\\right]\\right], \\  \\left[ 2, \\  \\left[ 10, \\  11\\right]\\right]\\right], \\  \\left[ \\left[ 1, \\  \\left[ 12\\right]\\right], \\  \\left[ 1, \\  \\left[ 13\\right]\\right], \\  \\left[ 2, \\  \\left[ 12, \\  13\\right]\\right]\\right], \\  \\left[ \\left[ 1, \\  \\left[ 14\\right]\\right], \\  \\left[ 1, \\  \\left[ 15\\right]\\right], \\  \\left[ -2, \\  \\left[ 14\\right]\\right], \\  \\left[ -2, \\  \\left[ 15\\right]\\right], \\  \\left[ 2, \\  \\left[ 14, \\  15\\right]\\right]\\right], \\  \\left[ \\left[ 1, \\  \\left[ 8\\right]\\right], \\  \\left[ 1, \\  \\left[ 12\\right]\\right], \\  \\left[ 1, \\  \\left[ 0\\right]\\right], \\  \\left[ -2, \\  \\left[ 8\\right]\\right], \\  \\left[ -2, \\  \\left[ 12\\right]\\right], \\  \\left[ -2, \\  \\left[ 0\\right]\\right], \\  \\left[ 2, \\  \\left[ 8, \\  12\\right]\\right], \\  \\left[ 2, \\  \\left[ 8, \\  0\\right]\\right], \\  \\left[ 2, \\  \\left[ 12, \\  0\\right]\\right]\\right], \\  \\left[ \\left[ 1, \\  \\left[ 9\\right]\\right], \\  \\left[ 1, \\  \\left[ 13\\right]\\right], \\  \\left[ 1, \\  \\left[ 2\\right]\\right], \\  \\left[ -2, \\  \\left[ 9\\right]\\right], \\  \\left[ -2, \\  \\left[ 13\\right]\\right], \\  \\left[ -2, \\  \\left[ 2\\right]\\right], \\  \\left[ 2, \\  \\left[ 9, \\  13\\right]\\right], \\  \\left[ 2, \\  \\left[ 9, \\  2\\right]\\right], \\  \\left[ 2, \\  \\left[ 13, \\  2\\right]\\right]\\right], \\  \\left[ \\left[ 1, \\  \\left[ 10\\right]\\right], \\  \\left[ 1, \\  \\left[ 14\\right]\\right], \\  \\left[ 1, \\  \\left[ 1\\right]\\right], \\  \\left[ -2, \\  \\left[ 10\\right]\\right], \\  \\left[ -2, \\  \\left[ 14\\right]\\right], \\  \\left[ -2, \\  \\left[ 1\\right]\\right], \\  \\left[ 2, \\  \\left[ 10, \\  14\\right]\\right], \\  \\left[ 2, \\  \\left[ 10, \\  1\\right]\\right], \\  \\left[ 2, \\  \\left[ 14, \\  1\\right]\\right]\\right], \\  \\left[ \\left[ 1, \\  \\left[ 11\\right]\\right], \\  \\left[ 1, \\  \\left[ 15\\right]\\right], \\  \\left[ 1, \\  \\left[ 3\\right]\\right], \\  \\left[ -2, \\  \\left[ 11\\right]\\right], \\  \\left[ -2, \\  \\left[ 15\\right]\\right], \\  \\left[ -2, \\  \\left[ 3\\right]\\right], \\  \\left[ 2, \\  \\left[ 11, \\  15\\right]\\right], \\  \\left[ 2, \\  \\left[ 11, \\  3\\right]\\right], \\  \\left[ 2, \\  \\left[ 15, \\  3\\right]\\right]\\right], \\  \\left[ \\left[ 1, \\  \\left[ 8\\right]\\right], \\  \\left[ 1, \\  \\left[ 10\\right]\\right], \\  \\left[ 1, \\  \\left[ 4\\right]\\right], \\  \\left[ -2, \\  \\left[ 8\\right]\\right], \\  \\left[ -2, \\  \\left[ 10\\right]\\right], \\  \\left[ -2, \\  \\left[ 4\\right]\\right], \\  \\left[ 2, \\  \\left[ 8, \\  10\\right]\\right], \\  \\left[ 2, \\  \\left[ 8, \\  4\\right]\\right], \\  \\left[ 2, \\  \\left[ 10, \\  4\\right]\\right]\\right], \\  \\left[ \\left[ 1, \\  \\left[ 9\\right]\\right], \\  \\left[ 1, \\  \\left[ 11\\right]\\right], \\  \\left[ 1, \\  \\left[ 6\\right]\\right], \\  \\left[ -2, \\  \\left[ 9\\right]\\right], \\  \\left[ -2, \\  \\left[ 11\\right]\\right], \\  \\left[ -2, \\  \\left[ 6\\right]\\right], \\  \\left[ 2, \\  \\left[ 9, \\  11\\right]\\right], \\  \\left[ 2, \\  \\left[ 9, \\  6\\right]\\right], \\  \\left[ 2, \\  \\left[ 11, \\  6\\right]\\right]\\right], \\  \\left[ \\left[ 1, \\  \\left[ 12\\right]\\right], \\  \\left[ 1, \\  \\left[ 14\\right]\\right], \\  \\left[ 1, \\  \\left[ 5\\right]\\right], \\  \\left[ -2, \\  \\left[ 12\\right]\\right], \\  \\left[ -2, \\  \\left[ 14\\right]\\right], \\  \\left[ -2, \\  \\left[ 5\\right]\\right], \\  \\left[ 2, \\  \\left[ 12, \\  14\\right]\\right], \\  \\left[ 2, \\  \\left[ 12, \\  5\\right]\\right], \\  \\left[ 2, \\  \\left[ 14, \\  5\\right]\\right]\\right], \\  \\left[ \\left[ 1, \\  \\left[ 13\\right]\\right], \\  \\left[ 1, \\  \\left[ 15\\right]\\right], \\  \\left[ 1, \\  \\left[ 7\\right]\\right], \\  \\left[ -2, \\  \\left[ 13\\right]\\right], \\  \\left[ -2, \\  \\left[ 15\\right]\\right], \\  \\left[ -2, \\  \\left[ 7\\right]\\right], \\  \\left[ 2, \\  \\left[ 13, \\  15\\right]\\right], \\  \\left[ 2, \\  \\left[ 13, \\  7\\right]\\right], \\  \\left[ 2, \\  \\left[ 15, \\  7\\right]\\right]\\right]\\right]$"
      ],
      "text/plain": [
       "[[[1, [8]], [1, [9]], [-2, [8]], [-2, [9]], [2, [8, 9]]], [[1, [10]], [1, [11]\n",
       "], [2, [10, 11]]], [[1, [12]], [1, [13]], [2, [12, 13]]], [[1, [14]], [1, [15]\n",
       "], [-2, [14]], [-2, [15]], [2, [14, 15]]], [[1, [8]], [1, [12]], [1, [0]], [-2\n",
       ", [8]], [-2, [12]], [-2, [0]], [2, [8, 12]], [2, [8, 0]], [2, [12, 0]]], [[1, \n",
       "[9]], [1, [13]], [1, [2]], [-2, [9]], [-2, [13]], [-2, [2]], [2, [9, 13]], [2,\n",
       " [9, 2]], [2, [13, 2]]], [[1, [10]], [1, [14]], [1, [1]], [-2, [10]], [-2, [14\n",
       "]], [-2, [1]], [2, [10, 14]], [2, [10, 1]], [2, [14, 1]]], [[1, [11]], [1, [15\n",
       "]], [1, [3]], [-2, [11]], [-2, [15]], [-2, [3]], [2, [11, 15]], [2, [11, 3]], \n",
       "[2, [15, 3]]], [[1, [8]], [1, [10]], [1, [4]], [-2, [8]], [-2, [10]], [-2, [4]\n",
       "], [2, [8, 10]], [2, [8, 4]], [2, [10, 4]]], [[1, [9]], [1, [11]], [1, [6]], [\n",
       "-2, [9]], [-2, [11]], [-2, [6]], [2, [9, 11]], [2, [9, 6]], [2, [11, 6]]], [[1\n",
       ", [12]], [1, [14]], [1, [5]], [-2, [12]], [-2, [14]], [-2, [5]], [2, [12, 14]]\n",
       ", [2, [12, 5]], [2, [14, 5]]], [[1, [13]], [1, [15]], [1, [7]], [-2, [13]], [-\n",
       "2, [15]], [-2, [7]], [2, [13, 15]], [2, [13, 7]], [2, [15, 7]]]]"
      ]
     },
     "execution_count": 37,
     "metadata": {},
     "output_type": "execute_result"
    }
   ],
   "source": [
    "prepared_equations = []\n",
    "for equation in equations:\n",
    "    temp = []\n",
    "    for term in args(equation):\n",
    "        if len(term.args) != 0:\n",
    "            temp.append(prepare_equation(term))\n",
    "    prepared_equations.append(temp)\n",
    "\n",
    "prepared_equations"
   ]
  },
  {
   "cell_type": "markdown",
   "metadata": {
    "id": "6lncBvjzZEak"
   },
   "source": [
    "### Implementation"
   ]
  },
  {
   "cell_type": "markdown",
   "metadata": {
    "id": "RtWVrhgDXsXm"
   },
   "source": [
    "#### Objective Function"
   ]
  },
  {
   "cell_type": "code",
   "execution_count": 38,
   "metadata": {},
   "outputs": [],
   "source": [
    "def f(i, j, h):\n",
    "  return int(T[i-1][h-1] == C[j-1][h-1] == '1')\n",
    "\n",
    "def tau_value(bit_string, j, h):\n",
    "  return int(bit_string[(h-1) * M + (j - 1)])\n",
    "\n",
    "def lambda_value(bit_string, i, h):\n",
    "  return int(bit_string[(H * M) + ((h-1) * N + (i - 1))])\n",
    "\n",
    "def f_value(bit_string, i, j, h):\n",
    "  return int(bit_string[(H * M) + (N * H) + ((i - 1) * H * M) + ((j - 1) * H) + (h - 1)])"
   ]
  },
  {
   "cell_type": "code",
   "execution_count": 39,
   "metadata": {
    "id": "_rqg3jtnQkXU"
   },
   "outputs": [],
   "source": [
    "def objective(bit_string):\n",
    "  # since qiskit represent solution in least significant bit format\n",
    "  bit_string = bit_string[::-1]\n",
    "  cost = 0\n",
    "  a = b = c = d = 0\n",
    "  # equation a\n",
    "  for i in range(1, N + 1):\n",
    "      for j in range(1, M + 1):\n",
    "          for h in range(1, H + 1):\n",
    "              if f(i, j, h) != f_value(bit_string, i, j, h):\n",
    "                  cost += 1\n",
    "                  a += 1\n",
    "\n",
    "  # equation b\n",
    "  for i in range(1, N + 1):\n",
    "      for j in range(1, M + 1):\n",
    "          temp = 0\n",
    "          for h in range(1, H + 1):\n",
    "              temp += f_value(bit_string, i, j, h)\n",
    "          cost += (temp - R[i-1][j-1])**2\n",
    "          b += (temp - R[i-1][j-1])**2\n",
    "\n",
    "  # equation c\n",
    "  for j in range(1, M + 1):\n",
    "      for h in range(1, H + 1):\n",
    "          temp = 0\n",
    "          for i in range(1, N + 1):\n",
    "              temp += f_value(bit_string, i, j, h)\n",
    "          cost += (temp + tau_value(bit_string, j, h) - 1)**2\n",
    "          c += (temp + tau_value(bit_string, j, h) - 1)**2\n",
    "\n",
    "  # equation d\n",
    "  for i in range(1, N + 1):\n",
    "      for h in range(1, H + 1):\n",
    "          temp = 0\n",
    "          for j in range(1, M + 1):\n",
    "              temp += f_value(bit_string, i, j, h)\n",
    "          cost += (temp + lambda_value(bit_string, i, h) - 1)**2\n",
    "          d += (temp + lambda_value(bit_string, i, h) - 1)**2\n",
    "\n",
    "  return [cost, a, b, c, d]"
   ]
  },
  {
   "cell_type": "markdown",
   "metadata": {
    "id": "WnyoHLcIX4q3"
   },
   "source": [
    "#### Circuit"
   ]
  },
  {
   "cell_type": "markdown",
   "metadata": {},
   "source": [
    "#### Draw circuit "
   ]
  },
  {
   "cell_type": "code",
   "execution_count": 40,
   "metadata": {},
   "outputs": [],
   "source": [
    "# qc = QuantumCircuit(required_qubits)\n",
    "\n",
    "# for i in range(required_qubits):\n",
    "#     qc.h(i)\n",
    "\n",
    "# for equation in prepared_equations:\n",
    "#     for term in equation:\n",
    "#         theta = int(term[0])\n",
    "#         locations = term[1]\n",
    "#         if len(locations) == 1:  # Rz Gate\n",
    "#             qc.rz(theta * -1 , locations[0])\n",
    "\n",
    "#         elif len(locations) == 2:  # Rzz gate\n",
    "#             qc.rz(theta * -0.5 , locations[0])\n",
    "#             qc.rz(theta * -0.5 , locations[1])\n",
    "#             qc.rzz(theta * 0.5 , locations[0], locations[1])\n",
    "\n",
    "# for qubit in range(required_qubits - 1):\n",
    "#     qc.rx(1, qubit)\n",
    "\n",
    "# qc.draw(\"mpl\")"
   ]
  },
  {
   "cell_type": "code",
   "execution_count": 41,
   "metadata": {
    "id": "HKUaUyw4X3oN"
   },
   "outputs": [],
   "source": [
    "def layers_gen(p, initial_value=1.0):\n",
    "    return [initial_value] * p * 2\n",
    "\n",
    "\n",
    "def create_qaoa_circ(thetas):\n",
    "    n_layers = len(thetas)//2\n",
    "\n",
    "    alpha = thetas[n_layers:]\n",
    "    gamma = thetas[:n_layers]\n",
    "\n",
    "    qc = QuantumCircuit(required_qubits)\n",
    "\n",
    "    for i in range(required_qubits):\n",
    "        qc.h(i)\n",
    "    \n",
    "    for layer_index in range(n_layers):\n",
    "        for equation in prepared_equations:\n",
    "            for term in equation:\n",
    "                theta = int(term[0])\n",
    "                locations = term[1]\n",
    "\n",
    "                if len(locations) == 1:  # Rz Gate\n",
    "                    qc.rz(theta * -1 * alpha[layer_index], locations[0])\n",
    "\n",
    "                elif len(locations) == 2:  # Rzz gate\n",
    "                    qc.rz(theta * -0.5 * alpha[layer_index], locations[0])\n",
    "                    qc.rz(theta * -0.5 * alpha[layer_index], locations[1])\n",
    "                    qc.rzz(theta * 0.5 * alpha[layer_index], locations[0], locations[1])\n",
    "\n",
    "        for qubit in range(required_qubits - 1):\n",
    "            qc.rx(2 * gamma[layer_index], qubit)\n",
    "\n",
    "    qc.measure_all()\n",
    "    print(thetas)\n",
    "    return qc"
   ]
  },
  {
   "cell_type": "code",
   "execution_count": 44,
   "metadata": {},
   "outputs": [],
   "source": [
    "total = [0] * 4\n",
    "\n",
    "\n",
    "def compute_expectation(counts):\n",
    "    avg = 0\n",
    "    sum_count = 0\n",
    "    for bit_string, count in counts.items():\n",
    "        obj, a, b, c, d = objective(bit_string)\n",
    "        total[0] += a\n",
    "        total[1] += b\n",
    "        total[2] += c\n",
    "        total[3] += d\n",
    "        avg += obj * count\n",
    "        sum_count += count\n",
    "    return avg/sum_count\n",
    "\n",
    "\n",
    "def get_expectation():\n",
    "\n",
    "    def execute_circ(theta):\n",
    "        global iterations\n",
    "        global backend\n",
    "        global current_token\n",
    "        qc = create_qaoa_circ(theta)\n",
    "        tc = transpile(qc, backend, optimization_level=3,\n",
    "                       seed_transpiler=random_seed)\n",
    "        try:\n",
    "            print(current_token)\n",
    "            counts = backend.run(tc, seed_simulator=random_seed,\n",
    "                             shots=shots).result().get_counts()\n",
    "        except:\n",
    "            print(current_token)\n",
    "            current_token+=1\n",
    "            backend = services[current_token].backend(\"ibm_kyoto\")\n",
    "            counts = backend.run(tc, seed_simulator=random_seed,\n",
    "                             shots=shots).result().get_counts()\n",
    "\n",
    "        \n",
    "        print(compute_expectation(counts))\n",
    "        iterations += 1\n",
    "        return compute_expectation(counts)\n",
    "\n",
    "    return execute_circ"
   ]
  },
  {
   "cell_type": "code",
   "execution_count": 45,
   "metadata": {
    "colab": {
     "base_uri": "https://localhost:8080/"
    },
    "id": "MCSSZrIQLN5j",
    "outputId": "f389b5bf-5cf6-43c6-e77d-c22956d225bd",
    "scrolled": true,
    "tags": []
   },
   "outputs": [
    {
     "name": "stdout",
     "output_type": "stream",
     "text": [
      "[1. 1. 1. 1. 1. 1. 1. 1. 1. 1.]\n",
      "1\n"
     ]
    },
    {
     "name": "stderr",
     "output_type": "stream",
     "text": [
      "/tmp/ipykernel_33869/2072757878.py:29: DeprecationWarning: backend.run() and related sessions methods are deprecated  as of qiskit-ibm-runtime 0.23 and will be removed no sooner than 6 months after the release date. More details can be found in the primitives migration guide https://docs.quantum.ibm.com/api/migration-guides/qiskit-runtime.\n",
      "  counts = backend.run(tc, seed_simulator=random_seed,\n"
     ]
    },
    {
     "name": "stdout",
     "output_type": "stream",
     "text": [
      "1\n"
     ]
    },
    {
     "name": "stderr",
     "output_type": "stream",
     "text": [
      "/tmp/ipykernel_33869/2072757878.py:35: DeprecationWarning: backend.run() and related sessions methods are deprecated  as of qiskit-ibm-runtime 0.23 and will be removed no sooner than 6 months after the release date. More details can be found in the primitives migration guide https://docs.quantum.ibm.com/api/migration-guides/qiskit-runtime.\n",
      "  counts = backend.run(tc, seed_simulator=random_seed,\n"
     ]
    },
    {
     "name": "stdout",
     "output_type": "stream",
     "text": [
      "16.24423828125\n",
      "[2. 1. 1. 1. 1. 1. 1. 1. 1. 1.]\n",
      "2\n"
     ]
    },
    {
     "name": "stderr",
     "output_type": "stream",
     "text": [
      "/tmp/ipykernel_33869/2072757878.py:29: DeprecationWarning: backend.run() and related sessions methods are deprecated  as of qiskit-ibm-runtime 0.23 and will be removed no sooner than 6 months after the release date. More details can be found in the primitives migration guide https://docs.quantum.ibm.com/api/migration-guides/qiskit-runtime.\n",
      "  counts = backend.run(tc, seed_simulator=random_seed,\n"
     ]
    },
    {
     "name": "stdout",
     "output_type": "stream",
     "text": [
      "16.37353515625\n",
      "[1. 2. 1. 1. 1. 1. 1. 1. 1. 1.]\n",
      "2\n"
     ]
    },
    {
     "name": "stderr",
     "output_type": "stream",
     "text": [
      "/tmp/ipykernel_33869/2072757878.py:29: DeprecationWarning: backend.run() and related sessions methods are deprecated  as of qiskit-ibm-runtime 0.23 and will be removed no sooner than 6 months after the release date. More details can be found in the primitives migration guide https://docs.quantum.ibm.com/api/migration-guides/qiskit-runtime.\n",
      "  counts = backend.run(tc, seed_simulator=random_seed,\n"
     ]
    },
    {
     "name": "stdout",
     "output_type": "stream",
     "text": [
      "16.29609375\n",
      "[1. 1. 2. 1. 1. 1. 1. 1. 1. 1.]\n",
      "2\n"
     ]
    },
    {
     "name": "stderr",
     "output_type": "stream",
     "text": [
      "/tmp/ipykernel_33869/2072757878.py:29: DeprecationWarning: backend.run() and related sessions methods are deprecated  as of qiskit-ibm-runtime 0.23 and will be removed no sooner than 6 months after the release date. More details can be found in the primitives migration guide https://docs.quantum.ibm.com/api/migration-guides/qiskit-runtime.\n",
      "  counts = backend.run(tc, seed_simulator=random_seed,\n"
     ]
    },
    {
     "name": "stdout",
     "output_type": "stream",
     "text": [
      "16.21953125\n",
      "[1. 1. 2. 2. 1. 1. 1. 1. 1. 1.]\n",
      "2\n"
     ]
    },
    {
     "name": "stderr",
     "output_type": "stream",
     "text": [
      "/tmp/ipykernel_33869/2072757878.py:29: DeprecationWarning: backend.run() and related sessions methods are deprecated  as of qiskit-ibm-runtime 0.23 and will be removed no sooner than 6 months after the release date. More details can be found in the primitives migration guide https://docs.quantum.ibm.com/api/migration-guides/qiskit-runtime.\n",
      "  counts = backend.run(tc, seed_simulator=random_seed,\n"
     ]
    },
    {
     "name": "stdout",
     "output_type": "stream",
     "text": [
      "16.5216796875\n",
      "[1. 1. 2. 1. 2. 1. 1. 1. 1. 1.]\n",
      "2\n"
     ]
    },
    {
     "name": "stderr",
     "output_type": "stream",
     "text": [
      "/tmp/ipykernel_33869/2072757878.py:29: DeprecationWarning: backend.run() and related sessions methods are deprecated  as of qiskit-ibm-runtime 0.23 and will be removed no sooner than 6 months after the release date. More details can be found in the primitives migration guide https://docs.quantum.ibm.com/api/migration-guides/qiskit-runtime.\n",
      "  counts = backend.run(tc, seed_simulator=random_seed,\n"
     ]
    },
    {
     "name": "stdout",
     "output_type": "stream",
     "text": [
      "15.98720703125\n",
      "[1. 1. 2. 1. 2. 2. 1. 1. 1. 1.]\n",
      "2\n"
     ]
    },
    {
     "name": "stderr",
     "output_type": "stream",
     "text": [
      "/tmp/ipykernel_33869/2072757878.py:29: DeprecationWarning: backend.run() and related sessions methods are deprecated  as of qiskit-ibm-runtime 0.23 and will be removed no sooner than 6 months after the release date. More details can be found in the primitives migration guide https://docs.quantum.ibm.com/api/migration-guides/qiskit-runtime.\n",
      "  counts = backend.run(tc, seed_simulator=random_seed,\n"
     ]
    },
    {
     "name": "stdout",
     "output_type": "stream",
     "text": [
      "16.002734375\n",
      "[1. 1. 2. 1. 2. 1. 2. 1. 1. 1.]\n",
      "2\n"
     ]
    },
    {
     "name": "stderr",
     "output_type": "stream",
     "text": [
      "/tmp/ipykernel_33869/2072757878.py:29: DeprecationWarning: backend.run() and related sessions methods are deprecated  as of qiskit-ibm-runtime 0.23 and will be removed no sooner than 6 months after the release date. More details can be found in the primitives migration guide https://docs.quantum.ibm.com/api/migration-guides/qiskit-runtime.\n",
      "  counts = backend.run(tc, seed_simulator=random_seed,\n"
     ]
    },
    {
     "name": "stdout",
     "output_type": "stream",
     "text": [
      "15.9369140625\n",
      "[1. 1. 2. 1. 2. 1. 2. 2. 1. 1.]\n",
      "2\n"
     ]
    },
    {
     "name": "stderr",
     "output_type": "stream",
     "text": [
      "/tmp/ipykernel_33869/2072757878.py:29: DeprecationWarning: backend.run() and related sessions methods are deprecated  as of qiskit-ibm-runtime 0.23 and will be removed no sooner than 6 months after the release date. More details can be found in the primitives migration guide https://docs.quantum.ibm.com/api/migration-guides/qiskit-runtime.\n",
      "  counts = backend.run(tc, seed_simulator=random_seed,\n"
     ]
    },
    {
     "name": "stdout",
     "output_type": "stream",
     "text": [
      "16.12109375\n",
      "[1. 1. 2. 1. 2. 1. 2. 1. 2. 1.]\n",
      "2\n"
     ]
    },
    {
     "name": "stderr",
     "output_type": "stream",
     "text": [
      "/tmp/ipykernel_33869/2072757878.py:29: DeprecationWarning: backend.run() and related sessions methods are deprecated  as of qiskit-ibm-runtime 0.23 and will be removed no sooner than 6 months after the release date. More details can be found in the primitives migration guide https://docs.quantum.ibm.com/api/migration-guides/qiskit-runtime.\n",
      "  counts = backend.run(tc, seed_simulator=random_seed,\n"
     ]
    },
    {
     "name": "stdout",
     "output_type": "stream",
     "text": [
      "16.19853515625\n",
      "[1. 1. 2. 1. 2. 1. 2. 1. 1. 2.]\n",
      "2\n"
     ]
    },
    {
     "name": "stderr",
     "output_type": "stream",
     "text": [
      "/tmp/ipykernel_33869/2072757878.py:29: DeprecationWarning: backend.run() and related sessions methods are deprecated  as of qiskit-ibm-runtime 0.23 and will be removed no sooner than 6 months after the release date. More details can be found in the primitives migration guide https://docs.quantum.ibm.com/api/migration-guides/qiskit-runtime.\n",
      "  counts = backend.run(tc, seed_simulator=random_seed,\n"
     ]
    },
    {
     "name": "stdout",
     "output_type": "stream",
     "text": [
      "16.1994140625\n",
      "[0.77803882 0.91098083 2.04241403 0.48130825 2.39882601 0.97334454\n",
      " 2.08633686 0.68382267 0.55088067 0.54937187]\n",
      "2\n"
     ]
    },
    {
     "name": "stderr",
     "output_type": "stream",
     "text": [
      "/tmp/ipykernel_33869/2072757878.py:29: DeprecationWarning: backend.run() and related sessions methods are deprecated  as of qiskit-ibm-runtime 0.23 and will be removed no sooner than 6 months after the release date. More details can be found in the primitives migration guide https://docs.quantum.ibm.com/api/migration-guides/qiskit-runtime.\n",
      "  counts = backend.run(tc, seed_simulator=random_seed,\n"
     ]
    },
    {
     "name": "stdout",
     "output_type": "stream",
     "text": [
      "15.77373046875\n",
      "[0.59598074 0.83796508 2.07720308 1.19421329 2.72595304 0.95148107\n",
      " 2.15715251 0.42448615 0.18250181 0.17975545]\n",
      "2\n"
     ]
    },
    {
     "name": "stderr",
     "output_type": "stream",
     "text": [
      "/tmp/ipykernel_33869/2072757878.py:29: DeprecationWarning: backend.run() and related sessions methods are deprecated  as of qiskit-ibm-runtime 0.23 and will be removed no sooner than 6 months after the release date. More details can be found in the primitives migration guide https://docs.quantum.ibm.com/api/migration-guides/qiskit-runtime.\n",
      "  counts = backend.run(tc, seed_simulator=random_seed,\n"
     ]
    },
    {
     "name": "stdout",
     "output_type": "stream",
     "text": [
      "16.058203125\n",
      "[0.96415711 0.44691188 2.04241403 0.48130825 2.39882601 0.97334454\n",
      " 2.08633686 0.68382267 0.55088067 0.54937187]\n",
      "2\n"
     ]
    },
    {
     "name": "stderr",
     "output_type": "stream",
     "text": [
      "/tmp/ipykernel_33869/2072757878.py:29: DeprecationWarning: backend.run() and related sessions methods are deprecated  as of qiskit-ibm-runtime 0.23 and will be removed no sooner than 6 months after the release date. More details can be found in the primitives migration guide https://docs.quantum.ibm.com/api/migration-guides/qiskit-runtime.\n",
      "  counts = backend.run(tc, seed_simulator=random_seed,\n"
     ]
    },
    {
     "name": "stdout",
     "output_type": "stream",
     "text": [
      "15.91689453125\n",
      "[1.58885177 1.40039021 2.05556668 0.28568261 2.5225025  0.96507865\n",
      " 2.11311004 0.58577566 0.41160816 0.40963148]\n",
      "2\n"
     ]
    },
    {
     "name": "stderr",
     "output_type": "stream",
     "text": [
      "/tmp/ipykernel_33869/2072757878.py:29: DeprecationWarning: backend.run() and related sessions methods are deprecated  as of qiskit-ibm-runtime 0.23 and will be removed no sooner than 6 months after the release date. More details can be found in the primitives migration guide https://docs.quantum.ibm.com/api/migration-guides/qiskit-runtime.\n",
      "  counts = backend.run(tc, seed_simulator=random_seed,\n"
     ]
    },
    {
     "name": "stdout",
     "output_type": "stream",
     "text": [
      "15.7662109375\n",
      "[1.58885177 1.40039021 2.55276301 0.28568261 2.46962706 0.96507865\n",
      " 2.11311004 0.58577566 0.41160816 0.40963148]\n",
      "2\n"
     ]
    },
    {
     "name": "stderr",
     "output_type": "stream",
     "text": [
      "/tmp/ipykernel_33869/2072757878.py:29: DeprecationWarning: backend.run() and related sessions methods are deprecated  as of qiskit-ibm-runtime 0.23 and will be removed no sooner than 6 months after the release date. More details can be found in the primitives migration guide https://docs.quantum.ibm.com/api/migration-guides/qiskit-runtime.\n",
      "  counts = backend.run(tc, seed_simulator=random_seed,\n"
     ]
    },
    {
     "name": "stdout",
     "output_type": "stream",
     "text": [
      "15.77705078125\n",
      "[ 1.40504583  1.61287372  1.95000381 -0.05523672  1.72006767  0.95067357\n",
      "  2.159768    0.41490786  0.16889616  0.16610409]\n",
      "2\n"
     ]
    },
    {
     "name": "stderr",
     "output_type": "stream",
     "text": [
      "/tmp/ipykernel_33869/2072757878.py:29: DeprecationWarning: backend.run() and related sessions methods are deprecated  as of qiskit-ibm-runtime 0.23 and will be removed no sooner than 6 months after the release date. More details can be found in the primitives migration guide https://docs.quantum.ibm.com/api/migration-guides/qiskit-runtime.\n",
      "  counts = backend.run(tc, seed_simulator=random_seed,\n"
     ]
    },
    {
     "name": "stdout",
     "output_type": "stream",
     "text": [
      "16.5380859375\n",
      "[1.58885177 1.40039021 2.05556668 0.28568261 2.5225025  0.46595109\n",
      " 2.11311004 0.58577566 0.41160816 0.43915576]\n",
      "2\n"
     ]
    },
    {
     "name": "stderr",
     "output_type": "stream",
     "text": [
      "/tmp/ipykernel_33869/2072757878.py:29: DeprecationWarning: backend.run() and related sessions methods are deprecated  as of qiskit-ibm-runtime 0.23 and will be removed no sooner than 6 months after the release date. More details can be found in the primitives migration guide https://docs.quantum.ibm.com/api/migration-guides/qiskit-runtime.\n",
      "  counts = backend.run(tc, seed_simulator=random_seed,\n"
     ]
    },
    {
     "name": "stdout",
     "output_type": "stream",
     "text": [
      "15.76318359375\n",
      "[1.47431616 1.53279578 2.1000225  0.0732444  3.05904143 0.50816922\n",
      " 2.14218417 0.47930223 0.26036621 1.21215747]\n",
      "2\n"
     ]
    },
    {
     "name": "stderr",
     "output_type": "stream",
     "text": [
      "/tmp/ipykernel_33869/2072757878.py:29: DeprecationWarning: backend.run() and related sessions methods are deprecated  as of qiskit-ibm-runtime 0.23 and will be removed no sooner than 6 months after the release date. More details can be found in the primitives migration guide https://docs.quantum.ibm.com/api/migration-guides/qiskit-runtime.\n",
      "  counts = backend.run(tc, seed_simulator=random_seed,\n"
     ]
    },
    {
     "name": "stdout",
     "output_type": "stream",
     "text": [
      "15.78427734375\n",
      "[1.32812819 1.54209348 2.06859812 0.10293957 2.64503921 0.45776138\n",
      " 2.11311004 0.58577566 0.71840961 0.30070319]\n",
      "2\n"
     ]
    },
    {
     "name": "stderr",
     "output_type": "stream",
     "text": [
      "/tmp/ipykernel_33869/2072757878.py:29: DeprecationWarning: backend.run() and related sessions methods are deprecated  as of qiskit-ibm-runtime 0.23 and will be removed no sooner than 6 months after the release date. More details can be found in the primitives migration guide https://docs.quantum.ibm.com/api/migration-guides/qiskit-runtime.\n",
      "  counts = backend.run(tc, seed_simulator=random_seed,\n"
     ]
    },
    {
     "name": "stdout",
     "output_type": "stream",
     "text": [
      "15.5951171875\n",
      "[1.76136313 1.41011969 2.10407823 0.21164295 3.15348924 0.44375839\n",
      " 2.15599858 0.42871201 1.40710559 0.15141473]\n",
      "2\n"
     ]
    },
    {
     "name": "stderr",
     "output_type": "stream",
     "text": [
      "/tmp/ipykernel_33869/2072757878.py:29: DeprecationWarning: backend.run() and related sessions methods are deprecated  as of qiskit-ibm-runtime 0.23 and will be removed no sooner than 6 months after the release date. More details can be found in the primitives migration guide https://docs.quantum.ibm.com/api/migration-guides/qiskit-runtime.\n",
      "  counts = backend.run(tc, seed_simulator=random_seed,\n"
     ]
    },
    {
     "name": "stdout",
     "output_type": "stream",
     "text": [
      "15.8880859375\n",
      "[1.39652757 1.60489318 1.85443902 0.07669509 2.80715138 0.68287536\n",
      " 2.11311004 0.90763575 0.64113566 0.20958247]\n",
      "2\n"
     ]
    },
    {
     "name": "stderr",
     "output_type": "stream",
     "text": [
      "/tmp/ipykernel_33869/2072757878.py:29: DeprecationWarning: backend.run() and related sessions methods are deprecated  as of qiskit-ibm-runtime 0.23 and will be removed no sooner than 6 months after the release date. More details can be found in the primitives migration guide https://docs.quantum.ibm.com/api/migration-guides/qiskit-runtime.\n",
      "  counts = backend.run(tc, seed_simulator=random_seed,\n"
     ]
    },
    {
     "name": "stdout",
     "output_type": "stream",
     "text": [
      "16.2126953125\n",
      "[ 1.07467089  1.44277841  2.71981351  0.04162013  2.56119362 -0.20923042\n",
      "  2.13473802  0.79188924  0.75529614  0.3435402 ]\n",
      "2\n"
     ]
    },
    {
     "name": "stderr",
     "output_type": "stream",
     "text": [
      "/tmp/ipykernel_33869/2072757878.py:29: DeprecationWarning: backend.run() and related sessions methods are deprecated  as of qiskit-ibm-runtime 0.23 and will be removed no sooner than 6 months after the release date. More details can be found in the primitives migration guide https://docs.quantum.ibm.com/api/migration-guides/qiskit-runtime.\n",
      "  counts = backend.run(tc, seed_simulator=random_seed,\n"
     ]
    },
    {
     "name": "stdout",
     "output_type": "stream",
     "text": [
      "15.7412109375\n",
      "[1.12263168 1.67253238 2.09609919 0.4144513  2.78177214 0.43551298\n",
      " 2.11751164 0.36688022 0.60795347 0.18393426]\n",
      "2\n"
     ]
    },
    {
     "name": "stderr",
     "output_type": "stream",
     "text": [
      "/tmp/ipykernel_33869/2072757878.py:29: DeprecationWarning: backend.run() and related sessions methods are deprecated  as of qiskit-ibm-runtime 0.23 and will be removed no sooner than 6 months after the release date. More details can be found in the primitives migration guide https://docs.quantum.ibm.com/api/migration-guides/qiskit-runtime.\n",
      "  counts = backend.run(tc, seed_simulator=random_seed,\n"
     ]
    },
    {
     "name": "stdout",
     "output_type": "stream",
     "text": [
      "16.03984375\n",
      "[ 1.34153457  1.46499313  2.08497638 -0.00710929  2.72549368  0.44440828\n",
      "  1.98963271  0.51948832  0.62425066  0.20668721]\n",
      "2\n"
     ]
    },
    {
     "name": "stderr",
     "output_type": "stream",
     "text": [
      "/tmp/ipykernel_33869/2072757878.py:29: DeprecationWarning: backend.run() and related sessions methods are deprecated  as of qiskit-ibm-runtime 0.23 and will be removed no sooner than 6 months after the release date. More details can be found in the primitives migration guide https://docs.quantum.ibm.com/api/migration-guides/qiskit-runtime.\n",
      "  counts = backend.run(tc, seed_simulator=random_seed,\n"
     ]
    },
    {
     "name": "stdout",
     "output_type": "stream",
     "text": [
      "16.18720703125\n",
      "[1.32387528 1.6537856  2.05589077 0.22899252 2.52152584 0.46561536\n",
      " 1.72012676 0.64767879 0.8739748  0.45455488]\n",
      "2\n"
     ]
    },
    {
     "name": "stderr",
     "output_type": "stream",
     "text": [
      "/tmp/ipykernel_33869/2072757878.py:29: DeprecationWarning: backend.run() and related sessions methods are deprecated  as of qiskit-ibm-runtime 0.23 and will be removed no sooner than 6 months after the release date. More details can be found in the primitives migration guide https://docs.quantum.ibm.com/api/migration-guides/qiskit-runtime.\n",
      "  counts = backend.run(tc, seed_simulator=random_seed,\n"
     ]
    },
    {
     "name": "stdout",
     "output_type": "stream",
     "text": [
      "15.4580078125\n",
      "[1.20633829 1.45560899 2.01681717 0.28097707 2.53173742 0.5076766\n",
      " 1.71301219 0.6737333  0.91098436 0.48933071]\n",
      "2\n"
     ]
    },
    {
     "name": "stderr",
     "output_type": "stream",
     "text": [
      "/tmp/ipykernel_33869/2072757878.py:29: DeprecationWarning: backend.run() and related sessions methods are deprecated  as of qiskit-ibm-runtime 0.23 and will be removed no sooner than 6 months after the release date. More details can be found in the primitives migration guide https://docs.quantum.ibm.com/api/migration-guides/qiskit-runtime.\n",
      "  counts = backend.run(tc, seed_simulator=random_seed,\n"
     ]
    },
    {
     "name": "stdout",
     "output_type": "stream",
     "text": [
      "16.5041015625\n",
      "[1.48619193 2.00833507 2.0832069  0.12678958 2.31362935 0.41821835\n",
      " 1.86286302 0.55249737 0.95293821 0.52952537]\n",
      "2\n"
     ]
    },
    {
     "name": "stderr",
     "output_type": "stream",
     "text": [
      "/tmp/ipykernel_33869/2072757878.py:29: DeprecationWarning: backend.run() and related sessions methods are deprecated  as of qiskit-ibm-runtime 0.23 and will be removed no sooner than 6 months after the release date. More details can be found in the primitives migration guide https://docs.quantum.ibm.com/api/migration-guides/qiskit-runtime.\n",
      "  counts = backend.run(tc, seed_simulator=random_seed,\n"
     ]
    },
    {
     "name": "stdout",
     "output_type": "stream",
     "text": [
      "15.926953125\n",
      "[1.34961867 1.62087031 2.04600143 0.28104046 2.38654361 0.44975639\n",
      " 1.7128812  0.67914847 0.90891184 0.26165094]\n",
      "2\n"
     ]
    },
    {
     "name": "stderr",
     "output_type": "stream",
     "text": [
      "/tmp/ipykernel_33869/2072757878.py:29: DeprecationWarning: backend.run() and related sessions methods are deprecated  as of qiskit-ibm-runtime 0.23 and will be removed no sooner than 6 months after the release date. More details can be found in the primitives migration guide https://docs.quantum.ibm.com/api/migration-guides/qiskit-runtime.\n",
      "  counts = backend.run(tc, seed_simulator=random_seed,\n"
     ]
    },
    {
     "name": "stdout",
     "output_type": "stream",
     "text": [
      "15.9052734375\n",
      "[1.32299856 1.70993392 2.34035811 0.27686573 2.62491037 0.19426728\n",
      " 1.73807385 0.92524099 0.84015577 0.48298623]\n",
      "2\n"
     ]
    },
    {
     "name": "stderr",
     "output_type": "stream",
     "text": [
      "/tmp/ipykernel_33869/2072757878.py:29: DeprecationWarning: backend.run() and related sessions methods are deprecated  as of qiskit-ibm-runtime 0.23 and will be removed no sooner than 6 months after the release date. More details can be found in the primitives migration guide https://docs.quantum.ibm.com/api/migration-guides/qiskit-runtime.\n",
      "  counts = backend.run(tc, seed_simulator=random_seed,\n"
     ]
    },
    {
     "name": "stdout",
     "output_type": "stream",
     "text": [
      "16.2603515625\n",
      "[1.4827918  1.62864688 2.06983838 0.2918872  2.63882455 0.4626342\n",
      " 1.725877   0.59900478 0.99902836 0.42896558]\n",
      "2\n"
     ]
    },
    {
     "name": "stderr",
     "output_type": "stream",
     "text": [
      "/tmp/ipykernel_33869/2072757878.py:29: DeprecationWarning: backend.run() and related sessions methods are deprecated  as of qiskit-ibm-runtime 0.23 and will be removed no sooner than 6 months after the release date. More details can be found in the primitives migration guide https://docs.quantum.ibm.com/api/migration-guides/qiskit-runtime.\n",
      "  counts = backend.run(tc, seed_simulator=random_seed,\n"
     ]
    },
    {
     "name": "stdout",
     "output_type": "stream",
     "text": [
      "15.938671875\n",
      "[1.07319993 1.45503582 1.97056539 0.22548315 2.39892444 0.55293255\n",
      " 1.8374293  0.62667914 0.98945762 0.75484658]\n",
      "2\n"
     ]
    },
    {
     "name": "stderr",
     "output_type": "stream",
     "text": [
      "/tmp/ipykernel_33869/2072757878.py:29: DeprecationWarning: backend.run() and related sessions methods are deprecated  as of qiskit-ibm-runtime 0.23 and will be removed no sooner than 6 months after the release date. More details can be found in the primitives migration guide https://docs.quantum.ibm.com/api/migration-guides/qiskit-runtime.\n",
      "  counts = backend.run(tc, seed_simulator=random_seed,\n"
     ]
    },
    {
     "name": "stdout",
     "output_type": "stream",
     "text": [
      "15.83515625\n",
      "[1.31720353 1.73674523 1.9358075  0.2351416  2.5833756  0.59128202\n",
      " 1.73018371 0.78693168 0.82920824 0.45570841]\n",
      "2\n"
     ]
    },
    {
     "name": "stderr",
     "output_type": "stream",
     "text": [
      "/tmp/ipykernel_33869/2072757878.py:29: DeprecationWarning: backend.run() and related sessions methods are deprecated  as of qiskit-ibm-runtime 0.23 and will be removed no sooner than 6 months after the release date. More details can be found in the primitives migration guide https://docs.quantum.ibm.com/api/migration-guides/qiskit-runtime.\n",
      "  counts = backend.run(tc, seed_simulator=random_seed,\n"
     ]
    },
    {
     "name": "stdout",
     "output_type": "stream",
     "text": [
      "16.0265625\n",
      "[1.32285022 1.6544438  1.96816903 0.23072971 2.53156834 0.37729088\n",
      " 1.72015049 0.64649881 0.87328207 0.45918695]\n",
      "2\n"
     ]
    },
    {
     "name": "stderr",
     "output_type": "stream",
     "text": [
      "/tmp/ipykernel_33869/2072757878.py:29: DeprecationWarning: backend.run() and related sessions methods are deprecated  as of qiskit-ibm-runtime 0.23 and will be removed no sooner than 6 months after the release date. More details can be found in the primitives migration guide https://docs.quantum.ibm.com/api/migration-guides/qiskit-runtime.\n",
      "  counts = backend.run(tc, seed_simulator=random_seed,\n"
     ]
    },
    {
     "name": "stdout",
     "output_type": "stream",
     "text": [
      "15.72529296875\n",
      "[1.21496144 1.73359028 2.09085186 0.38173568 2.55832645 0.47612292\n",
      " 1.727713   0.52660077 0.81754722 0.43584568]\n",
      "2\n"
     ]
    },
    {
     "name": "stderr",
     "output_type": "stream",
     "text": [
      "/tmp/ipykernel_33869/2072757878.py:29: DeprecationWarning: backend.run() and related sessions methods are deprecated  as of qiskit-ibm-runtime 0.23 and will be removed no sooner than 6 months after the release date. More details can be found in the primitives migration guide https://docs.quantum.ibm.com/api/migration-guides/qiskit-runtime.\n",
      "  counts = backend.run(tc, seed_simulator=random_seed,\n"
     ]
    },
    {
     "name": "stdout",
     "output_type": "stream",
     "text": [
      "15.85458984375\n",
      "[1.38746754 1.62412828 2.05151452 0.28195692 2.48554295 0.46858065\n",
      " 1.72880217 0.65233608 0.80465097 0.49543007]\n",
      "2\n"
     ]
    },
    {
     "name": "stderr",
     "output_type": "stream",
     "text": [
      "/tmp/ipykernel_33869/2072757878.py:29: DeprecationWarning: backend.run() and related sessions methods are deprecated  as of qiskit-ibm-runtime 0.23 and will be removed no sooner than 6 months after the release date. More details can be found in the primitives migration guide https://docs.quantum.ibm.com/api/migration-guides/qiskit-runtime.\n",
      "  counts = backend.run(tc, seed_simulator=random_seed,\n"
     ]
    },
    {
     "name": "stdout",
     "output_type": "stream",
     "text": [
      "15.94091796875\n",
      "[1.27935512 1.63166137 2.11429042 0.04376013 2.54644672 0.49304896\n",
      " 1.60489246 0.56650138 0.85016149 0.43225073]\n",
      "2\n"
     ]
    },
    {
     "name": "stderr",
     "output_type": "stream",
     "text": [
      "/tmp/ipykernel_33869/2072757878.py:29: DeprecationWarning: backend.run() and related sessions methods are deprecated  as of qiskit-ibm-runtime 0.23 and will be removed no sooner than 6 months after the release date. More details can be found in the primitives migration guide https://docs.quantum.ibm.com/api/migration-guides/qiskit-runtime.\n",
      "  counts = backend.run(tc, seed_simulator=random_seed,\n"
     ]
    },
    {
     "name": "stdout",
     "output_type": "stream",
     "text": [
      "15.8693359375\n",
      "[1.34688975 1.73901331 2.06780503 0.19412857 2.47107375 0.46141457\n",
      " 1.76448449 0.62551606 0.90377707 0.4783056 ]\n",
      "2\n"
     ]
    },
    {
     "name": "stderr",
     "output_type": "stream",
     "text": [
      "/tmp/ipykernel_33869/2072757878.py:29: DeprecationWarning: backend.run() and related sessions methods are deprecated  as of qiskit-ibm-runtime 0.23 and will be removed no sooner than 6 months after the release date. More details can be found in the primitives migration guide https://docs.quantum.ibm.com/api/migration-guides/qiskit-runtime.\n",
      "  counts = backend.run(tc, seed_simulator=random_seed,\n"
     ]
    },
    {
     "name": "stdout",
     "output_type": "stream",
     "text": [
      "15.9306640625\n",
      "[1.32623073 1.64325992 2.05780714 0.21218741 2.53841893 0.46437139\n",
      " 1.76698051 0.63967232 0.85158684 0.43319357]\n",
      "2\n"
     ]
    },
    {
     "name": "stderr",
     "output_type": "stream",
     "text": [
      "/tmp/ipykernel_33869/2072757878.py:29: DeprecationWarning: backend.run() and related sessions methods are deprecated  as of qiskit-ibm-runtime 0.23 and will be removed no sooner than 6 months after the release date. More details can be found in the primitives migration guide https://docs.quantum.ibm.com/api/migration-guides/qiskit-runtime.\n",
      "  counts = backend.run(tc, seed_simulator=random_seed,\n"
     ]
    },
    {
     "name": "stdout",
     "output_type": "stream",
     "text": [
      "15.66630859375\n",
      "[1.25902603 1.58821276 2.05823421 0.23923879 2.50767412 0.48560788\n",
      " 1.73813039 0.66252432 0.93728599 0.49773936]\n",
      "2\n"
     ]
    },
    {
     "name": "stderr",
     "output_type": "stream",
     "text": [
      "/tmp/ipykernel_33869/2072757878.py:29: DeprecationWarning: backend.run() and related sessions methods are deprecated  as of qiskit-ibm-runtime 0.23 and will be removed no sooner than 6 months after the release date. More details can be found in the primitives migration guide https://docs.quantum.ibm.com/api/migration-guides/qiskit-runtime.\n",
      "  counts = backend.run(tc, seed_simulator=random_seed,\n"
     ]
    },
    {
     "name": "stdout",
     "output_type": "stream",
     "text": [
      "15.82138671875\n",
      "[1.3112921  1.67257578 2.12864479 0.23620063 2.55027828 0.40798036\n",
      " 1.70365238 0.72048607 0.86726326 0.45292895]\n",
      "2\n"
     ]
    },
    {
     "name": "stderr",
     "output_type": "stream",
     "text": [
      "/tmp/ipykernel_33869/2072757878.py:29: DeprecationWarning: backend.run() and related sessions methods are deprecated  as of qiskit-ibm-runtime 0.23 and will be removed no sooner than 6 months after the release date. More details can be found in the primitives migration guide https://docs.quantum.ibm.com/api/migration-guides/qiskit-runtime.\n",
      "  counts = backend.run(tc, seed_simulator=random_seed,\n"
     ]
    },
    {
     "name": "stdout",
     "output_type": "stream",
     "text": [
      "15.92255859375\n",
      "[1.32031443 1.6456106  2.05555485 0.19735159 2.52673263 0.4779345\n",
      " 1.67605847 0.62397    0.86431168 0.44754707]\n",
      "2\n"
     ]
    },
    {
     "name": "stderr",
     "output_type": "stream",
     "text": [
      "/tmp/ipykernel_33869/2072757878.py:29: DeprecationWarning: backend.run() and related sessions methods are deprecated  as of qiskit-ibm-runtime 0.23 and will be removed no sooner than 6 months after the release date. More details can be found in the primitives migration guide https://docs.quantum.ibm.com/api/migration-guides/qiskit-runtime.\n",
      "  counts = backend.run(tc, seed_simulator=random_seed,\n"
     ]
    },
    {
     "name": "stdout",
     "output_type": "stream",
     "text": [
      "16.0025390625\n",
      "[1.3133889  1.65567514 2.06613666 0.24291632 2.52084903 0.45601644\n",
      " 1.72013868 0.62616089 0.87131549 0.4533349 ]\n",
      "2\n"
     ]
    },
    {
     "name": "stderr",
     "output_type": "stream",
     "text": [
      "/tmp/ipykernel_33869/2072757878.py:29: DeprecationWarning: backend.run() and related sessions methods are deprecated  as of qiskit-ibm-runtime 0.23 and will be removed no sooner than 6 months after the release date. More details can be found in the primitives migration guide https://docs.quantum.ibm.com/api/migration-guides/qiskit-runtime.\n",
      "  counts = backend.run(tc, seed_simulator=random_seed,\n"
     ]
    },
    {
     "name": "stdout",
     "output_type": "stream",
     "text": [
      "16.0859375\n",
      "[1.31765907 1.67758453 2.02822104 0.24303687 2.53822087 0.49933659\n",
      " 1.72161751 0.67732728 0.87228275 0.44835824]\n",
      "2\n"
     ]
    },
    {
     "name": "stderr",
     "output_type": "stream",
     "text": [
      "/tmp/ipykernel_33869/2072757878.py:29: DeprecationWarning: backend.run() and related sessions methods are deprecated  as of qiskit-ibm-runtime 0.23 and will be removed no sooner than 6 months after the release date. More details can be found in the primitives migration guide https://docs.quantum.ibm.com/api/migration-guides/qiskit-runtime.\n",
      "  counts = backend.run(tc, seed_simulator=random_seed,\n"
     ]
    },
    {
     "name": "stdout",
     "output_type": "stream",
     "text": [
      "15.94091796875\n",
      "[1.31269902 1.65291412 2.05379813 0.22839984 2.49918535 0.46441795\n",
      " 1.71897407 0.65470328 0.86652335 0.43908114]\n",
      "2\n"
     ]
    },
    {
     "name": "stderr",
     "output_type": "stream",
     "text": [
      "/tmp/ipykernel_33869/2072757878.py:29: DeprecationWarning: backend.run() and related sessions methods are deprecated  as of qiskit-ibm-runtime 0.23 and will be removed no sooner than 6 months after the release date. More details can be found in the primitives migration guide https://docs.quantum.ibm.com/api/migration-guides/qiskit-runtime.\n",
      "  counts = backend.run(tc, seed_simulator=random_seed,\n"
     ]
    },
    {
     "name": "stdout",
     "output_type": "stream",
     "text": [
      "15.61923828125\n",
      "[1.36177144 1.63772243 2.05727622 0.23482284 2.51899215 0.46400842\n",
      " 1.71865175 0.65338852 0.90964904 0.42523316]\n",
      "2\n"
     ]
    },
    {
     "name": "stderr",
     "output_type": "stream",
     "text": [
      "/tmp/ipykernel_33869/2072757878.py:29: DeprecationWarning: backend.run() and related sessions methods are deprecated  as of qiskit-ibm-runtime 0.23 and will be removed no sooner than 6 months after the release date. More details can be found in the primitives migration guide https://docs.quantum.ibm.com/api/migration-guides/qiskit-runtime.\n",
      "  counts = backend.run(tc, seed_simulator=random_seed,\n"
     ]
    },
    {
     "name": "stdout",
     "output_type": "stream",
     "text": [
      "16.03544921875\n",
      "[1.32344055 1.65243751 2.03454411 0.22331823 2.52371111 0.44472264\n",
      " 1.71969264 0.65078818 0.87469674 0.46047259]\n",
      "2\n"
     ]
    },
    {
     "name": "stderr",
     "output_type": "stream",
     "text": [
      "/tmp/ipykernel_33869/2072757878.py:29: DeprecationWarning: backend.run() and related sessions methods are deprecated  as of qiskit-ibm-runtime 0.23 and will be removed no sooner than 6 months after the release date. More details can be found in the primitives migration guide https://docs.quantum.ibm.com/api/migration-guides/qiskit-runtime.\n",
      "  counts = backend.run(tc, seed_simulator=random_seed,\n"
     ]
    },
    {
     "name": "stdout",
     "output_type": "stream",
     "text": [
      "15.73349609375\n",
      "[1.33399398 1.65635406 2.05520152 0.23323362 2.51957186 0.46431837\n",
      " 1.71760795 0.64727321 0.86374849 0.45488204]\n",
      "2\n"
     ]
    },
    {
     "name": "stderr",
     "output_type": "stream",
     "text": [
      "/tmp/ipykernel_33869/2072757878.py:29: DeprecationWarning: backend.run() and related sessions methods are deprecated  as of qiskit-ibm-runtime 0.23 and will be removed no sooner than 6 months after the release date. More details can be found in the primitives migration guide https://docs.quantum.ibm.com/api/migration-guides/qiskit-runtime.\n",
      "  counts = backend.run(tc, seed_simulator=random_seed,\n"
     ]
    },
    {
     "name": "stdout",
     "output_type": "stream",
     "text": [
      "15.65498046875\n",
      "[1.32255719 1.63753076 2.06117666 0.22452132 2.51385168 0.47532542\n",
      " 1.72657233 0.65624437 0.87528526 0.47437565]\n",
      "2\n"
     ]
    },
    {
     "name": "stderr",
     "output_type": "stream",
     "text": [
      "/tmp/ipykernel_33869/2072757878.py:29: DeprecationWarning: backend.run() and related sessions methods are deprecated  as of qiskit-ibm-runtime 0.23 and will be removed no sooner than 6 months after the release date. More details can be found in the primitives migration guide https://docs.quantum.ibm.com/api/migration-guides/qiskit-runtime.\n",
      "  counts = backend.run(tc, seed_simulator=random_seed,\n"
     ]
    },
    {
     "name": "stdout",
     "output_type": "stream",
     "text": [
      "15.8609375\n",
      "[1.32090417 1.64772985 2.06075727 0.23231288 2.52850737 0.46131052\n",
      " 1.71574528 0.6553371  0.87046876 0.45200131]\n",
      "2\n"
     ]
    },
    {
     "name": "stderr",
     "output_type": "stream",
     "text": [
      "/tmp/ipykernel_33869/2072757878.py:29: DeprecationWarning: backend.run() and related sessions methods are deprecated  as of qiskit-ibm-runtime 0.23 and will be removed no sooner than 6 months after the release date. More details can be found in the primitives migration guide https://docs.quantum.ibm.com/api/migration-guides/qiskit-runtime.\n",
      "  counts = backend.run(tc, seed_simulator=random_seed,\n"
     ]
    },
    {
     "name": "stdout",
     "output_type": "stream",
     "text": [
      "15.897265625\n",
      "[1.32622172 1.67509805 2.06851157 0.21365945 2.51886638 0.46051956\n",
      " 1.7234725  0.6537802  0.87976238 0.45729192]\n",
      "2\n"
     ]
    },
    {
     "name": "stderr",
     "output_type": "stream",
     "text": [
      "/tmp/ipykernel_33869/2072757878.py:29: DeprecationWarning: backend.run() and related sessions methods are deprecated  as of qiskit-ibm-runtime 0.23 and will be removed no sooner than 6 months after the release date. More details can be found in the primitives migration guide https://docs.quantum.ibm.com/api/migration-guides/qiskit-runtime.\n",
      "  counts = backend.run(tc, seed_simulator=random_seed,\n"
     ]
    },
    {
     "name": "stdout",
     "output_type": "stream",
     "text": [
      "15.98955078125\n",
      "[1.33186526 1.64993202 2.05386752 0.23024183 2.51942796 0.46731972\n",
      " 1.72108676 0.64597317 0.88418049 0.44788379]\n",
      "2\n"
     ]
    },
    {
     "name": "stderr",
     "output_type": "stream",
     "text": [
      "/tmp/ipykernel_33869/2072757878.py:29: DeprecationWarning: backend.run() and related sessions methods are deprecated  as of qiskit-ibm-runtime 0.23 and will be removed no sooner than 6 months after the release date. More details can be found in the primitives migration guide https://docs.quantum.ibm.com/api/migration-guides/qiskit-runtime.\n",
      "  counts = backend.run(tc, seed_simulator=random_seed,\n"
     ]
    },
    {
     "name": "stdout",
     "output_type": "stream",
     "text": [
      "2\n"
     ]
    },
    {
     "name": "stderr",
     "output_type": "stream",
     "text": [
      "/tmp/ipykernel_33869/2072757878.py:35: DeprecationWarning: backend.run() and related sessions methods are deprecated  as of qiskit-ibm-runtime 0.23 and will be removed no sooner than 6 months after the release date. More details can be found in the primitives migration guide https://docs.quantum.ibm.com/api/migration-guides/qiskit-runtime.\n",
      "  counts = backend.run(tc, seed_simulator=random_seed,\n"
     ]
    },
    {
     "name": "stdout",
     "output_type": "stream",
     "text": [
      "15.76826171875\n",
      "[1.32462245 1.65152997 2.05669513 0.22548041 2.52313865 0.46489993\n",
      " 1.72490034 0.6459769  0.87123216 0.45208737]\n",
      "3\n"
     ]
    },
    {
     "name": "stderr",
     "output_type": "stream",
     "text": [
      "/tmp/ipykernel_33869/2072757878.py:29: DeprecationWarning: backend.run() and related sessions methods are deprecated  as of qiskit-ibm-runtime 0.23 and will be removed no sooner than 6 months after the release date. More details can be found in the primitives migration guide https://docs.quantum.ibm.com/api/migration-guides/qiskit-runtime.\n",
      "  counts = backend.run(tc, seed_simulator=random_seed,\n"
     ]
    },
    {
     "name": "stdout",
     "output_type": "stream",
     "text": [
      "15.91484375\n",
      "[1.31915134 1.66060296 2.04827362 0.23372552 2.52387249 0.47458572\n",
      " 1.71884253 0.64958377 0.87473351 0.45631513]\n",
      "3\n"
     ]
    },
    {
     "name": "stderr",
     "output_type": "stream",
     "text": [
      "/tmp/ipykernel_33869/2072757878.py:29: DeprecationWarning: backend.run() and related sessions methods are deprecated  as of qiskit-ibm-runtime 0.23 and will be removed no sooner than 6 months after the release date. More details can be found in the primitives migration guide https://docs.quantum.ibm.com/api/migration-guides/qiskit-runtime.\n",
      "  counts = backend.run(tc, seed_simulator=random_seed,\n"
     ]
    },
    {
     "name": "stdout",
     "output_type": "stream",
     "text": [
      "15.61904296875\n",
      "[1.32315835 1.65190262 2.05511063 0.22126842 2.52120435 0.46876674\n",
      " 1.70824287 0.6424054  0.87328707 0.45507236]\n",
      "3\n"
     ]
    },
    {
     "name": "stderr",
     "output_type": "stream",
     "text": [
      "/tmp/ipykernel_33869/2072757878.py:29: DeprecationWarning: backend.run() and related sessions methods are deprecated  as of qiskit-ibm-runtime 0.23 and will be removed no sooner than 6 months after the release date. More details can be found in the primitives migration guide https://docs.quantum.ibm.com/api/migration-guides/qiskit-runtime.\n",
      "  counts = backend.run(tc, seed_simulator=random_seed,\n"
     ]
    },
    {
     "name": "stdout",
     "output_type": "stream",
     "text": [
      "15.69736328125\n",
      "[1.32377749 1.65116113 2.0567914  0.22987994 2.51779513 0.46666592\n",
      " 1.72078991 0.64893589 0.87489634 0.46044112]\n",
      "3\n"
     ]
    },
    {
     "name": "stderr",
     "output_type": "stream",
     "text": [
      "/tmp/ipykernel_33869/2072757878.py:29: DeprecationWarning: backend.run() and related sessions methods are deprecated  as of qiskit-ibm-runtime 0.23 and will be removed no sooner than 6 months after the release date. More details can be found in the primitives migration guide https://docs.quantum.ibm.com/api/migration-guides/qiskit-runtime.\n",
      "  counts = backend.run(tc, seed_simulator=random_seed,\n"
     ]
    },
    {
     "name": "stdout",
     "output_type": "stream",
     "text": [
      "15.99775390625\n",
      "[1.32527664 1.65434628 2.05659572 0.22883094 2.52424907 0.46562017\n",
      " 1.72028512 0.64696422 0.87491695 0.45645704]\n",
      "3\n"
     ]
    },
    {
     "name": "stderr",
     "output_type": "stream",
     "text": [
      "/tmp/ipykernel_33869/2072757878.py:29: DeprecationWarning: backend.run() and related sessions methods are deprecated  as of qiskit-ibm-runtime 0.23 and will be removed no sooner than 6 months after the release date. More details can be found in the primitives migration guide https://docs.quantum.ibm.com/api/migration-guides/qiskit-runtime.\n",
      "  counts = backend.run(tc, seed_simulator=random_seed,\n"
     ]
    },
    {
     "name": "stdout",
     "output_type": "stream",
     "text": [
      "15.8625\n",
      "[1.32288337 1.65890006 2.05766056 0.22727763 2.51839247 0.46370053\n",
      " 1.71925882 0.65016161 0.87486965 0.45198242]\n",
      "3\n"
     ]
    },
    {
     "name": "stderr",
     "output_type": "stream",
     "text": [
      "/tmp/ipykernel_33869/2072757878.py:29: DeprecationWarning: backend.run() and related sessions methods are deprecated  as of qiskit-ibm-runtime 0.23 and will be removed no sooner than 6 months after the release date. More details can be found in the primitives migration guide https://docs.quantum.ibm.com/api/migration-guides/qiskit-runtime.\n",
      "  counts = backend.run(tc, seed_simulator=random_seed,\n"
     ]
    },
    {
     "name": "stdout",
     "output_type": "stream",
     "text": [
      "15.940625\n",
      "[1.32432385 1.65355118 2.05310822 0.22772376 2.52179311 0.46381916\n",
      " 1.72007945 0.64903012 0.87417816 0.45524971]\n",
      "3\n"
     ]
    },
    {
     "name": "stderr",
     "output_type": "stream",
     "text": [
      "/tmp/ipykernel_33869/2072757878.py:29: DeprecationWarning: backend.run() and related sessions methods are deprecated  as of qiskit-ibm-runtime 0.23 and will be removed no sooner than 6 months after the release date. More details can be found in the primitives migration guide https://docs.quantum.ibm.com/api/migration-guides/qiskit-runtime.\n",
      "  counts = backend.run(tc, seed_simulator=random_seed,\n"
     ]
    },
    {
     "name": "stdout",
     "output_type": "stream",
     "text": [
      "15.97138671875\n",
      "[1.32095968 1.65354963 2.05540619 0.23306361 2.52060091 0.46287425\n",
      " 1.71955305 0.64259384 0.873885   0.45350276]\n",
      "3\n"
     ]
    },
    {
     "name": "stderr",
     "output_type": "stream",
     "text": [
      "/tmp/ipykernel_33869/2072757878.py:29: DeprecationWarning: backend.run() and related sessions methods are deprecated  as of qiskit-ibm-runtime 0.23 and will be removed no sooner than 6 months after the release date. More details can be found in the primitives migration guide https://docs.quantum.ibm.com/api/migration-guides/qiskit-runtime.\n",
      "  counts = backend.run(tc, seed_simulator=random_seed,\n"
     ]
    },
    {
     "name": "stdout",
     "output_type": "stream",
     "text": [
      "15.92724609375\n",
      "[1.3236342  1.65299324 2.05602146 0.2272199  2.52123436 0.46709575\n",
      " 1.71740382 0.6465341  0.87346118 0.45416951]\n",
      "3\n"
     ]
    },
    {
     "name": "stderr",
     "output_type": "stream",
     "text": [
      "/tmp/ipykernel_33869/2072757878.py:29: DeprecationWarning: backend.run() and related sessions methods are deprecated  as of qiskit-ibm-runtime 0.23 and will be removed no sooner than 6 months after the release date. More details can be found in the primitives migration guide https://docs.quantum.ibm.com/api/migration-guides/qiskit-runtime.\n",
      "  counts = backend.run(tc, seed_simulator=random_seed,\n"
     ]
    },
    {
     "name": "stdout",
     "output_type": "stream",
     "text": [
      "15.97578125\n",
      "[1.32285441 1.65369225 2.05640838 0.22906142 2.52220671 0.46518516\n",
      " 1.71977065 0.64835423 0.8729337  0.45497389]\n",
      "3\n"
     ]
    },
    {
     "name": "stderr",
     "output_type": "stream",
     "text": [
      "/tmp/ipykernel_33869/2072757878.py:29: DeprecationWarning: backend.run() and related sessions methods are deprecated  as of qiskit-ibm-runtime 0.23 and will be removed no sooner than 6 months after the release date. More details can be found in the primitives migration guide https://docs.quantum.ibm.com/api/migration-guides/qiskit-runtime.\n",
      "  counts = backend.run(tc, seed_simulator=random_seed,\n"
     ]
    },
    {
     "name": "stdout",
     "output_type": "stream",
     "text": [
      "15.610546875\n",
      "[1.3246452  1.6523201  2.05642964 0.23095218 2.52193868 0.46628667\n",
      " 1.72015865 0.64936658 0.87496609 0.45257138]\n",
      "3\n"
     ]
    },
    {
     "name": "stderr",
     "output_type": "stream",
     "text": [
      "/tmp/ipykernel_33869/2072757878.py:29: DeprecationWarning: backend.run() and related sessions methods are deprecated  as of qiskit-ibm-runtime 0.23 and will be removed no sooner than 6 months after the release date. More details can be found in the primitives migration guide https://docs.quantum.ibm.com/api/migration-guides/qiskit-runtime.\n",
      "  counts = backend.run(tc, seed_simulator=random_seed,\n"
     ]
    },
    {
     "name": "stdout",
     "output_type": "stream",
     "text": [
      "15.77421875\n",
      "[1.32520627 1.65391234 2.05606722 0.22943946 2.52114973 0.4651529\n",
      " 1.71970427 0.64762282 0.87285442 0.45461823]\n",
      "3\n"
     ]
    },
    {
     "name": "stderr",
     "output_type": "stream",
     "text": [
      "/tmp/ipykernel_33869/2072757878.py:29: DeprecationWarning: backend.run() and related sessions methods are deprecated  as of qiskit-ibm-runtime 0.23 and will be removed no sooner than 6 months after the release date. More details can be found in the primitives migration guide https://docs.quantum.ibm.com/api/migration-guides/qiskit-runtime.\n",
      "  counts = backend.run(tc, seed_simulator=random_seed,\n"
     ]
    },
    {
     "name": "stdout",
     "output_type": "stream",
     "text": [
      "15.84658203125\n",
      "[1.32306063 1.6554282  2.05433359 0.22980959 2.52163298 0.46815835\n",
      " 1.72140436 0.64772595 0.87314416 0.4545987 ]\n",
      "3\n"
     ]
    },
    {
     "name": "stderr",
     "output_type": "stream",
     "text": [
      "/tmp/ipykernel_33869/2072757878.py:29: DeprecationWarning: backend.run() and related sessions methods are deprecated  as of qiskit-ibm-runtime 0.23 and will be removed no sooner than 6 months after the release date. More details can be found in the primitives migration guide https://docs.quantum.ibm.com/api/migration-guides/qiskit-runtime.\n",
      "  counts = backend.run(tc, seed_simulator=random_seed,\n"
     ]
    },
    {
     "name": "stdout",
     "output_type": "stream",
     "text": [
      "15.861328125\n",
      "[1.32300649 1.65367621 2.05576992 0.22975431 2.52133655 0.46482518\n",
      " 1.72025048 0.64646725 0.87449085 0.4543467 ]\n",
      "3\n"
     ]
    },
    {
     "name": "stderr",
     "output_type": "stream",
     "text": [
      "/tmp/ipykernel_33869/2072757878.py:29: DeprecationWarning: backend.run() and related sessions methods are deprecated  as of qiskit-ibm-runtime 0.23 and will be removed no sooner than 6 months after the release date. More details can be found in the primitives migration guide https://docs.quantum.ibm.com/api/migration-guides/qiskit-runtime.\n",
      "  counts = backend.run(tc, seed_simulator=random_seed,\n"
     ]
    },
    {
     "name": "stdout",
     "output_type": "stream",
     "text": [
      "15.76533203125\n",
      "[1.32387837 1.6544468  2.05595982 0.22883078 2.52176738 0.46539468\n",
      " 1.71994724 0.64772494 0.87404205 0.4539721 ]\n",
      "3\n"
     ]
    },
    {
     "name": "stderr",
     "output_type": "stream",
     "text": [
      "/tmp/ipykernel_33869/2072757878.py:29: DeprecationWarning: backend.run() and related sessions methods are deprecated  as of qiskit-ibm-runtime 0.23 and will be removed no sooner than 6 months after the release date. More details can be found in the primitives migration guide https://docs.quantum.ibm.com/api/migration-guides/qiskit-runtime.\n",
      "  counts = backend.run(tc, seed_simulator=random_seed,\n"
     ]
    },
    {
     "name": "stdout",
     "output_type": "stream",
     "text": [
      "16.07880859375\n",
      "[1.32371596 1.65330005 2.05656953 0.22870438 2.52045763 0.46593355\n",
      " 1.72074689 0.64811844 0.87441952 0.4555508 ]\n",
      "3\n"
     ]
    },
    {
     "name": "stderr",
     "output_type": "stream",
     "text": [
      "/tmp/ipykernel_33869/2072757878.py:29: DeprecationWarning: backend.run() and related sessions methods are deprecated  as of qiskit-ibm-runtime 0.23 and will be removed no sooner than 6 months after the release date. More details can be found in the primitives migration guide https://docs.quantum.ibm.com/api/migration-guides/qiskit-runtime.\n",
      "  counts = backend.run(tc, seed_simulator=random_seed,\n"
     ]
    },
    {
     "name": "stdout",
     "output_type": "stream",
     "text": [
      "15.7576171875\n",
      "[1.32394494 1.65320235 2.05583385 0.22876269 2.52172986 0.4656691\n",
      " 1.72065164 0.6473971  0.87360858 0.45441669]\n",
      "3\n"
     ]
    },
    {
     "name": "stderr",
     "output_type": "stream",
     "text": [
      "/tmp/ipykernel_33869/2072757878.py:29: DeprecationWarning: backend.run() and related sessions methods are deprecated  as of qiskit-ibm-runtime 0.23 and will be removed no sooner than 6 months after the release date. More details can be found in the primitives migration guide https://docs.quantum.ibm.com/api/migration-guides/qiskit-runtime.\n",
      "  counts = backend.run(tc, seed_simulator=random_seed,\n"
     ]
    },
    {
     "name": "stdout",
     "output_type": "stream",
     "text": [
      "15.906640625\n",
      "[1.32379022 1.65502411 2.05656996 0.22824365 2.52146542 0.46526639\n",
      " 1.72029535 0.6480306  0.87435685 0.453645  ]\n",
      "3\n"
     ]
    },
    {
     "name": "stderr",
     "output_type": "stream",
     "text": [
      "/tmp/ipykernel_33869/2072757878.py:29: DeprecationWarning: backend.run() and related sessions methods are deprecated  as of qiskit-ibm-runtime 0.23 and will be removed no sooner than 6 months after the release date. More details can be found in the primitives migration guide https://docs.quantum.ibm.com/api/migration-guides/qiskit-runtime.\n",
      "  counts = backend.run(tc, seed_simulator=random_seed,\n"
     ]
    },
    {
     "name": "stdout",
     "output_type": "stream",
     "text": [
      "15.91103515625\n",
      "[1.32368917 1.65425264 2.05546989 0.2293543  2.52150218 0.46620677\n",
      " 1.72016628 0.64776487 0.87387382 0.45470779]\n",
      "3\n"
     ]
    },
    {
     "name": "stderr",
     "output_type": "stream",
     "text": [
      "/tmp/ipykernel_33869/2072757878.py:29: DeprecationWarning: backend.run() and related sessions methods are deprecated  as of qiskit-ibm-runtime 0.23 and will be removed no sooner than 6 months after the release date. More details can be found in the primitives migration guide https://docs.quantum.ibm.com/api/migration-guides/qiskit-runtime.\n",
      "  counts = backend.run(tc, seed_simulator=random_seed,\n"
     ]
    },
    {
     "name": "stdout",
     "output_type": "stream",
     "text": [
      "15.870703125\n",
      "[1.32383223 1.65375012 2.05614845 0.22896287 2.52150812 0.4658854\n",
      " 1.71992118 0.64746593 0.87392706 0.45448452]\n",
      "3\n"
     ]
    },
    {
     "name": "stderr",
     "output_type": "stream",
     "text": [
      "/tmp/ipykernel_33869/2072757878.py:29: DeprecationWarning: backend.run() and related sessions methods are deprecated  as of qiskit-ibm-runtime 0.23 and will be removed no sooner than 6 months after the release date. More details can be found in the primitives migration guide https://docs.quantum.ibm.com/api/migration-guides/qiskit-runtime.\n",
      "  counts = backend.run(tc, seed_simulator=random_seed,\n"
     ]
    },
    {
     "name": "stdout",
     "output_type": "stream",
     "text": [
      "15.63837890625\n",
      "[1.32389259 1.65351852 2.05545487 0.22865119 2.521501   0.46536465\n",
      " 1.71952918 0.64789443 0.87429319 0.45463898]\n",
      "3\n"
     ]
    },
    {
     "name": "stderr",
     "output_type": "stream",
     "text": [
      "/tmp/ipykernel_33869/2072757878.py:29: DeprecationWarning: backend.run() and related sessions methods are deprecated  as of qiskit-ibm-runtime 0.23 and will be removed no sooner than 6 months after the release date. More details can be found in the primitives migration guide https://docs.quantum.ibm.com/api/migration-guides/qiskit-runtime.\n",
      "  counts = backend.run(tc, seed_simulator=random_seed,\n"
     ]
    },
    {
     "name": "stdout",
     "output_type": "stream",
     "text": [
      "15.9396484375\n",
      "[1.32381225 1.65361272 2.05589534 0.22917738 2.52136842 0.46566394\n",
      " 1.72010945 0.64789586 0.87396581 0.45424548]\n",
      "3\n"
     ]
    },
    {
     "name": "stderr",
     "output_type": "stream",
     "text": [
      "/tmp/ipykernel_33869/2072757878.py:29: DeprecationWarning: backend.run() and related sessions methods are deprecated  as of qiskit-ibm-runtime 0.23 and will be removed no sooner than 6 months after the release date. More details can be found in the primitives migration guide https://docs.quantum.ibm.com/api/migration-guides/qiskit-runtime.\n",
      "  counts = backend.run(tc, seed_simulator=random_seed,\n"
     ]
    },
    {
     "name": "stdout",
     "output_type": "stream",
     "text": [
      "15.8201171875\n",
      "[1.32419734 1.65375892 2.05619514 0.2293494  2.52213194 0.46558064\n",
      " 1.72022116 0.64779625 0.87441366 0.45476785]\n",
      "3\n"
     ]
    },
    {
     "name": "stderr",
     "output_type": "stream",
     "text": [
      "/tmp/ipykernel_33869/2072757878.py:29: DeprecationWarning: backend.run() and related sessions methods are deprecated  as of qiskit-ibm-runtime 0.23 and will be removed no sooner than 6 months after the release date. More details can be found in the primitives migration guide https://docs.quantum.ibm.com/api/migration-guides/qiskit-runtime.\n",
      "  counts = backend.run(tc, seed_simulator=random_seed,\n"
     ]
    },
    {
     "name": "stdout",
     "output_type": "stream",
     "text": [
      "15.8373046875\n",
      "[1.32369844 1.65384914 2.05588862 0.22915883 2.52141482 0.46534671\n",
      " 1.72015856 0.64739147 0.87403649 0.45461465]\n",
      "3\n"
     ]
    },
    {
     "name": "stderr",
     "output_type": "stream",
     "text": [
      "/tmp/ipykernel_33869/2072757878.py:29: DeprecationWarning: backend.run() and related sessions methods are deprecated  as of qiskit-ibm-runtime 0.23 and will be removed no sooner than 6 months after the release date. More details can be found in the primitives migration guide https://docs.quantum.ibm.com/api/migration-guides/qiskit-runtime.\n",
      "  counts = backend.run(tc, seed_simulator=random_seed,\n"
     ]
    },
    {
     "name": "stdout",
     "output_type": "stream",
     "text": [
      "15.933984375\n",
      "[1.32374789 1.65374967 2.05594093 0.22902104 2.52160111 0.46557416\n",
      " 1.72007492 0.64775951 0.87385057 0.45463707]\n",
      "3\n"
     ]
    },
    {
     "name": "stderr",
     "output_type": "stream",
     "text": [
      "/tmp/ipykernel_33869/2072757878.py:29: DeprecationWarning: backend.run() and related sessions methods are deprecated  as of qiskit-ibm-runtime 0.23 and will be removed no sooner than 6 months after the release date. More details can be found in the primitives migration guide https://docs.quantum.ibm.com/api/migration-guides/qiskit-runtime.\n",
      "  counts = backend.run(tc, seed_simulator=random_seed,\n"
     ]
    },
    {
     "name": "stdout",
     "output_type": "stream",
     "text": [
      "15.94697265625\n",
      "[1.32400478 1.65407249 2.05595626 0.22871227 2.52149455 0.46560249\n",
      " 1.72025787 0.64772583 0.87405695 0.45438393]\n",
      "3\n"
     ]
    },
    {
     "name": "stderr",
     "output_type": "stream",
     "text": [
      "/tmp/ipykernel_33869/2072757878.py:29: DeprecationWarning: backend.run() and related sessions methods are deprecated  as of qiskit-ibm-runtime 0.23 and will be removed no sooner than 6 months after the release date. More details can be found in the primitives migration guide https://docs.quantum.ibm.com/api/migration-guides/qiskit-runtime.\n",
      "  counts = backend.run(tc, seed_simulator=random_seed,\n"
     ]
    },
    {
     "name": "stdout",
     "output_type": "stream",
     "text": [
      "16.0265625\n",
      "[1.32398286 1.65383853 2.05584153 0.22904994 2.52159646 0.46555413\n",
      " 1.72004093 0.64763498 0.87385605 0.45446894]\n",
      "3\n"
     ]
    },
    {
     "name": "stderr",
     "output_type": "stream",
     "text": [
      "/tmp/ipykernel_33869/2072757878.py:29: DeprecationWarning: backend.run() and related sessions methods are deprecated  as of qiskit-ibm-runtime 0.23 and will be removed no sooner than 6 months after the release date. More details can be found in the primitives migration guide https://docs.quantum.ibm.com/api/migration-guides/qiskit-runtime.\n",
      "  counts = backend.run(tc, seed_simulator=random_seed,\n"
     ]
    },
    {
     "name": "stdout",
     "output_type": "stream",
     "text": [
      "15.86845703125\n",
      "[1.32414384 1.65371046 2.05595331 0.22903325 2.52123227 0.46565397\n",
      " 1.72015659 0.64771903 0.87392654 0.45480502]\n",
      "3\n"
     ]
    },
    {
     "name": "stderr",
     "output_type": "stream",
     "text": [
      "/tmp/ipykernel_33869/2072757878.py:29: DeprecationWarning: backend.run() and related sessions methods are deprecated  as of qiskit-ibm-runtime 0.23 and will be removed no sooner than 6 months after the release date. More details can be found in the primitives migration guide https://docs.quantum.ibm.com/api/migration-guides/qiskit-runtime.\n",
      "  counts = backend.run(tc, seed_simulator=random_seed,\n"
     ]
    },
    {
     "name": "stdout",
     "output_type": "stream",
     "text": [
      "15.7271484375\n",
      "[1.3238389  1.65382858 2.05574131 0.22903813 2.52153631 0.4657762\n",
      " 1.72016734 0.64765657 0.87401873 0.4545992 ]\n",
      "3\n"
     ]
    },
    {
     "name": "stderr",
     "output_type": "stream",
     "text": [
      "/tmp/ipykernel_33869/2072757878.py:29: DeprecationWarning: backend.run() and related sessions methods are deprecated  as of qiskit-ibm-runtime 0.23 and will be removed no sooner than 6 months after the release date. More details can be found in the primitives migration guide https://docs.quantum.ibm.com/api/migration-guides/qiskit-runtime.\n",
      "  counts = backend.run(tc, seed_simulator=random_seed,\n"
     ]
    },
    {
     "name": "stdout",
     "output_type": "stream",
     "text": [
      "15.57919921875\n",
      "[1.32389321 1.65383138 2.05592899 0.22905164 2.52155338 0.46561522\n",
      " 1.72009351 0.64771501 0.87403825 0.45457292]\n",
      "3\n"
     ]
    },
    {
     "name": "stderr",
     "output_type": "stream",
     "text": [
      "/tmp/ipykernel_33869/2072757878.py:29: DeprecationWarning: backend.run() and related sessions methods are deprecated  as of qiskit-ibm-runtime 0.23 and will be removed no sooner than 6 months after the release date. More details can be found in the primitives migration guide https://docs.quantum.ibm.com/api/migration-guides/qiskit-runtime.\n",
      "  counts = backend.run(tc, seed_simulator=random_seed,\n"
     ]
    },
    {
     "name": "stdout",
     "output_type": "stream",
     "text": [
      "15.9712890625\n",
      "[1.32392032 1.65361595 2.05588784 0.22893976 2.52160786 0.46561675\n",
      " 1.72024011 0.64760664 0.87400559 0.45453842]\n",
      "3\n"
     ]
    },
    {
     "name": "stderr",
     "output_type": "stream",
     "text": [
      "/tmp/ipykernel_33869/2072757878.py:29: DeprecationWarning: backend.run() and related sessions methods are deprecated  as of qiskit-ibm-runtime 0.23 and will be removed no sooner than 6 months after the release date. More details can be found in the primitives migration guide https://docs.quantum.ibm.com/api/migration-guides/qiskit-runtime.\n",
      "  counts = backend.run(tc, seed_simulator=random_seed,\n"
     ]
    },
    {
     "name": "stdout",
     "output_type": "stream",
     "text": [
      "15.61435546875\n",
      "[1.32385658 1.65371967 2.05578956 0.22887147 2.52147544 0.46557926\n",
      " 1.71998015 0.64768034 0.87404259 0.45456354]\n",
      "3\n"
     ]
    },
    {
     "name": "stderr",
     "output_type": "stream",
     "text": [
      "/tmp/ipykernel_33869/2072757878.py:29: DeprecationWarning: backend.run() and related sessions methods are deprecated  as of qiskit-ibm-runtime 0.23 and will be removed no sooner than 6 months after the release date. More details can be found in the primitives migration guide https://docs.quantum.ibm.com/api/migration-guides/qiskit-runtime.\n",
      "  counts = backend.run(tc, seed_simulator=random_seed,\n"
     ]
    },
    {
     "name": "stdout",
     "output_type": "stream",
     "text": [
      "15.79482421875\n",
      "[1.32383439 1.65379699 2.05588799 0.22901119 2.52147965 0.46557899\n",
      " 1.72015363 0.64761845 0.87397499 0.45455018]\n",
      "3\n"
     ]
    },
    {
     "name": "stderr",
     "output_type": "stream",
     "text": [
      "/tmp/ipykernel_33869/2072757878.py:29: DeprecationWarning: backend.run() and related sessions methods are deprecated  as of qiskit-ibm-runtime 0.23 and will be removed no sooner than 6 months after the release date. More details can be found in the primitives migration guide https://docs.quantum.ibm.com/api/migration-guides/qiskit-runtime.\n",
      "  counts = backend.run(tc, seed_simulator=random_seed,\n"
     ]
    },
    {
     "name": "stdout",
     "output_type": "stream",
     "text": [
      "16.0841796875\n",
      "[1.32386286 1.6537855  2.05591367 0.2289864  2.52153254 0.465641\n",
      " 1.72010778 0.64765636 0.87397451 0.45454009]\n",
      "3\n"
     ]
    },
    {
     "name": "stderr",
     "output_type": "stream",
     "text": [
      "/tmp/ipykernel_33869/2072757878.py:29: DeprecationWarning: backend.run() and related sessions methods are deprecated  as of qiskit-ibm-runtime 0.23 and will be removed no sooner than 6 months after the release date. More details can be found in the primitives migration guide https://docs.quantum.ibm.com/api/migration-guides/qiskit-runtime.\n",
      "  counts = backend.run(tc, seed_simulator=random_seed,\n"
     ]
    },
    {
     "name": "stdout",
     "output_type": "stream",
     "text": [
      "15.96162109375\n",
      "[1.32393229 1.65376935 2.05589235 0.228988   2.52147765 0.46563271\n",
      " 1.72013848 0.64770411 0.87394211 0.45459952]\n",
      "3\n"
     ]
    },
    {
     "name": "stderr",
     "output_type": "stream",
     "text": [
      "/tmp/ipykernel_33869/2072757878.py:29: DeprecationWarning: backend.run() and related sessions methods are deprecated  as of qiskit-ibm-runtime 0.23 and will be removed no sooner than 6 months after the release date. More details can be found in the primitives migration guide https://docs.quantum.ibm.com/api/migration-guides/qiskit-runtime.\n",
      "  counts = backend.run(tc, seed_simulator=random_seed,\n"
     ]
    },
    {
     "name": "stdout",
     "output_type": "stream",
     "text": [
      "15.6451171875\n",
      "[1.32388114 1.65380958 2.05589403 0.2289674  2.5215419  0.46560912\n",
      " 1.72013085 0.64766269 0.87397424 0.45458088]\n",
      "3\n"
     ]
    },
    {
     "name": "stderr",
     "output_type": "stream",
     "text": [
      "/tmp/ipykernel_33869/2072757878.py:29: DeprecationWarning: backend.run() and related sessions methods are deprecated  as of qiskit-ibm-runtime 0.23 and will be removed no sooner than 6 months after the release date. More details can be found in the primitives migration guide https://docs.quantum.ibm.com/api/migration-guides/qiskit-runtime.\n",
      "  counts = backend.run(tc, seed_simulator=random_seed,\n"
     ]
    },
    {
     "name": "stdout",
     "output_type": "stream",
     "text": [
      "15.7525390625\n",
      "[1.32386895 1.65380077 2.05586833 0.22896383 2.52152688 0.46560744\n",
      " 1.72016696 0.64774389 0.87397227 0.45450508]\n",
      "3\n"
     ]
    },
    {
     "name": "stderr",
     "output_type": "stream",
     "text": [
      "/tmp/ipykernel_33869/2072757878.py:29: DeprecationWarning: backend.run() and related sessions methods are deprecated  as of qiskit-ibm-runtime 0.23 and will be removed no sooner than 6 months after the release date. More details can be found in the primitives migration guide https://docs.quantum.ibm.com/api/migration-guides/qiskit-runtime.\n",
      "  counts = backend.run(tc, seed_simulator=random_seed,\n"
     ]
    },
    {
     "name": "stdout",
     "output_type": "stream",
     "text": [
      "16.191015625\n",
      "[1.3238683  1.6537734  2.05592273 0.22898448 2.52152701 0.46558609\n",
      " 1.72011886 0.64769033 0.87396211 0.4545563 ]\n",
      "3\n"
     ]
    },
    {
     "name": "stderr",
     "output_type": "stream",
     "text": [
      "/tmp/ipykernel_33869/2072757878.py:29: DeprecationWarning: backend.run() and related sessions methods are deprecated  as of qiskit-ibm-runtime 0.23 and will be removed no sooner than 6 months after the release date. More details can be found in the primitives migration guide https://docs.quantum.ibm.com/api/migration-guides/qiskit-runtime.\n",
      "  counts = backend.run(tc, seed_simulator=random_seed,\n"
     ]
    },
    {
     "name": "stdout",
     "output_type": "stream",
     "text": [
      "15.8953125\n",
      "[1.32383189 1.65376187 2.05584722 0.22902728 2.52155906 0.4656312\n",
      " 1.72012186 0.64769539 0.87394412 0.45459794]\n",
      "3\n"
     ]
    },
    {
     "name": "stderr",
     "output_type": "stream",
     "text": [
      "/tmp/ipykernel_33869/2072757878.py:29: DeprecationWarning: backend.run() and related sessions methods are deprecated  as of qiskit-ibm-runtime 0.23 and will be removed no sooner than 6 months after the release date. More details can be found in the primitives migration guide https://docs.quantum.ibm.com/api/migration-guides/qiskit-runtime.\n",
      "  counts = backend.run(tc, seed_simulator=random_seed,\n"
     ]
    },
    {
     "name": "stdout",
     "output_type": "stream",
     "text": [
      "16.00595703125\n",
      "[1.32386436 1.65379575 2.0558744  0.22897776 2.521505   0.46561032\n",
      " 1.72009171 0.64768742 0.87397891 0.45455838]\n",
      "3\n"
     ]
    },
    {
     "name": "stderr",
     "output_type": "stream",
     "text": [
      "/tmp/ipykernel_33869/2072757878.py:29: DeprecationWarning: backend.run() and related sessions methods are deprecated  as of qiskit-ibm-runtime 0.23 and will be removed no sooner than 6 months after the release date. More details can be found in the primitives migration guide https://docs.quantum.ibm.com/api/migration-guides/qiskit-runtime.\n",
      "  counts = backend.run(tc, seed_simulator=random_seed,\n"
     ]
    },
    {
     "name": "stdout",
     "output_type": "stream",
     "text": [
      "15.94375\n",
      "[1.3239143  1.6537236  2.05586173 0.22898504 2.52154435 0.46559859\n",
      " 1.72013041 0.64765686 0.87402573 0.45455029]\n",
      "3\n"
     ]
    },
    {
     "name": "stderr",
     "output_type": "stream",
     "text": [
      "/tmp/ipykernel_33869/2072757878.py:29: DeprecationWarning: backend.run() and related sessions methods are deprecated  as of qiskit-ibm-runtime 0.23 and will be removed no sooner than 6 months after the release date. More details can be found in the primitives migration guide https://docs.quantum.ibm.com/api/migration-guides/qiskit-runtime.\n",
      "  counts = backend.run(tc, seed_simulator=random_seed,\n"
     ]
    },
    {
     "name": "stdout",
     "output_type": "stream",
     "text": [
      "15.77666015625\n",
      "[1.32389761 1.65379762 2.05587548 0.22900765 2.52153569 0.46559424\n",
      " 1.72011572 0.64767255 0.87395218 0.45454152]\n",
      "3\n"
     ]
    },
    {
     "name": "stderr",
     "output_type": "stream",
     "text": [
      "/tmp/ipykernel_33869/2072757878.py:29: DeprecationWarning: backend.run() and related sessions methods are deprecated  as of qiskit-ibm-runtime 0.23 and will be removed no sooner than 6 months after the release date. More details can be found in the primitives migration guide https://docs.quantum.ibm.com/api/migration-guides/qiskit-runtime.\n",
      "  counts = backend.run(tc, seed_simulator=random_seed,\n"
     ]
    },
    {
     "name": "stdout",
     "output_type": "stream",
     "text": [
      "15.903125\n",
      "[1.3238788  1.65377242 2.0559249  0.22898844 2.52153323 0.46569449\n",
      " 1.72011955 0.64764718 0.87396401 0.45452098]\n",
      "3\n"
     ]
    },
    {
     "name": "stderr",
     "output_type": "stream",
     "text": [
      "/tmp/ipykernel_33869/2072757878.py:29: DeprecationWarning: backend.run() and related sessions methods are deprecated  as of qiskit-ibm-runtime 0.23 and will be removed no sooner than 6 months after the release date. More details can be found in the primitives migration guide https://docs.quantum.ibm.com/api/migration-guides/qiskit-runtime.\n",
      "  counts = backend.run(tc, seed_simulator=random_seed,\n"
     ]
    },
    {
     "name": "stdout",
     "output_type": "stream",
     "text": [
      "16.29462890625\n"
     ]
    },
    {
     "data": {
      "text/plain": [
       " message: Optimization terminated successfully.\n",
       " success: True\n",
       "  status: 1\n",
       "     fun: 16.29462890625\n",
       "       x: [ 1.324e+00  1.654e+00  2.056e+00  2.290e-01  2.522e+00\n",
       "            4.657e-01  1.720e+00  6.476e-01  8.740e-01  4.545e-01]\n",
       "    nfev: 95\n",
       "   maxcv: 0.0"
      ]
     },
     "execution_count": 45,
     "metadata": {},
     "output_type": "execute_result"
    }
   ],
   "source": [
    "from scipy.optimize import minimize\n",
    "expectation = get_expectation()\n",
    "start_time = time.time()\n",
    "res = minimize(expectation, layers_gen(layers), method='COBYLA')\n",
    "minimization_time = time.time() - start_time\n",
    "\n",
    "res"
   ]
  },
  {
   "cell_type": "code",
   "execution_count": 46,
   "metadata": {},
   "outputs": [
    {
     "name": "stdout",
     "output_type": "stream",
     "text": [
      "a: 6918420\n",
      "b: 7111212\n",
      "c: 7208512\n",
      "d: 7171236\n"
     ]
    }
   ],
   "source": [
    "print(\"a:\", total[0])\n",
    "print(\"b:\", total[1])\n",
    "print(\"c:\", total[2])\n",
    "print(\"d:\", total[3])"
   ]
  },
  {
   "cell_type": "markdown",
   "metadata": {
    "id": "l7b5F8DsLbbj"
   },
   "source": [
    "### Results"
   ]
  },
  {
   "cell_type": "code",
   "execution_count": 47,
   "metadata": {
    "id": "FKDf4o0LLN5j",
    "tags": []
   },
   "outputs": [
    {
     "name": "stdout",
     "output_type": "stream",
     "text": [
      "[1.3238788  1.65377242 2.0559249  0.22898844 2.52153323 0.46569449\n",
      " 1.72011955 0.64764718 0.87396401 0.45452098]\n"
     ]
    },
    {
     "name": "stderr",
     "output_type": "stream",
     "text": [
      "/tmp/ipykernel_33869/4133922901.py:6: DeprecationWarning: backend.run() and related sessions methods are deprecated  as of qiskit-ibm-runtime 0.23 and will be removed no sooner than 6 months after the release date. More details can be found in the primitives migration guide https://docs.quantum.ibm.com/api/migration-guides/qiskit-runtime.\n",
      "  counts = backend.run(tc, seed_simulator=random_seed,\n"
     ]
    },
    {
     "name": "stdout",
     "output_type": "stream",
     "text": [
      "9238\n",
      "-----------------\n",
      "BINGO\n",
      "1000000101100110\n",
      "1\n",
      "-----------------\n",
      "Solution 1000001010111110 cost: 6 count 4\n",
      "Solution 0010101111010110 cost: 19 count 4\n",
      "Solution 1000010111010111 cost: 10 count 4\n",
      "Solution 1001001110110001 cost: 12 count 4\n",
      "Solution 1011001111110010 cost: 17 count 3\n",
      "Solution 0000110010111011 cost: 14 count 3\n",
      "Solution 1000000110100111 cost: 3 count 3\n",
      "Solution 1011001111101001 cost: 21 count 3\n",
      "Solution 1000010001100111 cost: 5 count 3\n",
      "Solution 1110110111101001 cost: 23 count 3\n"
     ]
    },
    {
     "data": {
      "image/png": "[encoded data removed]",
      "text/plain": [
       "<Figure size 700x500 with 1 Axes>"
      ]
     },
     "execution_count": 47,
     "metadata": {},
     "output_type": "execute_result"
    }
   ],
   "source": [
    "from qiskit.visualization import plot_histogram\n",
    "\n",
    "qc_res = create_qaoa_circ(res.x)\n",
    "tc = transpile(qc_res, backend, optimization_level=3,\n",
    "                seed_transpiler=random_seed)\n",
    "counts = backend.run(tc, seed_simulator=random_seed,\n",
    "                     shots=shots).result().get_counts()\n",
    "\n",
    "\n",
    "counts = dict(sorted(counts.items(), key=lambda item: item[1], reverse=True))\n",
    "counts_cost = dict(\n",
    "    sorted(counts.items(), key=lambda item: item[1], reverse=True))\n",
    "\n",
    "values = list(counts.values())\n",
    "binary = list(counts.keys())\n",
    "\n",
    "output = {}\n",
    "\n",
    "print(len(counts))\n",
    "\n",
    "for key in binary:\n",
    "    if objective(key)[0] == 0:\n",
    "        print(\"-----------------\")\n",
    "        print(\"BINGO\")\n",
    "        print(key)\n",
    "        print(counts[key])\n",
    "        print(\"-----------------\")\n",
    "\n",
    "for key in binary[:10]:\n",
    "    print(\"Solution\", key, \"cost:\", objective(key)[0], \"count\", counts[key])\n",
    "    output[key] = counts[key]\n",
    "\n",
    "# plot_histogram(output).savefig(f\"./png/{H}_{M}_{N}_{shots}_{layers}_{time.time_ns()}.png\")\n",
    "plot_histogram(output)"
   ]
  },
  {
   "cell_type": "code",
   "execution_count": 48,
   "metadata": {},
   "outputs": [
    {
     "name": "stdout",
     "output_type": "stream",
     "text": [
      "Solution 1000000101100110 cost: 0 count 1\n"
     ]
    }
   ],
   "source": [
    "sol = required_qubits\n",
    "sol_bin = \"\"\n",
    "\n",
    "for i in counts:\n",
    "  ob = objective(i)[0]\n",
    "  if ob < sol:\n",
    "    sol = ob\n",
    "    sol_bin = i\n",
    "\n",
    "counts[\"H\"] = H\n",
    "counts[\"M\"] = M\n",
    "counts[\"N\"] = N\n",
    "counts[\"shots\"] = shots\n",
    "counts[\"layers\"] = layers\n",
    "counts[\"solution\"] = sol_bin\n",
    "counts[\"solution_cost\"] = sol\n",
    "counts[\"solution_count\"] = counts[sol_bin]\n",
    "counts[\"minimization_time\"] = minimization_time\n",
    "counts[\"execution_time\"] = time.time() - simulation_time\n",
    "counts[\"iterations\"] = iterations \n",
    "\n",
    "print(\"Solution\",sol_bin ,\"cost:\",sol,\"count\", counts[sol_bin])"
   ]
  },
  {
   "cell_type": "code",
   "execution_count": 49,
   "metadata": {},
   "outputs": [],
   "source": [
    "file = open(f\"../json/{H}_{M}_{N}_{shots}_{layers}_quantum.json\", \"w\")\n",
    "file.write(json.dumps(counts))\n",
    "file.flush()"
   ]
  },
  {
   "cell_type": "code",
   "execution_count": 50,
   "metadata": {},
   "outputs": [
    {
     "data": {
      "image/png": "[encoded data removed]",
      "text/latex": [
       "$\\displaystyle 7547.2893345356$"
      ],
      "text/plain": [
       "7547.289334535599"
      ]
     },
     "execution_count": 50,
     "metadata": {},
     "output_type": "execute_result"
    }
   ],
   "source": [
    "counts[\"execution_time\"]"
   ]
  },
  {
   "cell_type": "code",
   "execution_count": 51,
   "metadata": {},
   "outputs": [
    {
     "data": {
      "image/png": "[encoded data removed]",
      "text/latex": [
       "$\\displaystyle 5338.91273784637$"
      ],
      "text/plain": [
       "5338.9127378463745"
      ]
     },
     "execution_count": 51,
     "metadata": {},
     "output_type": "execute_result"
    }
   ],
   "source": [
    "minimization_time"
   ]
  }
 ],
 "metadata": {
  "colab": {
   "collapsed_sections": [
    "alCyWOxAWcdV",
    "TiWcxBn4_H1e"
   ],
   "provenance": []
  },
  "kernelspec": {
   "display_name": "Python 3 (ipykernel)",
   "language": "python",
   "name": "python3"
  },
  "language_info": {
   "codemirror_mode": {
    "name": "ipython",
    "version": 3
   },
   "file_extension": ".py",
   "mimetype": "text/x-python",
   "name": "python",
   "nbconvert_exporter": "python",
   "pygments_lexer": "ipython3",
   "version": "3.12.3"
  }
 },
 "nbformat": 4,
 "nbformat_minor": 4
}
